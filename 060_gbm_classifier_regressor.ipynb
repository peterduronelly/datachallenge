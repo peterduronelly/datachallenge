{
 "cells": [
  {
   "cell_type": "code",
   "execution_count": 118,
   "id": "d9576641-d8f5-45de-9108-85f5c272f563",
   "metadata": {},
   "outputs": [],
   "source": [
    "import pandas as pd\n",
    "import numpy as np\n",
    "import sklearn.metrics as metrics\n",
    "from sklearn.metrics import (\n",
    "    auc,\n",
    "    confusion_matrix,\n",
    "    mean_squared_error,\n",
    "    roc_auc_score,\n",
    "    roc_curve,\n",
    ")\n",
    "from sklearn.model_selection import GridSearchCV, train_test_split\n",
    "from sklearn.preprocessing import StandardScaler, OneHotEncoder\n",
    "from sklearn.compose import ColumnTransformer\n",
    "from sklearn.pipeline import Pipeline\n",
    "from sklearn.experimental import enable_hist_gradient_boosting\n",
    "from sklearn.ensemble import HistGradientBoostingClassifier\n",
    "from joblib import dump, load\n",
    "import warnings\n",
    "warnings.filterwarnings(\"ignore\")\n",
    "from IPython.display import clear_output"
   ]
  },
  {
   "cell_type": "code",
   "execution_count": 3,
   "id": "a2b8d59f-9cfe-478b-8184-742846877595",
   "metadata": {},
   "outputs": [],
   "source": [
    "import matplotlib.pyplot as plt\n",
    "import seaborn as sns"
   ]
  },
  {
   "cell_type": "code",
   "execution_count": 4,
   "id": "7ac2424f-f1f3-4add-82db-26b31bff27b6",
   "metadata": {},
   "outputs": [],
   "source": [
    "import time"
   ]
  },
  {
   "cell_type": "code",
   "execution_count": 103,
   "id": "30a39e02-fd30-4dd5-9386-ea3d0f068052",
   "metadata": {},
   "outputs": [
    {
     "name": "stdout",
     "output_type": "stream",
     "text": [
      "Wall time: 2min 52s\n"
     ]
    }
   ],
   "source": [
    "%%time\n",
    "df = pd.read_excel('http://dataevents.hu/202303/filedataevents/competition_table.xlsx', engine='openpyxl')"
   ]
  },
  {
   "cell_type": "code",
   "execution_count": 104,
   "id": "2651a88b-8775-4a69-bfe3-3a5071a2e205",
   "metadata": {},
   "outputs": [],
   "source": [
    "df.to_csv('competition_table.csv')"
   ]
  },
  {
   "cell_type": "code",
   "execution_count": 108,
   "id": "0b695e9b-be0d-43b0-9df2-24534194796a",
   "metadata": {},
   "outputs": [],
   "source": [
    "df = df[(df.odds_home_team_win != 0) & (df.odds_draw != 0) & (df.odds_away_team_win != 0)]"
   ]
  },
  {
   "cell_type": "code",
   "execution_count": 109,
   "id": "7fd2e9c8-dd80-4121-8c79-b721c0a81823",
   "metadata": {},
   "outputs": [],
   "source": [
    "df['home_team_relative_point_roll1_sum'] = df.home_team_point_roll1_sum - df.home_team_expected_point_roll1_sum\n",
    "df['home_team_relative_point_roll2_sum'] = df.home_team_point_roll2_sum - df.home_team_expected_point_roll2_sum\n",
    "df['home_team_relative_point_roll3_sum'] = df.home_team_point_roll3_sum - df.home_team_expected_point_roll3_sum\n",
    "df['home_team_relative_point_roll4_sum'] = df.home_team_point_roll4_sum - df.home_team_expected_point_roll4_sum"
   ]
  },
  {
   "cell_type": "code",
   "execution_count": 110,
   "id": "fcf4f927-674f-4cee-8b92-6764d437d6f9",
   "metadata": {},
   "outputs": [],
   "source": [
    "df['away_team_relative_point_roll1_sum'] = df.away_team_point_roll1_sum - df.away_team_expected_point_roll1_sum\n",
    "df['away_team_relative_point_roll2_sum'] = df.away_team_point_roll2_sum - df.away_team_expected_point_roll2_sum\n",
    "df['away_team_relative_point_roll3_sum'] = df.away_team_point_roll3_sum - df.away_team_expected_point_roll3_sum\n",
    "df['away_team_relative_point_roll4_sum'] = df.away_team_point_roll4_sum - df.away_team_expected_point_roll4_sum"
   ]
  },
  {
   "cell_type": "code",
   "execution_count": 111,
   "id": "e8c1a9c6-4cf6-4b28-90ff-2924f62556b6",
   "metadata": {},
   "outputs": [],
   "source": [
    "df['prob_home_win'] = 1 / df.odds_home_team_win\n",
    "df['prob_draw'] = 1 / df.odds_draw\n",
    "df['prob_away_win'] = 1 / df.odds_away_team_win"
   ]
  },
  {
   "cell_type": "code",
   "execution_count": 112,
   "id": "c1d53219-b325-48fe-9c26-8914ab0e2fa7",
   "metadata": {},
   "outputs": [],
   "source": [
    "x_variables = set(df.columns)"
   ]
  },
  {
   "cell_type": "code",
   "execution_count": 113,
   "id": "cca1ff28-b066-447e-8531-e5c42284618d",
   "metadata": {},
   "outputs": [],
   "source": [
    "remove = set(['home_win_flag', 'draw_flag', 'away_win_flag', 'match_id', 'season'])"
   ]
  },
  {
   "cell_type": "code",
   "execution_count": 114,
   "id": "301475a7-7405-4cde-ad6a-57917b8859a4",
   "metadata": {},
   "outputs": [],
   "source": [
    "x_variables = list(x_variables - remove)"
   ]
  },
  {
   "cell_type": "code",
   "execution_count": 13,
   "id": "77f0b907-0ac4-45e2-a53e-7ee9f59560e3",
   "metadata": {},
   "outputs": [],
   "source": [
    "df_f = df.copy()"
   ]
  },
  {
   "cell_type": "code",
   "execution_count": 115,
   "id": "3c57638a-2100-423c-a3ce-62347e859488",
   "metadata": {},
   "outputs": [],
   "source": [
    "df = df[df.season.isin(['2017-2018', '2018-2019', '2019-2020', '2020-2021', '2021-2022'])]"
   ]
  },
  {
   "cell_type": "code",
   "execution_count": 116,
   "id": "0d18f2ba-9feb-4b33-8db7-4cbf70fcad21",
   "metadata": {},
   "outputs": [],
   "source": [
    "df_train, df_holdout = train_test_split(df, train_size=0.8, random_state=2023)"
   ]
  },
  {
   "cell_type": "markdown",
   "id": "3d94ee32-0823-4d14-a85d-147e0376dd5c",
   "metadata": {},
   "source": [
    "### Setup"
   ]
  },
  {
   "cell_type": "code",
   "execution_count": 16,
   "id": "efc7d9be-1002-4343-bcf0-440a21fe9d19",
   "metadata": {},
   "outputs": [],
   "source": [
    "tune_grid = {\n",
    "    \"max_iter\": [50, 100, 200],\n",
    "    \"max_depth\": [1, 5, 10],\n",
    "    \"learning_rate\": [0.1, 0.15, 0.2],\n",
    "    \"min_samples_leaf\": [5, 10, 20, 30],\n",
    "}"
   ]
  },
  {
   "cell_type": "markdown",
   "id": "6fd9e23a-0189-42ef-bcee-7858dbb51566",
   "metadata": {
    "tags": []
   },
   "source": [
    "### Home Win Flag"
   ]
  },
  {
   "cell_type": "markdown",
   "id": "f6447b6a-37f4-4135-9fd9-81853226d3a2",
   "metadata": {},
   "source": [
    "**base prediction**"
   ]
  },
  {
   "cell_type": "code",
   "execution_count": 17,
   "id": "9d356c10-839b-425c-8cf3-b73f32edd63b",
   "metadata": {},
   "outputs": [],
   "source": [
    "gbm_home = HistGradientBoostingClassifier()"
   ]
  },
  {
   "cell_type": "code",
   "execution_count": 18,
   "id": "108e6c24-8d0e-411e-88b5-92cf692d655a",
   "metadata": {},
   "outputs": [],
   "source": [
    "gbm_home_cv = GridSearchCV(\n",
    "    gbm_home,\n",
    "    tune_grid,\n",
    "    cv=5,\n",
    "    scoring=\"roc_auc\",\n",
    "    verbose=10,\n",
    ")"
   ]
  },
  {
   "cell_type": "code",
   "execution_count": 19,
   "id": "b1186b64-c9bf-4e99-b8c1-fd372da38bdc",
   "metadata": {},
   "outputs": [],
   "source": [
    "categorical_columns =  ['div']\n",
    "numerical_columns = [col for col in x_variables if col != 'div']"
   ]
  },
  {
   "cell_type": "code",
   "execution_count": 20,
   "id": "b37f6b66-8499-4403-b98f-b2f5847f6b57",
   "metadata": {},
   "outputs": [],
   "source": [
    "categorical_encoder = OneHotEncoder(handle_unknown=\"ignore\")\n",
    "\n",
    "preprocessing = ColumnTransformer(\n",
    "    [\n",
    "        (\"cat\", categorical_encoder, categorical_columns),\n",
    "        (\"num\", \"passthrough\", numerical_columns),\n",
    "    ]\n",
    ")\n",
    "\n",
    "gbm_pipe_home = Pipeline(\n",
    "    [(\"preprocess\", preprocessing), (\"regressor\", gbm_home_cv)], verbose=True\n",
    ")"
   ]
  },
  {
   "cell_type": "code",
   "execution_count": 21,
   "id": "669e7a82-c4fb-4d35-91af-f1ebc655a696",
   "metadata": {
    "tags": []
   },
   "outputs": [
    {
     "name": "stdout",
     "output_type": "stream",
     "text": [
      "Process time: 723.0 seconds.\n"
     ]
    }
   ],
   "source": [
    "start = time.time()\n",
    "gbm_pipe_home.fit(df_train[x_variables], df_train.home_win_flag)\n",
    "stop = time.time()\n",
    "clear_output()\n",
    "process_time = str(round(stop - start, 0))\n",
    "print(f'Process time: {process_time} seconds.')"
   ]
  },
  {
   "cell_type": "code",
   "execution_count": 34,
   "id": "4516ccd0-5c52-424d-b375-c53da5d8c897",
   "metadata": {},
   "outputs": [],
   "source": [
    "from joblib import dump, load"
   ]
  },
  {
   "cell_type": "code",
   "execution_count": 35,
   "id": "81f1474c-d6cb-4d98-aedd-1562425a85b8",
   "metadata": {},
   "outputs": [
    {
     "data": {
      "text/plain": [
       "['gbm_pipe_home.joblib']"
      ]
     },
     "execution_count": 35,
     "metadata": {},
     "output_type": "execute_result"
    }
   ],
   "source": [
    "dump(gbm_pipe_home, 'gbm_pipe_home.joblib')"
   ]
  },
  {
   "cell_type": "code",
   "execution_count": 105,
   "id": "5ac1eb14-3fb5-4485-bbe7-eccfb60fa750",
   "metadata": {},
   "outputs": [
    {
     "data": {
      "text/plain": [
       "['gbm_home.joblib']"
      ]
     },
     "execution_count": 105,
     "metadata": {},
     "output_type": "execute_result"
    }
   ],
   "source": [
    "dump(gbm_home, 'gbm_home.joblib')"
   ]
  },
  {
   "cell_type": "code",
   "execution_count": 106,
   "id": "017ab0c5-1865-4054-8f5c-b58182a5237b",
   "metadata": {},
   "outputs": [],
   "source": [
    "model = load('gbm_pipe_home.joblib')"
   ]
  },
  {
   "cell_type": "code",
   "execution_count": 117,
   "id": "a3e2ff52-c427-4beb-a999-d6c793213f26",
   "metadata": {},
   "outputs": [
    {
     "data": {
      "text/plain": [
       "array([[0.57156995, 0.42843005],\n",
       "       [0.67318311, 0.32681689],\n",
       "       [0.67265765, 0.32734235],\n",
       "       ...,\n",
       "       [0.30865407, 0.69134593],\n",
       "       [0.35285792, 0.64714208],\n",
       "       [0.40165003, 0.59834997]])"
      ]
     },
     "execution_count": 117,
     "metadata": {},
     "output_type": "execute_result"
    }
   ],
   "source": [
    "model.predict_proba(df_train[x_variables])"
   ]
  },
  {
   "cell_type": "code",
   "execution_count": 22,
   "id": "7a68d872-412c-4a70-9955-6f127027b5c2",
   "metadata": {},
   "outputs": [],
   "source": [
    "y_pred_train = gbm_pipe_home.predict_proba(df_train[x_variables])"
   ]
  },
  {
   "cell_type": "code",
   "execution_count": 23,
   "id": "fcd755e7-4d65-42c8-aeec-c62d67f4e09d",
   "metadata": {},
   "outputs": [
    {
     "data": {
      "text/plain": [
       "array([[0.57156995, 0.42843005],\n",
       "       [0.67318311, 0.32681689],\n",
       "       [0.67265765, 0.32734235],\n",
       "       [0.54470678, 0.45529322],\n",
       "       [0.50502935, 0.49497065]])"
      ]
     },
     "execution_count": 23,
     "metadata": {},
     "output_type": "execute_result"
    }
   ],
   "source": [
    "y_pred_train[0:5]"
   ]
  },
  {
   "cell_type": "code",
   "execution_count": 24,
   "id": "c167ad8e-46b7-48dc-a0ee-ed38d5375077",
   "metadata": {},
   "outputs": [],
   "source": [
    "y_miss_train = y_pred_train[:,1] - np.array(df_train.home_win_flag)"
   ]
  },
  {
   "cell_type": "code",
   "execution_count": 25,
   "id": "9ece5091-10ee-460c-af19-e3f4fe714752",
   "metadata": {},
   "outputs": [
    {
     "data": {
      "image/png": "[encoded data removed]",
      "text/plain": [
       "<Figure size 432x288 with 1 Axes>"
      ]
     },
     "metadata": {
      "needs_background": "light"
     },
     "output_type": "display_data"
    }
   ],
   "source": [
    "sns.histplot(y_miss_train);"
   ]
  },
  {
   "cell_type": "markdown",
   "id": "e6cf8862-4c45-4fdd-8e28-9b0b05d663f0",
   "metadata": {},
   "source": [
    "**error correction - GBM**"
   ]
  },
  {
   "cell_type": "code",
   "execution_count": 26,
   "id": "bf27eb77-9f1e-44fb-acda-83bacef2311d",
   "metadata": {},
   "outputs": [],
   "source": [
    "gbm_home_error = HistGradientBoostingRegressor()"
   ]
  },
  {
   "cell_type": "code",
   "execution_count": 27,
   "id": "6f3022d8-6cc5-4b48-91d9-f102e36a278a",
   "metadata": {},
   "outputs": [],
   "source": [
    "gbm_home_error_cv = GridSearchCV(\n",
    "    gbm_home_error,\n",
    "    tune_grid,\n",
    "    cv=5,\n",
    "    scoring=\"neg_mean_squared_error\",\n",
    "    verbose=10,\n",
    ")"
   ]
  },
  {
   "cell_type": "code",
   "execution_count": 28,
   "id": "2f146e1f-a54f-4edf-8f83-b8cbf432fa21",
   "metadata": {},
   "outputs": [],
   "source": [
    "categorical_encoder = OneHotEncoder(handle_unknown=\"ignore\")\n",
    "\n",
    "preprocessing = ColumnTransformer(\n",
    "    [\n",
    "        (\"cat\", categorical_encoder, categorical_columns),\n",
    "        (\"num\", \"passthrough\", numerical_columns),\n",
    "    ]\n",
    ")\n",
    "\n",
    "gbm_pipe_home_error = Pipeline(\n",
    "    [(\"preprocess\", preprocessing), (\"regressor\", gbm_home_error_cv)], verbose=True\n",
    ")"
   ]
  },
  {
   "cell_type": "code",
   "execution_count": 29,
   "id": "35bbccf2-e56a-4f94-8728-6edde968b58e",
   "metadata": {
    "tags": []
   },
   "outputs": [
    {
     "name": "stdout",
     "output_type": "stream",
     "text": [
      "Process time: 359.0 seconds.\n"
     ]
    }
   ],
   "source": [
    "start = time.time()\n",
    "gbm_pipe_home_error.fit(df_train[x_variables], y_miss_train)\n",
    "stop = time.time()\n",
    "clear_output()\n",
    "process_time = str(round(stop - start, 0))\n",
    "print(f'Process time: {process_time} seconds.')"
   ]
  },
  {
   "cell_type": "code",
   "execution_count": 30,
   "id": "44370d47-271f-4e25-8aa0-9bf5a90249ba",
   "metadata": {},
   "outputs": [],
   "source": [
    "y_pred_miss = gbm_pipe_home_error.predict(df_train[x_variables])"
   ]
  },
  {
   "cell_type": "code",
   "execution_count": 31,
   "id": "254dfe3f-2898-4419-bad7-cca195c7f7ae",
   "metadata": {},
   "outputs": [
    {
     "data": {
      "text/plain": [
       "<matplotlib.axes._subplots.AxesSubplot at 0x1a72b8765c0>"
      ]
     },
     "execution_count": 31,
     "metadata": {},
     "output_type": "execute_result"
    },
    {
     "data": {
      "image/png": "[encoded data removed]",
      "text/plain": [
       "<Figure size 432x288 with 1 Axes>"
      ]
     },
     "metadata": {
      "needs_background": "light"
     },
     "output_type": "display_data"
    }
   ],
   "source": [
    "sns.histplot(y_pred_miss)"
   ]
  },
  {
   "cell_type": "code",
   "execution_count": 32,
   "id": "8ac4302d-43d6-475d-8021-de8c7d62bc98",
   "metadata": {},
   "outputs": [
    {
     "data": {
      "text/plain": [
       "-0.21791881069822389"
      ]
     },
     "execution_count": 32,
     "metadata": {},
     "output_type": "execute_result"
    }
   ],
   "source": [
    "gbm_home_error_cv.best_score_"
   ]
  },
  {
   "cell_type": "code",
   "execution_count": 33,
   "id": "27c8baa8-88cb-4de8-b0de-4f49b91ae116",
   "metadata": {},
   "outputs": [
    {
     "data": {
      "image/png": "[encoded data removed]",
      "text/plain": [
       "<Figure size 432x288 with 1 Axes>"
      ]
     },
     "metadata": {
      "needs_background": "light"
     },
     "output_type": "display_data"
    }
   ],
   "source": [
    "sns.scatterplot(x = y_miss_train, y = y_pred_miss);"
   ]
  },
  {
   "cell_type": "markdown",
   "id": "60d1c376-6955-4180-b50f-0dcfcd07931d",
   "metadata": {},
   "source": [
    "**error correction - SVM**"
   ]
  },
  {
   "cell_type": "raw",
   "id": "5c9ec1f8-4630-4a64-bc42-c06a53f1bcc3",
   "metadata": {},
   "source": [
    "from sklearn import svm"
   ]
  },
  {
   "cell_type": "code",
   "execution_count": 48,
   "id": "4f9aa7e0-0241-40d7-9cc3-174c798ee6af",
   "metadata": {},
   "outputs": [],
   "source": [
    "from sklearn.svm import SVR"
   ]
  },
  {
   "cell_type": "markdown",
   "id": "525fa024-60c9-492e-ba39-f75368f0ae9c",
   "metadata": {},
   "source": [
    "svm_home_error = SVR(kernel=\"poly\", C=100, gamma=\"auto\", degree=3, epsilon=0.1, coef0=1)"
   ]
  },
  {
   "cell_type": "code",
   "execution_count": 49,
   "id": "7ed5ba48-c615-4c25-91b4-9fe033d30517",
   "metadata": {},
   "outputs": [],
   "source": [
    "svm_home_error = SVR(kernel='linear')"
   ]
  },
  {
   "cell_type": "code",
   "execution_count": 50,
   "id": "2c2f54b2-3471-4c52-bc06-9f2fde1d80a4",
   "metadata": {},
   "outputs": [],
   "source": [
    "categorical_encoder = OneHotEncoder(handle_unknown=\"ignore\")\n",
    "standard_scaler = StandardScaler()\n",
    "\n",
    "preprocessing = ColumnTransformer(\n",
    "    [\n",
    "        (\"cat\", categorical_encoder, categorical_columns),\n",
    "        (\"num\", standard_scaler, numerical_columns),\n",
    "    ]\n",
    ")\n",
    "\n",
    "svm_pipe_home_error = Pipeline(\n",
    "    [(\"preprocess\", preprocessing), (\"regressor\", svm_home_error)], verbose=True\n",
    ")"
   ]
  },
  {
   "cell_type": "code",
   "execution_count": 51,
   "id": "5ecca9a9-338e-4890-a650-0e7f5074a428",
   "metadata": {},
   "outputs": [
    {
     "name": "stdout",
     "output_type": "stream",
     "text": [
      "Process time: 82.0 seconds.\n"
     ]
    }
   ],
   "source": [
    "start = time.time()\n",
    "svm_pipe_home_error.fit(df_train[x_variables].iloc[-6000:], y_miss_train[-6000:])\n",
    "stop = time.time()\n",
    "clear_output()\n",
    "process_time = str(round(stop - start, 0))\n",
    "print(f'Process time: {process_time} seconds.')"
   ]
  },
  {
   "cell_type": "code",
   "execution_count": 52,
   "id": "925226ca-10f6-4a1f-bd2e-5593179bc8a5",
   "metadata": {},
   "outputs": [],
   "source": [
    "y_pred_miss = svm_pipe_home_error.predict(df_train[x_variables])"
   ]
  },
  {
   "cell_type": "code",
   "execution_count": 53,
   "id": "d3ebaa44-1fa7-48b2-bc7e-22f126616ac3",
   "metadata": {},
   "outputs": [
    {
     "data": {
      "text/plain": [
       "<matplotlib.axes._subplots.AxesSubplot at 0x1a729c66cf8>"
      ]
     },
     "execution_count": 53,
     "metadata": {},
     "output_type": "execute_result"
    },
    {
     "data": {
      "image/png": "[encoded data removed]",
      "text/plain": [
       "<Figure size 432x288 with 1 Axes>"
      ]
     },
     "metadata": {
      "needs_background": "light"
     },
     "output_type": "display_data"
    }
   ],
   "source": [
    "sns.histplot(y_pred_miss)"
   ]
  },
  {
   "cell_type": "code",
   "execution_count": 54,
   "id": "ec5c404e-16aa-4641-892a-65d473e9637f",
   "metadata": {},
   "outputs": [
    {
     "data": {
      "image/png": "[encoded data removed]",
      "text/plain": [
       "<Figure size 432x288 with 1 Axes>"
      ]
     },
     "metadata": {
      "needs_background": "light"
     },
     "output_type": "display_data"
    }
   ],
   "source": [
    "sns.scatterplot(x = y_miss_train, y = y_pred_miss);"
   ]
  },
  {
   "cell_type": "markdown",
   "id": "e3d4e68a-e511-457c-86c7-7f8b2e7cb3c2",
   "metadata": {},
   "source": [
    "**k-means clustering of observations**"
   ]
  },
  {
   "cell_type": "code",
   "execution_count": 86,
   "id": "9fd00b27-dba7-4347-a464-84af50e3bcd9",
   "metadata": {},
   "outputs": [
    {
     "name": "stdout",
     "output_type": "stream",
     "text": [
      "Wall time: 0 ns\n"
     ]
    }
   ],
   "source": [
    "%%time\n",
    "kmeans_home_win = KMeans(n_clusters=2, random_state=2023, n_init=10)"
   ]
  },
  {
   "cell_type": "code",
   "execution_count": 87,
   "id": "404e800c-178d-4631-b505-540ca9fdf503",
   "metadata": {},
   "outputs": [],
   "source": [
    "categorical_encoder = OneHotEncoder(handle_unknown=\"ignore\")\n",
    "\n",
    "preprocessing = ColumnTransformer(\n",
    "    [\n",
    "        (\"cat\", categorical_encoder, categorical_columns),\n",
    "        (\"num\", \"passthrough\", numerical_columns),\n",
    "    ]\n",
    ")\n",
    "\n",
    "kmeans_pipe_home = Pipeline(\n",
    "    [(\"preprocess\", preprocessing), (\"clustering\", kmeans_home_win)], verbose=True\n",
    ")"
   ]
  },
  {
   "cell_type": "code",
   "execution_count": 72,
   "id": "fdb7500c-6a42-41fb-b77e-226f3b3693b8",
   "metadata": {},
   "outputs": [],
   "source": [
    "kmeans_variables = list(set(x_variables) - set(['div']))"
   ]
  },
  {
   "cell_type": "code",
   "execution_count": 73,
   "id": "3872f812-6a45-4eb4-b4cc-fcdddedaa291",
   "metadata": {
    "collapsed": true,
    "jupyter": {
     "outputs_hidden": true
    },
    "tags": []
   },
   "outputs": [
    {
     "data": {
      "text/plain": [
       "['home_team_opponents_shot_on_target_roll2_sum',\n",
       " 'home_team_point_roll1_sum',\n",
       " 'odds_away_team_defeat_roll4_mean',\n",
       " 'away_team_red_card_roll1_sum',\n",
       " 'away_team_expected_point_roll2_sum',\n",
       " 'away_team_shot_roll3_sum',\n",
       " 'home_team_opponents_goal_roll3_sum',\n",
       " 'away_team_point_roll3_sum',\n",
       " 'home_team_corner_roll3_sum',\n",
       " 'home_team_yellow_card_roll4_sum',\n",
       " 'home_team_opponents_yellow_card_roll3_sum',\n",
       " 'away_team_shot_on_target_roll3_sum',\n",
       " 'odds_away_team_win_roll4_mean',\n",
       " 'odds_away_team_draw_roll2_mean',\n",
       " 'away_team_fault_roll3_sum',\n",
       " 'prob_draw',\n",
       " 'away_team_shot_roll1_sum',\n",
       " 'prob_away_win',\n",
       " 'away_team_opponents_goal_roll3_sum',\n",
       " 'odds_home_team_draw_roll3_mean',\n",
       " 'odds_home_team_win_roll3_mean',\n",
       " 'home_team_shot_on_target_roll4_sum',\n",
       " 'home_team_yellow_card_roll1_sum',\n",
       " 'odds_home_team_win_roll1_mean',\n",
       " 'home_team_opponents_corner_roll2_sum',\n",
       " 'home_team_opponents_corner_roll1_sum',\n",
       " 'away_team_red_card_roll2_sum',\n",
       " 'home_team_opponents_shot_on_target_roll3_sum',\n",
       " 'away_team_goal_roll4_sum',\n",
       " 'home_team_opponents_fault_roll2_sum',\n",
       " 'home_team_relative_point_roll4_sum',\n",
       " 'home_team_fault_roll2_sum',\n",
       " 'away_team_yelllow_card_roll1_sum',\n",
       " 'away_team_opponents_corner_roll3_sum',\n",
       " 'away_team_opponents_shot_on_target_roll2_sum',\n",
       " 'away_team_shot_on_target_roll1_sum',\n",
       " 'away_team_opponents_shot_roll2_sum',\n",
       " 'odds_away_team_win_roll3_mean',\n",
       " 'home_team_fault_roll4_sum',\n",
       " 'away_team_relative_point_roll1_sum',\n",
       " 'home_team_point_roll4_sum',\n",
       " 'away_team_fault_roll1_sum',\n",
       " 'home_team_shot_roll4_sum',\n",
       " 'away_team_opponents_shot_roll4_sum',\n",
       " 'away_team_goal_roll3_sum',\n",
       " 'away_team_opponents_shot_roll1_sum',\n",
       " 'away_team_opponents_red_card_roll1_sum',\n",
       " 'home_team_expected_point_roll3_sum',\n",
       " 'home_team_opponents_goal_roll1_sum',\n",
       " 'odds_away_team_win_roll1_mean',\n",
       " 'away_team_shot_roll2_sum',\n",
       " 'home_team_expected_point_roll1_sum',\n",
       " 'away_team_expected_point_roll4_sum',\n",
       " 'away_team_opponents_goal_roll4_sum',\n",
       " 'away_team_point_roll2_sum',\n",
       " 'home_team_opponents_shot_roll2_sum',\n",
       " 'away_team_point_roll4_sum',\n",
       " 'away_team_corner_roll1_sum',\n",
       " 'odds_away_team_win',\n",
       " 'away_team_opponents_red_card_roll3_sum',\n",
       " 'away_team_relative_point_roll3_sum',\n",
       " 'home_team_opponents_shot_roll3_sum',\n",
       " 'odds_home_team_defeat_roll4_mean',\n",
       " 'home_team_goal_roll3_sum',\n",
       " 'home_team_goal_roll4_sum',\n",
       " 'home_team_goal_roll2_sum',\n",
       " 'home_team_match_nr',\n",
       " 'home_team_opponents_yellow_card_roll2_sum',\n",
       " 'odds_home_team_draw_roll2_mean',\n",
       " 'away_team_goal_roll1_sum',\n",
       " 'away_team_shot_on_target_roll4_sum',\n",
       " 'away_team_opponents_corner_roll4_sum',\n",
       " 'away_team_opponents_shot_on_target_roll3_sum',\n",
       " 'away_team_opponents_fault_roll1_sum',\n",
       " 'away_team_opponents_fault_roll3_sum',\n",
       " 'home_team_red_card_roll1_sum',\n",
       " 'odds_draw',\n",
       " 'home_team_opponents_goal_roll2_sum',\n",
       " 'away_team_opponents_corner_roll1_sum',\n",
       " 'away_team_expected_point_roll1_sum',\n",
       " 'away_team_relative_point_roll2_sum',\n",
       " 'home_team_goal_roll1_sum',\n",
       " 'away_team_fault_roll4_sum',\n",
       " 'home_team_opponents_corner_roll3_sum',\n",
       " 'home_team_expected_point_mean',\n",
       " 'odds_away_team_draw_roll3_mean',\n",
       " 'away_team_expected_point_mean',\n",
       " 'home_team_corner_roll2_sum',\n",
       " 'away_team_opponents_goal_roll1_sum',\n",
       " 'home_team_shot_roll2_sum',\n",
       " 'away_team_shot_on_target_roll2_sum',\n",
       " 'away_team_opponents_corner_roll2_sum',\n",
       " 'away_team_yelllow_card_roll3_sum',\n",
       " 'away_team_opponents_yellow_card_roll3_sum',\n",
       " 'home_team_shot_roll1_sum',\n",
       " 'home_team_opponents_shot_roll4_sum',\n",
       " 'home_team_opponents_shot_on_target_roll4_sum',\n",
       " 'home_team_expected_point_roll2_sum',\n",
       " 'away_team_corner_roll3_sum',\n",
       " 'away_team_yelllow_card_roll2_sum',\n",
       " 'away_team_opponents_yellow_card_roll1_sum',\n",
       " 'odds_away_team_defeat_roll2_mean',\n",
       " 'home_team_shot_roll3_sum',\n",
       " 'odds_home_team_defeat_roll1_mean',\n",
       " 'away_team_opponents_fault_roll4_sum',\n",
       " 'away_team_match_nr',\n",
       " 'home_team_opponents_fault_roll1_sum',\n",
       " 'home_team_shot_on_target_roll2_sum',\n",
       " 'home_team_opponents_corner_roll4_sum',\n",
       " 'home_team_opponents_red_card_roll3_sum',\n",
       " 'home_team_corner_roll1_sum',\n",
       " 'home_team_point_roll2_sum',\n",
       " 'home_team_opponents_red_card_roll4_sum',\n",
       " 'home_team_red_card_roll2_sum',\n",
       " 'home_team_red_card_roll3_sum',\n",
       " 'home_team_opponents_shot_roll1_sum',\n",
       " 'home_team_opponents_fault_roll4_sum',\n",
       " 'away_team_opponents_red_card_roll2_sum',\n",
       " 'home_team_fault_roll3_sum',\n",
       " 'away_team_opponents_goal_roll2_sum',\n",
       " 'home_team_shot_on_target_roll3_sum',\n",
       " 'odds_home_team_win',\n",
       " 'home_team_expected_point_roll4_sum',\n",
       " 'odds_home_team_defeat_roll3_mean',\n",
       " 'away_team_goal_roll2_sum',\n",
       " 'away_team_fault_roll2_sum',\n",
       " 'away_team_red_card_roll4_sum',\n",
       " 'odds_home_team_win_roll2_mean',\n",
       " 'home_team_fault_roll1_sum',\n",
       " 'home_team_opponents_goal_roll4_sum',\n",
       " 'odds_away_team_draw_roll4_mean',\n",
       " 'home_team_yellow_card_roll3_sum',\n",
       " 'away_team_opponents_red_card_roll4_sum',\n",
       " 'home_team_opponents_red_card_roll2_sum',\n",
       " 'home_team_opponents_shot_on_target_roll1_sum',\n",
       " 'home_team_opponents_yellow_card_roll1_sum',\n",
       " 'away_team_corner_roll2_sum',\n",
       " 'home_team_corner_roll4_sum',\n",
       " 'away_team_opponents_yellow_card_roll4_sum',\n",
       " 'odds_away_team_defeat_roll1_mean',\n",
       " 'odds_home_team_defeat_roll2_mean',\n",
       " 'odds_home_team_win_roll4_mean',\n",
       " 'home_team_relative_point_roll1_sum',\n",
       " 'away_team_opponents_fault_roll2_sum',\n",
       " 'away_team_opponents_yellow_card_roll2_sum',\n",
       " 'away_team_red_card_roll3_sum',\n",
       " 'home_team_point_mean',\n",
       " 'odds_home_team_draw_roll1_mean',\n",
       " 'home_team_yellow_card_roll2_sum',\n",
       " 'home_team_relative_point_roll2_sum',\n",
       " 'odds_away_team_win_roll2_mean',\n",
       " 'odds_away_team_defeat_roll3_mean',\n",
       " 'home_team_shot_on_target_roll1_sum',\n",
       " 'prob_home_win',\n",
       " 'away_team_corner_roll4_sum',\n",
       " 'away_team_opponents_shot_on_target_roll4_sum',\n",
       " 'away_team_relative_point_roll4_sum',\n",
       " 'away_team_shot_roll4_sum',\n",
       " 'away_team_opponents_shot_on_target_roll1_sum',\n",
       " 'away_team_point_mean',\n",
       " 'home_team_red_card_roll4_sum',\n",
       " 'away_team_point_roll1_sum',\n",
       " 'home_team_opponents_fault_roll3_sum',\n",
       " 'away_team_yelllow_card_roll4_sum',\n",
       " 'odds_home_team_draw_roll4_mean',\n",
       " 'away_team_opponents_shot_roll3_sum',\n",
       " 'home_team_opponents_yellow_card_roll4_sum',\n",
       " 'home_team_opponents_red_card_roll1_sum',\n",
       " 'home_team_point_roll3_sum',\n",
       " 'away_team_expected_point_roll3_sum',\n",
       " 'odds_away_team_draw_roll1_mean',\n",
       " 'home_team_relative_point_roll3_sum']"
      ]
     },
     "execution_count": 73,
     "metadata": {},
     "output_type": "execute_result"
    }
   ],
   "source": [
    "kmeans_variables"
   ]
  },
  {
   "cell_type": "code",
   "execution_count": 88,
   "id": "99958c04-7940-4e66-9d43-7e5769e80ebb",
   "metadata": {},
   "outputs": [
    {
     "name": "stdout",
     "output_type": "stream",
     "text": [
      "[Pipeline] ........ (step 1 of 2) Processing preprocess, total=   0.1s\n",
      "[Pipeline] ........ (step 2 of 2) Processing clustering, total=   2.0s\n",
      "Wall time: 2.13 s\n"
     ]
    },
    {
     "data": {
      "text/plain": [
       "Pipeline(steps=[('preprocess',\n",
       "                 ColumnTransformer(transformers=[('cat',\n",
       "                                                  OneHotEncoder(handle_unknown='ignore'),\n",
       "                                                  ['div']),\n",
       "                                                 ('num', 'passthrough',\n",
       "                                                  ['home_team_opponents_shot_on_target_roll2_sum',\n",
       "                                                   'home_team_point_roll1_sum',\n",
       "                                                   'away_team_red_card_roll1_sum',\n",
       "                                                   'odds_away_team_defeat_roll4_mean',\n",
       "                                                   'away_team_shot_roll3_sum',\n",
       "                                                   'away_team_expected_point_roll2_sum',\n",
       "                                                   'home_...\n",
       "                                                   'home_team_yellow_card_roll1_sum',\n",
       "                                                   'odds_home_team_win_roll1_mean',\n",
       "                                                   'home_team_opponents_corner_roll2_sum',\n",
       "                                                   'home_team_opponents_corner_roll1_sum',\n",
       "                                                   'away_team_red_card_roll2_sum',\n",
       "                                                   'home_team_opponents_shot_on_target_roll3_sum',\n",
       "                                                   'away_team_goal_roll4_sum',\n",
       "                                                   'home_team_opponents_fault_roll2_sum', ...])])),\n",
       "                ('clustering', KMeans(n_clusters=2, random_state=2023))],\n",
       "         verbose=True)"
      ]
     },
     "execution_count": 88,
     "metadata": {},
     "output_type": "execute_result"
    }
   ],
   "source": [
    "%%time\n",
    "kmeans_pipe_home.fit(df_train[x_variables])"
   ]
  },
  {
   "cell_type": "code",
   "execution_count": 89,
   "id": "0a4a1c6f-12ef-4186-8914-852511007287",
   "metadata": {
    "tags": []
   },
   "outputs": [],
   "source": [
    "y_cluster_labels = kmeans_pipe_home.predict(df_train[x_variables])"
   ]
  },
  {
   "cell_type": "code",
   "execution_count": 96,
   "id": "86878a81-3c4e-468e-a8bd-58e15f2c0aa4",
   "metadata": {},
   "outputs": [],
   "source": [
    "df_predict_train = pd.DataFrame({'y_miss_train': y_miss_train, \n",
    "                                 'y_cluster_labels': y_cluster_labels})"
   ]
  },
  {
   "cell_type": "code",
   "execution_count": 97,
   "id": "7b62a11a-b6a0-4d6a-9e11-2b53959428ce",
   "metadata": {},
   "outputs": [
    {
     "data": {
      "text/html": [
       "<div>\n",
       "<style scoped>\n",
       "    .dataframe tbody tr th:only-of-type {\n",
       "        vertical-align: middle;\n",
       "    }\n",
       "\n",
       "    .dataframe tbody tr th {\n",
       "        vertical-align: top;\n",
       "    }\n",
       "\n",
       "    .dataframe thead th {\n",
       "        text-align: right;\n",
       "    }\n",
       "</style>\n",
       "<table border=\"1\" class=\"dataframe\">\n",
       "  <thead>\n",
       "    <tr style=\"text-align: right;\">\n",
       "      <th></th>\n",
       "      <th>y_miss_train</th>\n",
       "      <th>y_cluster_labels</th>\n",
       "    </tr>\n",
       "  </thead>\n",
       "  <tbody>\n",
       "    <tr>\n",
       "      <th>0</th>\n",
       "      <td>0.428430</td>\n",
       "      <td>0</td>\n",
       "    </tr>\n",
       "    <tr>\n",
       "      <th>1</th>\n",
       "      <td>0.326817</td>\n",
       "      <td>1</td>\n",
       "    </tr>\n",
       "    <tr>\n",
       "      <th>2</th>\n",
       "      <td>0.327342</td>\n",
       "      <td>1</td>\n",
       "    </tr>\n",
       "    <tr>\n",
       "      <th>3</th>\n",
       "      <td>0.455293</td>\n",
       "      <td>1</td>\n",
       "    </tr>\n",
       "    <tr>\n",
       "      <th>4</th>\n",
       "      <td>0.494971</td>\n",
       "      <td>0</td>\n",
       "    </tr>\n",
       "  </tbody>\n",
       "</table>\n",
       "</div>"
      ],
      "text/plain": [
       "   y_miss_train  y_cluster_labels\n",
       "0      0.428430                 0\n",
       "1      0.326817                 1\n",
       "2      0.327342                 1\n",
       "3      0.455293                 1\n",
       "4      0.494971                 0"
      ]
     },
     "execution_count": 97,
     "metadata": {},
     "output_type": "execute_result"
    }
   ],
   "source": [
    "df_predict_train.head()"
   ]
  },
  {
   "cell_type": "code",
   "execution_count": 100,
   "id": "4869f5ef-2656-444b-af91-9ae210f6a605",
   "metadata": {},
   "outputs": [
    {
     "data": {
      "image/png": "[encoded data removed]",
      "text/plain": [
       "<Figure size 720x432 with 1 Axes>"
      ]
     },
     "metadata": {
      "needs_background": "light"
     },
     "output_type": "display_data"
    }
   ],
   "source": [
    "fig, ax = plt.subplots(figsize=(10,6))\n",
    "sns.histplot(ax = ax, \n",
    "             data = df_predict_train, \n",
    "             x = 'y_miss_train', \n",
    "             hue = 'y_cluster_labels', kde = True, \n",
    "             bins = 100);"
   ]
  },
  {
   "cell_type": "code",
   "execution_count": 92,
   "id": "51a2cd11-f68c-4d69-8f33-05bff277c515",
   "metadata": {},
   "outputs": [
    {
     "data": {
      "text/plain": [
       "9365"
      ]
     },
     "execution_count": 92,
     "metadata": {},
     "output_type": "execute_result"
    }
   ],
   "source": [
    "y_cluster_labels.sum()"
   ]
  },
  {
   "cell_type": "code",
   "execution_count": 93,
   "id": "0629326a-ab0d-4b4a-b4e0-1db906a1ae22",
   "metadata": {},
   "outputs": [
    {
     "data": {
      "text/plain": [
       "(24172,)"
      ]
     },
     "execution_count": 93,
     "metadata": {},
     "output_type": "execute_result"
    }
   ],
   "source": [
    "y_miss_train.shape"
   ]
  },
  {
   "cell_type": "code",
   "execution_count": null,
   "id": "2a255c0c-2303-4732-8426-4184c1e8682f",
   "metadata": {},
   "outputs": [],
   "source": []
  }
 ],
 "metadata": {
  "kernelspec": {
   "display_name": "Python 3",
   "language": "python",
   "name": "python3"
  },
  "language_info": {
   "codemirror_mode": {
    "name": "ipython",
    "version": 3
   },
   "file_extension": ".py",
   "mimetype": "text/x-python",
   "name": "python",
   "nbconvert_exporter": "python",
   "pygments_lexer": "ipython3",
   "version": "3.6.13"
  }
 },
 "nbformat": 4,
 "nbformat_minor": 5
}
