{
 "cells": [
  {
   "cell_type": "code",
   "execution_count": 1,
   "id": "d5d63efb-34c3-4b9b-8c17-257f0181d885",
   "metadata": {},
   "outputs": [],
   "source": [
    "import pandas as pd\n",
    "from sklearn.metrics import confusion_matrix, ConfusionMatrixDisplay\n",
    "from sklearn.calibration import calibration_curve\n",
    "import numpy as np"
   ]
  },
  {
   "cell_type": "code",
   "execution_count": 2,
   "id": "f29581e3-ee35-42dc-9d9e-641faab9246b",
   "metadata": {},
   "outputs": [],
   "source": [
    "import seaborn as sns\n",
    "import matplotlib.pyplot as plt"
   ]
  },
  {
   "cell_type": "code",
   "execution_count": 3,
   "id": "1b94d53e-9691-454f-a5e3-f3e2ce096c08",
   "metadata": {},
   "outputs": [],
   "source": [
    "df = pd.read_excel('http://dataevents.hu/202303/filedataevents/competition_table.xlsx', engine='openpyxl')"
   ]
  },
  {
   "cell_type": "code",
   "execution_count": 4,
   "id": "993798e1-f4d4-4779-af91-6922dc7d2418",
   "metadata": {},
   "outputs": [
    {
     "data": {
      "text/html": [
       "<div>\n",
       "<style scoped>\n",
       "    .dataframe tbody tr th:only-of-type {\n",
       "        vertical-align: middle;\n",
       "    }\n",
       "\n",
       "    .dataframe tbody tr th {\n",
       "        vertical-align: top;\n",
       "    }\n",
       "\n",
       "    .dataframe thead th {\n",
       "        text-align: right;\n",
       "    }\n",
       "</style>\n",
       "<table border=\"1\" class=\"dataframe\">\n",
       "  <thead>\n",
       "    <tr style=\"text-align: right;\">\n",
       "      <th></th>\n",
       "      <th>match_id</th>\n",
       "      <th>season</th>\n",
       "      <th>div</th>\n",
       "      <th>odds_home_team_win</th>\n",
       "      <th>odds_draw</th>\n",
       "      <th>odds_away_team_win</th>\n",
       "      <th>home_team_match_nr</th>\n",
       "      <th>home_team_goal_roll1_sum</th>\n",
       "      <th>home_team_goal_roll2_sum</th>\n",
       "      <th>home_team_goal_roll3_sum</th>\n",
       "      <th>...</th>\n",
       "      <th>odds_away_team_draw_roll4_mean</th>\n",
       "      <th>odds_away_team_defeat_roll1_mean</th>\n",
       "      <th>odds_away_team_defeat_roll2_mean</th>\n",
       "      <th>odds_away_team_defeat_roll3_mean</th>\n",
       "      <th>odds_away_team_defeat_roll4_mean</th>\n",
       "      <th>away_team_point_mean</th>\n",
       "      <th>away_team_expected_point_mean</th>\n",
       "      <th>home_win_flag</th>\n",
       "      <th>draw_flag</th>\n",
       "      <th>away_win_flag</th>\n",
       "    </tr>\n",
       "  </thead>\n",
       "  <tbody>\n",
       "    <tr>\n",
       "      <th>0</th>\n",
       "      <td>0</td>\n",
       "      <td>2008-2009</td>\n",
       "      <td>div0</td>\n",
       "      <td>1.73</td>\n",
       "      <td>3.5</td>\n",
       "      <td>5.00</td>\n",
       "      <td>5</td>\n",
       "      <td>3</td>\n",
       "      <td>7</td>\n",
       "      <td>8</td>\n",
       "      <td>...</td>\n",
       "      <td>3.825</td>\n",
       "      <td>11.00</td>\n",
       "      <td>7.665</td>\n",
       "      <td>6.377</td>\n",
       "      <td>5.908</td>\n",
       "      <td>0.500</td>\n",
       "      <td>3.0</td>\n",
       "      <td>0</td>\n",
       "      <td>0</td>\n",
       "      <td>1</td>\n",
       "    </tr>\n",
       "    <tr>\n",
       "      <th>1</th>\n",
       "      <td>1</td>\n",
       "      <td>2008-2009</td>\n",
       "      <td>div0</td>\n",
       "      <td>1.25</td>\n",
       "      <td>5.5</td>\n",
       "      <td>12.00</td>\n",
       "      <td>7</td>\n",
       "      <td>0</td>\n",
       "      <td>2</td>\n",
       "      <td>5</td>\n",
       "      <td>...</td>\n",
       "      <td>3.582</td>\n",
       "      <td>2.10</td>\n",
       "      <td>2.250</td>\n",
       "      <td>2.833</td>\n",
       "      <td>2.475</td>\n",
       "      <td>0.333</td>\n",
       "      <td>0.0</td>\n",
       "      <td>0</td>\n",
       "      <td>1</td>\n",
       "      <td>0</td>\n",
       "    </tr>\n",
       "    <tr>\n",
       "      <th>2</th>\n",
       "      <td>2</td>\n",
       "      <td>2008-2009</td>\n",
       "      <td>div0</td>\n",
       "      <td>1.57</td>\n",
       "      <td>3.8</td>\n",
       "      <td>5.75</td>\n",
       "      <td>9</td>\n",
       "      <td>1</td>\n",
       "      <td>4</td>\n",
       "      <td>4</td>\n",
       "      <td>...</td>\n",
       "      <td>3.525</td>\n",
       "      <td>6.75</td>\n",
       "      <td>4.275</td>\n",
       "      <td>3.883</td>\n",
       "      <td>3.638</td>\n",
       "      <td>0.750</td>\n",
       "      <td>1.5</td>\n",
       "      <td>1</td>\n",
       "      <td>0</td>\n",
       "      <td>0</td>\n",
       "    </tr>\n",
       "    <tr>\n",
       "      <th>3</th>\n",
       "      <td>3</td>\n",
       "      <td>2008-2009</td>\n",
       "      <td>div0</td>\n",
       "      <td>1.17</td>\n",
       "      <td>7.0</td>\n",
       "      <td>15.00</td>\n",
       "      <td>11</td>\n",
       "      <td>2</td>\n",
       "      <td>6</td>\n",
       "      <td>7</td>\n",
       "      <td>...</td>\n",
       "      <td>3.975</td>\n",
       "      <td>4.20</td>\n",
       "      <td>2.750</td>\n",
       "      <td>2.333</td>\n",
       "      <td>2.550</td>\n",
       "      <td>0.600</td>\n",
       "      <td>0.0</td>\n",
       "      <td>1</td>\n",
       "      <td>0</td>\n",
       "      <td>0</td>\n",
       "    </tr>\n",
       "    <tr>\n",
       "      <th>4</th>\n",
       "      <td>4</td>\n",
       "      <td>2008-2009</td>\n",
       "      <td>div0</td>\n",
       "      <td>1.17</td>\n",
       "      <td>7.0</td>\n",
       "      <td>15.00</td>\n",
       "      <td>14</td>\n",
       "      <td>2</td>\n",
       "      <td>4</td>\n",
       "      <td>7</td>\n",
       "      <td>...</td>\n",
       "      <td>3.925</td>\n",
       "      <td>3.10</td>\n",
       "      <td>2.175</td>\n",
       "      <td>2.050</td>\n",
       "      <td>2.015</td>\n",
       "      <td>0.833</td>\n",
       "      <td>0.0</td>\n",
       "      <td>1</td>\n",
       "      <td>0</td>\n",
       "      <td>0</td>\n",
       "    </tr>\n",
       "  </tbody>\n",
       "</table>\n",
       "<p>5 rows × 167 columns</p>\n",
       "</div>"
      ],
      "text/plain": [
       "   match_id     season   div  odds_home_team_win  odds_draw  \\\n",
       "0         0  2008-2009  div0                1.73        3.5   \n",
       "1         1  2008-2009  div0                1.25        5.5   \n",
       "2         2  2008-2009  div0                1.57        3.8   \n",
       "3         3  2008-2009  div0                1.17        7.0   \n",
       "4         4  2008-2009  div0                1.17        7.0   \n",
       "\n",
       "   odds_away_team_win  home_team_match_nr  home_team_goal_roll1_sum  \\\n",
       "0                5.00                   5                         3   \n",
       "1               12.00                   7                         0   \n",
       "2                5.75                   9                         1   \n",
       "3               15.00                  11                         2   \n",
       "4               15.00                  14                         2   \n",
       "\n",
       "   home_team_goal_roll2_sum  home_team_goal_roll3_sum  ...  \\\n",
       "0                         7                         8  ...   \n",
       "1                         2                         5  ...   \n",
       "2                         4                         4  ...   \n",
       "3                         6                         7  ...   \n",
       "4                         4                         7  ...   \n",
       "\n",
       "   odds_away_team_draw_roll4_mean  odds_away_team_defeat_roll1_mean  \\\n",
       "0                           3.825                             11.00   \n",
       "1                           3.582                              2.10   \n",
       "2                           3.525                              6.75   \n",
       "3                           3.975                              4.20   \n",
       "4                           3.925                              3.10   \n",
       "\n",
       "   odds_away_team_defeat_roll2_mean  odds_away_team_defeat_roll3_mean  \\\n",
       "0                             7.665                             6.377   \n",
       "1                             2.250                             2.833   \n",
       "2                             4.275                             3.883   \n",
       "3                             2.750                             2.333   \n",
       "4                             2.175                             2.050   \n",
       "\n",
       "   odds_away_team_defeat_roll4_mean  away_team_point_mean  \\\n",
       "0                             5.908                 0.500   \n",
       "1                             2.475                 0.333   \n",
       "2                             3.638                 0.750   \n",
       "3                             2.550                 0.600   \n",
       "4                             2.015                 0.833   \n",
       "\n",
       "   away_team_expected_point_mean  home_win_flag  draw_flag  away_win_flag  \n",
       "0                            3.0              0          0              1  \n",
       "1                            0.0              0          1              0  \n",
       "2                            1.5              1          0              0  \n",
       "3                            0.0              1          0              0  \n",
       "4                            0.0              1          0              0  \n",
       "\n",
       "[5 rows x 167 columns]"
      ]
     },
     "execution_count": 4,
     "metadata": {},
     "output_type": "execute_result"
    }
   ],
   "source": [
    "df.head()"
   ]
  },
  {
   "cell_type": "code",
   "execution_count": 5,
   "id": "0fac17ec-917f-4f37-a5a6-e64be259aeb7",
   "metadata": {},
   "outputs": [],
   "source": [
    "df = df[(df.odds_home_team_win != 0) & (df.odds_draw != 0) & (df.odds_away_team_win != 0)]"
   ]
  },
  {
   "cell_type": "code",
   "execution_count": 6,
   "id": "50c003de-78b1-4a58-9d4a-7d7a59db0056",
   "metadata": {},
   "outputs": [
    {
     "data": {
      "text/plain": [
       "(64159, 167)"
      ]
     },
     "execution_count": 6,
     "metadata": {},
     "output_type": "execute_result"
    }
   ],
   "source": [
    "df.shape"
   ]
  },
  {
   "cell_type": "code",
   "execution_count": 6,
   "id": "b972845a-6b55-44fd-8e2a-add8cf1b6256",
   "metadata": {},
   "outputs": [
    {
     "data": {
      "text/plain": [
       "2021-2022    6534\n",
       "2020-2021    6368\n",
       "2018-2019    5913\n",
       "2017-2018    5730\n",
       "2019-2020    5670\n",
       "2013-2014    3848\n",
       "2014-2015    3846\n",
       "2015-2016    3845\n",
       "2010-2011    3842\n",
       "2012-2013    3841\n",
       "2008-2009    3818\n",
       "2009-2010    3799\n",
       "2011-2012    3767\n",
       "2016-2017    3338\n",
       "Name: season, dtype: int64"
      ]
     },
     "execution_count": 6,
     "metadata": {},
     "output_type": "execute_result"
    }
   ],
   "source": [
    "df.season.value_counts()"
   ]
  },
  {
   "cell_type": "code",
   "execution_count": 7,
   "id": "fcbae94b-4ed7-4b75-9103-ede353a45e81",
   "metadata": {},
   "outputs": [
    {
     "data": {
      "text/html": [
       "<div>\n",
       "<style scoped>\n",
       "    .dataframe tbody tr th:only-of-type {\n",
       "        vertical-align: middle;\n",
       "    }\n",
       "\n",
       "    .dataframe tbody tr th {\n",
       "        vertical-align: top;\n",
       "    }\n",
       "\n",
       "    .dataframe thead th {\n",
       "        text-align: right;\n",
       "    }\n",
       "</style>\n",
       "<table border=\"1\" class=\"dataframe\">\n",
       "  <thead>\n",
       "    <tr style=\"text-align: right;\">\n",
       "      <th></th>\n",
       "      <th>odds_home_team_win</th>\n",
       "      <th>odds_draw</th>\n",
       "      <th>odds_away_team_win</th>\n",
       "      <th>home_win_flag</th>\n",
       "      <th>draw_flag</th>\n",
       "      <th>away_win_flag</th>\n",
       "    </tr>\n",
       "  </thead>\n",
       "  <tbody>\n",
       "    <tr>\n",
       "      <th>0</th>\n",
       "      <td>1.73</td>\n",
       "      <td>3.50</td>\n",
       "      <td>5.00</td>\n",
       "      <td>0</td>\n",
       "      <td>0</td>\n",
       "      <td>1</td>\n",
       "    </tr>\n",
       "    <tr>\n",
       "      <th>1</th>\n",
       "      <td>1.25</td>\n",
       "      <td>5.50</td>\n",
       "      <td>12.00</td>\n",
       "      <td>0</td>\n",
       "      <td>1</td>\n",
       "      <td>0</td>\n",
       "    </tr>\n",
       "    <tr>\n",
       "      <th>2</th>\n",
       "      <td>1.57</td>\n",
       "      <td>3.80</td>\n",
       "      <td>5.75</td>\n",
       "      <td>1</td>\n",
       "      <td>0</td>\n",
       "      <td>0</td>\n",
       "    </tr>\n",
       "    <tr>\n",
       "      <th>3</th>\n",
       "      <td>1.17</td>\n",
       "      <td>7.00</td>\n",
       "      <td>15.00</td>\n",
       "      <td>1</td>\n",
       "      <td>0</td>\n",
       "      <td>0</td>\n",
       "    </tr>\n",
       "    <tr>\n",
       "      <th>4</th>\n",
       "      <td>1.17</td>\n",
       "      <td>7.00</td>\n",
       "      <td>15.00</td>\n",
       "      <td>1</td>\n",
       "      <td>0</td>\n",
       "      <td>0</td>\n",
       "    </tr>\n",
       "    <tr>\n",
       "      <th>5</th>\n",
       "      <td>1.62</td>\n",
       "      <td>3.80</td>\n",
       "      <td>5.50</td>\n",
       "      <td>1</td>\n",
       "      <td>0</td>\n",
       "      <td>0</td>\n",
       "    </tr>\n",
       "    <tr>\n",
       "      <th>6</th>\n",
       "      <td>1.44</td>\n",
       "      <td>4.00</td>\n",
       "      <td>8.00</td>\n",
       "      <td>1</td>\n",
       "      <td>0</td>\n",
       "      <td>0</td>\n",
       "    </tr>\n",
       "    <tr>\n",
       "      <th>7</th>\n",
       "      <td>1.25</td>\n",
       "      <td>5.50</td>\n",
       "      <td>12.00</td>\n",
       "      <td>0</td>\n",
       "      <td>0</td>\n",
       "      <td>1</td>\n",
       "    </tr>\n",
       "    <tr>\n",
       "      <th>8</th>\n",
       "      <td>1.33</td>\n",
       "      <td>5.00</td>\n",
       "      <td>9.00</td>\n",
       "      <td>1</td>\n",
       "      <td>0</td>\n",
       "      <td>0</td>\n",
       "    </tr>\n",
       "    <tr>\n",
       "      <th>9</th>\n",
       "      <td>1.14</td>\n",
       "      <td>7.50</td>\n",
       "      <td>17.00</td>\n",
       "      <td>1</td>\n",
       "      <td>0</td>\n",
       "      <td>0</td>\n",
       "    </tr>\n",
       "    <tr>\n",
       "      <th>10</th>\n",
       "      <td>1.33</td>\n",
       "      <td>5.00</td>\n",
       "      <td>9.00</td>\n",
       "      <td>1</td>\n",
       "      <td>0</td>\n",
       "      <td>0</td>\n",
       "    </tr>\n",
       "    <tr>\n",
       "      <th>11</th>\n",
       "      <td>1.61</td>\n",
       "      <td>3.75</td>\n",
       "      <td>5.50</td>\n",
       "      <td>0</td>\n",
       "      <td>0</td>\n",
       "      <td>1</td>\n",
       "    </tr>\n",
       "    <tr>\n",
       "      <th>12</th>\n",
       "      <td>1.28</td>\n",
       "      <td>5.50</td>\n",
       "      <td>9.50</td>\n",
       "      <td>1</td>\n",
       "      <td>0</td>\n",
       "      <td>0</td>\n",
       "    </tr>\n",
       "    <tr>\n",
       "      <th>13</th>\n",
       "      <td>1.33</td>\n",
       "      <td>5.00</td>\n",
       "      <td>9.00</td>\n",
       "      <td>1</td>\n",
       "      <td>0</td>\n",
       "      <td>0</td>\n",
       "    </tr>\n",
       "    <tr>\n",
       "      <th>14</th>\n",
       "      <td>1.67</td>\n",
       "      <td>4.20</td>\n",
       "      <td>4.50</td>\n",
       "      <td>1</td>\n",
       "      <td>0</td>\n",
       "      <td>0</td>\n",
       "    </tr>\n",
       "    <tr>\n",
       "      <th>15</th>\n",
       "      <td>2.30</td>\n",
       "      <td>3.30</td>\n",
       "      <td>3.10</td>\n",
       "      <td>1</td>\n",
       "      <td>0</td>\n",
       "      <td>0</td>\n",
       "    </tr>\n",
       "    <tr>\n",
       "      <th>16</th>\n",
       "      <td>2.25</td>\n",
       "      <td>3.25</td>\n",
       "      <td>3.20</td>\n",
       "      <td>0</td>\n",
       "      <td>0</td>\n",
       "      <td>1</td>\n",
       "    </tr>\n",
       "    <tr>\n",
       "      <th>17</th>\n",
       "      <td>1.91</td>\n",
       "      <td>3.40</td>\n",
       "      <td>4.20</td>\n",
       "      <td>0</td>\n",
       "      <td>1</td>\n",
       "      <td>0</td>\n",
       "    </tr>\n",
       "    <tr>\n",
       "      <th>18</th>\n",
       "      <td>2.10</td>\n",
       "      <td>3.30</td>\n",
       "      <td>3.50</td>\n",
       "      <td>0</td>\n",
       "      <td>0</td>\n",
       "      <td>1</td>\n",
       "    </tr>\n",
       "    <tr>\n",
       "      <th>19</th>\n",
       "      <td>5.00</td>\n",
       "      <td>3.60</td>\n",
       "      <td>1.70</td>\n",
       "      <td>1</td>\n",
       "      <td>0</td>\n",
       "      <td>0</td>\n",
       "    </tr>\n",
       "  </tbody>\n",
       "</table>\n",
       "</div>"
      ],
      "text/plain": [
       "    odds_home_team_win  odds_draw  odds_away_team_win  home_win_flag  \\\n",
       "0                 1.73       3.50                5.00              0   \n",
       "1                 1.25       5.50               12.00              0   \n",
       "2                 1.57       3.80                5.75              1   \n",
       "3                 1.17       7.00               15.00              1   \n",
       "4                 1.17       7.00               15.00              1   \n",
       "5                 1.62       3.80                5.50              1   \n",
       "6                 1.44       4.00                8.00              1   \n",
       "7                 1.25       5.50               12.00              0   \n",
       "8                 1.33       5.00                9.00              1   \n",
       "9                 1.14       7.50               17.00              1   \n",
       "10                1.33       5.00                9.00              1   \n",
       "11                1.61       3.75                5.50              0   \n",
       "12                1.28       5.50                9.50              1   \n",
       "13                1.33       5.00                9.00              1   \n",
       "14                1.67       4.20                4.50              1   \n",
       "15                2.30       3.30                3.10              1   \n",
       "16                2.25       3.25                3.20              0   \n",
       "17                1.91       3.40                4.20              0   \n",
       "18                2.10       3.30                3.50              0   \n",
       "19                5.00       3.60                1.70              1   \n",
       "\n",
       "    draw_flag  away_win_flag  \n",
       "0           0              1  \n",
       "1           1              0  \n",
       "2           0              0  \n",
       "3           0              0  \n",
       "4           0              0  \n",
       "5           0              0  \n",
       "6           0              0  \n",
       "7           0              1  \n",
       "8           0              0  \n",
       "9           0              0  \n",
       "10          0              0  \n",
       "11          0              1  \n",
       "12          0              0  \n",
       "13          0              0  \n",
       "14          0              0  \n",
       "15          0              0  \n",
       "16          0              1  \n",
       "17          1              0  \n",
       "18          0              1  \n",
       "19          0              0  "
      ]
     },
     "execution_count": 7,
     "metadata": {},
     "output_type": "execute_result"
    }
   ],
   "source": [
    "df[['odds_home_team_win', 'odds_draw', 'odds_away_team_win', 'home_win_flag', 'draw_flag', 'away_win_flag']].head(20)"
   ]
  },
  {
   "cell_type": "code",
   "execution_count": 60,
   "id": "24d5a25b-047e-49a8-935d-63a245e6f244",
   "metadata": {},
   "outputs": [
    {
     "data": {
      "text/plain": [
       "home_win_flag    28211\n",
       "draw_flag        16796\n",
       "away_win_flag    19152\n",
       "dtype: int64"
      ]
     },
     "execution_count": 60,
     "metadata": {},
     "output_type": "execute_result"
    }
   ],
   "source": [
    "df[['home_win_flag', 'draw_flag', 'away_win_flag']].sum()"
   ]
  },
  {
   "cell_type": "code",
   "execution_count": 7,
   "id": "96371f5f-3928-4884-b390-05f88a7f7aa5",
   "metadata": {},
   "outputs": [],
   "source": [
    "df['probable_event'] = df[['odds_home_team_win', 'odds_draw', 'odds_away_team_win']].idxmin(axis = 1)"
   ]
  },
  {
   "cell_type": "code",
   "execution_count": 25,
   "id": "96ec0d34-3d54-42ae-ae9a-386c77cb1293",
   "metadata": {},
   "outputs": [
    {
     "data": {
      "text/plain": [
       "probable_event\n",
       "odds_away_team_win    18054\n",
       "odds_draw                63\n",
       "odds_home_team_win    46042\n",
       "Name: match_id, dtype: int64"
      ]
     },
     "execution_count": 25,
     "metadata": {},
     "output_type": "execute_result"
    }
   ],
   "source": [
    "df.groupby('probable_event')['match_id'].count()"
   ]
  },
  {
   "cell_type": "code",
   "execution_count": 25,
   "id": "c6caecbd-a088-4f8c-8fe0-5322b43925d9",
   "metadata": {},
   "outputs": [
    {
     "data": {
      "text/plain": [
       "probable_event\n",
       "odds_away_team_win    18054\n",
       "odds_draw                63\n",
       "odds_home_team_win    46042\n",
       "Name: match_id, dtype: int64"
      ]
     },
     "execution_count": 25,
     "metadata": {},
     "output_type": "execute_result"
    }
   ],
   "source": [
    "df.groupby('probable_event')['match_id'].count()"
   ]
  },
  {
   "cell_type": "code",
   "execution_count": null,
   "id": "adc796d1-d7d0-4c30-ab0f-24ed2f3109be",
   "metadata": {},
   "outputs": [],
   "source": []
  },
  {
   "cell_type": "code",
   "execution_count": 8,
   "id": "ca4c392f-6f52-4cc1-9696-8c045d0067f2",
   "metadata": {},
   "outputs": [],
   "source": [
    "df['prob_home_win'] = 1 / df.odds_home_team_win\n",
    "df['prob_draw'] = 1 / df.odds_draw\n",
    "df['prob_away_win'] = 1 / df.odds_away_team_win"
   ]
  },
  {
   "cell_type": "code",
   "execution_count": 59,
   "id": "d100ce64-8a53-48d6-81d3-128993b94fd4",
   "metadata": {},
   "outputs": [],
   "source": [
    "df['home_win_excess_prob'] = df['prob_home_win'] - df['prob_away_win'] -df['prob_draw']"
   ]
  },
  {
   "cell_type": "code",
   "execution_count": 60,
   "id": "34464a60-2721-44f6-b0b0-0dc199ca22c8",
   "metadata": {},
   "outputs": [],
   "source": [
    "df['away_win_excess_prob'] = df['prob_away_win'] - df['prob_home_win'] - df['prob_draw']"
   ]
  },
  {
   "cell_type": "code",
   "execution_count": 61,
   "id": "22e6286b-bd58-4b44-955d-38ff8c758c09",
   "metadata": {},
   "outputs": [],
   "source": [
    "df['draw_excess_prob'] = df['prob_draw'] - df['prob_home_win'] - df['prob_away_win'] "
   ]
  },
  {
   "cell_type": "code",
   "execution_count": 10,
   "id": "3b00a3cf-a605-4337-8c87-9427916b2f75",
   "metadata": {},
   "outputs": [],
   "source": [
    "df['home_win_predicted'] = df.probable_event == 'odds_home_team_win'\n",
    "\n",
    "df.home_win_predicted = df.home_win_predicted.astype('int')"
   ]
  },
  {
   "cell_type": "code",
   "execution_count": 17,
   "id": "f7ff52de-7020-4323-b89e-a6fef4403531",
   "metadata": {},
   "outputs": [],
   "source": [
    "df['away_win_predicted'] = df.probable_event == 'odds_away_team_win'\n",
    "df.away_win_predicted = df.away_win_predicted.astype('int')"
   ]
  },
  {
   "cell_type": "code",
   "execution_count": 18,
   "id": "e673e916-a7c1-4c86-8296-1d84e94f993a",
   "metadata": {},
   "outputs": [],
   "source": [
    "df['draw_predicted'] = df.probable_event == 'odds_draw'\n",
    "df.draw_predicted = df.draw_predicted.astype('int')"
   ]
  },
  {
   "cell_type": "code",
   "execution_count": 41,
   "id": "1ba0c9b9-f4c2-4c6b-abf2-73bb7bf0461b",
   "metadata": {},
   "outputs": [],
   "source": [
    "df_f = df.copy()"
   ]
  },
  {
   "cell_type": "code",
   "execution_count": 46,
   "id": "1b7a36dc-0763-414d-b855-5c54bd2c967b",
   "metadata": {},
   "outputs": [
    {
     "data": {
      "text/plain": [
       "array(['2008-2009', '2009-2010', '2010-2011', '2011-2012', '2012-2013',\n",
       "       '2013-2014', '2014-2015', '2015-2016', '2016-2017', '2017-2018',\n",
       "       '2018-2019', '2019-2020', '2020-2021', '2021-2022'], dtype=object)"
      ]
     },
     "execution_count": 46,
     "metadata": {},
     "output_type": "execute_result"
    }
   ],
   "source": [
    "df_f.season.unique()"
   ]
  },
  {
   "cell_type": "code",
   "execution_count": 45,
   "id": "85fddf63-afaa-4eb2-9dcd-1e065b9d1867",
   "metadata": {},
   "outputs": [],
   "source": [
    "df = df[df.season.isin(['2017-2018', '2018-2019', '2019-2020', '2020-2021', '2021-2022'])]"
   ]
  },
  {
   "cell_type": "markdown",
   "id": "d70ca438-c4da-4337-8016-7516d66e70c5",
   "metadata": {},
   "source": [
    "### Analyzing Home Wins"
   ]
  },
  {
   "cell_type": "code",
   "execution_count": 11,
   "id": "70445e2d-1579-4dd4-9798-67a4edda9bce",
   "metadata": {},
   "outputs": [
    {
     "data": {
      "text/html": [
       "<div>\n",
       "<style scoped>\n",
       "    .dataframe tbody tr th:only-of-type {\n",
       "        vertical-align: middle;\n",
       "    }\n",
       "\n",
       "    .dataframe tbody tr th {\n",
       "        vertical-align: top;\n",
       "    }\n",
       "\n",
       "    .dataframe thead th {\n",
       "        text-align: right;\n",
       "    }\n",
       "</style>\n",
       "<table border=\"1\" class=\"dataframe\">\n",
       "  <thead>\n",
       "    <tr style=\"text-align: right;\">\n",
       "      <th></th>\n",
       "      <th>odds_home_team_win</th>\n",
       "      <th>odds_draw</th>\n",
       "      <th>odds_away_team_win</th>\n",
       "      <th>home_win_flag</th>\n",
       "      <th>draw_flag</th>\n",
       "      <th>away_win_flag</th>\n",
       "      <th>home_win_predicted</th>\n",
       "    </tr>\n",
       "  </thead>\n",
       "  <tbody>\n",
       "    <tr>\n",
       "      <th>0</th>\n",
       "      <td>1.73</td>\n",
       "      <td>3.50</td>\n",
       "      <td>5.00</td>\n",
       "      <td>0</td>\n",
       "      <td>0</td>\n",
       "      <td>1</td>\n",
       "      <td>1</td>\n",
       "    </tr>\n",
       "    <tr>\n",
       "      <th>1</th>\n",
       "      <td>1.25</td>\n",
       "      <td>5.50</td>\n",
       "      <td>12.00</td>\n",
       "      <td>0</td>\n",
       "      <td>1</td>\n",
       "      <td>0</td>\n",
       "      <td>1</td>\n",
       "    </tr>\n",
       "    <tr>\n",
       "      <th>2</th>\n",
       "      <td>1.57</td>\n",
       "      <td>3.80</td>\n",
       "      <td>5.75</td>\n",
       "      <td>1</td>\n",
       "      <td>0</td>\n",
       "      <td>0</td>\n",
       "      <td>1</td>\n",
       "    </tr>\n",
       "    <tr>\n",
       "      <th>3</th>\n",
       "      <td>1.17</td>\n",
       "      <td>7.00</td>\n",
       "      <td>15.00</td>\n",
       "      <td>1</td>\n",
       "      <td>0</td>\n",
       "      <td>0</td>\n",
       "      <td>1</td>\n",
       "    </tr>\n",
       "    <tr>\n",
       "      <th>4</th>\n",
       "      <td>1.17</td>\n",
       "      <td>7.00</td>\n",
       "      <td>15.00</td>\n",
       "      <td>1</td>\n",
       "      <td>0</td>\n",
       "      <td>0</td>\n",
       "      <td>1</td>\n",
       "    </tr>\n",
       "    <tr>\n",
       "      <th>...</th>\n",
       "      <td>...</td>\n",
       "      <td>...</td>\n",
       "      <td>...</td>\n",
       "      <td>...</td>\n",
       "      <td>...</td>\n",
       "      <td>...</td>\n",
       "      <td>...</td>\n",
       "    </tr>\n",
       "    <tr>\n",
       "      <th>64161</th>\n",
       "      <td>3.80</td>\n",
       "      <td>3.71</td>\n",
       "      <td>1.90</td>\n",
       "      <td>0</td>\n",
       "      <td>0</td>\n",
       "      <td>1</td>\n",
       "      <td>0</td>\n",
       "    </tr>\n",
       "    <tr>\n",
       "      <th>64162</th>\n",
       "      <td>3.62</td>\n",
       "      <td>3.42</td>\n",
       "      <td>2.04</td>\n",
       "      <td>0</td>\n",
       "      <td>0</td>\n",
       "      <td>1</td>\n",
       "      <td>0</td>\n",
       "    </tr>\n",
       "    <tr>\n",
       "      <th>64163</th>\n",
       "      <td>5.51</td>\n",
       "      <td>4.06</td>\n",
       "      <td>1.59</td>\n",
       "      <td>0</td>\n",
       "      <td>0</td>\n",
       "      <td>1</td>\n",
       "      <td>0</td>\n",
       "    </tr>\n",
       "    <tr>\n",
       "      <th>64164</th>\n",
       "      <td>3.83</td>\n",
       "      <td>3.76</td>\n",
       "      <td>1.87</td>\n",
       "      <td>0</td>\n",
       "      <td>0</td>\n",
       "      <td>1</td>\n",
       "      <td>0</td>\n",
       "    </tr>\n",
       "    <tr>\n",
       "      <th>64165</th>\n",
       "      <td>11.22</td>\n",
       "      <td>6.78</td>\n",
       "      <td>1.22</td>\n",
       "      <td>0</td>\n",
       "      <td>0</td>\n",
       "      <td>1</td>\n",
       "      <td>0</td>\n",
       "    </tr>\n",
       "  </tbody>\n",
       "</table>\n",
       "<p>64159 rows × 7 columns</p>\n",
       "</div>"
      ],
      "text/plain": [
       "       odds_home_team_win  odds_draw  odds_away_team_win  home_win_flag  \\\n",
       "0                    1.73       3.50                5.00              0   \n",
       "1                    1.25       5.50               12.00              0   \n",
       "2                    1.57       3.80                5.75              1   \n",
       "3                    1.17       7.00               15.00              1   \n",
       "4                    1.17       7.00               15.00              1   \n",
       "...                   ...        ...                 ...            ...   \n",
       "64161                3.80       3.71                1.90              0   \n",
       "64162                3.62       3.42                2.04              0   \n",
       "64163                5.51       4.06                1.59              0   \n",
       "64164                3.83       3.76                1.87              0   \n",
       "64165               11.22       6.78                1.22              0   \n",
       "\n",
       "       draw_flag  away_win_flag  home_win_predicted  \n",
       "0              0              1                   1  \n",
       "1              1              0                   1  \n",
       "2              0              0                   1  \n",
       "3              0              0                   1  \n",
       "4              0              0                   1  \n",
       "...          ...            ...                 ...  \n",
       "64161          0              1                   0  \n",
       "64162          0              1                   0  \n",
       "64163          0              1                   0  \n",
       "64164          0              1                   0  \n",
       "64165          0              1                   0  \n",
       "\n",
       "[64159 rows x 7 columns]"
      ]
     },
     "execution_count": 11,
     "metadata": {},
     "output_type": "execute_result"
    }
   ],
   "source": [
    "df[['odds_home_team_win', 'odds_draw', 'odds_away_team_win', 'home_win_flag', 'draw_flag', 'away_win_flag', 'home_win_predicted']]"
   ]
  },
  {
   "cell_type": "code",
   "execution_count": 12,
   "id": "1d9e106b-349a-43d9-b487-618ac45f2df5",
   "metadata": {},
   "outputs": [],
   "source": [
    "tn, fp, fn, tp = confusion_matrix(df.home_win_flag, df.home_win_predicted).ravel()"
   ]
  },
  {
   "cell_type": "code",
   "execution_count": 13,
   "id": "36fdc0f0-c1a4-49f3-a40c-0a1d977b24a6",
   "metadata": {},
   "outputs": [
    {
     "data": {
      "text/html": [
       "<div>\n",
       "<style scoped>\n",
       "    .dataframe tbody tr th:only-of-type {\n",
       "        vertical-align: middle;\n",
       "    }\n",
       "\n",
       "    .dataframe tbody tr th {\n",
       "        vertical-align: top;\n",
       "    }\n",
       "\n",
       "    .dataframe thead th {\n",
       "        text-align: right;\n",
       "    }\n",
       "</style>\n",
       "<table border=\"1\" class=\"dataframe\">\n",
       "  <thead>\n",
       "    <tr style=\"text-align: right;\">\n",
       "      <th>home_win_flag</th>\n",
       "      <th>0</th>\n",
       "      <th>1</th>\n",
       "    </tr>\n",
       "    <tr>\n",
       "      <th>home_win_predicted</th>\n",
       "      <th></th>\n",
       "      <th></th>\n",
       "    </tr>\n",
       "  </thead>\n",
       "  <tbody>\n",
       "    <tr>\n",
       "      <th>0</th>\n",
       "      <td>13,392</td>\n",
       "      <td>4,725</td>\n",
       "    </tr>\n",
       "    <tr>\n",
       "      <th>1</th>\n",
       "      <td>22,556</td>\n",
       "      <td>23,486</td>\n",
       "    </tr>\n",
       "  </tbody>\n",
       "</table>\n",
       "</div>"
      ],
      "text/plain": [
       "home_win_flag            0       1\n",
       "home_win_predicted                \n",
       "0                   13,392   4,725\n",
       "1                   22,556  23,486"
      ]
     },
     "execution_count": 13,
     "metadata": {},
     "output_type": "execute_result"
    }
   ],
   "source": [
    "pd.pivot_table(df, values='draw_flag', index=['home_win_predicted'],\n",
    "                    columns=['home_win_flag'], aggfunc='count').applymap(\"{:,.0f}\".format)"
   ]
  },
  {
   "cell_type": "code",
   "execution_count": 15,
   "id": "2d9d6da1-d53a-4290-ba58-0672637ce445",
   "metadata": {},
   "outputs": [
    {
     "data": {
      "text/plain": [
       "0.43970448417213487"
      ]
     },
     "execution_count": 15,
     "metadata": {},
     "output_type": "execute_result"
    }
   ],
   "source": [
    "df.home_win_flag.sum() / df.shape[0]"
   ]
  },
  {
   "cell_type": "code",
   "execution_count": 16,
   "id": "35481aca-df6e-46ad-9dfa-b3cd244042de",
   "metadata": {},
   "outputs": [
    {
     "data": {
      "text/plain": [
       "0.717623404354806"
      ]
     },
     "execution_count": 16,
     "metadata": {},
     "output_type": "execute_result"
    }
   ],
   "source": [
    "df.home_win_predicted.sum() / df.shape[0]"
   ]
  },
  {
   "cell_type": "code",
   "execution_count": null,
   "id": "97cb05d8-73ab-4c68-b62d-c18c57c0da03",
   "metadata": {},
   "outputs": [],
   "source": []
  },
  {
   "cell_type": "code",
   "execution_count": 15,
   "id": "ee885da7-55ff-4445-8daa-ae1ca02e7561",
   "metadata": {},
   "outputs": [
    {
     "data": {
      "text/plain": [
       "0.510108797150861"
      ]
     },
     "execution_count": 15,
     "metadata": {},
     "output_type": "execute_result"
    }
   ],
   "source": [
    "23490 / (23490 + 22559)"
   ]
  },
  {
   "cell_type": "code",
   "execution_count": 16,
   "id": "12375c9a-3634-4395-b409-1bdb548fdf37",
   "metadata": {},
   "outputs": [
    {
     "data": {
      "text/html": [
       "<div>\n",
       "<style scoped>\n",
       "    .dataframe tbody tr th:only-of-type {\n",
       "        vertical-align: middle;\n",
       "    }\n",
       "\n",
       "    .dataframe tbody tr th {\n",
       "        vertical-align: top;\n",
       "    }\n",
       "\n",
       "    .dataframe thead th {\n",
       "        text-align: right;\n",
       "    }\n",
       "</style>\n",
       "<table border=\"1\" class=\"dataframe\">\n",
       "  <thead>\n",
       "    <tr style=\"text-align: right;\">\n",
       "      <th></th>\n",
       "      <th>0</th>\n",
       "      <th>1</th>\n",
       "    </tr>\n",
       "  </thead>\n",
       "  <tbody>\n",
       "    <tr>\n",
       "      <th>0</th>\n",
       "      <td>13392</td>\n",
       "      <td>22556</td>\n",
       "    </tr>\n",
       "    <tr>\n",
       "      <th>1</th>\n",
       "      <td>4725</td>\n",
       "      <td>23486</td>\n",
       "    </tr>\n",
       "  </tbody>\n",
       "</table>\n",
       "</div>"
      ],
      "text/plain": [
       "       0      1\n",
       "0  13392  22556\n",
       "1   4725  23486"
      ]
     },
     "execution_count": 16,
     "metadata": {},
     "output_type": "execute_result"
    }
   ],
   "source": [
    "pd.DataFrame(confusion_matrix(df.home_win_flag, df.home_win_predicted))"
   ]
  },
  {
   "cell_type": "code",
   "execution_count": 17,
   "id": "86dad97a-fbf9-4788-acea-733f47a802a8",
   "metadata": {},
   "outputs": [
    {
     "name": "stdout",
     "output_type": "stream",
     "text": [
      "13392 22556 4725 23486\n"
     ]
    }
   ],
   "source": [
    "print(tn, fp, fn, tp)"
   ]
  },
  {
   "cell_type": "code",
   "execution_count": 18,
   "id": "c3979cb7-909c-4ada-868e-ff94f8527348",
   "metadata": {},
   "outputs": [],
   "source": [
    "TPR = tp / (tp + fn)\n",
    "TNR = tn / (tn + fp)\n",
    "FPR = 1- TNR\n",
    "FNR = 1 - TPR"
   ]
  },
  {
   "cell_type": "code",
   "execution_count": 19,
   "id": "40248976-1229-4817-a0a4-1f00e825a8e5",
   "metadata": {},
   "outputs": [
    {
     "name": "stdout",
     "output_type": "stream",
     "text": [
      "TPR: 0.8325121406543546\n",
      "TNR: 0.37253811060420605\n",
      "FPR: 0.627461889395794\n",
      "FNR: 0.16748785934564536\n",
      "Accuracy: 0.5747907542199847\n"
     ]
    }
   ],
   "source": [
    "print('TPR:', TPR)\n",
    "print('TNR:', TNR)\n",
    "print('FPR:', FPR)\n",
    "print('FNR:', FNR)\n",
    "print('Accuracy:', (tp + tn)/df.shape[0])"
   ]
  },
  {
   "cell_type": "markdown",
   "id": "9544a8d6-17a4-4cd4-81c6-4ba71c376d62",
   "metadata": {},
   "source": [
    "#### Odds vs outcomes"
   ]
  },
  {
   "cell_type": "code",
   "execution_count": 47,
   "id": "bae1868f-a87d-4327-ba1d-4942974f3f9e",
   "metadata": {},
   "outputs": [
    {
     "data": {
      "image/png": "[encoded data removed]",
      "text/plain": [
       "<Figure size 432x288 with 1 Axes>"
      ]
     },
     "metadata": {
      "needs_background": "light"
     },
     "output_type": "display_data"
    }
   ],
   "source": [
    "df[df.home_win_predicted == 1]['odds_home_team_win'].plot(kind = 'hist', bins = 30, rwidth = 0.9);"
   ]
  },
  {
   "cell_type": "code",
   "execution_count": 48,
   "id": "1c8df0bd-f382-40df-82d6-5507fd2c037c",
   "metadata": {},
   "outputs": [
    {
     "data": {
      "image/png": "[encoded data removed]",
      "text/plain": [
       "<Figure size 720x432 with 1 Axes>"
      ]
     },
     "metadata": {
      "needs_background": "light"
     },
     "output_type": "display_data"
    }
   ],
   "source": [
    "df[df.home_win_flag == 1]['prob_home_win'].plot(kind = 'hist', bins = 50, rwidth = 0.9, figsize = (10,6));"
   ]
  },
  {
   "cell_type": "code",
   "execution_count": 49,
   "id": "bbba8203-3a8e-44b8-863c-b81b8144a649",
   "metadata": {},
   "outputs": [
    {
     "data": {
      "image/png": "[encoded data removed]",
      "text/plain": [
       "<Figure size 720x432 with 1 Axes>"
      ]
     },
     "metadata": {
      "needs_background": "light"
     },
     "output_type": "display_data"
    }
   ],
   "source": [
    "df[df.away_win_flag == 1]['prob_away_win'].plot(kind = 'hist', bins = 50, rwidth = 0.9, figsize = (10,6), xlim = (0, 1));"
   ]
  },
  {
   "cell_type": "code",
   "execution_count": 50,
   "id": "834cb51b-6ecf-4cf2-be26-c92f4e34101c",
   "metadata": {},
   "outputs": [
    {
     "data": {
      "image/png": "[encoded data removed]",
      "text/plain": [
       "<Figure size 720x432 with 1 Axes>"
      ]
     },
     "metadata": {
      "needs_background": "light"
     },
     "output_type": "display_data"
    }
   ],
   "source": [
    "df[df.draw_flag == 1]['prob_draw'].plot(kind = 'hist', bins = 50, rwidth = 0.9, figsize = (10,6), xlim = (0, 1));"
   ]
  },
  {
   "cell_type": "code",
   "execution_count": 62,
   "id": "8eee30c1-f0a6-41aa-bce7-a84f65e637c6",
   "metadata": {},
   "outputs": [
    {
     "data": {
      "image/png": "[encoded data removed]",
      "text/plain": [
       "<Figure size 720x432 with 1 Axes>"
      ]
     },
     "metadata": {
      "needs_background": "light"
     },
     "output_type": "display_data"
    }
   ],
   "source": [
    "df[df.home_win_flag == 1]['home_win_excess_prob'].plot(kind = 'hist', bins = 50, rwidth = 0.9, figsize = (10,6));"
   ]
  },
  {
   "cell_type": "code",
   "execution_count": 66,
   "id": "9e1e4193-e8f9-406f-b076-a7a9df21ce1a",
   "metadata": {},
   "outputs": [
    {
     "data": {
      "text/plain": [
       "0.6335548172757475"
      ]
     },
     "execution_count": 66,
     "metadata": {},
     "output_type": "execute_result"
    }
   ],
   "source": [
    "df[df['home_win_excess_prob'] > -0.01]['home_win_flag'].mean()"
   ]
  },
  {
   "cell_type": "code",
   "execution_count": 67,
   "id": "f239fc5c-d737-4044-b615-4bee248b46f9",
   "metadata": {},
   "outputs": [
    {
     "data": {
      "image/png": "[encoded data removed]",
      "text/plain": [
       "<Figure size 720x432 with 1 Axes>"
      ]
     },
     "metadata": {
      "needs_background": "light"
     },
     "output_type": "display_data"
    }
   ],
   "source": [
    "df[df.away_win_flag == 1]['away_win_excess_prob'].plot(kind = 'hist', bins = 50, rwidth = 0.9, figsize = (10,6), xlim = (-1, 1));"
   ]
  },
  {
   "cell_type": "code",
   "execution_count": 64,
   "id": "a3410365-a7b2-4f8c-a2e8-04960841b11b",
   "metadata": {},
   "outputs": [
    {
     "data": {
      "image/png": "[encoded data removed]",
      "text/plain": [
       "<Figure size 720x432 with 1 Axes>"
      ]
     },
     "metadata": {
      "needs_background": "light"
     },
     "output_type": "display_data"
    }
   ],
   "source": [
    "df[df.draw_flag == 1]['draw_excess_prob'].plot(kind = 'hist', bins = 50, rwidth = 0.9, figsize = (10,6), xlim = (-1, 1));"
   ]
  },
  {
   "cell_type": "code",
   "execution_count": 34,
   "id": "935d32ca-5b9b-4acd-b217-3512c7036dad",
   "metadata": {},
   "outputs": [
    {
     "data": {
      "image/png": "[encoded data removed]",
      "text/plain": [
       "<Figure size 720x432 with 1 Axes>"
      ]
     },
     "metadata": {
      "needs_background": "light"
     },
     "output_type": "display_data"
    }
   ],
   "source": [
    "df[df.draw_flag == 1]['prob_draw'].plot(kind = 'hist', bins = 50, rwidth = 0.9, figsize = (10,6), xlim = (0, 1));"
   ]
  },
  {
   "cell_type": "code",
   "execution_count": 57,
   "id": "cd851964-290e-4be3-a19d-ae1399ef13ca",
   "metadata": {},
   "outputs": [
    {
     "data": {
      "text/plain": [
       "count    13058.000000\n",
       "mean         0.244453\n",
       "std          0.286094\n",
       "min         -0.810880\n",
       "1%          -0.471042\n",
       "10%         -0.109414\n",
       "25%          0.063336\n",
       "50%          0.235090\n",
       "75%          0.436994\n",
       "90%          0.624183\n",
       "99%          0.848423\n",
       "max          0.950980\n",
       "Name: home_win_excess_prob, dtype: float64"
      ]
     },
     "execution_count": 57,
     "metadata": {},
     "output_type": "execute_result"
    }
   ],
   "source": [
    "df[df.home_win_flag == 1]['home_win_excess_prob'].describe(percentiles = [0.01, 0.1, 0.25, 0.5, 0.75, 0.90, 0.99])"
   ]
  },
  {
   "cell_type": "code",
   "execution_count": 56,
   "id": "2384b69c-296a-4da1-a2a4-6469b07f68ac",
   "metadata": {},
   "outputs": [
    {
     "data": {
      "text/plain": [
       "count    7987.000000\n",
       "mean        0.111024\n",
       "std         0.265395\n",
       "min        -0.853908\n",
       "1%         -0.603047\n",
       "10%        -0.226190\n",
       "25%        -0.043862\n",
       "50%         0.117053\n",
       "75%         0.276316\n",
       "90%         0.437400\n",
       "99%         0.720137\n",
       "max         0.924665\n",
       "Name: home_win_excess_prob, dtype: float64"
      ]
     },
     "execution_count": 56,
     "metadata": {},
     "output_type": "execute_result"
    }
   ],
   "source": [
    "df[df.draw_flag == 1]['home_win_excess_prob'].describe(percentiles = [0.01, 0.1, 0.25, 0.5, 0.75, 0.90, 0.99])"
   ]
  },
  {
   "cell_type": "code",
   "execution_count": 58,
   "id": "4afde6e8-912f-4b83-ac8a-b150f0729a0f",
   "metadata": {},
   "outputs": [
    {
     "data": {
      "text/plain": [
       "count    9170.000000\n",
       "mean       -0.022069\n",
       "std         0.306667\n",
       "min        -0.906414\n",
       "1%         -0.757362\n",
       "10%        -0.467208\n",
       "25%        -0.212605\n",
       "50%         0.007916\n",
       "75%         0.189512\n",
       "90%         0.347733\n",
       "99%         0.660631\n",
       "max         0.887316\n",
       "Name: home_win_excess_prob, dtype: float64"
      ]
     },
     "execution_count": 58,
     "metadata": {},
     "output_type": "execute_result"
    }
   ],
   "source": [
    "df[df.away_win_flag == 1]['home_win_excess_prob'].describe(percentiles = [0.01, 0.1, 0.25, 0.5, 0.75, 0.90, 0.99])"
   ]
  },
  {
   "cell_type": "code",
   "execution_count": 70,
   "id": "598059f7-cdbe-41fb-83af-4ae53cb80024",
   "metadata": {},
   "outputs": [
    {
     "data": {
      "text/html": [
       "<div>\n",
       "<style scoped>\n",
       "    .dataframe tbody tr th:only-of-type {\n",
       "        vertical-align: middle;\n",
       "    }\n",
       "\n",
       "    .dataframe tbody tr th {\n",
       "        vertical-align: top;\n",
       "    }\n",
       "\n",
       "    .dataframe thead tr th {\n",
       "        text-align: left;\n",
       "    }\n",
       "\n",
       "    .dataframe thead tr:last-of-type th {\n",
       "        text-align: right;\n",
       "    }\n",
       "</style>\n",
       "<table border=\"1\" class=\"dataframe\">\n",
       "  <thead>\n",
       "    <tr>\n",
       "      <th></th>\n",
       "      <th>home_win_flag</th>\n",
       "      <th>draw_flag</th>\n",
       "      <th>away_win_flag</th>\n",
       "    </tr>\n",
       "    <tr>\n",
       "      <th></th>\n",
       "      <th>mean</th>\n",
       "      <th>mean</th>\n",
       "      <th>mean</th>\n",
       "    </tr>\n",
       "    <tr>\n",
       "      <th>probable_event</th>\n",
       "      <th></th>\n",
       "      <th></th>\n",
       "      <th></th>\n",
       "    </tr>\n",
       "  </thead>\n",
       "  <tbody>\n",
       "    <tr>\n",
       "      <th>odds_away_team_win</th>\n",
       "      <td>0.257709</td>\n",
       "      <td>0.261279</td>\n",
       "      <td>0.481013</td>\n",
       "    </tr>\n",
       "    <tr>\n",
       "      <th>odds_draw</th>\n",
       "      <td>0.264706</td>\n",
       "      <td>0.411765</td>\n",
       "      <td>0.323529</td>\n",
       "    </tr>\n",
       "    <tr>\n",
       "      <th>odds_home_team_win</th>\n",
       "      <td>0.509456</td>\n",
       "      <td>0.265450</td>\n",
       "      <td>0.225093</td>\n",
       "    </tr>\n",
       "  </tbody>\n",
       "</table>\n",
       "</div>"
      ],
      "text/plain": [
       "                   home_win_flag draw_flag away_win_flag\n",
       "                            mean      mean          mean\n",
       "probable_event                                          \n",
       "odds_away_team_win      0.257709  0.261279      0.481013\n",
       "odds_draw               0.264706  0.411765      0.323529\n",
       "odds_home_team_win      0.509456  0.265450      0.225093"
      ]
     },
     "execution_count": 70,
     "metadata": {},
     "output_type": "execute_result"
    }
   ],
   "source": [
    "df.groupby('probable_event').agg(\n",
    "    {'home_win_flag': [np.mean],\n",
    "    'draw_flag': [np.mean],\n",
    "     'away_win_flag': [np.mean]\n",
    "    })"
   ]
  },
  {
   "cell_type": "markdown",
   "id": "a840af5c-b44e-47fb-82e5-9f93fd1f0022",
   "metadata": {},
   "source": [
    "#### Probs vs probs"
   ]
  },
  {
   "cell_type": "code",
   "execution_count": 50,
   "id": "39031da2-41d2-4f40-ab63-f9184f2652ed",
   "metadata": {},
   "outputs": [
    {
     "data": {
      "image/png": "[encoded data removed]",
      "text/plain": [
       "<Figure size 432x288 with 1 Axes>"
      ]
     },
     "metadata": {
      "needs_background": "light"
     },
     "output_type": "display_data"
    }
   ],
   "source": [
    "df[df.home_win_predicted == 1].plot(kind = 'scatter', x = 'prob_home_win', y = 'prob_away_win');"
   ]
  },
  {
   "cell_type": "code",
   "execution_count": 52,
   "id": "55c13c97-8810-4c18-9d72-52e52a74820c",
   "metadata": {},
   "outputs": [
    {
     "data": {
      "image/png": "[encoded data removed]",
      "text/plain": [
       "<Figure size 432x432 with 1 Axes>"
      ]
     },
     "metadata": {
      "needs_background": "light"
     },
     "output_type": "display_data"
    }
   ],
   "source": [
    "df.plot(kind = 'scatter', x = 'prob_home_win', y = 'prob_away_win', figsize = (6,6));"
   ]
  },
  {
   "cell_type": "markdown",
   "id": "dbb94e5b-353d-4a37-8b60-c94bc34f8712",
   "metadata": {
    "tags": []
   },
   "source": [
    "#### Strong Home Win Conviction"
   ]
  },
  {
   "cell_type": "code",
   "execution_count": 22,
   "id": "fbe1635e-96fb-40df-a974-19f2496d57f8",
   "metadata": {},
   "outputs": [
    {
     "data": {
      "text/html": [
       "<div>\n",
       "<style scoped>\n",
       "    .dataframe tbody tr th:only-of-type {\n",
       "        vertical-align: middle;\n",
       "    }\n",
       "\n",
       "    .dataframe tbody tr th {\n",
       "        vertical-align: top;\n",
       "    }\n",
       "\n",
       "    .dataframe thead th {\n",
       "        text-align: right;\n",
       "    }\n",
       "</style>\n",
       "<table border=\"1\" class=\"dataframe\">\n",
       "  <thead>\n",
       "    <tr style=\"text-align: right;\">\n",
       "      <th>home_win_flag</th>\n",
       "      <th>0</th>\n",
       "      <th>1</th>\n",
       "    </tr>\n",
       "    <tr>\n",
       "      <th>home_win_predicted</th>\n",
       "      <th></th>\n",
       "      <th></th>\n",
       "    </tr>\n",
       "  </thead>\n",
       "  <tbody>\n",
       "    <tr>\n",
       "      <th>1</th>\n",
       "      <td>8,680</td>\n",
       "      <td>13,703</td>\n",
       "    </tr>\n",
       "  </tbody>\n",
       "</table>\n",
       "</div>"
      ],
      "text/plain": [
       "home_win_flag           0       1\n",
       "home_win_predicted               \n",
       "1                   8,680  13,703"
      ]
     },
     "execution_count": 22,
     "metadata": {},
     "output_type": "execute_result"
    }
   ],
   "source": [
    "pd.pivot_table(df[df.odds_home_team_win < 2], values='draw_flag', index=['home_win_predicted'],\n",
    "                    columns=['home_win_flag'], aggfunc='count').applymap(\"{:,.0f}\".format)"
   ]
  },
  {
   "cell_type": "code",
   "execution_count": 23,
   "id": "aaebdac5-89be-4598-a12c-866790bd1b3c",
   "metadata": {},
   "outputs": [
    {
     "data": {
      "text/plain": [
       "0.6121929432782492"
      ]
     },
     "execution_count": 23,
     "metadata": {},
     "output_type": "execute_result"
    }
   ],
   "source": [
    "13707 / (13707 + 8683)"
   ]
  },
  {
   "cell_type": "markdown",
   "id": "a343ac82-c4d6-4264-a162-d76f37fb7ff8",
   "metadata": {},
   "source": [
    "#### Calibration plots"
   ]
  },
  {
   "cell_type": "markdown",
   "id": "8c40243d-0bd6-4467-8f87-f16f78de0ee4",
   "metadata": {},
   "source": [
    "***home wins***"
   ]
  },
  {
   "cell_type": "code",
   "execution_count": 71,
   "id": "f1682e3a-ec0d-4580-9e89-beed0b00e8ff",
   "metadata": {},
   "outputs": [],
   "source": [
    "prob_true, prob_pred = calibration_curve(df.home_win_flag, df.prob_home_win, n_bins=50, normalize = True)"
   ]
  },
  {
   "cell_type": "code",
   "execution_count": 72,
   "id": "47bc613c-e292-460e-a731-c224b2ac149b",
   "metadata": {},
   "outputs": [
    {
     "data": {
      "text/plain": [
       "''"
      ]
     },
     "execution_count": 72,
     "metadata": {},
     "output_type": "execute_result"
    },
    {
     "data": {
      "image/png": "[encoded data removed]",
      "text/plain": [
       "<Figure size 432x432 with 1 Axes>"
      ]
     },
     "metadata": {
      "needs_background": "light"
     },
     "output_type": "display_data"
    }
   ],
   "source": [
    "fig, ax = plt.subplots(figsize=(6, 6))\n",
    "p1 = sns.scatterplot(y = prob_true, x = prob_pred, ax=ax)\n",
    "p2 = sns.lineplot(y = prob_true, x = prob_true, color='k', ax=ax)\n",
    "plt.title(\"Home win odds calibration plot\")\n",
    "plt.xlabel('pedicted probabilities')\n",
    "plt.ylabel('actual probabilities')\n",
    "plt.grid('both')\n",
    ";"
   ]
  },
  {
   "cell_type": "markdown",
   "id": "54ec51e8-a5fd-4651-a3d8-c16011c6ae3c",
   "metadata": {},
   "source": [
    "***away wins***"
   ]
  },
  {
   "cell_type": "code",
   "execution_count": 73,
   "id": "acdba463-e9c7-41c3-bba5-bc464708d48f",
   "metadata": {},
   "outputs": [],
   "source": [
    "prob_true, prob_pred = calibration_curve(df.away_win_flag, df.prob_away_win, n_bins=50, normalize = True)"
   ]
  },
  {
   "cell_type": "code",
   "execution_count": 74,
   "id": "cbbd56af-be71-466b-9de1-82f4d2e5043b",
   "metadata": {},
   "outputs": [
    {
     "data": {
      "text/plain": [
       "''"
      ]
     },
     "execution_count": 74,
     "metadata": {},
     "output_type": "execute_result"
    },
    {
     "data": {
      "image/png": "[encoded data removed]",
      "text/plain": [
       "<Figure size 432x432 with 1 Axes>"
      ]
     },
     "metadata": {
      "needs_background": "light"
     },
     "output_type": "display_data"
    }
   ],
   "source": [
    "fig, ax = plt.subplots(figsize=(6, 6))\n",
    "p1 = sns.scatterplot(y = prob_true, x = prob_pred, ax=ax)\n",
    "p2 = sns.lineplot(y = prob_true, x = prob_true, color='k', ax=ax)\n",
    "plt.title(\"Away win odds calibration plot\")\n",
    "plt.xlabel('pedicted probabilities')\n",
    "plt.ylabel('actual probabilities')\n",
    "plt.grid('both')\n",
    ";"
   ]
  },
  {
   "cell_type": "markdown",
   "id": "7b0db12c-f51e-498a-8790-c33e16b52e51",
   "metadata": {},
   "source": [
    "***draws***"
   ]
  },
  {
   "cell_type": "code",
   "execution_count": 65,
   "id": "4bfb035f-641f-42f8-ae96-8347e79e9115",
   "metadata": {},
   "outputs": [],
   "source": [
    "prob_true, prob_pred = calibration_curve(df.draw_flag, df.prob_draw, n_bins=50, normalize = True)"
   ]
  },
  {
   "cell_type": "code",
   "execution_count": 69,
   "id": "0983884b-6544-465e-9b38-9c205c161f27",
   "metadata": {},
   "outputs": [
    {
     "data": {
      "text/plain": [
       "''"
      ]
     },
     "execution_count": 69,
     "metadata": {},
     "output_type": "execute_result"
    },
    {
     "data": {
      "image/png": "[encoded data removed]",
      "text/plain": [
       "<Figure size 432x432 with 1 Axes>"
      ]
     },
     "metadata": {
      "needs_background": "light"
     },
     "output_type": "display_data"
    }
   ],
   "source": [
    "fig, ax = plt.subplots(figsize=(6, 6))\n",
    "p1 = sns.scatterplot(y = prob_true, x = prob_pred, ax=ax)\n",
    "p2 = sns.lineplot(y = prob_true, x = prob_true, color='k', ax=ax)\n",
    "plt.title(\"Draw odds calibration plot\")\n",
    "plt.xlabel('pedicted probabilities')\n",
    "plt.ylabel('actual probabilities')\n",
    "plt.grid('both')\n",
    ";"
   ]
  },
  {
   "cell_type": "markdown",
   "id": "98cdea89-db11-4d72-9b3c-d1bfb362bf51",
   "metadata": {},
   "source": [
    "$\\hat{y}=\\frac{1}{1+e^{-(\\mathbf{w}^{T}\\mathbf{x}+b)}}$"
   ]
  },
  {
   "cell_type": "markdown",
   "id": "5e0110f9-4da1-4ad9-9592-c358c02c33d6",
   "metadata": {},
   "source": [
    "#### Draws and Away Wins"
   ]
  },
  {
   "cell_type": "code",
   "execution_count": 21,
   "id": "cd1ace48-24c9-41bd-a1cb-060985ad1f9c",
   "metadata": {},
   "outputs": [
    {
     "data": {
      "text/html": [
       "<div>\n",
       "<style scoped>\n",
       "    .dataframe tbody tr th:only-of-type {\n",
       "        vertical-align: middle;\n",
       "    }\n",
       "\n",
       "    .dataframe tbody tr th {\n",
       "        vertical-align: top;\n",
       "    }\n",
       "\n",
       "    .dataframe thead th {\n",
       "        text-align: right;\n",
       "    }\n",
       "</style>\n",
       "<table border=\"1\" class=\"dataframe\">\n",
       "  <thead>\n",
       "    <tr style=\"text-align: right;\">\n",
       "      <th>draw_flag</th>\n",
       "      <th>0</th>\n",
       "      <th>1</th>\n",
       "    </tr>\n",
       "    <tr>\n",
       "      <th>draw_predicted</th>\n",
       "      <th></th>\n",
       "      <th></th>\n",
       "    </tr>\n",
       "  </thead>\n",
       "  <tbody>\n",
       "    <tr>\n",
       "      <th>0</th>\n",
       "      <td>47,331</td>\n",
       "      <td>16,765</td>\n",
       "    </tr>\n",
       "    <tr>\n",
       "      <th>1</th>\n",
       "      <td>32</td>\n",
       "      <td>31</td>\n",
       "    </tr>\n",
       "  </tbody>\n",
       "</table>\n",
       "</div>"
      ],
      "text/plain": [
       "draw_flag            0       1\n",
       "draw_predicted                \n",
       "0               47,331  16,765\n",
       "1                   32      31"
      ]
     },
     "execution_count": 21,
     "metadata": {},
     "output_type": "execute_result"
    }
   ],
   "source": [
    "pd.pivot_table(df, values='away_win_flag', index=['draw_predicted'],\n",
    "                    columns=['draw_flag'], aggfunc='count').applymap(\"{:,.0f}\".format)"
   ]
  },
  {
   "cell_type": "code",
   "execution_count": 22,
   "id": "4c4caa61-93e1-4a02-946b-23dd4cf51d4c",
   "metadata": {},
   "outputs": [
    {
     "data": {
      "text/plain": [
       "0.2617871226172478"
      ]
     },
     "execution_count": 22,
     "metadata": {},
     "output_type": "execute_result"
    }
   ],
   "source": [
    "df.draw_flag.sum() / df.shape[0]"
   ]
  },
  {
   "cell_type": "code",
   "execution_count": 23,
   "id": "06c5fc64-a08e-4139-b08f-a4bed6f80a8a",
   "metadata": {},
   "outputs": [
    {
     "data": {
      "text/plain": [
       "0.000981935503982294"
      ]
     },
     "execution_count": 23,
     "metadata": {},
     "output_type": "execute_result"
    }
   ],
   "source": [
    "df.draw_predicted.sum() / df.shape[0]"
   ]
  },
  {
   "cell_type": "markdown",
   "id": "700cba75-d344-494c-84ac-38de21a58a02",
   "metadata": {},
   "source": [
    "#### Other Variables"
   ]
  },
  {
   "cell_type": "code",
   "execution_count": 77,
   "id": "c3e80095-affe-452a-8e36-04e1ac662a0f",
   "metadata": {},
   "outputs": [
    {
     "data": {
      "image/png": "[encoded data removed]",
      "text/plain": [
       "<Figure size 432x288 with 1 Axes>"
      ]
     },
     "metadata": {
      "needs_background": "light"
     },
     "output_type": "display_data"
    }
   ],
   "source": [
    "sns.histplot(data = df, x = 'home_team_opponents_shot_roll4_sum', hue = 'probable_event');"
   ]
  },
  {
   "cell_type": "code",
   "execution_count": 76,
   "id": "e43d0c09-9149-46cc-b606-2c0ebbd6fb2a",
   "metadata": {},
   "outputs": [
    {
     "data": {
      "image/png": "[encoded data removed]",
      "text/plain": [
       "<Figure size 432x288 with 1 Axes>"
      ]
     },
     "metadata": {
      "needs_background": "light"
     },
     "output_type": "display_data"
    }
   ],
   "source": [
    "sns.histplot(data = df, x = 'home_team_shot_roll4_sum', hue = 'probable_event');"
   ]
  },
  {
   "cell_type": "code",
   "execution_count": 78,
   "id": "27621b6d-a8b8-459a-a758-07aa3367ee85",
   "metadata": {},
   "outputs": [
    {
     "data": {
      "image/png": "[encoded data removed]",
      "text/plain": [
       "<Figure size 432x288 with 1 Axes>"
      ]
     },
     "metadata": {
      "needs_background": "light"
     },
     "output_type": "display_data"
    }
   ],
   "source": [
    "sns.histplot(data = df, x = 'home_team_expected_point_roll4_sum', hue = 'probable_event');"
   ]
  },
  {
   "cell_type": "code",
   "execution_count": null,
   "id": "be02bb09-88f1-4bb2-8cd6-d2364246e2a4",
   "metadata": {},
   "outputs": [],
   "source": []
  }
 ],
 "metadata": {
  "kernelspec": {
   "display_name": "Python 3",
   "language": "python",
   "name": "python3"
  },
  "language_info": {
   "codemirror_mode": {
    "name": "ipython",
    "version": 3
   },
   "file_extension": ".py",
   "mimetype": "text/x-python",
   "name": "python",
   "nbconvert_exporter": "python",
   "pygments_lexer": "ipython3",
   "version": "3.6.13"
  }
 },
 "nbformat": 4,
 "nbformat_minor": 5
}
