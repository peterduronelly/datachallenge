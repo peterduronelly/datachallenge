{
 "cells": [
  {
   "cell_type": "code",
   "execution_count": 2,
   "id": "7e2f86db-cab1-4eaf-b842-343731c9364e",
   "metadata": {},
   "outputs": [],
   "source": [
    "import pandas as pd\n",
    "import numpy as np\n",
    "import sklearn.metrics as metrics\n",
    "from sklearn.metrics import (\n",
    "    auc,\n",
    "    confusion_matrix,\n",
    "    mean_squared_error,\n",
    "    roc_auc_score,\n",
    "    roc_curve,\n",
    ")\n",
    "from sklearn.model_selection import GridSearchCV, train_test_split\n",
    "from sklearn.preprocessing import StandardScaler, OneHotEncoder\n",
    "from sklearn.compose import ColumnTransformer\n",
    "from sklearn.pipeline import Pipeline\n",
    "from sklearn.experimental import enable_hist_gradient_boosting\n",
    "from sklearn.ensemble import HistGradientBoostingClassifier\n",
    "from joblib import dump, load\n",
    "import warnings\n",
    "warnings.filterwarnings(\"ignore\")\n",
    "from IPython.display import clear_output\n",
    "import time"
   ]
  },
  {
   "cell_type": "markdown",
   "id": "a58c276e-1430-42ef-9f79-218b3c8b730f",
   "metadata": {},
   "source": [
    "#### Import, Filter, Adjust Data"
   ]
  },
  {
   "cell_type": "code",
   "execution_count": 3,
   "id": "222d0b79-c585-4a79-827d-66ac483cf8ef",
   "metadata": {
    "tags": []
   },
   "outputs": [],
   "source": [
    "df = pd.read_csv('competition_table.csv', index_col = 0)"
   ]
  },
  {
   "cell_type": "code",
   "execution_count": 4,
   "id": "f0c886d4-24d6-4f51-bbaf-638caf16628a",
   "metadata": {},
   "outputs": [],
   "source": [
    "df = df[(df.odds_home_team_win != 0) & (df.odds_draw != 0) & (df.odds_away_team_win != 0)]"
   ]
  },
  {
   "cell_type": "code",
   "execution_count": 5,
   "id": "6598b3c1-b32b-4edb-9bbe-5ecfe2f164fc",
   "metadata": {},
   "outputs": [],
   "source": [
    "df['home_team_relative_point_roll1_sum'] = df.home_team_point_roll1_sum - df.home_team_expected_point_roll1_sum\n",
    "df['home_team_relative_point_roll2_sum'] = df.home_team_point_roll2_sum - df.home_team_expected_point_roll2_sum\n",
    "df['home_team_relative_point_roll3_sum'] = df.home_team_point_roll3_sum - df.home_team_expected_point_roll3_sum\n",
    "df['home_team_relative_point_roll4_sum'] = df.home_team_point_roll4_sum - df.home_team_expected_point_roll4_sum"
   ]
  },
  {
   "cell_type": "code",
   "execution_count": 6,
   "id": "7f7aacc9-d074-4af5-8cde-9c5fe06dbd28",
   "metadata": {},
   "outputs": [],
   "source": [
    "df['away_team_relative_point_roll1_sum'] = df.away_team_point_roll1_sum - df.away_team_expected_point_roll1_sum\n",
    "df['away_team_relative_point_roll2_sum'] = df.away_team_point_roll2_sum - df.away_team_expected_point_roll2_sum\n",
    "df['away_team_relative_point_roll3_sum'] = df.away_team_point_roll3_sum - df.away_team_expected_point_roll3_sum\n",
    "df['away_team_relative_point_roll4_sum'] = df.away_team_point_roll4_sum - df.away_team_expected_point_roll4_sum"
   ]
  },
  {
   "cell_type": "code",
   "execution_count": 7,
   "id": "1258ddeb-c9e2-4b9d-acd3-9b89925cc75c",
   "metadata": {},
   "outputs": [],
   "source": [
    "df['prob_home_win'] = 1 / df.odds_home_team_win\n",
    "df['prob_draw'] = 1 / df.odds_draw\n",
    "df['prob_away_win'] = 1 / df.odds_away_team_win"
   ]
  },
  {
   "cell_type": "code",
   "execution_count": 8,
   "id": "b20dca50-aacb-4bdd-ac05-c9817097c793",
   "metadata": {},
   "outputs": [],
   "source": [
    "x_variables = set(df.columns)"
   ]
  },
  {
   "cell_type": "code",
   "execution_count": 9,
   "id": "eeda4e6e-9379-49b8-be83-f3f8397b61a4",
   "metadata": {},
   "outputs": [],
   "source": [
    "remove = set(['home_win_flag', 'draw_flag', 'away_win_flag', 'match_id', 'season', 'div'])"
   ]
  },
  {
   "cell_type": "code",
   "execution_count": 10,
   "id": "5ba4307e-6462-4788-9fb9-b50308920390",
   "metadata": {},
   "outputs": [],
   "source": [
    "x_variables = list(x_variables - remove)"
   ]
  },
  {
   "cell_type": "markdown",
   "id": "80c1827e-81ba-4909-80cc-d049e6bedccc",
   "metadata": {},
   "source": [
    "#### Build Model"
   ]
  },
  {
   "cell_type": "code",
   "execution_count": 11,
   "id": "64f5e677-8f7e-4822-93bf-4c0cbefc664e",
   "metadata": {},
   "outputs": [],
   "source": [
    "df_train, df_holdout = train_test_split(df, train_size=0.8, random_state=2023)"
   ]
  },
  {
   "cell_type": "code",
   "execution_count": 12,
   "id": "001fcb54-8fbc-4a14-94e3-8c4ef92aa3aa",
   "metadata": {},
   "outputs": [],
   "source": [
    "tune_grid = {\n",
    "    \"max_iter\": [50, 100, 200],\n",
    "    \"max_depth\": [1, 5, 10],\n",
    "    \"learning_rate\": [0.1, 0.15, 0.2],\n",
    "    \"min_samples_leaf\": [5, 10, 20, 30],\n",
    "}"
   ]
  },
  {
   "cell_type": "markdown",
   "id": "39ca5543-9d10-443d-a760-1d751945d564",
   "metadata": {},
   "source": [
    "**Home_win_flag**"
   ]
  },
  {
   "cell_type": "code",
   "execution_count": 13,
   "id": "707328b4-416e-4039-ad98-ef5a6d1cd721",
   "metadata": {},
   "outputs": [],
   "source": [
    "gbm_home = HistGradientBoostingClassifier()"
   ]
  },
  {
   "cell_type": "code",
   "execution_count": 14,
   "id": "86bf5e8b-9809-4a97-bcb5-71e69c7c50ea",
   "metadata": {},
   "outputs": [],
   "source": [
    "gbm_home_cv = GridSearchCV(\n",
    "    gbm_home,\n",
    "    tune_grid,\n",
    "    cv=5,\n",
    "    scoring=\"roc_auc\",\n",
    "    verbose=10,\n",
    ")"
   ]
  },
  {
   "cell_type": "code",
   "execution_count": 15,
   "id": "8cb2b2f6-8d93-4935-9c5c-cd0f3d2bba28",
   "metadata": {
    "tags": []
   },
   "outputs": [
    {
     "name": "stdout",
     "output_type": "stream",
     "text": [
      "Process time: 1041.0 seconds.\n"
     ]
    }
   ],
   "source": [
    "start = time.time()\n",
    "gbm_home_cv.fit(df_train[x_variables], df_train.home_win_flag)\n",
    "stop = time.time()\n",
    "clear_output()\n",
    "process_time = str(round(stop - start, 0))\n",
    "print(f'Process time: {process_time} seconds.')"
   ]
  },
  {
   "cell_type": "code",
   "execution_count": 17,
   "id": "e840f4e4-5775-4c0f-9292-906caaea8e29",
   "metadata": {},
   "outputs": [
    {
     "data": {
      "text/plain": [
       "['gbm_home_cv.joblib']"
      ]
     },
     "execution_count": 17,
     "metadata": {},
     "output_type": "execute_result"
    }
   ],
   "source": [
    "dump(gbm_home_cv, 'gbm_home_cv.joblib')"
   ]
  },
  {
   "cell_type": "markdown",
   "id": "386a0e44-6e26-40bb-bf23-3a197901bba9",
   "metadata": {},
   "source": [
    "**Away_win_flag**"
   ]
  },
  {
   "cell_type": "code",
   "execution_count": 23,
   "id": "cca8f851-1079-4f88-84f8-83c3947de5f6",
   "metadata": {},
   "outputs": [],
   "source": [
    "gbm_away = HistGradientBoostingClassifier()"
   ]
  },
  {
   "cell_type": "code",
   "execution_count": 24,
   "id": "b76058cb-500c-4f8d-b827-afa25a530132",
   "metadata": {},
   "outputs": [],
   "source": [
    "gbm_away_cv = GridSearchCV(\n",
    "    gbm_home,\n",
    "    tune_grid,\n",
    "    cv=5,\n",
    "    scoring=\"roc_auc\",\n",
    "    verbose=10,\n",
    ")"
   ]
  },
  {
   "cell_type": "code",
   "execution_count": 25,
   "id": "30601a37-6fbc-47a8-a22d-3e5fb5998a5b",
   "metadata": {
    "tags": []
   },
   "outputs": [
    {
     "name": "stdout",
     "output_type": "stream",
     "text": [
      "Process time: 1019.0 seconds.\n"
     ]
    }
   ],
   "source": [
    "start = time.time()\n",
    "gbm_away_cv.fit(df_train[x_variables], df_train.away_win_flag)\n",
    "stop = time.time()\n",
    "clear_output()\n",
    "process_time = str(round(stop - start, 0))\n",
    "print(f'Process time: {process_time} seconds.')"
   ]
  },
  {
   "cell_type": "code",
   "execution_count": 27,
   "id": "8558c3da-ec96-4858-8512-e66ec37a7e8e",
   "metadata": {},
   "outputs": [
    {
     "data": {
      "text/plain": [
       "['gbm_away_cv.joblib']"
      ]
     },
     "execution_count": 27,
     "metadata": {},
     "output_type": "execute_result"
    }
   ],
   "source": [
    "dump(gbm_home_cv, 'gbm_away_cv.joblib')"
   ]
  },
  {
   "cell_type": "code",
   "execution_count": 33,
   "id": "15893d00-2af7-4fd2-b928-bc7c1577863f",
   "metadata": {},
   "outputs": [],
   "source": [
    "y_pred_away = gbm_away_cv.predict_proba(df_holdout[x_variables])"
   ]
  },
  {
   "cell_type": "code",
   "execution_count": 36,
   "id": "fba5c02b-39d3-432c-8438-061c8ee89958",
   "metadata": {},
   "outputs": [
    {
     "data": {
      "text/plain": [
       "0.6870889171008853"
      ]
     },
     "execution_count": 36,
     "metadata": {},
     "output_type": "execute_result"
    }
   ],
   "source": [
    "roc_auc_score(df_holdout.away_win_flag, y_pred_away[:,1])"
   ]
  },
  {
   "cell_type": "markdown",
   "id": "1aa6bdcf-fee4-4e03-b7c4-42dd095ad8f1",
   "metadata": {},
   "source": [
    "**Draw_win_flag**"
   ]
  },
  {
   "cell_type": "code",
   "execution_count": 28,
   "id": "fd28ed17-007a-4b8f-a659-60d243b89651",
   "metadata": {},
   "outputs": [],
   "source": [
    "gbm_draw = HistGradientBoostingClassifier()"
   ]
  },
  {
   "cell_type": "code",
   "execution_count": 29,
   "id": "e08ae1a6-60e1-499c-81ed-284fb6f4e795",
   "metadata": {},
   "outputs": [],
   "source": [
    "gbm_draw_cv = GridSearchCV(\n",
    "    gbm_home,\n",
    "    tune_grid,\n",
    "    cv=5,\n",
    "    scoring=\"roc_auc\",\n",
    "    verbose=10,\n",
    ")"
   ]
  },
  {
   "cell_type": "code",
   "execution_count": 30,
   "id": "b07e869f-703c-4035-b200-2b7d63bdc9f4",
   "metadata": {
    "tags": []
   },
   "outputs": [
    {
     "name": "stdout",
     "output_type": "stream",
     "text": [
      "Process time: 1090.0 seconds.\n"
     ]
    }
   ],
   "source": [
    "start = time.time()\n",
    "gbm_draw_cv.fit(df_train[x_variables], df_train.away_win_flag)\n",
    "stop = time.time()\n",
    "clear_output()\n",
    "process_time = str(round(stop - start, 0))\n",
    "print(f'Process time: {process_time} seconds.')"
   ]
  },
  {
   "cell_type": "code",
   "execution_count": 31,
   "id": "9c18674e-fd90-4485-a930-ba811d12e83f",
   "metadata": {},
   "outputs": [
    {
     "data": {
      "text/plain": [
       "['gbm_draw_cv.joblib']"
      ]
     },
     "execution_count": 31,
     "metadata": {},
     "output_type": "execute_result"
    }
   ],
   "source": [
    "dump(gbm_draw_cv, 'gbm_draw_cv.joblib')"
   ]
  },
  {
   "cell_type": "code",
   "execution_count": 37,
   "id": "f01eba09-a2ea-426f-ad8e-282109b306bb",
   "metadata": {},
   "outputs": [],
   "source": [
    "y_pred_draw = gbm_draw_cv.predict_proba(df_holdout[x_variables])"
   ]
  },
  {
   "cell_type": "code",
   "execution_count": 38,
   "id": "29e4008e-a982-4f2a-a344-c2186d7e9bd5",
   "metadata": {},
   "outputs": [
    {
     "data": {
      "text/plain": [
       "0.5294521012944076"
      ]
     },
     "execution_count": 38,
     "metadata": {},
     "output_type": "execute_result"
    }
   ],
   "source": [
    "roc_auc_score(df_holdout.draw_flag, y_pred_draw[:,1])"
   ]
  },
  {
   "cell_type": "code",
   "execution_count": null,
   "id": "99e9a1bc-c60e-4035-b202-8cb348e14322",
   "metadata": {},
   "outputs": [],
   "source": []
  }
 ],
 "metadata": {
  "kernelspec": {
   "display_name": "Python 3",
   "language": "python",
   "name": "python3"
  },
  "language_info": {
   "codemirror_mode": {
    "name": "ipython",
    "version": 3
   },
   "file_extension": ".py",
   "mimetype": "text/x-python",
   "name": "python",
   "nbconvert_exporter": "python",
   "pygments_lexer": "ipython3",
   "version": "3.6.13"
  }
 },
 "nbformat": 4,
 "nbformat_minor": 5
}
