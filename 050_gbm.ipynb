{
 "cells": [
  {
   "cell_type": "code",
   "execution_count": 1,
   "id": "cc3051d0-0d49-40ca-b515-874b76399e25",
   "metadata": {},
   "outputs": [],
   "source": [
    "import pandas as pd\n",
    "import numpy as np\n",
    "from patsy import dmatrices\n",
    "import sklearn.metrics as metrics\n",
    "import statsmodels.formula.api as smf\n",
    "from sklearn.ensemble import GradientBoostingClassifier\n",
    "from sklearn.linear_model import (\n",
    "    LinearRegression,\n",
    "    LogisticRegression,\n",
    "    LogisticRegressionCV,\n",
    ")\n",
    "from sklearn.metrics import (\n",
    "    auc,\n",
    "    brier_score_loss,\n",
    "    confusion_matrix,\n",
    "    mean_squared_error,\n",
    "    roc_auc_score,\n",
    "    roc_curve,\n",
    ")\n",
    "from sklearn.model_selection import GridSearchCV, KFold, train_test_split\n",
    "from sklearn.preprocessing import StandardScaler, OneHotEncoder\n",
    "from sklearn.compose import ColumnTransformer\n",
    "from sklearn.pipeline import Pipeline\n",
    "from statsmodels.tools.eval_measures import rmse\n",
    "import warnings\n",
    "warnings.filterwarnings(\"ignore\")"
   ]
  },
  {
   "cell_type": "code",
   "execution_count": 2,
   "id": "132c5db9-26c6-4f32-b4ca-d6ea11ac471d",
   "metadata": {},
   "outputs": [],
   "source": [
    "import matplotlib.pyplot as plt\n",
    "import seaborn as sns"
   ]
  },
  {
   "cell_type": "code",
   "execution_count": 3,
   "id": "ac4e138e-789a-4afd-88bf-335523cd7fa4",
   "metadata": {},
   "outputs": [],
   "source": [
    "from sklearn.experimental import enable_hist_gradient_boosting\n",
    "from sklearn.ensemble import HistGradientBoostingClassifier"
   ]
  },
  {
   "cell_type": "code",
   "execution_count": 4,
   "id": "0e77603f-71f1-42eb-b272-282ce337fd41",
   "metadata": {},
   "outputs": [
    {
     "name": "stdout",
     "output_type": "stream",
     "text": [
      "Wall time: 2min 33s\n"
     ]
    }
   ],
   "source": [
    "%%time\n",
    "df = pd.read_excel('http://dataevents.hu/202303/filedataevents/competition_table.xlsx', engine='openpyxl')"
   ]
  },
  {
   "cell_type": "code",
   "execution_count": 5,
   "id": "241a6c2c-b0d0-4a36-bd7e-6e741190b92d",
   "metadata": {},
   "outputs": [],
   "source": [
    "df = df[(df.odds_home_team_win != 0) & (df.odds_draw != 0) & (df.odds_away_team_win != 0)]"
   ]
  },
  {
   "cell_type": "code",
   "execution_count": 6,
   "id": "4aa06e1f-2a5d-4df4-aad8-1f6f50580333",
   "metadata": {},
   "outputs": [],
   "source": [
    "df['home_team_relative_point_roll1_sum'] = df.home_team_point_roll1_sum - df.home_team_expected_point_roll1_sum\n",
    "df['home_team_relative_point_roll2_sum'] = df.home_team_point_roll2_sum - df.home_team_expected_point_roll2_sum\n",
    "df['home_team_relative_point_roll3_sum'] = df.home_team_point_roll3_sum - df.home_team_expected_point_roll3_sum\n",
    "df['home_team_relative_point_roll4_sum'] = df.home_team_point_roll4_sum - df.home_team_expected_point_roll4_sum"
   ]
  },
  {
   "cell_type": "code",
   "execution_count": 7,
   "id": "89e88859-9f4e-4bb0-b1af-3cf22249f0d6",
   "metadata": {},
   "outputs": [],
   "source": [
    "df['away_team_relative_point_roll1_sum'] = df.away_team_point_roll1_sum - df.away_team_expected_point_roll1_sum\n",
    "df['away_team_relative_point_roll2_sum'] = df.away_team_point_roll2_sum - df.away_team_expected_point_roll2_sum\n",
    "df['away_team_relative_point_roll3_sum'] = df.away_team_point_roll3_sum - df.away_team_expected_point_roll3_sum\n",
    "df['away_team_relative_point_roll4_sum'] = df.away_team_point_roll4_sum - df.away_team_expected_point_roll4_sum"
   ]
  },
  {
   "cell_type": "code",
   "execution_count": 8,
   "id": "ca4c392f-6f52-4cc1-9696-8c045d0067f2",
   "metadata": {},
   "outputs": [],
   "source": [
    "df['prob_home_win'] = 1 / df.odds_home_team_win\n",
    "df['prob_draw'] = 1 / df.odds_draw\n",
    "df['prob_away_win'] = 1 / df.odds_away_team_win"
   ]
  },
  {
   "cell_type": "code",
   "execution_count": 9,
   "id": "b9a79fe1-4049-442c-b078-0b4f796fe5ef",
   "metadata": {},
   "outputs": [],
   "source": [
    "x_variables = set(df.columns)"
   ]
  },
  {
   "cell_type": "code",
   "execution_count": 10,
   "id": "8f417ffa-3a1e-4a25-8c9b-c725f6459452",
   "metadata": {},
   "outputs": [],
   "source": [
    "remove = set(['home_win_flag', 'draw_flag', 'away_win_flag', 'match_id', 'season'])"
   ]
  },
  {
   "cell_type": "code",
   "execution_count": 11,
   "id": "064d3574-3754-4e19-9d7f-bfcc804de3f2",
   "metadata": {},
   "outputs": [],
   "source": [
    "x_variables = list(x_variables - remove)"
   ]
  },
  {
   "cell_type": "code",
   "execution_count": 12,
   "id": "77f0b907-0ac4-45e2-a53e-7ee9f59560e3",
   "metadata": {},
   "outputs": [],
   "source": [
    "df_f = df.copy()"
   ]
  },
  {
   "cell_type": "code",
   "execution_count": 13,
   "id": "3c57638a-2100-423c-a3ce-62347e859488",
   "metadata": {},
   "outputs": [],
   "source": [
    "df = df[df.season.isin(['2017-2018', '2018-2019', '2019-2020', '2020-2021', '2021-2022'])]"
   ]
  },
  {
   "cell_type": "code",
   "execution_count": 14,
   "id": "0d18f2ba-9feb-4b33-8db7-4cbf70fcad21",
   "metadata": {},
   "outputs": [],
   "source": [
    "df_train, df_holdout = train_test_split(df, train_size=0.8, random_state=2023)"
   ]
  },
  {
   "cell_type": "code",
   "execution_count": 15,
   "id": "bdc65356-2dfe-4839-97be-6364aeb694bb",
   "metadata": {},
   "outputs": [],
   "source": [
    "y, X = dmatrices(\"home_win_flag ~ \" + \" + \".join(x_variables), df_train)"
   ]
  },
  {
   "cell_type": "markdown",
   "id": "79534d30-a65b-41c2-93a3-e3b9c87be8fd",
   "metadata": {},
   "source": [
    "### Home Win Flag"
   ]
  },
  {
   "cell_type": "markdown",
   "id": "ba363d58-249d-48f4-b8f3-187ef251a06e",
   "metadata": {},
   "source": [
    "**training**"
   ]
  },
  {
   "cell_type": "code",
   "execution_count": 16,
   "id": "b3d53f85-7f70-484c-8935-fdce927da1a7",
   "metadata": {},
   "outputs": [],
   "source": [
    "gbm_broad = HistGradientBoostingClassifier()"
   ]
  },
  {
   "cell_type": "code",
   "execution_count": 17,
   "id": "163efc74-1346-4a30-a23c-0285e58534bb",
   "metadata": {},
   "outputs": [],
   "source": [
    "tune_grid = {\n",
    "    \"max_iter\": [50, 100, 200],\n",
    "    \"max_depth\": [1, 5, 10],\n",
    "    \"learning_rate\": [0.1, 0.15, 0.2],\n",
    "    \"min_samples_leaf\": [5, 10, 20, 30],\n",
    "}\n",
    "\n",
    "gbm_model_cv_broad = GridSearchCV(\n",
    "    gbm_broad,\n",
    "    tune_grid,\n",
    "    cv=5,\n",
    "    scoring=\"roc_auc\",\n",
    "    verbose=10,\n",
    ")"
   ]
  },
  {
   "cell_type": "code",
   "execution_count": 18,
   "id": "844d1b01-daa2-4320-8fa4-347751efff83",
   "metadata": {},
   "outputs": [],
   "source": [
    "categorical_columns =  ['div']\n",
    "numerical_columns = [col for col in x_variables if col != 'div']"
   ]
  },
  {
   "cell_type": "code",
   "execution_count": 19,
   "id": "31c24c92-e966-4827-99ec-312301aab803",
   "metadata": {},
   "outputs": [],
   "source": [
    "categorical_encoder = OneHotEncoder(handle_unknown=\"ignore\")\n",
    "\n",
    "preprocessing = ColumnTransformer(\n",
    "    [\n",
    "        (\"cat\", categorical_encoder, categorical_columns),\n",
    "        (\"num\", \"passthrough\", numerical_columns),\n",
    "    ]\n",
    ")\n",
    "\n",
    "gbm_pipe_broad = Pipeline(\n",
    "    [(\"preprocess\", preprocessing), (\"regressor\", gbm_model_cv_broad)], verbose=True\n",
    ")"
   ]
  },
  {
   "cell_type": "code",
   "execution_count": 20,
   "id": "a58ada1b-4c14-4d5d-b585-9170ea7ebe47",
   "metadata": {
    "collapsed": true,
    "jupyter": {
     "outputs_hidden": true
    },
    "tags": []
   },
   "outputs": [
    {
     "name": "stdout",
     "output_type": "stream",
     "text": [
      "[Pipeline] ........ (step 1 of 2) Processing preprocess, total=   0.1s\n",
      "Fitting 5 folds for each of 108 candidates, totalling 540 fits\n",
      "[CV 1/5; 1/108] START learning_rate=0.1, max_depth=1, max_iter=50, min_samples_leaf=5\n",
      "[CV 1/5; 1/108] END learning_rate=0.1, max_depth=1, max_iter=50, min_samples_leaf=5;, score=0.688 total time=   0.4s\n",
      "[CV 2/5; 1/108] START learning_rate=0.1, max_depth=1, max_iter=50, min_samples_leaf=5\n",
      "[CV 2/5; 1/108] END learning_rate=0.1, max_depth=1, max_iter=50, min_samples_leaf=5;, score=0.690 total time=   0.4s\n",
      "[CV 3/5; 1/108] START learning_rate=0.1, max_depth=1, max_iter=50, min_samples_leaf=5\n",
      "[CV 3/5; 1/108] END learning_rate=0.1, max_depth=1, max_iter=50, min_samples_leaf=5;, score=0.671 total time=   0.4s\n",
      "[CV 4/5; 1/108] START learning_rate=0.1, max_depth=1, max_iter=50, min_samples_leaf=5\n",
      "[CV 4/5; 1/108] END learning_rate=0.1, max_depth=1, max_iter=50, min_samples_leaf=5;, score=0.690 total time=   0.4s\n",
      "[CV 5/5; 1/108] START learning_rate=0.1, max_depth=1, max_iter=50, min_samples_leaf=5\n",
      "[CV 5/5; 1/108] END learning_rate=0.1, max_depth=1, max_iter=50, min_samples_leaf=5;, score=0.683 total time=   0.4s\n",
      "[CV 1/5; 2/108] START learning_rate=0.1, max_depth=1, max_iter=50, min_samples_leaf=10\n",
      "[CV 1/5; 2/108] END learning_rate=0.1, max_depth=1, max_iter=50, min_samples_leaf=10;, score=0.689 total time=   0.4s\n",
      "[CV 2/5; 2/108] START learning_rate=0.1, max_depth=1, max_iter=50, min_samples_leaf=10\n",
      "[CV 2/5; 2/108] END learning_rate=0.1, max_depth=1, max_iter=50, min_samples_leaf=10;, score=0.691 total time=   0.4s\n",
      "[CV 3/5; 2/108] START learning_rate=0.1, max_depth=1, max_iter=50, min_samples_leaf=10\n",
      "[CV 3/5; 2/108] END learning_rate=0.1, max_depth=1, max_iter=50, min_samples_leaf=10;, score=0.672 total time=   0.4s\n",
      "[CV 4/5; 2/108] START learning_rate=0.1, max_depth=1, max_iter=50, min_samples_leaf=10\n",
      "[CV 4/5; 2/108] END learning_rate=0.1, max_depth=1, max_iter=50, min_samples_leaf=10;, score=0.690 total time=   0.4s\n",
      "[CV 5/5; 2/108] START learning_rate=0.1, max_depth=1, max_iter=50, min_samples_leaf=10\n",
      "[CV 5/5; 2/108] END learning_rate=0.1, max_depth=1, max_iter=50, min_samples_leaf=10;, score=0.683 total time=   0.4s\n",
      "[CV 1/5; 3/108] START learning_rate=0.1, max_depth=1, max_iter=50, min_samples_leaf=20\n",
      "[CV 1/5; 3/108] END learning_rate=0.1, max_depth=1, max_iter=50, min_samples_leaf=20;, score=0.689 total time=   0.4s\n",
      "[CV 2/5; 3/108] START learning_rate=0.1, max_depth=1, max_iter=50, min_samples_leaf=20\n",
      "[CV 2/5; 3/108] END learning_rate=0.1, max_depth=1, max_iter=50, min_samples_leaf=20;, score=0.689 total time=   0.4s\n",
      "[CV 3/5; 3/108] START learning_rate=0.1, max_depth=1, max_iter=50, min_samples_leaf=20\n",
      "[CV 3/5; 3/108] END learning_rate=0.1, max_depth=1, max_iter=50, min_samples_leaf=20;, score=0.672 total time=   0.4s\n",
      "[CV 4/5; 3/108] START learning_rate=0.1, max_depth=1, max_iter=50, min_samples_leaf=20\n",
      "[CV 4/5; 3/108] END learning_rate=0.1, max_depth=1, max_iter=50, min_samples_leaf=20;, score=0.689 total time=   0.4s\n",
      "[CV 5/5; 3/108] START learning_rate=0.1, max_depth=1, max_iter=50, min_samples_leaf=20\n",
      "[CV 5/5; 3/108] END learning_rate=0.1, max_depth=1, max_iter=50, min_samples_leaf=20;, score=0.682 total time=   0.4s\n",
      "[CV 1/5; 4/108] START learning_rate=0.1, max_depth=1, max_iter=50, min_samples_leaf=30\n",
      "[CV 1/5; 4/108] END learning_rate=0.1, max_depth=1, max_iter=50, min_samples_leaf=30;, score=0.688 total time=   0.4s\n",
      "[CV 2/5; 4/108] START learning_rate=0.1, max_depth=1, max_iter=50, min_samples_leaf=30\n",
      "[CV 2/5; 4/108] END learning_rate=0.1, max_depth=1, max_iter=50, min_samples_leaf=30;, score=0.689 total time=   0.4s\n",
      "[CV 3/5; 4/108] START learning_rate=0.1, max_depth=1, max_iter=50, min_samples_leaf=30\n",
      "[CV 3/5; 4/108] END learning_rate=0.1, max_depth=1, max_iter=50, min_samples_leaf=30;, score=0.673 total time=   0.5s\n",
      "[CV 4/5; 4/108] START learning_rate=0.1, max_depth=1, max_iter=50, min_samples_leaf=30\n",
      "[CV 4/5; 4/108] END learning_rate=0.1, max_depth=1, max_iter=50, min_samples_leaf=30;, score=0.689 total time=   0.4s\n",
      "[CV 5/5; 4/108] START learning_rate=0.1, max_depth=1, max_iter=50, min_samples_leaf=30\n",
      "[CV 5/5; 4/108] END learning_rate=0.1, max_depth=1, max_iter=50, min_samples_leaf=30;, score=0.682 total time=   0.4s\n",
      "[CV 1/5; 5/108] START learning_rate=0.1, max_depth=1, max_iter=100, min_samples_leaf=5\n",
      "[CV 1/5; 5/108] END learning_rate=0.1, max_depth=1, max_iter=100, min_samples_leaf=5;, score=0.689 total time=   0.7s\n",
      "[CV 2/5; 5/108] START learning_rate=0.1, max_depth=1, max_iter=100, min_samples_leaf=5\n",
      "[CV 2/5; 5/108] END learning_rate=0.1, max_depth=1, max_iter=100, min_samples_leaf=5;, score=0.689 total time=   0.6s\n",
      "[CV 3/5; 5/108] START learning_rate=0.1, max_depth=1, max_iter=100, min_samples_leaf=5\n",
      "[CV 3/5; 5/108] END learning_rate=0.1, max_depth=1, max_iter=100, min_samples_leaf=5;, score=0.673 total time=   0.7s\n",
      "[CV 4/5; 5/108] START learning_rate=0.1, max_depth=1, max_iter=100, min_samples_leaf=5\n",
      "[CV 4/5; 5/108] END learning_rate=0.1, max_depth=1, max_iter=100, min_samples_leaf=5;, score=0.689 total time=   0.7s\n",
      "[CV 5/5; 5/108] START learning_rate=0.1, max_depth=1, max_iter=100, min_samples_leaf=5\n",
      "[CV 5/5; 5/108] END learning_rate=0.1, max_depth=1, max_iter=100, min_samples_leaf=5;, score=0.684 total time=   0.7s\n",
      "[CV 1/5; 6/108] START learning_rate=0.1, max_depth=1, max_iter=100, min_samples_leaf=10\n",
      "[CV 1/5; 6/108] END learning_rate=0.1, max_depth=1, max_iter=100, min_samples_leaf=10;, score=0.689 total time=   0.6s\n",
      "[CV 2/5; 6/108] START learning_rate=0.1, max_depth=1, max_iter=100, min_samples_leaf=10\n",
      "[CV 2/5; 6/108] END learning_rate=0.1, max_depth=1, max_iter=100, min_samples_leaf=10;, score=0.689 total time=   0.6s\n",
      "[CV 3/5; 6/108] START learning_rate=0.1, max_depth=1, max_iter=100, min_samples_leaf=10\n",
      "[CV 3/5; 6/108] END learning_rate=0.1, max_depth=1, max_iter=100, min_samples_leaf=10;, score=0.673 total time=   0.6s\n",
      "[CV 4/5; 6/108] START learning_rate=0.1, max_depth=1, max_iter=100, min_samples_leaf=10\n",
      "[CV 4/5; 6/108] END learning_rate=0.1, max_depth=1, max_iter=100, min_samples_leaf=10;, score=0.690 total time=   0.5s\n",
      "[CV 5/5; 6/108] START learning_rate=0.1, max_depth=1, max_iter=100, min_samples_leaf=10\n",
      "[CV 5/5; 6/108] END learning_rate=0.1, max_depth=1, max_iter=100, min_samples_leaf=10;, score=0.683 total time=   0.6s\n",
      "[CV 1/5; 7/108] START learning_rate=0.1, max_depth=1, max_iter=100, min_samples_leaf=20\n",
      "[CV 1/5; 7/108] END learning_rate=0.1, max_depth=1, max_iter=100, min_samples_leaf=20;, score=0.688 total time=   0.7s\n",
      "[CV 2/5; 7/108] START learning_rate=0.1, max_depth=1, max_iter=100, min_samples_leaf=20\n",
      "[CV 2/5; 7/108] END learning_rate=0.1, max_depth=1, max_iter=100, min_samples_leaf=20;, score=0.690 total time=   0.7s\n",
      "[CV 3/5; 7/108] START learning_rate=0.1, max_depth=1, max_iter=100, min_samples_leaf=20\n",
      "[CV 3/5; 7/108] END learning_rate=0.1, max_depth=1, max_iter=100, min_samples_leaf=20;, score=0.673 total time=   0.7s\n",
      "[CV 4/5; 7/108] START learning_rate=0.1, max_depth=1, max_iter=100, min_samples_leaf=20\n",
      "[CV 4/5; 7/108] END learning_rate=0.1, max_depth=1, max_iter=100, min_samples_leaf=20;, score=0.690 total time=   0.6s\n",
      "[CV 5/5; 7/108] START learning_rate=0.1, max_depth=1, max_iter=100, min_samples_leaf=20\n",
      "[CV 5/5; 7/108] END learning_rate=0.1, max_depth=1, max_iter=100, min_samples_leaf=20;, score=0.684 total time=   0.7s\n",
      "[CV 1/5; 8/108] START learning_rate=0.1, max_depth=1, max_iter=100, min_samples_leaf=30\n",
      "[CV 1/5; 8/108] END learning_rate=0.1, max_depth=1, max_iter=100, min_samples_leaf=30;, score=0.689 total time=   0.7s\n",
      "[CV 2/5; 8/108] START learning_rate=0.1, max_depth=1, max_iter=100, min_samples_leaf=30\n",
      "[CV 2/5; 8/108] END learning_rate=0.1, max_depth=1, max_iter=100, min_samples_leaf=30;, score=0.691 total time=   0.6s\n",
      "[CV 3/5; 8/108] START learning_rate=0.1, max_depth=1, max_iter=100, min_samples_leaf=30\n",
      "[CV 3/5; 8/108] END learning_rate=0.1, max_depth=1, max_iter=100, min_samples_leaf=30;, score=0.673 total time=   0.6s\n",
      "[CV 4/5; 8/108] START learning_rate=0.1, max_depth=1, max_iter=100, min_samples_leaf=30\n",
      "[CV 4/5; 8/108] END learning_rate=0.1, max_depth=1, max_iter=100, min_samples_leaf=30;, score=0.689 total time=   0.7s\n",
      "[CV 5/5; 8/108] START learning_rate=0.1, max_depth=1, max_iter=100, min_samples_leaf=30\n",
      "[CV 5/5; 8/108] END learning_rate=0.1, max_depth=1, max_iter=100, min_samples_leaf=30;, score=0.683 total time=   0.7s\n",
      "[CV 1/5; 9/108] START learning_rate=0.1, max_depth=1, max_iter=200, min_samples_leaf=5\n",
      "[CV 1/5; 9/108] END learning_rate=0.1, max_depth=1, max_iter=200, min_samples_leaf=5;, score=0.688 total time=   0.5s\n",
      "[CV 2/5; 9/108] START learning_rate=0.1, max_depth=1, max_iter=200, min_samples_leaf=5\n",
      "[CV 2/5; 9/108] END learning_rate=0.1, max_depth=1, max_iter=200, min_samples_leaf=5;, score=0.690 total time=   0.8s\n",
      "[CV 3/5; 9/108] START learning_rate=0.1, max_depth=1, max_iter=200, min_samples_leaf=5\n",
      "[CV 3/5; 9/108] END learning_rate=0.1, max_depth=1, max_iter=200, min_samples_leaf=5;, score=0.672 total time=   0.7s\n",
      "[CV 4/5; 9/108] START learning_rate=0.1, max_depth=1, max_iter=200, min_samples_leaf=5\n",
      "[CV 4/5; 9/108] END learning_rate=0.1, max_depth=1, max_iter=200, min_samples_leaf=5;, score=0.688 total time=   0.8s\n",
      "[CV 5/5; 9/108] START learning_rate=0.1, max_depth=1, max_iter=200, min_samples_leaf=5\n",
      "[CV 5/5; 9/108] END learning_rate=0.1, max_depth=1, max_iter=200, min_samples_leaf=5;, score=0.682 total time=   1.1s\n",
      "[CV 1/5; 10/108] START learning_rate=0.1, max_depth=1, max_iter=200, min_samples_leaf=10\n",
      "[CV 1/5; 10/108] END learning_rate=0.1, max_depth=1, max_iter=200, min_samples_leaf=10;, score=0.688 total time=   0.7s\n",
      "[CV 2/5; 10/108] START learning_rate=0.1, max_depth=1, max_iter=200, min_samples_leaf=10\n",
      "[CV 2/5; 10/108] END learning_rate=0.1, max_depth=1, max_iter=200, min_samples_leaf=10;, score=0.689 total time=   0.7s\n",
      "[CV 3/5; 10/108] START learning_rate=0.1, max_depth=1, max_iter=200, min_samples_leaf=10\n",
      "[CV 3/5; 10/108] END learning_rate=0.1, max_depth=1, max_iter=200, min_samples_leaf=10;, score=0.674 total time=   0.7s\n",
      "[CV 4/5; 10/108] START learning_rate=0.1, max_depth=1, max_iter=200, min_samples_leaf=10\n",
      "[CV 4/5; 10/108] END learning_rate=0.1, max_depth=1, max_iter=200, min_samples_leaf=10;, score=0.689 total time=   0.9s\n",
      "[CV 5/5; 10/108] START learning_rate=0.1, max_depth=1, max_iter=200, min_samples_leaf=10\n",
      "[CV 5/5; 10/108] END learning_rate=0.1, max_depth=1, max_iter=200, min_samples_leaf=10;, score=0.682 total time=   0.4s\n",
      "[CV 1/5; 11/108] START learning_rate=0.1, max_depth=1, max_iter=200, min_samples_leaf=20\n",
      "[CV 1/5; 11/108] END learning_rate=0.1, max_depth=1, max_iter=200, min_samples_leaf=20;, score=0.688 total time=   0.7s\n",
      "[CV 2/5; 11/108] START learning_rate=0.1, max_depth=1, max_iter=200, min_samples_leaf=20\n",
      "[CV 2/5; 11/108] END learning_rate=0.1, max_depth=1, max_iter=200, min_samples_leaf=20;, score=0.690 total time=   0.8s\n",
      "[CV 3/5; 11/108] START learning_rate=0.1, max_depth=1, max_iter=200, min_samples_leaf=20\n",
      "[CV 3/5; 11/108] END learning_rate=0.1, max_depth=1, max_iter=200, min_samples_leaf=20;, score=0.673 total time=   0.6s\n",
      "[CV 4/5; 11/108] START learning_rate=0.1, max_depth=1, max_iter=200, min_samples_leaf=20\n",
      "[CV 4/5; 11/108] END learning_rate=0.1, max_depth=1, max_iter=200, min_samples_leaf=20;, score=0.690 total time=   0.8s\n",
      "[CV 5/5; 11/108] START learning_rate=0.1, max_depth=1, max_iter=200, min_samples_leaf=20\n",
      "[CV 5/5; 11/108] END learning_rate=0.1, max_depth=1, max_iter=200, min_samples_leaf=20;, score=0.684 total time=   0.6s\n",
      "[CV 1/5; 12/108] START learning_rate=0.1, max_depth=1, max_iter=200, min_samples_leaf=30\n",
      "[CV 1/5; 12/108] END learning_rate=0.1, max_depth=1, max_iter=200, min_samples_leaf=30;, score=0.688 total time=   0.9s\n",
      "[CV 2/5; 12/108] START learning_rate=0.1, max_depth=1, max_iter=200, min_samples_leaf=30\n",
      "[CV 2/5; 12/108] END learning_rate=0.1, max_depth=1, max_iter=200, min_samples_leaf=30;, score=0.690 total time=   0.6s\n",
      "[CV 3/5; 12/108] START learning_rate=0.1, max_depth=1, max_iter=200, min_samples_leaf=30\n",
      "[CV 3/5; 12/108] END learning_rate=0.1, max_depth=1, max_iter=200, min_samples_leaf=30;, score=0.673 total time=   0.7s\n",
      "[CV 4/5; 12/108] START learning_rate=0.1, max_depth=1, max_iter=200, min_samples_leaf=30\n",
      "[CV 4/5; 12/108] END learning_rate=0.1, max_depth=1, max_iter=200, min_samples_leaf=30;, score=0.690 total time=   0.6s\n",
      "[CV 5/5; 12/108] START learning_rate=0.1, max_depth=1, max_iter=200, min_samples_leaf=30\n",
      "[CV 5/5; 12/108] END learning_rate=0.1, max_depth=1, max_iter=200, min_samples_leaf=30;, score=0.683 total time=   1.0s\n",
      "[CV 1/5; 13/108] START learning_rate=0.1, max_depth=5, max_iter=50, min_samples_leaf=5\n",
      "[CV 1/5; 13/108] END learning_rate=0.1, max_depth=5, max_iter=50, min_samples_leaf=5;, score=0.683 total time=   1.6s\n",
      "[CV 2/5; 13/108] START learning_rate=0.1, max_depth=5, max_iter=50, min_samples_leaf=5\n",
      "[CV 2/5; 13/108] END learning_rate=0.1, max_depth=5, max_iter=50, min_samples_leaf=5;, score=0.684 total time=   1.5s\n",
      "[CV 3/5; 13/108] START learning_rate=0.1, max_depth=5, max_iter=50, min_samples_leaf=5\n",
      "[CV 3/5; 13/108] END learning_rate=0.1, max_depth=5, max_iter=50, min_samples_leaf=5;, score=0.668 total time=   1.8s\n",
      "[CV 4/5; 13/108] START learning_rate=0.1, max_depth=5, max_iter=50, min_samples_leaf=5\n",
      "[CV 4/5; 13/108] END learning_rate=0.1, max_depth=5, max_iter=50, min_samples_leaf=5;, score=0.686 total time=   1.5s\n",
      "[CV 5/5; 13/108] START learning_rate=0.1, max_depth=5, max_iter=50, min_samples_leaf=5\n",
      "[CV 5/5; 13/108] END learning_rate=0.1, max_depth=5, max_iter=50, min_samples_leaf=5;, score=0.677 total time=   1.8s\n",
      "[CV 1/5; 14/108] START learning_rate=0.1, max_depth=5, max_iter=50, min_samples_leaf=10\n",
      "[CV 1/5; 14/108] END learning_rate=0.1, max_depth=5, max_iter=50, min_samples_leaf=10;, score=0.684 total time=   1.3s\n",
      "[CV 2/5; 14/108] START learning_rate=0.1, max_depth=5, max_iter=50, min_samples_leaf=10\n",
      "[CV 2/5; 14/108] END learning_rate=0.1, max_depth=5, max_iter=50, min_samples_leaf=10;, score=0.688 total time=   1.2s\n",
      "[CV 3/5; 14/108] START learning_rate=0.1, max_depth=5, max_iter=50, min_samples_leaf=10\n",
      "[CV 3/5; 14/108] END learning_rate=0.1, max_depth=5, max_iter=50, min_samples_leaf=10;, score=0.666 total time=   1.4s\n",
      "[CV 4/5; 14/108] START learning_rate=0.1, max_depth=5, max_iter=50, min_samples_leaf=10\n",
      "[CV 4/5; 14/108] END learning_rate=0.1, max_depth=5, max_iter=50, min_samples_leaf=10;, score=0.686 total time=   1.4s\n",
      "[CV 5/5; 14/108] START learning_rate=0.1, max_depth=5, max_iter=50, min_samples_leaf=10\n",
      "[CV 5/5; 14/108] END learning_rate=0.1, max_depth=5, max_iter=50, min_samples_leaf=10;, score=0.680 total time=   1.5s\n",
      "[CV 1/5; 15/108] START learning_rate=0.1, max_depth=5, max_iter=50, min_samples_leaf=20\n",
      "[CV 1/5; 15/108] END learning_rate=0.1, max_depth=5, max_iter=50, min_samples_leaf=20;, score=0.682 total time=   1.6s\n",
      "[CV 2/5; 15/108] START learning_rate=0.1, max_depth=5, max_iter=50, min_samples_leaf=20\n",
      "[CV 2/5; 15/108] END learning_rate=0.1, max_depth=5, max_iter=50, min_samples_leaf=20;, score=0.681 total time=   1.3s\n",
      "[CV 3/5; 15/108] START learning_rate=0.1, max_depth=5, max_iter=50, min_samples_leaf=20\n",
      "[CV 3/5; 15/108] END learning_rate=0.1, max_depth=5, max_iter=50, min_samples_leaf=20;, score=0.669 total time=   1.3s\n",
      "[CV 4/5; 15/108] START learning_rate=0.1, max_depth=5, max_iter=50, min_samples_leaf=20\n",
      "[CV 4/5; 15/108] END learning_rate=0.1, max_depth=5, max_iter=50, min_samples_leaf=20;, score=0.687 total time=   1.3s\n",
      "[CV 5/5; 15/108] START learning_rate=0.1, max_depth=5, max_iter=50, min_samples_leaf=20\n",
      "[CV 5/5; 15/108] END learning_rate=0.1, max_depth=5, max_iter=50, min_samples_leaf=20;, score=0.678 total time=   1.3s\n",
      "[CV 1/5; 16/108] START learning_rate=0.1, max_depth=5, max_iter=50, min_samples_leaf=30\n",
      "[CV 1/5; 16/108] END learning_rate=0.1, max_depth=5, max_iter=50, min_samples_leaf=30;, score=0.685 total time=   1.2s\n",
      "[CV 2/5; 16/108] START learning_rate=0.1, max_depth=5, max_iter=50, min_samples_leaf=30\n",
      "[CV 2/5; 16/108] END learning_rate=0.1, max_depth=5, max_iter=50, min_samples_leaf=30;, score=0.684 total time=   1.3s\n",
      "[CV 3/5; 16/108] START learning_rate=0.1, max_depth=5, max_iter=50, min_samples_leaf=30\n",
      "[CV 3/5; 16/108] END learning_rate=0.1, max_depth=5, max_iter=50, min_samples_leaf=30;, score=0.666 total time=   1.3s\n",
      "[CV 4/5; 16/108] START learning_rate=0.1, max_depth=5, max_iter=50, min_samples_leaf=30\n",
      "[CV 4/5; 16/108] END learning_rate=0.1, max_depth=5, max_iter=50, min_samples_leaf=30;, score=0.687 total time=   1.1s\n",
      "[CV 5/5; 16/108] START learning_rate=0.1, max_depth=5, max_iter=50, min_samples_leaf=30\n",
      "[CV 5/5; 16/108] END learning_rate=0.1, max_depth=5, max_iter=50, min_samples_leaf=30;, score=0.678 total time=   1.1s\n",
      "[CV 1/5; 17/108] START learning_rate=0.1, max_depth=5, max_iter=100, min_samples_leaf=5\n",
      "[CV 1/5; 17/108] END learning_rate=0.1, max_depth=5, max_iter=100, min_samples_leaf=5;, score=0.684 total time=   1.3s\n",
      "[CV 2/5; 17/108] START learning_rate=0.1, max_depth=5, max_iter=100, min_samples_leaf=5\n",
      "[CV 2/5; 17/108] END learning_rate=0.1, max_depth=5, max_iter=100, min_samples_leaf=5;, score=0.684 total time=   1.1s\n",
      "[CV 3/5; 17/108] START learning_rate=0.1, max_depth=5, max_iter=100, min_samples_leaf=5\n",
      "[CV 3/5; 17/108] END learning_rate=0.1, max_depth=5, max_iter=100, min_samples_leaf=5;, score=0.666 total time=   1.4s\n",
      "[CV 4/5; 17/108] START learning_rate=0.1, max_depth=5, max_iter=100, min_samples_leaf=5\n",
      "[CV 4/5; 17/108] END learning_rate=0.1, max_depth=5, max_iter=100, min_samples_leaf=5;, score=0.685 total time=   1.7s\n",
      "[CV 5/5; 17/108] START learning_rate=0.1, max_depth=5, max_iter=100, min_samples_leaf=5\n",
      "[CV 5/5; 17/108] END learning_rate=0.1, max_depth=5, max_iter=100, min_samples_leaf=5;, score=0.680 total time=   1.1s\n",
      "[CV 1/5; 18/108] START learning_rate=0.1, max_depth=5, max_iter=100, min_samples_leaf=10\n",
      "[CV 1/5; 18/108] END learning_rate=0.1, max_depth=5, max_iter=100, min_samples_leaf=10;, score=0.679 total time=   1.3s\n",
      "[CV 2/5; 18/108] START learning_rate=0.1, max_depth=5, max_iter=100, min_samples_leaf=10\n",
      "[CV 2/5; 18/108] END learning_rate=0.1, max_depth=5, max_iter=100, min_samples_leaf=10;, score=0.683 total time=   2.1s\n",
      "[CV 3/5; 18/108] START learning_rate=0.1, max_depth=5, max_iter=100, min_samples_leaf=10\n",
      "[CV 3/5; 18/108] END learning_rate=0.1, max_depth=5, max_iter=100, min_samples_leaf=10;, score=0.665 total time=   1.3s\n",
      "[CV 4/5; 18/108] START learning_rate=0.1, max_depth=5, max_iter=100, min_samples_leaf=10\n",
      "[CV 4/5; 18/108] END learning_rate=0.1, max_depth=5, max_iter=100, min_samples_leaf=10;, score=0.686 total time=   1.1s\n",
      "[CV 5/5; 18/108] START learning_rate=0.1, max_depth=5, max_iter=100, min_samples_leaf=10\n",
      "[CV 5/5; 18/108] END learning_rate=0.1, max_depth=5, max_iter=100, min_samples_leaf=10;, score=0.676 total time=   1.7s\n",
      "[CV 1/5; 19/108] START learning_rate=0.1, max_depth=5, max_iter=100, min_samples_leaf=20\n",
      "[CV 1/5; 19/108] END learning_rate=0.1, max_depth=5, max_iter=100, min_samples_leaf=20;, score=0.679 total time=   1.5s\n",
      "[CV 2/5; 19/108] START learning_rate=0.1, max_depth=5, max_iter=100, min_samples_leaf=20\n",
      "[CV 2/5; 19/108] END learning_rate=0.1, max_depth=5, max_iter=100, min_samples_leaf=20;, score=0.682 total time=   1.5s\n",
      "[CV 3/5; 19/108] START learning_rate=0.1, max_depth=5, max_iter=100, min_samples_leaf=20\n",
      "[CV 3/5; 19/108] END learning_rate=0.1, max_depth=5, max_iter=100, min_samples_leaf=20;, score=0.666 total time=   1.2s\n",
      "[CV 4/5; 19/108] START learning_rate=0.1, max_depth=5, max_iter=100, min_samples_leaf=20\n",
      "[CV 4/5; 19/108] END learning_rate=0.1, max_depth=5, max_iter=100, min_samples_leaf=20;, score=0.688 total time=   1.4s\n",
      "[CV 5/5; 19/108] START learning_rate=0.1, max_depth=5, max_iter=100, min_samples_leaf=20\n",
      "[CV 5/5; 19/108] END learning_rate=0.1, max_depth=5, max_iter=100, min_samples_leaf=20;, score=0.678 total time=   1.6s\n",
      "[CV 1/5; 20/108] START learning_rate=0.1, max_depth=5, max_iter=100, min_samples_leaf=30\n",
      "[CV 1/5; 20/108] END learning_rate=0.1, max_depth=5, max_iter=100, min_samples_leaf=30;, score=0.686 total time=   1.6s\n",
      "[CV 2/5; 20/108] START learning_rate=0.1, max_depth=5, max_iter=100, min_samples_leaf=30\n",
      "[CV 2/5; 20/108] END learning_rate=0.1, max_depth=5, max_iter=100, min_samples_leaf=30;, score=0.685 total time=   1.4s\n",
      "[CV 3/5; 20/108] START learning_rate=0.1, max_depth=5, max_iter=100, min_samples_leaf=30\n",
      "[CV 3/5; 20/108] END learning_rate=0.1, max_depth=5, max_iter=100, min_samples_leaf=30;, score=0.667 total time=   1.3s\n",
      "[CV 4/5; 20/108] START learning_rate=0.1, max_depth=5, max_iter=100, min_samples_leaf=30\n",
      "[CV 4/5; 20/108] END learning_rate=0.1, max_depth=5, max_iter=100, min_samples_leaf=30;, score=0.687 total time=   1.4s\n",
      "[CV 5/5; 20/108] START learning_rate=0.1, max_depth=5, max_iter=100, min_samples_leaf=30\n",
      "[CV 5/5; 20/108] END learning_rate=0.1, max_depth=5, max_iter=100, min_samples_leaf=30;, score=0.679 total time=   1.3s\n",
      "[CV 1/5; 21/108] START learning_rate=0.1, max_depth=5, max_iter=200, min_samples_leaf=5\n",
      "[CV 1/5; 21/108] END learning_rate=0.1, max_depth=5, max_iter=200, min_samples_leaf=5;, score=0.679 total time=   1.8s\n",
      "[CV 2/5; 21/108] START learning_rate=0.1, max_depth=5, max_iter=200, min_samples_leaf=5\n",
      "[CV 2/5; 21/108] END learning_rate=0.1, max_depth=5, max_iter=200, min_samples_leaf=5;, score=0.681 total time=   1.6s\n",
      "[CV 3/5; 21/108] START learning_rate=0.1, max_depth=5, max_iter=200, min_samples_leaf=5\n",
      "[CV 3/5; 21/108] END learning_rate=0.1, max_depth=5, max_iter=200, min_samples_leaf=5;, score=0.667 total time=   1.6s\n",
      "[CV 4/5; 21/108] START learning_rate=0.1, max_depth=5, max_iter=200, min_samples_leaf=5\n",
      "[CV 4/5; 21/108] END learning_rate=0.1, max_depth=5, max_iter=200, min_samples_leaf=5;, score=0.688 total time=   1.3s\n",
      "[CV 5/5; 21/108] START learning_rate=0.1, max_depth=5, max_iter=200, min_samples_leaf=5\n",
      "[CV 5/5; 21/108] END learning_rate=0.1, max_depth=5, max_iter=200, min_samples_leaf=5;, score=0.679 total time=   1.6s\n",
      "[CV 1/5; 22/108] START learning_rate=0.1, max_depth=5, max_iter=200, min_samples_leaf=10\n",
      "[CV 1/5; 22/108] END learning_rate=0.1, max_depth=5, max_iter=200, min_samples_leaf=10;, score=0.685 total time=   1.3s\n",
      "[CV 2/5; 22/108] START learning_rate=0.1, max_depth=5, max_iter=200, min_samples_leaf=10\n",
      "[CV 2/5; 22/108] END learning_rate=0.1, max_depth=5, max_iter=200, min_samples_leaf=10;, score=0.684 total time=   1.6s\n",
      "[CV 3/5; 22/108] START learning_rate=0.1, max_depth=5, max_iter=200, min_samples_leaf=10\n",
      "[CV 3/5; 22/108] END learning_rate=0.1, max_depth=5, max_iter=200, min_samples_leaf=10;, score=0.669 total time=   1.3s\n",
      "[CV 4/5; 22/108] START learning_rate=0.1, max_depth=5, max_iter=200, min_samples_leaf=10\n",
      "[CV 4/5; 22/108] END learning_rate=0.1, max_depth=5, max_iter=200, min_samples_leaf=10;, score=0.687 total time=   1.6s\n",
      "[CV 5/5; 22/108] START learning_rate=0.1, max_depth=5, max_iter=200, min_samples_leaf=10\n",
      "[CV 5/5; 22/108] END learning_rate=0.1, max_depth=5, max_iter=200, min_samples_leaf=10;, score=0.678 total time=   1.4s\n",
      "[CV 1/5; 23/108] START learning_rate=0.1, max_depth=5, max_iter=200, min_samples_leaf=20\n",
      "[CV 1/5; 23/108] END learning_rate=0.1, max_depth=5, max_iter=200, min_samples_leaf=20;, score=0.680 total time=   2.3s\n",
      "[CV 2/5; 23/108] START learning_rate=0.1, max_depth=5, max_iter=200, min_samples_leaf=20\n",
      "[CV 2/5; 23/108] END learning_rate=0.1, max_depth=5, max_iter=200, min_samples_leaf=20;, score=0.685 total time=   1.3s\n",
      "[CV 3/5; 23/108] START learning_rate=0.1, max_depth=5, max_iter=200, min_samples_leaf=20\n",
      "[CV 3/5; 23/108] END learning_rate=0.1, max_depth=5, max_iter=200, min_samples_leaf=20;, score=0.667 total time=   1.3s\n",
      "[CV 4/5; 23/108] START learning_rate=0.1, max_depth=5, max_iter=200, min_samples_leaf=20\n",
      "[CV 4/5; 23/108] END learning_rate=0.1, max_depth=5, max_iter=200, min_samples_leaf=20;, score=0.686 total time=   1.2s\n",
      "[CV 5/5; 23/108] START learning_rate=0.1, max_depth=5, max_iter=200, min_samples_leaf=20\n",
      "[CV 5/5; 23/108] END learning_rate=0.1, max_depth=5, max_iter=200, min_samples_leaf=20;, score=0.679 total time=   1.5s\n",
      "[CV 1/5; 24/108] START learning_rate=0.1, max_depth=5, max_iter=200, min_samples_leaf=30\n",
      "[CV 1/5; 24/108] END learning_rate=0.1, max_depth=5, max_iter=200, min_samples_leaf=30;, score=0.682 total time=   1.3s\n",
      "[CV 2/5; 24/108] START learning_rate=0.1, max_depth=5, max_iter=200, min_samples_leaf=30\n",
      "[CV 2/5; 24/108] END learning_rate=0.1, max_depth=5, max_iter=200, min_samples_leaf=30;, score=0.684 total time=   1.5s\n",
      "[CV 3/5; 24/108] START learning_rate=0.1, max_depth=5, max_iter=200, min_samples_leaf=30\n",
      "[CV 3/5; 24/108] END learning_rate=0.1, max_depth=5, max_iter=200, min_samples_leaf=30;, score=0.666 total time=   1.7s\n",
      "[CV 4/5; 24/108] START learning_rate=0.1, max_depth=5, max_iter=200, min_samples_leaf=30\n",
      "[CV 4/5; 24/108] END learning_rate=0.1, max_depth=5, max_iter=200, min_samples_leaf=30;, score=0.683 total time=   1.6s\n",
      "[CV 5/5; 24/108] START learning_rate=0.1, max_depth=5, max_iter=200, min_samples_leaf=30\n",
      "[CV 5/5; 24/108] END learning_rate=0.1, max_depth=5, max_iter=200, min_samples_leaf=30;, score=0.678 total time=   1.3s\n",
      "[CV 1/5; 25/108] START learning_rate=0.1, max_depth=10, max_iter=50, min_samples_leaf=5\n",
      "[CV 1/5; 25/108] END learning_rate=0.1, max_depth=10, max_iter=50, min_samples_leaf=5;, score=0.687 total time=   1.9s\n",
      "[CV 2/5; 25/108] START learning_rate=0.1, max_depth=10, max_iter=50, min_samples_leaf=5\n",
      "[CV 2/5; 25/108] END learning_rate=0.1, max_depth=10, max_iter=50, min_samples_leaf=5;, score=0.683 total time=   2.7s\n",
      "[CV 3/5; 25/108] START learning_rate=0.1, max_depth=10, max_iter=50, min_samples_leaf=5\n",
      "[CV 3/5; 25/108] END learning_rate=0.1, max_depth=10, max_iter=50, min_samples_leaf=5;, score=0.664 total time=   1.8s\n",
      "[CV 4/5; 25/108] START learning_rate=0.1, max_depth=10, max_iter=50, min_samples_leaf=5\n",
      "[CV 4/5; 25/108] END learning_rate=0.1, max_depth=10, max_iter=50, min_samples_leaf=5;, score=0.687 total time=   2.2s\n",
      "[CV 5/5; 25/108] START learning_rate=0.1, max_depth=10, max_iter=50, min_samples_leaf=5\n",
      "[CV 5/5; 25/108] END learning_rate=0.1, max_depth=10, max_iter=50, min_samples_leaf=5;, score=0.679 total time=   2.3s\n",
      "[CV 1/5; 26/108] START learning_rate=0.1, max_depth=10, max_iter=50, min_samples_leaf=10\n",
      "[CV 1/5; 26/108] END learning_rate=0.1, max_depth=10, max_iter=50, min_samples_leaf=10;, score=0.679 total time=   2.0s\n",
      "[CV 2/5; 26/108] START learning_rate=0.1, max_depth=10, max_iter=50, min_samples_leaf=10\n",
      "[CV 2/5; 26/108] END learning_rate=0.1, max_depth=10, max_iter=50, min_samples_leaf=10;, score=0.684 total time=   1.9s\n",
      "[CV 3/5; 26/108] START learning_rate=0.1, max_depth=10, max_iter=50, min_samples_leaf=10\n",
      "[CV 3/5; 26/108] END learning_rate=0.1, max_depth=10, max_iter=50, min_samples_leaf=10;, score=0.671 total time=   1.9s\n",
      "[CV 4/5; 26/108] START learning_rate=0.1, max_depth=10, max_iter=50, min_samples_leaf=10\n",
      "[CV 4/5; 26/108] END learning_rate=0.1, max_depth=10, max_iter=50, min_samples_leaf=10;, score=0.687 total time=   1.7s\n",
      "[CV 5/5; 26/108] START learning_rate=0.1, max_depth=10, max_iter=50, min_samples_leaf=10\n",
      "[CV 5/5; 26/108] END learning_rate=0.1, max_depth=10, max_iter=50, min_samples_leaf=10;, score=0.678 total time=   2.3s\n",
      "[CV 1/5; 27/108] START learning_rate=0.1, max_depth=10, max_iter=50, min_samples_leaf=20\n",
      "[CV 1/5; 27/108] END learning_rate=0.1, max_depth=10, max_iter=50, min_samples_leaf=20;, score=0.678 total time=   2.4s\n",
      "[CV 2/5; 27/108] START learning_rate=0.1, max_depth=10, max_iter=50, min_samples_leaf=20\n",
      "[CV 2/5; 27/108] END learning_rate=0.1, max_depth=10, max_iter=50, min_samples_leaf=20;, score=0.683 total time=   1.9s\n",
      "[CV 3/5; 27/108] START learning_rate=0.1, max_depth=10, max_iter=50, min_samples_leaf=20\n",
      "[CV 3/5; 27/108] END learning_rate=0.1, max_depth=10, max_iter=50, min_samples_leaf=20;, score=0.665 total time=   2.1s\n",
      "[CV 4/5; 27/108] START learning_rate=0.1, max_depth=10, max_iter=50, min_samples_leaf=20\n",
      "[CV 4/5; 27/108] END learning_rate=0.1, max_depth=10, max_iter=50, min_samples_leaf=20;, score=0.687 total time=   2.2s\n",
      "[CV 5/5; 27/108] START learning_rate=0.1, max_depth=10, max_iter=50, min_samples_leaf=20\n",
      "[CV 5/5; 27/108] END learning_rate=0.1, max_depth=10, max_iter=50, min_samples_leaf=20;, score=0.676 total time=   2.9s\n",
      "[CV 1/5; 28/108] START learning_rate=0.1, max_depth=10, max_iter=50, min_samples_leaf=30\n",
      "[CV 1/5; 28/108] END learning_rate=0.1, max_depth=10, max_iter=50, min_samples_leaf=30;, score=0.682 total time=   2.3s\n",
      "[CV 2/5; 28/108] START learning_rate=0.1, max_depth=10, max_iter=50, min_samples_leaf=30\n",
      "[CV 2/5; 28/108] END learning_rate=0.1, max_depth=10, max_iter=50, min_samples_leaf=30;, score=0.684 total time=   2.0s\n",
      "[CV 3/5; 28/108] START learning_rate=0.1, max_depth=10, max_iter=50, min_samples_leaf=30\n",
      "[CV 3/5; 28/108] END learning_rate=0.1, max_depth=10, max_iter=50, min_samples_leaf=30;, score=0.665 total time=   2.8s\n",
      "[CV 4/5; 28/108] START learning_rate=0.1, max_depth=10, max_iter=50, min_samples_leaf=30\n",
      "[CV 4/5; 28/108] END learning_rate=0.1, max_depth=10, max_iter=50, min_samples_leaf=30;, score=0.685 total time=   1.8s\n",
      "[CV 5/5; 28/108] START learning_rate=0.1, max_depth=10, max_iter=50, min_samples_leaf=30\n",
      "[CV 5/5; 28/108] END learning_rate=0.1, max_depth=10, max_iter=50, min_samples_leaf=30;, score=0.679 total time=   2.2s\n",
      "[CV 1/5; 29/108] START learning_rate=0.1, max_depth=10, max_iter=100, min_samples_leaf=5\n",
      "[CV 1/5; 29/108] END learning_rate=0.1, max_depth=10, max_iter=100, min_samples_leaf=5;, score=0.681 total time=   2.3s\n",
      "[CV 2/5; 29/108] START learning_rate=0.1, max_depth=10, max_iter=100, min_samples_leaf=5\n",
      "[CV 2/5; 29/108] END learning_rate=0.1, max_depth=10, max_iter=100, min_samples_leaf=5;, score=0.684 total time=   2.4s\n",
      "[CV 3/5; 29/108] START learning_rate=0.1, max_depth=10, max_iter=100, min_samples_leaf=5\n",
      "[CV 3/5; 29/108] END learning_rate=0.1, max_depth=10, max_iter=100, min_samples_leaf=5;, score=0.664 total time=   2.3s\n",
      "[CV 4/5; 29/108] START learning_rate=0.1, max_depth=10, max_iter=100, min_samples_leaf=5\n",
      "[CV 4/5; 29/108] END learning_rate=0.1, max_depth=10, max_iter=100, min_samples_leaf=5;, score=0.688 total time=   1.6s\n",
      "[CV 5/5; 29/108] START learning_rate=0.1, max_depth=10, max_iter=100, min_samples_leaf=5\n",
      "[CV 5/5; 29/108] END learning_rate=0.1, max_depth=10, max_iter=100, min_samples_leaf=5;, score=0.675 total time=   2.2s\n",
      "[CV 1/5; 30/108] START learning_rate=0.1, max_depth=10, max_iter=100, min_samples_leaf=10\n",
      "[CV 1/5; 30/108] END learning_rate=0.1, max_depth=10, max_iter=100, min_samples_leaf=10;, score=0.684 total time=   2.7s\n",
      "[CV 2/5; 30/108] START learning_rate=0.1, max_depth=10, max_iter=100, min_samples_leaf=10\n",
      "[CV 2/5; 30/108] END learning_rate=0.1, max_depth=10, max_iter=100, min_samples_leaf=10;, score=0.685 total time=   2.2s\n",
      "[CV 3/5; 30/108] START learning_rate=0.1, max_depth=10, max_iter=100, min_samples_leaf=10\n",
      "[CV 3/5; 30/108] END learning_rate=0.1, max_depth=10, max_iter=100, min_samples_leaf=10;, score=0.663 total time=   2.0s\n",
      "[CV 4/5; 30/108] START learning_rate=0.1, max_depth=10, max_iter=100, min_samples_leaf=10\n",
      "[CV 4/5; 30/108] END learning_rate=0.1, max_depth=10, max_iter=100, min_samples_leaf=10;, score=0.688 total time=   2.2s\n",
      "[CV 5/5; 30/108] START learning_rate=0.1, max_depth=10, max_iter=100, min_samples_leaf=10\n",
      "[CV 5/5; 30/108] END learning_rate=0.1, max_depth=10, max_iter=100, min_samples_leaf=10;, score=0.677 total time=   2.1s\n",
      "[CV 1/5; 31/108] START learning_rate=0.1, max_depth=10, max_iter=100, min_samples_leaf=20\n",
      "[CV 1/5; 31/108] END learning_rate=0.1, max_depth=10, max_iter=100, min_samples_leaf=20;, score=0.683 total time=   1.9s\n",
      "[CV 2/5; 31/108] START learning_rate=0.1, max_depth=10, max_iter=100, min_samples_leaf=20\n",
      "[CV 2/5; 31/108] END learning_rate=0.1, max_depth=10, max_iter=100, min_samples_leaf=20;, score=0.686 total time=   1.8s\n",
      "[CV 3/5; 31/108] START learning_rate=0.1, max_depth=10, max_iter=100, min_samples_leaf=20\n",
      "[CV 3/5; 31/108] END learning_rate=0.1, max_depth=10, max_iter=100, min_samples_leaf=20;, score=0.664 total time=   2.1s\n",
      "[CV 4/5; 31/108] START learning_rate=0.1, max_depth=10, max_iter=100, min_samples_leaf=20\n",
      "[CV 4/5; 31/108] END learning_rate=0.1, max_depth=10, max_iter=100, min_samples_leaf=20;, score=0.684 total time=   2.3s\n",
      "[CV 5/5; 31/108] START learning_rate=0.1, max_depth=10, max_iter=100, min_samples_leaf=20\n",
      "[CV 5/5; 31/108] END learning_rate=0.1, max_depth=10, max_iter=100, min_samples_leaf=20;, score=0.680 total time=   1.9s\n",
      "[CV 1/5; 32/108] START learning_rate=0.1, max_depth=10, max_iter=100, min_samples_leaf=30\n",
      "[CV 1/5; 32/108] END learning_rate=0.1, max_depth=10, max_iter=100, min_samples_leaf=30;, score=0.679 total time=   1.8s\n",
      "[CV 2/5; 32/108] START learning_rate=0.1, max_depth=10, max_iter=100, min_samples_leaf=30\n",
      "[CV 2/5; 32/108] END learning_rate=0.1, max_depth=10, max_iter=100, min_samples_leaf=30;, score=0.682 total time=   2.0s\n",
      "[CV 3/5; 32/108] START learning_rate=0.1, max_depth=10, max_iter=100, min_samples_leaf=30\n",
      "[CV 3/5; 32/108] END learning_rate=0.1, max_depth=10, max_iter=100, min_samples_leaf=30;, score=0.659 total time=   2.6s\n",
      "[CV 4/5; 32/108] START learning_rate=0.1, max_depth=10, max_iter=100, min_samples_leaf=30\n",
      "[CV 4/5; 32/108] END learning_rate=0.1, max_depth=10, max_iter=100, min_samples_leaf=30;, score=0.683 total time=   2.1s\n",
      "[CV 5/5; 32/108] START learning_rate=0.1, max_depth=10, max_iter=100, min_samples_leaf=30\n",
      "[CV 5/5; 32/108] END learning_rate=0.1, max_depth=10, max_iter=100, min_samples_leaf=30;, score=0.677 total time=   2.7s\n",
      "[CV 1/5; 33/108] START learning_rate=0.1, max_depth=10, max_iter=200, min_samples_leaf=5\n",
      "[CV 1/5; 33/108] END learning_rate=0.1, max_depth=10, max_iter=200, min_samples_leaf=5;, score=0.679 total time=   2.6s\n",
      "[CV 2/5; 33/108] START learning_rate=0.1, max_depth=10, max_iter=200, min_samples_leaf=5\n",
      "[CV 2/5; 33/108] END learning_rate=0.1, max_depth=10, max_iter=200, min_samples_leaf=5;, score=0.681 total time=   2.6s\n",
      "[CV 3/5; 33/108] START learning_rate=0.1, max_depth=10, max_iter=200, min_samples_leaf=5\n",
      "[CV 3/5; 33/108] END learning_rate=0.1, max_depth=10, max_iter=200, min_samples_leaf=5;, score=0.663 total time=   1.9s\n",
      "[CV 4/5; 33/108] START learning_rate=0.1, max_depth=10, max_iter=200, min_samples_leaf=5\n",
      "[CV 4/5; 33/108] END learning_rate=0.1, max_depth=10, max_iter=200, min_samples_leaf=5;, score=0.688 total time=   2.0s\n",
      "[CV 5/5; 33/108] START learning_rate=0.1, max_depth=10, max_iter=200, min_samples_leaf=5\n",
      "[CV 5/5; 33/108] END learning_rate=0.1, max_depth=10, max_iter=200, min_samples_leaf=5;, score=0.679 total time=   1.8s\n",
      "[CV 1/5; 34/108] START learning_rate=0.1, max_depth=10, max_iter=200, min_samples_leaf=10\n",
      "[CV 1/5; 34/108] END learning_rate=0.1, max_depth=10, max_iter=200, min_samples_leaf=10;, score=0.681 total time=   2.1s\n",
      "[CV 2/5; 34/108] START learning_rate=0.1, max_depth=10, max_iter=200, min_samples_leaf=10\n",
      "[CV 2/5; 34/108] END learning_rate=0.1, max_depth=10, max_iter=200, min_samples_leaf=10;, score=0.683 total time=   2.0s\n",
      "[CV 3/5; 34/108] START learning_rate=0.1, max_depth=10, max_iter=200, min_samples_leaf=10\n",
      "[CV 3/5; 34/108] END learning_rate=0.1, max_depth=10, max_iter=200, min_samples_leaf=10;, score=0.667 total time=   2.6s\n",
      "[CV 4/5; 34/108] START learning_rate=0.1, max_depth=10, max_iter=200, min_samples_leaf=10\n",
      "[CV 4/5; 34/108] END learning_rate=0.1, max_depth=10, max_iter=200, min_samples_leaf=10;, score=0.682 total time=   2.7s\n",
      "[CV 5/5; 34/108] START learning_rate=0.1, max_depth=10, max_iter=200, min_samples_leaf=10\n",
      "[CV 5/5; 34/108] END learning_rate=0.1, max_depth=10, max_iter=200, min_samples_leaf=10;, score=0.679 total time=   2.1s\n",
      "[CV 1/5; 35/108] START learning_rate=0.1, max_depth=10, max_iter=200, min_samples_leaf=20\n",
      "[CV 1/5; 35/108] END learning_rate=0.1, max_depth=10, max_iter=200, min_samples_leaf=20;, score=0.680 total time=   2.2s\n",
      "[CV 2/5; 35/108] START learning_rate=0.1, max_depth=10, max_iter=200, min_samples_leaf=20\n",
      "[CV 2/5; 35/108] END learning_rate=0.1, max_depth=10, max_iter=200, min_samples_leaf=20;, score=0.682 total time=   2.4s\n",
      "[CV 3/5; 35/108] START learning_rate=0.1, max_depth=10, max_iter=200, min_samples_leaf=20\n",
      "[CV 3/5; 35/108] END learning_rate=0.1, max_depth=10, max_iter=200, min_samples_leaf=20;, score=0.667 total time=   2.0s\n",
      "[CV 4/5; 35/108] START learning_rate=0.1, max_depth=10, max_iter=200, min_samples_leaf=20\n",
      "[CV 4/5; 35/108] END learning_rate=0.1, max_depth=10, max_iter=200, min_samples_leaf=20;, score=0.683 total time=   1.8s\n",
      "[CV 5/5; 35/108] START learning_rate=0.1, max_depth=10, max_iter=200, min_samples_leaf=20\n",
      "[CV 5/5; 35/108] END learning_rate=0.1, max_depth=10, max_iter=200, min_samples_leaf=20;, score=0.676 total time=   2.5s\n",
      "[CV 1/5; 36/108] START learning_rate=0.1, max_depth=10, max_iter=200, min_samples_leaf=30\n",
      "[CV 1/5; 36/108] END learning_rate=0.1, max_depth=10, max_iter=200, min_samples_leaf=30;, score=0.679 total time=   2.2s\n",
      "[CV 2/5; 36/108] START learning_rate=0.1, max_depth=10, max_iter=200, min_samples_leaf=30\n",
      "[CV 2/5; 36/108] END learning_rate=0.1, max_depth=10, max_iter=200, min_samples_leaf=30;, score=0.685 total time=   1.8s\n",
      "[CV 3/5; 36/108] START learning_rate=0.1, max_depth=10, max_iter=200, min_samples_leaf=30\n",
      "[CV 3/5; 36/108] END learning_rate=0.1, max_depth=10, max_iter=200, min_samples_leaf=30;, score=0.666 total time=   2.3s\n",
      "[CV 4/5; 36/108] START learning_rate=0.1, max_depth=10, max_iter=200, min_samples_leaf=30\n",
      "[CV 4/5; 36/108] END learning_rate=0.1, max_depth=10, max_iter=200, min_samples_leaf=30;, score=0.686 total time=   2.1s\n",
      "[CV 5/5; 36/108] START learning_rate=0.1, max_depth=10, max_iter=200, min_samples_leaf=30\n",
      "[CV 5/5; 36/108] END learning_rate=0.1, max_depth=10, max_iter=200, min_samples_leaf=30;, score=0.679 total time=   1.7s\n",
      "[CV 1/5; 37/108] START learning_rate=0.15, max_depth=1, max_iter=50, min_samples_leaf=5\n",
      "[CV 1/5; 37/108] END learning_rate=0.15, max_depth=1, max_iter=50, min_samples_leaf=5;, score=0.686 total time=   0.5s\n",
      "[CV 2/5; 37/108] START learning_rate=0.15, max_depth=1, max_iter=50, min_samples_leaf=5\n",
      "[CV 2/5; 37/108] END learning_rate=0.15, max_depth=1, max_iter=50, min_samples_leaf=5;, score=0.688 total time=   0.5s\n",
      "[CV 3/5; 37/108] START learning_rate=0.15, max_depth=1, max_iter=50, min_samples_leaf=5\n",
      "[CV 3/5; 37/108] END learning_rate=0.15, max_depth=1, max_iter=50, min_samples_leaf=5;, score=0.672 total time=   0.5s\n",
      "[CV 4/5; 37/108] START learning_rate=0.15, max_depth=1, max_iter=50, min_samples_leaf=5\n",
      "[CV 4/5; 37/108] END learning_rate=0.15, max_depth=1, max_iter=50, min_samples_leaf=5;, score=0.690 total time=   0.5s\n",
      "[CV 5/5; 37/108] START learning_rate=0.15, max_depth=1, max_iter=50, min_samples_leaf=5\n",
      "[CV 5/5; 37/108] END learning_rate=0.15, max_depth=1, max_iter=50, min_samples_leaf=5;, score=0.683 total time=   0.5s\n",
      "[CV 1/5; 38/108] START learning_rate=0.15, max_depth=1, max_iter=50, min_samples_leaf=10\n",
      "[CV 1/5; 38/108] END learning_rate=0.15, max_depth=1, max_iter=50, min_samples_leaf=10;, score=0.687 total time=   0.5s\n",
      "[CV 2/5; 38/108] START learning_rate=0.15, max_depth=1, max_iter=50, min_samples_leaf=10\n",
      "[CV 2/5; 38/108] END learning_rate=0.15, max_depth=1, max_iter=50, min_samples_leaf=10;, score=0.690 total time=   0.4s\n",
      "[CV 3/5; 38/108] START learning_rate=0.15, max_depth=1, max_iter=50, min_samples_leaf=10\n",
      "[CV 3/5; 38/108] END learning_rate=0.15, max_depth=1, max_iter=50, min_samples_leaf=10;, score=0.672 total time=   0.5s\n",
      "[CV 4/5; 38/108] START learning_rate=0.15, max_depth=1, max_iter=50, min_samples_leaf=10\n",
      "[CV 4/5; 38/108] END learning_rate=0.15, max_depth=1, max_iter=50, min_samples_leaf=10;, score=0.689 total time=   0.5s\n",
      "[CV 5/5; 38/108] START learning_rate=0.15, max_depth=1, max_iter=50, min_samples_leaf=10\n",
      "[CV 5/5; 38/108] END learning_rate=0.15, max_depth=1, max_iter=50, min_samples_leaf=10;, score=0.683 total time=   0.5s\n",
      "[CV 1/5; 39/108] START learning_rate=0.15, max_depth=1, max_iter=50, min_samples_leaf=20\n",
      "[CV 1/5; 39/108] END learning_rate=0.15, max_depth=1, max_iter=50, min_samples_leaf=20;, score=0.688 total time=   0.5s\n",
      "[CV 2/5; 39/108] START learning_rate=0.15, max_depth=1, max_iter=50, min_samples_leaf=20\n",
      "[CV 2/5; 39/108] END learning_rate=0.15, max_depth=1, max_iter=50, min_samples_leaf=20;, score=0.690 total time=   0.5s\n",
      "[CV 3/5; 39/108] START learning_rate=0.15, max_depth=1, max_iter=50, min_samples_leaf=20\n",
      "[CV 3/5; 39/108] END learning_rate=0.15, max_depth=1, max_iter=50, min_samples_leaf=20;, score=0.673 total time=   0.5s\n",
      "[CV 4/5; 39/108] START learning_rate=0.15, max_depth=1, max_iter=50, min_samples_leaf=20\n",
      "[CV 4/5; 39/108] END learning_rate=0.15, max_depth=1, max_iter=50, min_samples_leaf=20;, score=0.690 total time=   0.5s\n",
      "[CV 5/5; 39/108] START learning_rate=0.15, max_depth=1, max_iter=50, min_samples_leaf=20\n",
      "[CV 5/5; 39/108] END learning_rate=0.15, max_depth=1, max_iter=50, min_samples_leaf=20;, score=0.683 total time=   0.5s\n",
      "[CV 1/5; 40/108] START learning_rate=0.15, max_depth=1, max_iter=50, min_samples_leaf=30\n",
      "[CV 1/5; 40/108] END learning_rate=0.15, max_depth=1, max_iter=50, min_samples_leaf=30;, score=0.687 total time=   0.5s\n",
      "[CV 2/5; 40/108] START learning_rate=0.15, max_depth=1, max_iter=50, min_samples_leaf=30\n",
      "[CV 2/5; 40/108] END learning_rate=0.15, max_depth=1, max_iter=50, min_samples_leaf=30;, score=0.690 total time=   0.5s\n",
      "[CV 3/5; 40/108] START learning_rate=0.15, max_depth=1, max_iter=50, min_samples_leaf=30\n",
      "[CV 3/5; 40/108] END learning_rate=0.15, max_depth=1, max_iter=50, min_samples_leaf=30;, score=0.673 total time=   0.4s\n",
      "[CV 4/5; 40/108] START learning_rate=0.15, max_depth=1, max_iter=50, min_samples_leaf=30\n",
      "[CV 4/5; 40/108] END learning_rate=0.15, max_depth=1, max_iter=50, min_samples_leaf=30;, score=0.689 total time=   0.4s\n",
      "[CV 5/5; 40/108] START learning_rate=0.15, max_depth=1, max_iter=50, min_samples_leaf=30\n",
      "[CV 5/5; 40/108] END learning_rate=0.15, max_depth=1, max_iter=50, min_samples_leaf=30;, score=0.683 total time=   0.5s\n",
      "[CV 1/5; 41/108] START learning_rate=0.15, max_depth=1, max_iter=100, min_samples_leaf=5\n",
      "[CV 1/5; 41/108] END learning_rate=0.15, max_depth=1, max_iter=100, min_samples_leaf=5;, score=0.689 total time=   0.6s\n",
      "[CV 2/5; 41/108] START learning_rate=0.15, max_depth=1, max_iter=100, min_samples_leaf=5\n",
      "[CV 2/5; 41/108] END learning_rate=0.15, max_depth=1, max_iter=100, min_samples_leaf=5;, score=0.689 total time=   0.7s\n",
      "[CV 3/5; 41/108] START learning_rate=0.15, max_depth=1, max_iter=100, min_samples_leaf=5\n",
      "[CV 3/5; 41/108] END learning_rate=0.15, max_depth=1, max_iter=100, min_samples_leaf=5;, score=0.672 total time=   0.6s\n",
      "[CV 4/5; 41/108] START learning_rate=0.15, max_depth=1, max_iter=100, min_samples_leaf=5\n",
      "[CV 4/5; 41/108] END learning_rate=0.15, max_depth=1, max_iter=100, min_samples_leaf=5;, score=0.690 total time=   0.6s\n",
      "[CV 5/5; 41/108] START learning_rate=0.15, max_depth=1, max_iter=100, min_samples_leaf=5\n",
      "[CV 5/5; 41/108] END learning_rate=0.15, max_depth=1, max_iter=100, min_samples_leaf=5;, score=0.683 total time=   0.6s\n",
      "[CV 1/5; 42/108] START learning_rate=0.15, max_depth=1, max_iter=100, min_samples_leaf=10\n",
      "[CV 1/5; 42/108] END learning_rate=0.15, max_depth=1, max_iter=100, min_samples_leaf=10;, score=0.688 total time=   0.6s\n",
      "[CV 2/5; 42/108] START learning_rate=0.15, max_depth=1, max_iter=100, min_samples_leaf=10\n",
      "[CV 2/5; 42/108] END learning_rate=0.15, max_depth=1, max_iter=100, min_samples_leaf=10;, score=0.690 total time=   0.5s\n",
      "[CV 3/5; 42/108] START learning_rate=0.15, max_depth=1, max_iter=100, min_samples_leaf=10\n",
      "[CV 3/5; 42/108] END learning_rate=0.15, max_depth=1, max_iter=100, min_samples_leaf=10;, score=0.672 total time=   0.7s\n",
      "[CV 4/5; 42/108] START learning_rate=0.15, max_depth=1, max_iter=100, min_samples_leaf=10\n",
      "[CV 4/5; 42/108] END learning_rate=0.15, max_depth=1, max_iter=100, min_samples_leaf=10;, score=0.689 total time=   0.6s\n",
      "[CV 5/5; 42/108] START learning_rate=0.15, max_depth=1, max_iter=100, min_samples_leaf=10\n",
      "[CV 5/5; 42/108] END learning_rate=0.15, max_depth=1, max_iter=100, min_samples_leaf=10;, score=0.684 total time=   0.7s\n",
      "[CV 1/5; 43/108] START learning_rate=0.15, max_depth=1, max_iter=100, min_samples_leaf=20\n",
      "[CV 1/5; 43/108] END learning_rate=0.15, max_depth=1, max_iter=100, min_samples_leaf=20;, score=0.687 total time=   0.6s\n",
      "[CV 2/5; 43/108] START learning_rate=0.15, max_depth=1, max_iter=100, min_samples_leaf=20\n",
      "[CV 2/5; 43/108] END learning_rate=0.15, max_depth=1, max_iter=100, min_samples_leaf=20;, score=0.689 total time=   0.6s\n",
      "[CV 3/5; 43/108] START learning_rate=0.15, max_depth=1, max_iter=100, min_samples_leaf=20\n",
      "[CV 3/5; 43/108] END learning_rate=0.15, max_depth=1, max_iter=100, min_samples_leaf=20;, score=0.672 total time=   0.6s\n",
      "[CV 4/5; 43/108] START learning_rate=0.15, max_depth=1, max_iter=100, min_samples_leaf=20\n",
      "[CV 4/5; 43/108] END learning_rate=0.15, max_depth=1, max_iter=100, min_samples_leaf=20;, score=0.688 total time=   0.8s\n",
      "[CV 5/5; 43/108] START learning_rate=0.15, max_depth=1, max_iter=100, min_samples_leaf=20\n",
      "[CV 5/5; 43/108] END learning_rate=0.15, max_depth=1, max_iter=100, min_samples_leaf=20;, score=0.683 total time=   0.5s\n",
      "[CV 1/5; 44/108] START learning_rate=0.15, max_depth=1, max_iter=100, min_samples_leaf=30\n",
      "[CV 1/5; 44/108] END learning_rate=0.15, max_depth=1, max_iter=100, min_samples_leaf=30;, score=0.687 total time=   0.6s\n",
      "[CV 2/5; 44/108] START learning_rate=0.15, max_depth=1, max_iter=100, min_samples_leaf=30\n",
      "[CV 2/5; 44/108] END learning_rate=0.15, max_depth=1, max_iter=100, min_samples_leaf=30;, score=0.689 total time=   0.6s\n",
      "[CV 3/5; 44/108] START learning_rate=0.15, max_depth=1, max_iter=100, min_samples_leaf=30\n",
      "[CV 3/5; 44/108] END learning_rate=0.15, max_depth=1, max_iter=100, min_samples_leaf=30;, score=0.672 total time=   0.6s\n",
      "[CV 4/5; 44/108] START learning_rate=0.15, max_depth=1, max_iter=100, min_samples_leaf=30\n",
      "[CV 4/5; 44/108] END learning_rate=0.15, max_depth=1, max_iter=100, min_samples_leaf=30;, score=0.689 total time=   0.5s\n",
      "[CV 5/5; 44/108] START learning_rate=0.15, max_depth=1, max_iter=100, min_samples_leaf=30\n",
      "[CV 5/5; 44/108] END learning_rate=0.15, max_depth=1, max_iter=100, min_samples_leaf=30;, score=0.683 total time=   0.6s\n",
      "[CV 1/5; 45/108] START learning_rate=0.15, max_depth=1, max_iter=200, min_samples_leaf=5\n",
      "[CV 1/5; 45/108] END learning_rate=0.15, max_depth=1, max_iter=200, min_samples_leaf=5;, score=0.687 total time=   0.6s\n",
      "[CV 2/5; 45/108] START learning_rate=0.15, max_depth=1, max_iter=200, min_samples_leaf=5\n",
      "[CV 2/5; 45/108] END learning_rate=0.15, max_depth=1, max_iter=200, min_samples_leaf=5;, score=0.690 total time=   0.4s\n",
      "[CV 3/5; 45/108] START learning_rate=0.15, max_depth=1, max_iter=200, min_samples_leaf=5\n",
      "[CV 3/5; 45/108] END learning_rate=0.15, max_depth=1, max_iter=200, min_samples_leaf=5;, score=0.672 total time=   0.5s\n",
      "[CV 4/5; 45/108] START learning_rate=0.15, max_depth=1, max_iter=200, min_samples_leaf=5\n",
      "[CV 4/5; 45/108] END learning_rate=0.15, max_depth=1, max_iter=200, min_samples_leaf=5;, score=0.689 total time=   0.5s\n",
      "[CV 5/5; 45/108] START learning_rate=0.15, max_depth=1, max_iter=200, min_samples_leaf=5\n",
      "[CV 5/5; 45/108] END learning_rate=0.15, max_depth=1, max_iter=200, min_samples_leaf=5;, score=0.683 total time=   0.5s\n",
      "[CV 1/5; 46/108] START learning_rate=0.15, max_depth=1, max_iter=200, min_samples_leaf=10\n",
      "[CV 1/5; 46/108] END learning_rate=0.15, max_depth=1, max_iter=200, min_samples_leaf=10;, score=0.687 total time=   0.5s\n",
      "[CV 2/5; 46/108] START learning_rate=0.15, max_depth=1, max_iter=200, min_samples_leaf=10\n",
      "[CV 2/5; 46/108] END learning_rate=0.15, max_depth=1, max_iter=200, min_samples_leaf=10;, score=0.689 total time=   0.5s\n",
      "[CV 3/5; 46/108] START learning_rate=0.15, max_depth=1, max_iter=200, min_samples_leaf=10\n",
      "[CV 3/5; 46/108] END learning_rate=0.15, max_depth=1, max_iter=200, min_samples_leaf=10;, score=0.672 total time=   0.5s\n",
      "[CV 4/5; 46/108] START learning_rate=0.15, max_depth=1, max_iter=200, min_samples_leaf=10\n",
      "[CV 4/5; 46/108] END learning_rate=0.15, max_depth=1, max_iter=200, min_samples_leaf=10;, score=0.689 total time=   0.5s\n",
      "[CV 5/5; 46/108] START learning_rate=0.15, max_depth=1, max_iter=200, min_samples_leaf=10\n",
      "[CV 5/5; 46/108] END learning_rate=0.15, max_depth=1, max_iter=200, min_samples_leaf=10;, score=0.684 total time=   0.4s\n",
      "[CV 1/5; 47/108] START learning_rate=0.15, max_depth=1, max_iter=200, min_samples_leaf=20\n",
      "[CV 1/5; 47/108] END learning_rate=0.15, max_depth=1, max_iter=200, min_samples_leaf=20;, score=0.687 total time=   0.4s\n",
      "[CV 2/5; 47/108] START learning_rate=0.15, max_depth=1, max_iter=200, min_samples_leaf=20\n",
      "[CV 2/5; 47/108] END learning_rate=0.15, max_depth=1, max_iter=200, min_samples_leaf=20;, score=0.690 total time=   0.4s\n",
      "[CV 3/5; 47/108] START learning_rate=0.15, max_depth=1, max_iter=200, min_samples_leaf=20\n",
      "[CV 3/5; 47/108] END learning_rate=0.15, max_depth=1, max_iter=200, min_samples_leaf=20;, score=0.672 total time=   0.6s\n",
      "[CV 4/5; 47/108] START learning_rate=0.15, max_depth=1, max_iter=200, min_samples_leaf=20\n",
      "[CV 4/5; 47/108] END learning_rate=0.15, max_depth=1, max_iter=200, min_samples_leaf=20;, score=0.690 total time=   0.5s\n",
      "[CV 5/5; 47/108] START learning_rate=0.15, max_depth=1, max_iter=200, min_samples_leaf=20\n",
      "[CV 5/5; 47/108] END learning_rate=0.15, max_depth=1, max_iter=200, min_samples_leaf=20;, score=0.682 total time=   0.5s\n",
      "[CV 1/5; 48/108] START learning_rate=0.15, max_depth=1, max_iter=200, min_samples_leaf=30\n",
      "[CV 1/5; 48/108] END learning_rate=0.15, max_depth=1, max_iter=200, min_samples_leaf=30;, score=0.688 total time=   0.5s\n",
      "[CV 2/5; 48/108] START learning_rate=0.15, max_depth=1, max_iter=200, min_samples_leaf=30\n",
      "[CV 2/5; 48/108] END learning_rate=0.15, max_depth=1, max_iter=200, min_samples_leaf=30;, score=0.689 total time=   0.4s\n",
      "[CV 3/5; 48/108] START learning_rate=0.15, max_depth=1, max_iter=200, min_samples_leaf=30\n",
      "[CV 3/5; 48/108] END learning_rate=0.15, max_depth=1, max_iter=200, min_samples_leaf=30;, score=0.672 total time=   0.4s\n",
      "[CV 4/5; 48/108] START learning_rate=0.15, max_depth=1, max_iter=200, min_samples_leaf=30\n",
      "[CV 4/5; 48/108] END learning_rate=0.15, max_depth=1, max_iter=200, min_samples_leaf=30;, score=0.689 total time=   0.5s\n",
      "[CV 5/5; 48/108] START learning_rate=0.15, max_depth=1, max_iter=200, min_samples_leaf=30\n",
      "[CV 5/5; 48/108] END learning_rate=0.15, max_depth=1, max_iter=200, min_samples_leaf=30;, score=0.684 total time=   0.4s\n",
      "[CV 1/5; 49/108] START learning_rate=0.15, max_depth=5, max_iter=50, min_samples_leaf=5\n",
      "[CV 1/5; 49/108] END learning_rate=0.15, max_depth=5, max_iter=50, min_samples_leaf=5;, score=0.683 total time=   0.9s\n",
      "[CV 2/5; 49/108] START learning_rate=0.15, max_depth=5, max_iter=50, min_samples_leaf=5\n",
      "[CV 2/5; 49/108] END learning_rate=0.15, max_depth=5, max_iter=50, min_samples_leaf=5;, score=0.683 total time=   1.1s\n",
      "[CV 3/5; 49/108] START learning_rate=0.15, max_depth=5, max_iter=50, min_samples_leaf=5\n",
      "[CV 3/5; 49/108] END learning_rate=0.15, max_depth=5, max_iter=50, min_samples_leaf=5;, score=0.667 total time=   1.1s\n",
      "[CV 4/5; 49/108] START learning_rate=0.15, max_depth=5, max_iter=50, min_samples_leaf=5\n",
      "[CV 4/5; 49/108] END learning_rate=0.15, max_depth=5, max_iter=50, min_samples_leaf=5;, score=0.684 total time=   1.0s\n",
      "[CV 5/5; 49/108] START learning_rate=0.15, max_depth=5, max_iter=50, min_samples_leaf=5\n",
      "[CV 5/5; 49/108] END learning_rate=0.15, max_depth=5, max_iter=50, min_samples_leaf=5;, score=0.672 total time=   1.4s\n",
      "[CV 1/5; 50/108] START learning_rate=0.15, max_depth=5, max_iter=50, min_samples_leaf=10\n",
      "[CV 1/5; 50/108] END learning_rate=0.15, max_depth=5, max_iter=50, min_samples_leaf=10;, score=0.683 total time=   0.9s\n",
      "[CV 2/5; 50/108] START learning_rate=0.15, max_depth=5, max_iter=50, min_samples_leaf=10\n",
      "[CV 2/5; 50/108] END learning_rate=0.15, max_depth=5, max_iter=50, min_samples_leaf=10;, score=0.680 total time=   1.0s\n",
      "[CV 3/5; 50/108] START learning_rate=0.15, max_depth=5, max_iter=50, min_samples_leaf=10\n",
      "[CV 3/5; 50/108] END learning_rate=0.15, max_depth=5, max_iter=50, min_samples_leaf=10;, score=0.662 total time=   1.2s\n",
      "[CV 4/5; 50/108] START learning_rate=0.15, max_depth=5, max_iter=50, min_samples_leaf=10\n",
      "[CV 4/5; 50/108] END learning_rate=0.15, max_depth=5, max_iter=50, min_samples_leaf=10;, score=0.685 total time=   0.9s\n",
      "[CV 5/5; 50/108] START learning_rate=0.15, max_depth=5, max_iter=50, min_samples_leaf=10\n",
      "[CV 5/5; 50/108] END learning_rate=0.15, max_depth=5, max_iter=50, min_samples_leaf=10;, score=0.678 total time=   1.0s\n",
      "[CV 1/5; 51/108] START learning_rate=0.15, max_depth=5, max_iter=50, min_samples_leaf=20\n",
      "[CV 1/5; 51/108] END learning_rate=0.15, max_depth=5, max_iter=50, min_samples_leaf=20;, score=0.682 total time=   1.0s\n",
      "[CV 2/5; 51/108] START learning_rate=0.15, max_depth=5, max_iter=50, min_samples_leaf=20\n",
      "[CV 2/5; 51/108] END learning_rate=0.15, max_depth=5, max_iter=50, min_samples_leaf=20;, score=0.682 total time=   1.3s\n",
      "[CV 3/5; 51/108] START learning_rate=0.15, max_depth=5, max_iter=50, min_samples_leaf=20\n",
      "[CV 3/5; 51/108] END learning_rate=0.15, max_depth=5, max_iter=50, min_samples_leaf=20;, score=0.667 total time=   0.9s\n",
      "[CV 4/5; 51/108] START learning_rate=0.15, max_depth=5, max_iter=50, min_samples_leaf=20\n",
      "[CV 4/5; 51/108] END learning_rate=0.15, max_depth=5, max_iter=50, min_samples_leaf=20;, score=0.687 total time=   0.9s\n",
      "[CV 5/5; 51/108] START learning_rate=0.15, max_depth=5, max_iter=50, min_samples_leaf=20\n",
      "[CV 5/5; 51/108] END learning_rate=0.15, max_depth=5, max_iter=50, min_samples_leaf=20;, score=0.680 total time=   0.9s\n",
      "[CV 1/5; 52/108] START learning_rate=0.15, max_depth=5, max_iter=50, min_samples_leaf=30\n",
      "[CV 1/5; 52/108] END learning_rate=0.15, max_depth=5, max_iter=50, min_samples_leaf=30;, score=0.679 total time=   1.0s\n",
      "[CV 2/5; 52/108] START learning_rate=0.15, max_depth=5, max_iter=50, min_samples_leaf=30\n",
      "[CV 2/5; 52/108] END learning_rate=0.15, max_depth=5, max_iter=50, min_samples_leaf=30;, score=0.684 total time=   1.0s\n",
      "[CV 3/5; 52/108] START learning_rate=0.15, max_depth=5, max_iter=50, min_samples_leaf=30\n",
      "[CV 3/5; 52/108] END learning_rate=0.15, max_depth=5, max_iter=50, min_samples_leaf=30;, score=0.667 total time=   1.0s\n",
      "[CV 4/5; 52/108] START learning_rate=0.15, max_depth=5, max_iter=50, min_samples_leaf=30\n",
      "[CV 4/5; 52/108] END learning_rate=0.15, max_depth=5, max_iter=50, min_samples_leaf=30;, score=0.686 total time=   1.0s\n",
      "[CV 5/5; 52/108] START learning_rate=0.15, max_depth=5, max_iter=50, min_samples_leaf=30\n",
      "[CV 5/5; 52/108] END learning_rate=0.15, max_depth=5, max_iter=50, min_samples_leaf=30;, score=0.679 total time=   1.0s\n",
      "[CV 1/5; 53/108] START learning_rate=0.15, max_depth=5, max_iter=100, min_samples_leaf=5\n",
      "[CV 1/5; 53/108] END learning_rate=0.15, max_depth=5, max_iter=100, min_samples_leaf=5;, score=0.681 total time=   1.2s\n",
      "[CV 2/5; 53/108] START learning_rate=0.15, max_depth=5, max_iter=100, min_samples_leaf=5\n",
      "[CV 2/5; 53/108] END learning_rate=0.15, max_depth=5, max_iter=100, min_samples_leaf=5;, score=0.682 total time=   1.1s\n",
      "[CV 3/5; 53/108] START learning_rate=0.15, max_depth=5, max_iter=100, min_samples_leaf=5\n",
      "[CV 3/5; 53/108] END learning_rate=0.15, max_depth=5, max_iter=100, min_samples_leaf=5;, score=0.666 total time=   1.1s\n",
      "[CV 4/5; 53/108] START learning_rate=0.15, max_depth=5, max_iter=100, min_samples_leaf=5\n",
      "[CV 4/5; 53/108] END learning_rate=0.15, max_depth=5, max_iter=100, min_samples_leaf=5;, score=0.687 total time=   1.1s\n",
      "[CV 5/5; 53/108] START learning_rate=0.15, max_depth=5, max_iter=100, min_samples_leaf=5\n",
      "[CV 5/5; 53/108] END learning_rate=0.15, max_depth=5, max_iter=100, min_samples_leaf=5;, score=0.674 total time=   1.1s\n",
      "[CV 1/5; 54/108] START learning_rate=0.15, max_depth=5, max_iter=100, min_samples_leaf=10\n",
      "[CV 1/5; 54/108] END learning_rate=0.15, max_depth=5, max_iter=100, min_samples_leaf=10;, score=0.684 total time=   1.1s\n",
      "[CV 2/5; 54/108] START learning_rate=0.15, max_depth=5, max_iter=100, min_samples_leaf=10\n",
      "[CV 2/5; 54/108] END learning_rate=0.15, max_depth=5, max_iter=100, min_samples_leaf=10;, score=0.679 total time=   1.2s\n",
      "[CV 3/5; 54/108] START learning_rate=0.15, max_depth=5, max_iter=100, min_samples_leaf=10\n",
      "[CV 3/5; 54/108] END learning_rate=0.15, max_depth=5, max_iter=100, min_samples_leaf=10;, score=0.664 total time=   1.1s\n",
      "[CV 4/5; 54/108] START learning_rate=0.15, max_depth=5, max_iter=100, min_samples_leaf=10\n",
      "[CV 4/5; 54/108] END learning_rate=0.15, max_depth=5, max_iter=100, min_samples_leaf=10;, score=0.685 total time=   0.9s\n",
      "[CV 5/5; 54/108] START learning_rate=0.15, max_depth=5, max_iter=100, min_samples_leaf=10\n",
      "[CV 5/5; 54/108] END learning_rate=0.15, max_depth=5, max_iter=100, min_samples_leaf=10;, score=0.674 total time=   1.2s\n",
      "[CV 1/5; 55/108] START learning_rate=0.15, max_depth=5, max_iter=100, min_samples_leaf=20\n",
      "[CV 1/5; 55/108] END learning_rate=0.15, max_depth=5, max_iter=100, min_samples_leaf=20;, score=0.682 total time=   1.0s\n",
      "[CV 2/5; 55/108] START learning_rate=0.15, max_depth=5, max_iter=100, min_samples_leaf=20\n",
      "[CV 2/5; 55/108] END learning_rate=0.15, max_depth=5, max_iter=100, min_samples_leaf=20;, score=0.679 total time=   1.4s\n",
      "[CV 3/5; 55/108] START learning_rate=0.15, max_depth=5, max_iter=100, min_samples_leaf=20\n",
      "[CV 3/5; 55/108] END learning_rate=0.15, max_depth=5, max_iter=100, min_samples_leaf=20;, score=0.665 total time=   1.3s\n",
      "[CV 4/5; 55/108] START learning_rate=0.15, max_depth=5, max_iter=100, min_samples_leaf=20\n",
      "[CV 4/5; 55/108] END learning_rate=0.15, max_depth=5, max_iter=100, min_samples_leaf=20;, score=0.685 total time=   1.2s\n",
      "[CV 5/5; 55/108] START learning_rate=0.15, max_depth=5, max_iter=100, min_samples_leaf=20\n",
      "[CV 5/5; 55/108] END learning_rate=0.15, max_depth=5, max_iter=100, min_samples_leaf=20;, score=0.679 total time=   1.1s\n",
      "[CV 1/5; 56/108] START learning_rate=0.15, max_depth=5, max_iter=100, min_samples_leaf=30\n",
      "[CV 1/5; 56/108] END learning_rate=0.15, max_depth=5, max_iter=100, min_samples_leaf=30;, score=0.682 total time=   1.1s\n",
      "[CV 2/5; 56/108] START learning_rate=0.15, max_depth=5, max_iter=100, min_samples_leaf=30\n",
      "[CV 2/5; 56/108] END learning_rate=0.15, max_depth=5, max_iter=100, min_samples_leaf=30;, score=0.683 total time=   0.9s\n",
      "[CV 3/5; 56/108] START learning_rate=0.15, max_depth=5, max_iter=100, min_samples_leaf=30\n",
      "[CV 3/5; 56/108] END learning_rate=0.15, max_depth=5, max_iter=100, min_samples_leaf=30;, score=0.665 total time=   1.0s\n",
      "[CV 4/5; 56/108] START learning_rate=0.15, max_depth=5, max_iter=100, min_samples_leaf=30\n",
      "[CV 4/5; 56/108] END learning_rate=0.15, max_depth=5, max_iter=100, min_samples_leaf=30;, score=0.688 total time=   0.9s\n",
      "[CV 5/5; 56/108] START learning_rate=0.15, max_depth=5, max_iter=100, min_samples_leaf=30\n",
      "[CV 5/5; 56/108] END learning_rate=0.15, max_depth=5, max_iter=100, min_samples_leaf=30;, score=0.674 total time=   1.1s\n",
      "[CV 1/5; 57/108] START learning_rate=0.15, max_depth=5, max_iter=200, min_samples_leaf=5\n",
      "[CV 1/5; 57/108] END learning_rate=0.15, max_depth=5, max_iter=200, min_samples_leaf=5;, score=0.682 total time=   0.9s\n",
      "[CV 2/5; 57/108] START learning_rate=0.15, max_depth=5, max_iter=200, min_samples_leaf=5\n",
      "[CV 2/5; 57/108] END learning_rate=0.15, max_depth=5, max_iter=200, min_samples_leaf=5;, score=0.684 total time=   1.1s\n",
      "[CV 3/5; 57/108] START learning_rate=0.15, max_depth=5, max_iter=200, min_samples_leaf=5\n",
      "[CV 3/5; 57/108] END learning_rate=0.15, max_depth=5, max_iter=200, min_samples_leaf=5;, score=0.657 total time=   1.5s\n",
      "[CV 4/5; 57/108] START learning_rate=0.15, max_depth=5, max_iter=200, min_samples_leaf=5\n",
      "[CV 4/5; 57/108] END learning_rate=0.15, max_depth=5, max_iter=200, min_samples_leaf=5;, score=0.684 total time=   1.0s\n",
      "[CV 5/5; 57/108] START learning_rate=0.15, max_depth=5, max_iter=200, min_samples_leaf=5\n",
      "[CV 5/5; 57/108] END learning_rate=0.15, max_depth=5, max_iter=200, min_samples_leaf=5;, score=0.677 total time=   0.9s\n",
      "[CV 1/5; 58/108] START learning_rate=0.15, max_depth=5, max_iter=200, min_samples_leaf=10\n",
      "[CV 1/5; 58/108] END learning_rate=0.15, max_depth=5, max_iter=200, min_samples_leaf=10;, score=0.681 total time=   1.1s\n",
      "[CV 2/5; 58/108] START learning_rate=0.15, max_depth=5, max_iter=200, min_samples_leaf=10\n",
      "[CV 2/5; 58/108] END learning_rate=0.15, max_depth=5, max_iter=200, min_samples_leaf=10;, score=0.683 total time=   1.1s\n",
      "[CV 3/5; 58/108] START learning_rate=0.15, max_depth=5, max_iter=200, min_samples_leaf=10\n",
      "[CV 3/5; 58/108] END learning_rate=0.15, max_depth=5, max_iter=200, min_samples_leaf=10;, score=0.667 total time=   1.1s\n",
      "[CV 4/5; 58/108] START learning_rate=0.15, max_depth=5, max_iter=200, min_samples_leaf=10\n",
      "[CV 4/5; 58/108] END learning_rate=0.15, max_depth=5, max_iter=200, min_samples_leaf=10;, score=0.685 total time=   0.9s\n",
      "[CV 5/5; 58/108] START learning_rate=0.15, max_depth=5, max_iter=200, min_samples_leaf=10\n",
      "[CV 5/5; 58/108] END learning_rate=0.15, max_depth=5, max_iter=200, min_samples_leaf=10;, score=0.674 total time=   1.1s\n",
      "[CV 1/5; 59/108] START learning_rate=0.15, max_depth=5, max_iter=200, min_samples_leaf=20\n",
      "[CV 1/5; 59/108] END learning_rate=0.15, max_depth=5, max_iter=200, min_samples_leaf=20;, score=0.680 total time=   1.0s\n",
      "[CV 2/5; 59/108] START learning_rate=0.15, max_depth=5, max_iter=200, min_samples_leaf=20\n",
      "[CV 2/5; 59/108] END learning_rate=0.15, max_depth=5, max_iter=200, min_samples_leaf=20;, score=0.682 total time=   1.0s\n",
      "[CV 3/5; 59/108] START learning_rate=0.15, max_depth=5, max_iter=200, min_samples_leaf=20\n",
      "[CV 3/5; 59/108] END learning_rate=0.15, max_depth=5, max_iter=200, min_samples_leaf=20;, score=0.666 total time=   1.1s\n",
      "[CV 4/5; 59/108] START learning_rate=0.15, max_depth=5, max_iter=200, min_samples_leaf=20\n",
      "[CV 4/5; 59/108] END learning_rate=0.15, max_depth=5, max_iter=200, min_samples_leaf=20;, score=0.687 total time=   1.0s\n",
      "[CV 5/5; 59/108] START learning_rate=0.15, max_depth=5, max_iter=200, min_samples_leaf=20\n",
      "[CV 5/5; 59/108] END learning_rate=0.15, max_depth=5, max_iter=200, min_samples_leaf=20;, score=0.680 total time=   1.1s\n",
      "[CV 1/5; 60/108] START learning_rate=0.15, max_depth=5, max_iter=200, min_samples_leaf=30\n",
      "[CV 1/5; 60/108] END learning_rate=0.15, max_depth=5, max_iter=200, min_samples_leaf=30;, score=0.681 total time=   1.1s\n",
      "[CV 2/5; 60/108] START learning_rate=0.15, max_depth=5, max_iter=200, min_samples_leaf=30\n",
      "[CV 2/5; 60/108] END learning_rate=0.15, max_depth=5, max_iter=200, min_samples_leaf=30;, score=0.682 total time=   1.1s\n",
      "[CV 3/5; 60/108] START learning_rate=0.15, max_depth=5, max_iter=200, min_samples_leaf=30\n",
      "[CV 3/5; 60/108] END learning_rate=0.15, max_depth=5, max_iter=200, min_samples_leaf=30;, score=0.663 total time=   1.1s\n",
      "[CV 4/5; 60/108] START learning_rate=0.15, max_depth=5, max_iter=200, min_samples_leaf=30\n",
      "[CV 4/5; 60/108] END learning_rate=0.15, max_depth=5, max_iter=200, min_samples_leaf=30;, score=0.688 total time=   1.0s\n",
      "[CV 5/5; 60/108] START learning_rate=0.15, max_depth=5, max_iter=200, min_samples_leaf=30\n",
      "[CV 5/5; 60/108] END learning_rate=0.15, max_depth=5, max_iter=200, min_samples_leaf=30;, score=0.675 total time=   1.1s\n",
      "[CV 1/5; 61/108] START learning_rate=0.15, max_depth=10, max_iter=50, min_samples_leaf=5\n",
      "[CV 1/5; 61/108] END learning_rate=0.15, max_depth=10, max_iter=50, min_samples_leaf=5;, score=0.681 total time=   1.7s\n",
      "[CV 2/5; 61/108] START learning_rate=0.15, max_depth=10, max_iter=50, min_samples_leaf=5\n",
      "[CV 2/5; 61/108] END learning_rate=0.15, max_depth=10, max_iter=50, min_samples_leaf=5;, score=0.679 total time=   2.6s\n",
      "[CV 3/5; 61/108] START learning_rate=0.15, max_depth=10, max_iter=50, min_samples_leaf=5\n",
      "[CV 3/5; 61/108] END learning_rate=0.15, max_depth=10, max_iter=50, min_samples_leaf=5;, score=0.662 total time=   2.1s\n",
      "[CV 4/5; 61/108] START learning_rate=0.15, max_depth=10, max_iter=50, min_samples_leaf=5\n",
      "[CV 4/5; 61/108] END learning_rate=0.15, max_depth=10, max_iter=50, min_samples_leaf=5;, score=0.683 total time=   1.5s\n",
      "[CV 5/5; 61/108] START learning_rate=0.15, max_depth=10, max_iter=50, min_samples_leaf=5\n",
      "[CV 5/5; 61/108] END learning_rate=0.15, max_depth=10, max_iter=50, min_samples_leaf=5;, score=0.674 total time=   1.8s\n",
      "[CV 1/5; 62/108] START learning_rate=0.15, max_depth=10, max_iter=50, min_samples_leaf=10\n",
      "[CV 1/5; 62/108] END learning_rate=0.15, max_depth=10, max_iter=50, min_samples_leaf=10;, score=0.676 total time=   1.7s\n",
      "[CV 2/5; 62/108] START learning_rate=0.15, max_depth=10, max_iter=50, min_samples_leaf=10\n",
      "[CV 2/5; 62/108] END learning_rate=0.15, max_depth=10, max_iter=50, min_samples_leaf=10;, score=0.680 total time=   1.4s\n",
      "[CV 3/5; 62/108] START learning_rate=0.15, max_depth=10, max_iter=50, min_samples_leaf=10\n",
      "[CV 3/5; 62/108] END learning_rate=0.15, max_depth=10, max_iter=50, min_samples_leaf=10;, score=0.662 total time=   1.5s\n",
      "[CV 4/5; 62/108] START learning_rate=0.15, max_depth=10, max_iter=50, min_samples_leaf=10\n",
      "[CV 4/5; 62/108] END learning_rate=0.15, max_depth=10, max_iter=50, min_samples_leaf=10;, score=0.678 total time=   1.3s\n",
      "[CV 5/5; 62/108] START learning_rate=0.15, max_depth=10, max_iter=50, min_samples_leaf=10\n",
      "[CV 5/5; 62/108] END learning_rate=0.15, max_depth=10, max_iter=50, min_samples_leaf=10;, score=0.670 total time=   1.6s\n",
      "[CV 1/5; 63/108] START learning_rate=0.15, max_depth=10, max_iter=50, min_samples_leaf=20\n",
      "[CV 1/5; 63/108] END learning_rate=0.15, max_depth=10, max_iter=50, min_samples_leaf=20;, score=0.679 total time=   1.6s\n",
      "[CV 2/5; 63/108] START learning_rate=0.15, max_depth=10, max_iter=50, min_samples_leaf=20\n",
      "[CV 2/5; 63/108] END learning_rate=0.15, max_depth=10, max_iter=50, min_samples_leaf=20;, score=0.676 total time=   1.8s\n",
      "[CV 3/5; 63/108] START learning_rate=0.15, max_depth=10, max_iter=50, min_samples_leaf=20\n",
      "[CV 3/5; 63/108] END learning_rate=0.15, max_depth=10, max_iter=50, min_samples_leaf=20;, score=0.668 total time=   1.9s\n",
      "[CV 4/5; 63/108] START learning_rate=0.15, max_depth=10, max_iter=50, min_samples_leaf=20\n",
      "[CV 4/5; 63/108] END learning_rate=0.15, max_depth=10, max_iter=50, min_samples_leaf=20;, score=0.681 total time=   1.7s\n",
      "[CV 5/5; 63/108] START learning_rate=0.15, max_depth=10, max_iter=50, min_samples_leaf=20\n",
      "[CV 5/5; 63/108] END learning_rate=0.15, max_depth=10, max_iter=50, min_samples_leaf=20;, score=0.674 total time=   1.6s\n",
      "[CV 1/5; 64/108] START learning_rate=0.15, max_depth=10, max_iter=50, min_samples_leaf=30\n",
      "[CV 1/5; 64/108] END learning_rate=0.15, max_depth=10, max_iter=50, min_samples_leaf=30;, score=0.679 total time=   1.5s\n",
      "[CV 2/5; 64/108] START learning_rate=0.15, max_depth=10, max_iter=50, min_samples_leaf=30\n",
      "[CV 2/5; 64/108] END learning_rate=0.15, max_depth=10, max_iter=50, min_samples_leaf=30;, score=0.678 total time=   2.0s\n",
      "[CV 3/5; 64/108] START learning_rate=0.15, max_depth=10, max_iter=50, min_samples_leaf=30\n",
      "[CV 3/5; 64/108] END learning_rate=0.15, max_depth=10, max_iter=50, min_samples_leaf=30;, score=0.658 total time=   1.5s\n",
      "[CV 4/5; 64/108] START learning_rate=0.15, max_depth=10, max_iter=50, min_samples_leaf=30\n",
      "[CV 4/5; 64/108] END learning_rate=0.15, max_depth=10, max_iter=50, min_samples_leaf=30;, score=0.684 total time=   2.0s\n",
      "[CV 5/5; 64/108] START learning_rate=0.15, max_depth=10, max_iter=50, min_samples_leaf=30\n",
      "[CV 5/5; 64/108] END learning_rate=0.15, max_depth=10, max_iter=50, min_samples_leaf=30;, score=0.676 total time=   1.5s\n",
      "[CV 1/5; 65/108] START learning_rate=0.15, max_depth=10, max_iter=100, min_samples_leaf=5\n",
      "[CV 1/5; 65/108] END learning_rate=0.15, max_depth=10, max_iter=100, min_samples_leaf=5;, score=0.676 total time=   1.7s\n",
      "[CV 2/5; 65/108] START learning_rate=0.15, max_depth=10, max_iter=100, min_samples_leaf=5\n",
      "[CV 2/5; 65/108] END learning_rate=0.15, max_depth=10, max_iter=100, min_samples_leaf=5;, score=0.681 total time=   1.6s\n",
      "[CV 3/5; 65/108] START learning_rate=0.15, max_depth=10, max_iter=100, min_samples_leaf=5\n",
      "[CV 3/5; 65/108] END learning_rate=0.15, max_depth=10, max_iter=100, min_samples_leaf=5;, score=0.661 total time=   2.4s\n",
      "[CV 4/5; 65/108] START learning_rate=0.15, max_depth=10, max_iter=100, min_samples_leaf=5\n",
      "[CV 4/5; 65/108] END learning_rate=0.15, max_depth=10, max_iter=100, min_samples_leaf=5;, score=0.688 total time=   1.6s\n",
      "[CV 5/5; 65/108] START learning_rate=0.15, max_depth=10, max_iter=100, min_samples_leaf=5\n",
      "[CV 5/5; 65/108] END learning_rate=0.15, max_depth=10, max_iter=100, min_samples_leaf=5;, score=0.681 total time=   2.0s\n",
      "[CV 1/5; 66/108] START learning_rate=0.15, max_depth=10, max_iter=100, min_samples_leaf=10\n",
      "[CV 1/5; 66/108] END learning_rate=0.15, max_depth=10, max_iter=100, min_samples_leaf=10;, score=0.679 total time=   1.4s\n",
      "[CV 2/5; 66/108] START learning_rate=0.15, max_depth=10, max_iter=100, min_samples_leaf=10\n",
      "[CV 2/5; 66/108] END learning_rate=0.15, max_depth=10, max_iter=100, min_samples_leaf=10;, score=0.677 total time=   1.7s\n",
      "[CV 3/5; 66/108] START learning_rate=0.15, max_depth=10, max_iter=100, min_samples_leaf=10\n",
      "[CV 3/5; 66/108] END learning_rate=0.15, max_depth=10, max_iter=100, min_samples_leaf=10;, score=0.664 total time=   1.9s\n",
      "[CV 4/5; 66/108] START learning_rate=0.15, max_depth=10, max_iter=100, min_samples_leaf=10\n",
      "[CV 4/5; 66/108] END learning_rate=0.15, max_depth=10, max_iter=100, min_samples_leaf=10;, score=0.683 total time=   1.7s\n",
      "[CV 5/5; 66/108] START learning_rate=0.15, max_depth=10, max_iter=100, min_samples_leaf=10\n",
      "[CV 5/5; 66/108] END learning_rate=0.15, max_depth=10, max_iter=100, min_samples_leaf=10;, score=0.669 total time=   1.8s\n",
      "[CV 1/5; 67/108] START learning_rate=0.15, max_depth=10, max_iter=100, min_samples_leaf=20\n",
      "[CV 1/5; 67/108] END learning_rate=0.15, max_depth=10, max_iter=100, min_samples_leaf=20;, score=0.678 total time=   1.7s\n",
      "[CV 2/5; 67/108] START learning_rate=0.15, max_depth=10, max_iter=100, min_samples_leaf=20\n",
      "[CV 2/5; 67/108] END learning_rate=0.15, max_depth=10, max_iter=100, min_samples_leaf=20;, score=0.681 total time=   1.4s\n",
      "[CV 3/5; 67/108] START learning_rate=0.15, max_depth=10, max_iter=100, min_samples_leaf=20\n",
      "[CV 3/5; 67/108] END learning_rate=0.15, max_depth=10, max_iter=100, min_samples_leaf=20;, score=0.661 total time=   1.7s\n",
      "[CV 4/5; 67/108] START learning_rate=0.15, max_depth=10, max_iter=100, min_samples_leaf=20\n",
      "[CV 4/5; 67/108] END learning_rate=0.15, max_depth=10, max_iter=100, min_samples_leaf=20;, score=0.683 total time=   1.6s\n",
      "[CV 5/5; 67/108] START learning_rate=0.15, max_depth=10, max_iter=100, min_samples_leaf=20\n",
      "[CV 5/5; 67/108] END learning_rate=0.15, max_depth=10, max_iter=100, min_samples_leaf=20;, score=0.672 total time=   2.1s\n",
      "[CV 1/5; 68/108] START learning_rate=0.15, max_depth=10, max_iter=100, min_samples_leaf=30\n",
      "[CV 1/5; 68/108] END learning_rate=0.15, max_depth=10, max_iter=100, min_samples_leaf=30;, score=0.676 total time=   1.4s\n",
      "[CV 2/5; 68/108] START learning_rate=0.15, max_depth=10, max_iter=100, min_samples_leaf=30\n",
      "[CV 2/5; 68/108] END learning_rate=0.15, max_depth=10, max_iter=100, min_samples_leaf=30;, score=0.676 total time=   2.3s\n",
      "[CV 3/5; 68/108] START learning_rate=0.15, max_depth=10, max_iter=100, min_samples_leaf=30\n",
      "[CV 3/5; 68/108] END learning_rate=0.15, max_depth=10, max_iter=100, min_samples_leaf=30;, score=0.659 total time=   2.0s\n",
      "[CV 4/5; 68/108] START learning_rate=0.15, max_depth=10, max_iter=100, min_samples_leaf=30\n",
      "[CV 4/5; 68/108] END learning_rate=0.15, max_depth=10, max_iter=100, min_samples_leaf=30;, score=0.681 total time=   1.5s\n",
      "[CV 5/5; 68/108] START learning_rate=0.15, max_depth=10, max_iter=100, min_samples_leaf=30\n",
      "[CV 5/5; 68/108] END learning_rate=0.15, max_depth=10, max_iter=100, min_samples_leaf=30;, score=0.673 total time=   1.7s\n",
      "[CV 1/5; 69/108] START learning_rate=0.15, max_depth=10, max_iter=200, min_samples_leaf=5\n",
      "[CV 1/5; 69/108] END learning_rate=0.15, max_depth=10, max_iter=200, min_samples_leaf=5;, score=0.677 total time=   1.7s\n",
      "[CV 2/5; 69/108] START learning_rate=0.15, max_depth=10, max_iter=200, min_samples_leaf=5\n",
      "[CV 2/5; 69/108] END learning_rate=0.15, max_depth=10, max_iter=200, min_samples_leaf=5;, score=0.682 total time=   1.4s\n",
      "[CV 3/5; 69/108] START learning_rate=0.15, max_depth=10, max_iter=200, min_samples_leaf=5\n",
      "[CV 3/5; 69/108] END learning_rate=0.15, max_depth=10, max_iter=200, min_samples_leaf=5;, score=0.661 total time=   2.1s\n",
      "[CV 4/5; 69/108] START learning_rate=0.15, max_depth=10, max_iter=200, min_samples_leaf=5\n",
      "[CV 4/5; 69/108] END learning_rate=0.15, max_depth=10, max_iter=200, min_samples_leaf=5;, score=0.681 total time=   2.0s\n",
      "[CV 5/5; 69/108] START learning_rate=0.15, max_depth=10, max_iter=200, min_samples_leaf=5\n",
      "[CV 5/5; 69/108] END learning_rate=0.15, max_depth=10, max_iter=200, min_samples_leaf=5;, score=0.680 total time=   1.5s\n",
      "[CV 1/5; 70/108] START learning_rate=0.15, max_depth=10, max_iter=200, min_samples_leaf=10\n",
      "[CV 1/5; 70/108] END learning_rate=0.15, max_depth=10, max_iter=200, min_samples_leaf=10;, score=0.680 total time=   1.6s\n",
      "[CV 2/5; 70/108] START learning_rate=0.15, max_depth=10, max_iter=200, min_samples_leaf=10\n",
      "[CV 2/5; 70/108] END learning_rate=0.15, max_depth=10, max_iter=200, min_samples_leaf=10;, score=0.682 total time=   1.6s\n",
      "[CV 3/5; 70/108] START learning_rate=0.15, max_depth=10, max_iter=200, min_samples_leaf=10\n",
      "[CV 3/5; 70/108] END learning_rate=0.15, max_depth=10, max_iter=200, min_samples_leaf=10;, score=0.664 total time=   1.4s\n",
      "[CV 4/5; 70/108] START learning_rate=0.15, max_depth=10, max_iter=200, min_samples_leaf=10\n",
      "[CV 4/5; 70/108] END learning_rate=0.15, max_depth=10, max_iter=200, min_samples_leaf=10;, score=0.682 total time=   1.4s\n",
      "[CV 5/5; 70/108] START learning_rate=0.15, max_depth=10, max_iter=200, min_samples_leaf=10\n",
      "[CV 5/5; 70/108] END learning_rate=0.15, max_depth=10, max_iter=200, min_samples_leaf=10;, score=0.672 total time=   1.6s\n",
      "[CV 1/5; 71/108] START learning_rate=0.15, max_depth=10, max_iter=200, min_samples_leaf=20\n",
      "[CV 1/5; 71/108] END learning_rate=0.15, max_depth=10, max_iter=200, min_samples_leaf=20;, score=0.682 total time=   1.7s\n",
      "[CV 2/5; 71/108] START learning_rate=0.15, max_depth=10, max_iter=200, min_samples_leaf=20\n",
      "[CV 2/5; 71/108] END learning_rate=0.15, max_depth=10, max_iter=200, min_samples_leaf=20;, score=0.682 total time=   1.7s\n",
      "[CV 3/5; 71/108] START learning_rate=0.15, max_depth=10, max_iter=200, min_samples_leaf=20\n",
      "[CV 3/5; 71/108] END learning_rate=0.15, max_depth=10, max_iter=200, min_samples_leaf=20;, score=0.663 total time=   1.9s\n",
      "[CV 4/5; 71/108] START learning_rate=0.15, max_depth=10, max_iter=200, min_samples_leaf=20\n",
      "[CV 4/5; 71/108] END learning_rate=0.15, max_depth=10, max_iter=200, min_samples_leaf=20;, score=0.683 total time=   1.5s\n",
      "[CV 5/5; 71/108] START learning_rate=0.15, max_depth=10, max_iter=200, min_samples_leaf=20\n",
      "[CV 5/5; 71/108] END learning_rate=0.15, max_depth=10, max_iter=200, min_samples_leaf=20;, score=0.676 total time=   1.7s\n",
      "[CV 1/5; 72/108] START learning_rate=0.15, max_depth=10, max_iter=200, min_samples_leaf=30\n",
      "[CV 1/5; 72/108] END learning_rate=0.15, max_depth=10, max_iter=200, min_samples_leaf=30;, score=0.678 total time=   1.4s\n",
      "[CV 2/5; 72/108] START learning_rate=0.15, max_depth=10, max_iter=200, min_samples_leaf=30\n",
      "[CV 2/5; 72/108] END learning_rate=0.15, max_depth=10, max_iter=200, min_samples_leaf=30;, score=0.677 total time=   1.7s\n",
      "[CV 3/5; 72/108] START learning_rate=0.15, max_depth=10, max_iter=200, min_samples_leaf=30\n",
      "[CV 3/5; 72/108] END learning_rate=0.15, max_depth=10, max_iter=200, min_samples_leaf=30;, score=0.662 total time=   1.6s\n",
      "[CV 4/5; 72/108] START learning_rate=0.15, max_depth=10, max_iter=200, min_samples_leaf=30\n",
      "[CV 4/5; 72/108] END learning_rate=0.15, max_depth=10, max_iter=200, min_samples_leaf=30;, score=0.682 total time=   1.3s\n",
      "[CV 5/5; 72/108] START learning_rate=0.15, max_depth=10, max_iter=200, min_samples_leaf=30\n",
      "[CV 5/5; 72/108] END learning_rate=0.15, max_depth=10, max_iter=200, min_samples_leaf=30;, score=0.678 total time=   1.4s\n",
      "[CV 1/5; 73/108] START learning_rate=0.2, max_depth=1, max_iter=50, min_samples_leaf=5\n",
      "[CV 1/5; 73/108] END learning_rate=0.2, max_depth=1, max_iter=50, min_samples_leaf=5;, score=0.687 total time=   0.3s\n",
      "[CV 2/5; 73/108] START learning_rate=0.2, max_depth=1, max_iter=50, min_samples_leaf=5\n",
      "[CV 2/5; 73/108] END learning_rate=0.2, max_depth=1, max_iter=50, min_samples_leaf=5;, score=0.690 total time=   0.4s\n",
      "[CV 3/5; 73/108] START learning_rate=0.2, max_depth=1, max_iter=50, min_samples_leaf=5\n",
      "[CV 3/5; 73/108] END learning_rate=0.2, max_depth=1, max_iter=50, min_samples_leaf=5;, score=0.672 total time=   0.4s\n",
      "[CV 4/5; 73/108] START learning_rate=0.2, max_depth=1, max_iter=50, min_samples_leaf=5\n",
      "[CV 4/5; 73/108] END learning_rate=0.2, max_depth=1, max_iter=50, min_samples_leaf=5;, score=0.690 total time=   0.4s\n",
      "[CV 5/5; 73/108] START learning_rate=0.2, max_depth=1, max_iter=50, min_samples_leaf=5\n",
      "[CV 5/5; 73/108] END learning_rate=0.2, max_depth=1, max_iter=50, min_samples_leaf=5;, score=0.683 total time=   0.4s\n",
      "[CV 1/5; 74/108] START learning_rate=0.2, max_depth=1, max_iter=50, min_samples_leaf=10\n",
      "[CV 1/5; 74/108] END learning_rate=0.2, max_depth=1, max_iter=50, min_samples_leaf=10;, score=0.688 total time=   0.4s\n",
      "[CV 2/5; 74/108] START learning_rate=0.2, max_depth=1, max_iter=50, min_samples_leaf=10\n",
      "[CV 2/5; 74/108] END learning_rate=0.2, max_depth=1, max_iter=50, min_samples_leaf=10;, score=0.690 total time=   0.4s\n",
      "[CV 3/5; 74/108] START learning_rate=0.2, max_depth=1, max_iter=50, min_samples_leaf=10\n",
      "[CV 3/5; 74/108] END learning_rate=0.2, max_depth=1, max_iter=50, min_samples_leaf=10;, score=0.671 total time=   0.4s\n",
      "[CV 4/5; 74/108] START learning_rate=0.2, max_depth=1, max_iter=50, min_samples_leaf=10\n",
      "[CV 4/5; 74/108] END learning_rate=0.2, max_depth=1, max_iter=50, min_samples_leaf=10;, score=0.689 total time=   0.4s\n",
      "[CV 5/5; 74/108] START learning_rate=0.2, max_depth=1, max_iter=50, min_samples_leaf=10\n",
      "[CV 5/5; 74/108] END learning_rate=0.2, max_depth=1, max_iter=50, min_samples_leaf=10;, score=0.681 total time=   0.4s\n",
      "[CV 1/5; 75/108] START learning_rate=0.2, max_depth=1, max_iter=50, min_samples_leaf=20\n",
      "[CV 1/5; 75/108] END learning_rate=0.2, max_depth=1, max_iter=50, min_samples_leaf=20;, score=0.687 total time=   0.4s\n",
      "[CV 2/5; 75/108] START learning_rate=0.2, max_depth=1, max_iter=50, min_samples_leaf=20\n",
      "[CV 2/5; 75/108] END learning_rate=0.2, max_depth=1, max_iter=50, min_samples_leaf=20;, score=0.690 total time=   0.4s\n",
      "[CV 3/5; 75/108] START learning_rate=0.2, max_depth=1, max_iter=50, min_samples_leaf=20\n",
      "[CV 3/5; 75/108] END learning_rate=0.2, max_depth=1, max_iter=50, min_samples_leaf=20;, score=0.671 total time=   0.4s\n",
      "[CV 4/5; 75/108] START learning_rate=0.2, max_depth=1, max_iter=50, min_samples_leaf=20\n",
      "[CV 4/5; 75/108] END learning_rate=0.2, max_depth=1, max_iter=50, min_samples_leaf=20;, score=0.689 total time=   0.4s\n",
      "[CV 5/5; 75/108] START learning_rate=0.2, max_depth=1, max_iter=50, min_samples_leaf=20\n",
      "[CV 5/5; 75/108] END learning_rate=0.2, max_depth=1, max_iter=50, min_samples_leaf=20;, score=0.682 total time=   0.4s\n",
      "[CV 1/5; 76/108] START learning_rate=0.2, max_depth=1, max_iter=50, min_samples_leaf=30\n",
      "[CV 1/5; 76/108] END learning_rate=0.2, max_depth=1, max_iter=50, min_samples_leaf=30;, score=0.687 total time=   0.4s\n",
      "[CV 2/5; 76/108] START learning_rate=0.2, max_depth=1, max_iter=50, min_samples_leaf=30\n",
      "[CV 2/5; 76/108] END learning_rate=0.2, max_depth=1, max_iter=50, min_samples_leaf=30;, score=0.689 total time=   0.4s\n",
      "[CV 3/5; 76/108] START learning_rate=0.2, max_depth=1, max_iter=50, min_samples_leaf=30\n",
      "[CV 3/5; 76/108] END learning_rate=0.2, max_depth=1, max_iter=50, min_samples_leaf=30;, score=0.672 total time=   0.4s\n",
      "[CV 4/5; 76/108] START learning_rate=0.2, max_depth=1, max_iter=50, min_samples_leaf=30\n",
      "[CV 4/5; 76/108] END learning_rate=0.2, max_depth=1, max_iter=50, min_samples_leaf=30;, score=0.689 total time=   0.4s\n",
      "[CV 5/5; 76/108] START learning_rate=0.2, max_depth=1, max_iter=50, min_samples_leaf=30\n",
      "[CV 5/5; 76/108] END learning_rate=0.2, max_depth=1, max_iter=50, min_samples_leaf=30;, score=0.683 total time=   0.4s\n",
      "[CV 1/5; 77/108] START learning_rate=0.2, max_depth=1, max_iter=100, min_samples_leaf=5\n",
      "[CV 1/5; 77/108] END learning_rate=0.2, max_depth=1, max_iter=100, min_samples_leaf=5;, score=0.686 total time=   0.4s\n",
      "[CV 2/5; 77/108] START learning_rate=0.2, max_depth=1, max_iter=100, min_samples_leaf=5\n",
      "[CV 2/5; 77/108] END learning_rate=0.2, max_depth=1, max_iter=100, min_samples_leaf=5;, score=0.689 total time=   0.4s\n",
      "[CV 3/5; 77/108] START learning_rate=0.2, max_depth=1, max_iter=100, min_samples_leaf=5\n",
      "[CV 3/5; 77/108] END learning_rate=0.2, max_depth=1, max_iter=100, min_samples_leaf=5;, score=0.671 total time=   0.5s\n",
      "[CV 4/5; 77/108] START learning_rate=0.2, max_depth=1, max_iter=100, min_samples_leaf=5\n",
      "[CV 4/5; 77/108] END learning_rate=0.2, max_depth=1, max_iter=100, min_samples_leaf=5;, score=0.688 total time=   0.5s\n",
      "[CV 5/5; 77/108] START learning_rate=0.2, max_depth=1, max_iter=100, min_samples_leaf=5\n",
      "[CV 5/5; 77/108] END learning_rate=0.2, max_depth=1, max_iter=100, min_samples_leaf=5;, score=0.683 total time=   0.5s\n",
      "[CV 1/5; 78/108] START learning_rate=0.2, max_depth=1, max_iter=100, min_samples_leaf=10\n",
      "[CV 1/5; 78/108] END learning_rate=0.2, max_depth=1, max_iter=100, min_samples_leaf=10;, score=0.687 total time=   0.4s\n",
      "[CV 2/5; 78/108] START learning_rate=0.2, max_depth=1, max_iter=100, min_samples_leaf=10\n",
      "[CV 2/5; 78/108] END learning_rate=0.2, max_depth=1, max_iter=100, min_samples_leaf=10;, score=0.689 total time=   0.5s\n",
      "[CV 3/5; 78/108] START learning_rate=0.2, max_depth=1, max_iter=100, min_samples_leaf=10\n",
      "[CV 3/5; 78/108] END learning_rate=0.2, max_depth=1, max_iter=100, min_samples_leaf=10;, score=0.673 total time=   0.5s\n",
      "[CV 4/5; 78/108] START learning_rate=0.2, max_depth=1, max_iter=100, min_samples_leaf=10\n",
      "[CV 4/5; 78/108] END learning_rate=0.2, max_depth=1, max_iter=100, min_samples_leaf=10;, score=0.689 total time=   0.4s\n",
      "[CV 5/5; 78/108] START learning_rate=0.2, max_depth=1, max_iter=100, min_samples_leaf=10\n",
      "[CV 5/5; 78/108] END learning_rate=0.2, max_depth=1, max_iter=100, min_samples_leaf=10;, score=0.683 total time=   0.5s\n",
      "[CV 1/5; 79/108] START learning_rate=0.2, max_depth=1, max_iter=100, min_samples_leaf=20\n",
      "[CV 1/5; 79/108] END learning_rate=0.2, max_depth=1, max_iter=100, min_samples_leaf=20;, score=0.688 total time=   0.5s\n",
      "[CV 2/5; 79/108] START learning_rate=0.2, max_depth=1, max_iter=100, min_samples_leaf=20\n",
      "[CV 2/5; 79/108] END learning_rate=0.2, max_depth=1, max_iter=100, min_samples_leaf=20;, score=0.689 total time=   0.5s\n",
      "[CV 3/5; 79/108] START learning_rate=0.2, max_depth=1, max_iter=100, min_samples_leaf=20\n",
      "[CV 3/5; 79/108] END learning_rate=0.2, max_depth=1, max_iter=100, min_samples_leaf=20;, score=0.671 total time=   0.5s\n",
      "[CV 4/5; 79/108] START learning_rate=0.2, max_depth=1, max_iter=100, min_samples_leaf=20\n",
      "[CV 4/5; 79/108] END learning_rate=0.2, max_depth=1, max_iter=100, min_samples_leaf=20;, score=0.689 total time=   0.5s\n",
      "[CV 5/5; 79/108] START learning_rate=0.2, max_depth=1, max_iter=100, min_samples_leaf=20\n",
      "[CV 5/5; 79/108] END learning_rate=0.2, max_depth=1, max_iter=100, min_samples_leaf=20;, score=0.682 total time=   0.4s\n",
      "[CV 1/5; 80/108] START learning_rate=0.2, max_depth=1, max_iter=100, min_samples_leaf=30\n",
      "[CV 1/5; 80/108] END learning_rate=0.2, max_depth=1, max_iter=100, min_samples_leaf=30;, score=0.688 total time=   0.4s\n",
      "[CV 2/5; 80/108] START learning_rate=0.2, max_depth=1, max_iter=100, min_samples_leaf=30\n",
      "[CV 2/5; 80/108] END learning_rate=0.2, max_depth=1, max_iter=100, min_samples_leaf=30;, score=0.689 total time=   0.4s\n",
      "[CV 3/5; 80/108] START learning_rate=0.2, max_depth=1, max_iter=100, min_samples_leaf=30\n",
      "[CV 3/5; 80/108] END learning_rate=0.2, max_depth=1, max_iter=100, min_samples_leaf=30;, score=0.672 total time=   0.5s\n",
      "[CV 4/5; 80/108] START learning_rate=0.2, max_depth=1, max_iter=100, min_samples_leaf=30\n",
      "[CV 4/5; 80/108] END learning_rate=0.2, max_depth=1, max_iter=100, min_samples_leaf=30;, score=0.688 total time=   0.7s\n",
      "[CV 5/5; 80/108] START learning_rate=0.2, max_depth=1, max_iter=100, min_samples_leaf=30\n",
      "[CV 5/5; 80/108] END learning_rate=0.2, max_depth=1, max_iter=100, min_samples_leaf=30;, score=0.683 total time=   0.4s\n",
      "[CV 1/5; 81/108] START learning_rate=0.2, max_depth=1, max_iter=200, min_samples_leaf=5\n",
      "[CV 1/5; 81/108] END learning_rate=0.2, max_depth=1, max_iter=200, min_samples_leaf=5;, score=0.687 total time=   0.5s\n",
      "[CV 2/5; 81/108] START learning_rate=0.2, max_depth=1, max_iter=200, min_samples_leaf=5\n",
      "[CV 2/5; 81/108] END learning_rate=0.2, max_depth=1, max_iter=200, min_samples_leaf=5;, score=0.688 total time=   0.5s\n",
      "[CV 3/5; 81/108] START learning_rate=0.2, max_depth=1, max_iter=200, min_samples_leaf=5\n",
      "[CV 3/5; 81/108] END learning_rate=0.2, max_depth=1, max_iter=200, min_samples_leaf=5;, score=0.673 total time=   0.4s\n",
      "[CV 4/5; 81/108] START learning_rate=0.2, max_depth=1, max_iter=200, min_samples_leaf=5\n",
      "[CV 4/5; 81/108] END learning_rate=0.2, max_depth=1, max_iter=200, min_samples_leaf=5;, score=0.688 total time=   0.5s\n",
      "[CV 5/5; 81/108] START learning_rate=0.2, max_depth=1, max_iter=200, min_samples_leaf=5\n",
      "[CV 5/5; 81/108] END learning_rate=0.2, max_depth=1, max_iter=200, min_samples_leaf=5;, score=0.684 total time=   0.5s\n",
      "[CV 1/5; 82/108] START learning_rate=0.2, max_depth=1, max_iter=200, min_samples_leaf=10\n",
      "[CV 1/5; 82/108] END learning_rate=0.2, max_depth=1, max_iter=200, min_samples_leaf=10;, score=0.687 total time=   0.5s\n",
      "[CV 2/5; 82/108] START learning_rate=0.2, max_depth=1, max_iter=200, min_samples_leaf=10\n",
      "[CV 2/5; 82/108] END learning_rate=0.2, max_depth=1, max_iter=200, min_samples_leaf=10;, score=0.688 total time=   0.5s\n",
      "[CV 3/5; 82/108] START learning_rate=0.2, max_depth=1, max_iter=200, min_samples_leaf=10\n",
      "[CV 3/5; 82/108] END learning_rate=0.2, max_depth=1, max_iter=200, min_samples_leaf=10;, score=0.674 total time=   0.5s\n",
      "[CV 4/5; 82/108] START learning_rate=0.2, max_depth=1, max_iter=200, min_samples_leaf=10\n",
      "[CV 4/5; 82/108] END learning_rate=0.2, max_depth=1, max_iter=200, min_samples_leaf=10;, score=0.689 total time=   0.6s\n",
      "[CV 5/5; 82/108] START learning_rate=0.2, max_depth=1, max_iter=200, min_samples_leaf=10\n",
      "[CV 5/5; 82/108] END learning_rate=0.2, max_depth=1, max_iter=200, min_samples_leaf=10;, score=0.684 total time=   0.5s\n",
      "[CV 1/5; 83/108] START learning_rate=0.2, max_depth=1, max_iter=200, min_samples_leaf=20\n",
      "[CV 1/5; 83/108] END learning_rate=0.2, max_depth=1, max_iter=200, min_samples_leaf=20;, score=0.686 total time=   0.4s\n",
      "[CV 2/5; 83/108] START learning_rate=0.2, max_depth=1, max_iter=200, min_samples_leaf=20\n",
      "[CV 2/5; 83/108] END learning_rate=0.2, max_depth=1, max_iter=200, min_samples_leaf=20;, score=0.688 total time=   0.4s\n",
      "[CV 3/5; 83/108] START learning_rate=0.2, max_depth=1, max_iter=200, min_samples_leaf=20\n",
      "[CV 3/5; 83/108] END learning_rate=0.2, max_depth=1, max_iter=200, min_samples_leaf=20;, score=0.673 total time=   0.4s\n",
      "[CV 4/5; 83/108] START learning_rate=0.2, max_depth=1, max_iter=200, min_samples_leaf=20\n",
      "[CV 4/5; 83/108] END learning_rate=0.2, max_depth=1, max_iter=200, min_samples_leaf=20;, score=0.689 total time=   0.4s\n",
      "[CV 5/5; 83/108] START learning_rate=0.2, max_depth=1, max_iter=200, min_samples_leaf=20\n",
      "[CV 5/5; 83/108] END learning_rate=0.2, max_depth=1, max_iter=200, min_samples_leaf=20;, score=0.683 total time=   0.4s\n",
      "[CV 1/5; 84/108] START learning_rate=0.2, max_depth=1, max_iter=200, min_samples_leaf=30\n",
      "[CV 1/5; 84/108] END learning_rate=0.2, max_depth=1, max_iter=200, min_samples_leaf=30;, score=0.687 total time=   0.6s\n",
      "[CV 2/5; 84/108] START learning_rate=0.2, max_depth=1, max_iter=200, min_samples_leaf=30\n",
      "[CV 2/5; 84/108] END learning_rate=0.2, max_depth=1, max_iter=200, min_samples_leaf=30;, score=0.688 total time=   0.4s\n",
      "[CV 3/5; 84/108] START learning_rate=0.2, max_depth=1, max_iter=200, min_samples_leaf=30\n",
      "[CV 3/5; 84/108] END learning_rate=0.2, max_depth=1, max_iter=200, min_samples_leaf=30;, score=0.674 total time=   0.4s\n",
      "[CV 4/5; 84/108] START learning_rate=0.2, max_depth=1, max_iter=200, min_samples_leaf=30\n",
      "[CV 4/5; 84/108] END learning_rate=0.2, max_depth=1, max_iter=200, min_samples_leaf=30;, score=0.689 total time=   0.5s\n",
      "[CV 5/5; 84/108] START learning_rate=0.2, max_depth=1, max_iter=200, min_samples_leaf=30\n",
      "[CV 5/5; 84/108] END learning_rate=0.2, max_depth=1, max_iter=200, min_samples_leaf=30;, score=0.683 total time=   0.6s\n",
      "[CV 1/5; 85/108] START learning_rate=0.2, max_depth=5, max_iter=50, min_samples_leaf=5\n",
      "[CV 1/5; 85/108] END learning_rate=0.2, max_depth=5, max_iter=50, min_samples_leaf=5;, score=0.679 total time=   1.0s\n",
      "[CV 2/5; 85/108] START learning_rate=0.2, max_depth=5, max_iter=50, min_samples_leaf=5\n",
      "[CV 2/5; 85/108] END learning_rate=0.2, max_depth=5, max_iter=50, min_samples_leaf=5;, score=0.681 total time=   0.8s\n",
      "[CV 3/5; 85/108] START learning_rate=0.2, max_depth=5, max_iter=50, min_samples_leaf=5\n",
      "[CV 3/5; 85/108] END learning_rate=0.2, max_depth=5, max_iter=50, min_samples_leaf=5;, score=0.662 total time=   1.0s\n",
      "[CV 4/5; 85/108] START learning_rate=0.2, max_depth=5, max_iter=50, min_samples_leaf=5\n",
      "[CV 4/5; 85/108] END learning_rate=0.2, max_depth=5, max_iter=50, min_samples_leaf=5;, score=0.686 total time=   0.9s\n",
      "[CV 5/5; 85/108] START learning_rate=0.2, max_depth=5, max_iter=50, min_samples_leaf=5\n",
      "[CV 5/5; 85/108] END learning_rate=0.2, max_depth=5, max_iter=50, min_samples_leaf=5;, score=0.672 total time=   1.0s\n",
      "[CV 1/5; 86/108] START learning_rate=0.2, max_depth=5, max_iter=50, min_samples_leaf=10\n",
      "[CV 1/5; 86/108] END learning_rate=0.2, max_depth=5, max_iter=50, min_samples_leaf=10;, score=0.681 total time=   0.8s\n",
      "[CV 2/5; 86/108] START learning_rate=0.2, max_depth=5, max_iter=50, min_samples_leaf=10\n",
      "[CV 2/5; 86/108] END learning_rate=0.2, max_depth=5, max_iter=50, min_samples_leaf=10;, score=0.682 total time=   0.9s\n",
      "[CV 3/5; 86/108] START learning_rate=0.2, max_depth=5, max_iter=50, min_samples_leaf=10\n",
      "[CV 3/5; 86/108] END learning_rate=0.2, max_depth=5, max_iter=50, min_samples_leaf=10;, score=0.664 total time=   0.8s\n",
      "[CV 4/5; 86/108] START learning_rate=0.2, max_depth=5, max_iter=50, min_samples_leaf=10\n",
      "[CV 4/5; 86/108] END learning_rate=0.2, max_depth=5, max_iter=50, min_samples_leaf=10;, score=0.685 total time=   0.9s\n",
      "[CV 5/5; 86/108] START learning_rate=0.2, max_depth=5, max_iter=50, min_samples_leaf=10\n",
      "[CV 5/5; 86/108] END learning_rate=0.2, max_depth=5, max_iter=50, min_samples_leaf=10;, score=0.675 total time=   1.0s\n",
      "[CV 1/5; 87/108] START learning_rate=0.2, max_depth=5, max_iter=50, min_samples_leaf=20\n",
      "[CV 1/5; 87/108] END learning_rate=0.2, max_depth=5, max_iter=50, min_samples_leaf=20;, score=0.682 total time=   0.9s\n",
      "[CV 2/5; 87/108] START learning_rate=0.2, max_depth=5, max_iter=50, min_samples_leaf=20\n",
      "[CV 2/5; 87/108] END learning_rate=0.2, max_depth=5, max_iter=50, min_samples_leaf=20;, score=0.683 total time=   1.0s\n",
      "[CV 3/5; 87/108] START learning_rate=0.2, max_depth=5, max_iter=50, min_samples_leaf=20\n",
      "[CV 3/5; 87/108] END learning_rate=0.2, max_depth=5, max_iter=50, min_samples_leaf=20;, score=0.663 total time=   0.9s\n",
      "[CV 4/5; 87/108] START learning_rate=0.2, max_depth=5, max_iter=50, min_samples_leaf=20\n",
      "[CV 4/5; 87/108] END learning_rate=0.2, max_depth=5, max_iter=50, min_samples_leaf=20;, score=0.682 total time=   1.1s\n",
      "[CV 5/5; 87/108] START learning_rate=0.2, max_depth=5, max_iter=50, min_samples_leaf=20\n",
      "[CV 5/5; 87/108] END learning_rate=0.2, max_depth=5, max_iter=50, min_samples_leaf=20;, score=0.678 total time=   1.0s\n",
      "[CV 1/5; 88/108] START learning_rate=0.2, max_depth=5, max_iter=50, min_samples_leaf=30\n",
      "[CV 1/5; 88/108] END learning_rate=0.2, max_depth=5, max_iter=50, min_samples_leaf=30;, score=0.675 total time=   1.1s\n",
      "[CV 2/5; 88/108] START learning_rate=0.2, max_depth=5, max_iter=50, min_samples_leaf=30\n",
      "[CV 2/5; 88/108] END learning_rate=0.2, max_depth=5, max_iter=50, min_samples_leaf=30;, score=0.682 total time=   0.8s\n",
      "[CV 3/5; 88/108] START learning_rate=0.2, max_depth=5, max_iter=50, min_samples_leaf=30\n",
      "[CV 3/5; 88/108] END learning_rate=0.2, max_depth=5, max_iter=50, min_samples_leaf=30;, score=0.667 total time=   0.8s\n",
      "[CV 4/5; 88/108] START learning_rate=0.2, max_depth=5, max_iter=50, min_samples_leaf=30\n",
      "[CV 4/5; 88/108] END learning_rate=0.2, max_depth=5, max_iter=50, min_samples_leaf=30;, score=0.683 total time=   0.9s\n",
      "[CV 5/5; 88/108] START learning_rate=0.2, max_depth=5, max_iter=50, min_samples_leaf=30\n",
      "[CV 5/5; 88/108] END learning_rate=0.2, max_depth=5, max_iter=50, min_samples_leaf=30;, score=0.678 total time=   1.0s\n",
      "[CV 1/5; 89/108] START learning_rate=0.2, max_depth=5, max_iter=100, min_samples_leaf=5\n",
      "[CV 1/5; 89/108] END learning_rate=0.2, max_depth=5, max_iter=100, min_samples_leaf=5;, score=0.683 total time=   0.9s\n",
      "[CV 2/5; 89/108] START learning_rate=0.2, max_depth=5, max_iter=100, min_samples_leaf=5\n",
      "[CV 2/5; 89/108] END learning_rate=0.2, max_depth=5, max_iter=100, min_samples_leaf=5;, score=0.684 total time=   1.0s\n",
      "[CV 3/5; 89/108] START learning_rate=0.2, max_depth=5, max_iter=100, min_samples_leaf=5\n",
      "[CV 3/5; 89/108] END learning_rate=0.2, max_depth=5, max_iter=100, min_samples_leaf=5;, score=0.660 total time=   1.0s\n",
      "[CV 4/5; 89/108] START learning_rate=0.2, max_depth=5, max_iter=100, min_samples_leaf=5\n",
      "[CV 4/5; 89/108] END learning_rate=0.2, max_depth=5, max_iter=100, min_samples_leaf=5;, score=0.682 total time=   0.8s\n",
      "[CV 5/5; 89/108] START learning_rate=0.2, max_depth=5, max_iter=100, min_samples_leaf=5\n",
      "[CV 5/5; 89/108] END learning_rate=0.2, max_depth=5, max_iter=100, min_samples_leaf=5;, score=0.679 total time=   0.9s\n",
      "[CV 1/5; 90/108] START learning_rate=0.2, max_depth=5, max_iter=100, min_samples_leaf=10\n",
      "[CV 1/5; 90/108] END learning_rate=0.2, max_depth=5, max_iter=100, min_samples_leaf=10;, score=0.679 total time=   0.9s\n",
      "[CV 2/5; 90/108] START learning_rate=0.2, max_depth=5, max_iter=100, min_samples_leaf=10\n",
      "[CV 2/5; 90/108] END learning_rate=0.2, max_depth=5, max_iter=100, min_samples_leaf=10;, score=0.678 total time=   0.9s\n",
      "[CV 3/5; 90/108] START learning_rate=0.2, max_depth=5, max_iter=100, min_samples_leaf=10\n",
      "[CV 3/5; 90/108] END learning_rate=0.2, max_depth=5, max_iter=100, min_samples_leaf=10;, score=0.667 total time=   0.8s\n",
      "[CV 4/5; 90/108] START learning_rate=0.2, max_depth=5, max_iter=100, min_samples_leaf=10\n",
      "[CV 4/5; 90/108] END learning_rate=0.2, max_depth=5, max_iter=100, min_samples_leaf=10;, score=0.685 total time=   0.9s\n",
      "[CV 5/5; 90/108] START learning_rate=0.2, max_depth=5, max_iter=100, min_samples_leaf=10\n",
      "[CV 5/5; 90/108] END learning_rate=0.2, max_depth=5, max_iter=100, min_samples_leaf=10;, score=0.675 total time=   0.9s\n",
      "[CV 1/5; 91/108] START learning_rate=0.2, max_depth=5, max_iter=100, min_samples_leaf=20\n",
      "[CV 1/5; 91/108] END learning_rate=0.2, max_depth=5, max_iter=100, min_samples_leaf=20;, score=0.678 total time=   1.0s\n",
      "[CV 2/5; 91/108] START learning_rate=0.2, max_depth=5, max_iter=100, min_samples_leaf=20\n",
      "[CV 2/5; 91/108] END learning_rate=0.2, max_depth=5, max_iter=100, min_samples_leaf=20;, score=0.682 total time=   0.8s\n",
      "[CV 3/5; 91/108] START learning_rate=0.2, max_depth=5, max_iter=100, min_samples_leaf=20\n",
      "[CV 3/5; 91/108] END learning_rate=0.2, max_depth=5, max_iter=100, min_samples_leaf=20;, score=0.662 total time=   0.9s\n",
      "[CV 4/5; 91/108] START learning_rate=0.2, max_depth=5, max_iter=100, min_samples_leaf=20\n",
      "[CV 4/5; 91/108] END learning_rate=0.2, max_depth=5, max_iter=100, min_samples_leaf=20;, score=0.682 total time=   0.9s\n",
      "[CV 5/5; 91/108] START learning_rate=0.2, max_depth=5, max_iter=100, min_samples_leaf=20\n",
      "[CV 5/5; 91/108] END learning_rate=0.2, max_depth=5, max_iter=100, min_samples_leaf=20;, score=0.672 total time=   1.2s\n",
      "[CV 1/5; 92/108] START learning_rate=0.2, max_depth=5, max_iter=100, min_samples_leaf=30\n",
      "[CV 1/5; 92/108] END learning_rate=0.2, max_depth=5, max_iter=100, min_samples_leaf=30;, score=0.682 total time=   0.8s\n",
      "[CV 2/5; 92/108] START learning_rate=0.2, max_depth=5, max_iter=100, min_samples_leaf=30\n",
      "[CV 2/5; 92/108] END learning_rate=0.2, max_depth=5, max_iter=100, min_samples_leaf=30;, score=0.685 total time=   0.8s\n",
      "[CV 3/5; 92/108] START learning_rate=0.2, max_depth=5, max_iter=100, min_samples_leaf=30\n",
      "[CV 3/5; 92/108] END learning_rate=0.2, max_depth=5, max_iter=100, min_samples_leaf=30;, score=0.659 total time=   1.3s\n",
      "[CV 4/5; 92/108] START learning_rate=0.2, max_depth=5, max_iter=100, min_samples_leaf=30\n",
      "[CV 4/5; 92/108] END learning_rate=0.2, max_depth=5, max_iter=100, min_samples_leaf=30;, score=0.680 total time=   0.9s\n",
      "[CV 5/5; 92/108] START learning_rate=0.2, max_depth=5, max_iter=100, min_samples_leaf=30\n",
      "[CV 5/5; 92/108] END learning_rate=0.2, max_depth=5, max_iter=100, min_samples_leaf=30;, score=0.676 total time=   0.9s\n",
      "[CV 1/5; 93/108] START learning_rate=0.2, max_depth=5, max_iter=200, min_samples_leaf=5\n",
      "[CV 1/5; 93/108] END learning_rate=0.2, max_depth=5, max_iter=200, min_samples_leaf=5;, score=0.683 total time=   0.9s\n",
      "[CV 2/5; 93/108] START learning_rate=0.2, max_depth=5, max_iter=200, min_samples_leaf=5\n",
      "[CV 2/5; 93/108] END learning_rate=0.2, max_depth=5, max_iter=200, min_samples_leaf=5;, score=0.681 total time=   1.0s\n",
      "[CV 3/5; 93/108] START learning_rate=0.2, max_depth=5, max_iter=200, min_samples_leaf=5\n",
      "[CV 3/5; 93/108] END learning_rate=0.2, max_depth=5, max_iter=200, min_samples_leaf=5;, score=0.663 total time=   0.9s\n",
      "[CV 4/5; 93/108] START learning_rate=0.2, max_depth=5, max_iter=200, min_samples_leaf=5\n",
      "[CV 4/5; 93/108] END learning_rate=0.2, max_depth=5, max_iter=200, min_samples_leaf=5;, score=0.684 total time=   0.8s\n",
      "[CV 5/5; 93/108] START learning_rate=0.2, max_depth=5, max_iter=200, min_samples_leaf=5\n",
      "[CV 5/5; 93/108] END learning_rate=0.2, max_depth=5, max_iter=200, min_samples_leaf=5;, score=0.676 total time=   0.9s\n",
      "[CV 1/5; 94/108] START learning_rate=0.2, max_depth=5, max_iter=200, min_samples_leaf=10\n",
      "[CV 1/5; 94/108] END learning_rate=0.2, max_depth=5, max_iter=200, min_samples_leaf=10;, score=0.679 total time=   0.8s\n",
      "[CV 2/5; 94/108] START learning_rate=0.2, max_depth=5, max_iter=200, min_samples_leaf=10\n",
      "[CV 2/5; 94/108] END learning_rate=0.2, max_depth=5, max_iter=200, min_samples_leaf=10;, score=0.682 total time=   0.8s\n",
      "[CV 3/5; 94/108] START learning_rate=0.2, max_depth=5, max_iter=200, min_samples_leaf=10\n",
      "[CV 3/5; 94/108] END learning_rate=0.2, max_depth=5, max_iter=200, min_samples_leaf=10;, score=0.663 total time=   1.0s\n",
      "[CV 4/5; 94/108] START learning_rate=0.2, max_depth=5, max_iter=200, min_samples_leaf=10\n",
      "[CV 4/5; 94/108] END learning_rate=0.2, max_depth=5, max_iter=200, min_samples_leaf=10;, score=0.685 total time=   0.9s\n",
      "[CV 5/5; 94/108] START learning_rate=0.2, max_depth=5, max_iter=200, min_samples_leaf=10\n",
      "[CV 5/5; 94/108] END learning_rate=0.2, max_depth=5, max_iter=200, min_samples_leaf=10;, score=0.675 total time=   0.9s\n",
      "[CV 1/5; 95/108] START learning_rate=0.2, max_depth=5, max_iter=200, min_samples_leaf=20\n",
      "[CV 1/5; 95/108] END learning_rate=0.2, max_depth=5, max_iter=200, min_samples_leaf=20;, score=0.684 total time=   0.8s\n",
      "[CV 2/5; 95/108] START learning_rate=0.2, max_depth=5, max_iter=200, min_samples_leaf=20\n",
      "[CV 2/5; 95/108] END learning_rate=0.2, max_depth=5, max_iter=200, min_samples_leaf=20;, score=0.680 total time=   1.1s\n",
      "[CV 3/5; 95/108] START learning_rate=0.2, max_depth=5, max_iter=200, min_samples_leaf=20\n",
      "[CV 3/5; 95/108] END learning_rate=0.2, max_depth=5, max_iter=200, min_samples_leaf=20;, score=0.665 total time=   0.8s\n",
      "[CV 4/5; 95/108] START learning_rate=0.2, max_depth=5, max_iter=200, min_samples_leaf=20\n",
      "[CV 4/5; 95/108] END learning_rate=0.2, max_depth=5, max_iter=200, min_samples_leaf=20;, score=0.680 total time=   1.1s\n",
      "[CV 5/5; 95/108] START learning_rate=0.2, max_depth=5, max_iter=200, min_samples_leaf=20\n",
      "[CV 5/5; 95/108] END learning_rate=0.2, max_depth=5, max_iter=200, min_samples_leaf=20;, score=0.675 total time=   0.8s\n",
      "[CV 1/5; 96/108] START learning_rate=0.2, max_depth=5, max_iter=200, min_samples_leaf=30\n",
      "[CV 1/5; 96/108] END learning_rate=0.2, max_depth=5, max_iter=200, min_samples_leaf=30;, score=0.676 total time=   1.0s\n",
      "[CV 2/5; 96/108] START learning_rate=0.2, max_depth=5, max_iter=200, min_samples_leaf=30\n",
      "[CV 2/5; 96/108] END learning_rate=0.2, max_depth=5, max_iter=200, min_samples_leaf=30;, score=0.682 total time=   0.8s\n",
      "[CV 3/5; 96/108] START learning_rate=0.2, max_depth=5, max_iter=200, min_samples_leaf=30\n",
      "[CV 3/5; 96/108] END learning_rate=0.2, max_depth=5, max_iter=200, min_samples_leaf=30;, score=0.661 total time=   0.9s\n",
      "[CV 4/5; 96/108] START learning_rate=0.2, max_depth=5, max_iter=200, min_samples_leaf=30\n",
      "[CV 4/5; 96/108] END learning_rate=0.2, max_depth=5, max_iter=200, min_samples_leaf=30;, score=0.685 total time=   1.1s\n",
      "[CV 5/5; 96/108] START learning_rate=0.2, max_depth=5, max_iter=200, min_samples_leaf=30\n",
      "[CV 5/5; 96/108] END learning_rate=0.2, max_depth=5, max_iter=200, min_samples_leaf=30;, score=0.675 total time=   1.0s\n",
      "[CV 1/5; 97/108] START learning_rate=0.2, max_depth=10, max_iter=50, min_samples_leaf=5\n",
      "[CV 1/5; 97/108] END learning_rate=0.2, max_depth=10, max_iter=50, min_samples_leaf=5;, score=0.669 total time=   1.5s\n",
      "[CV 2/5; 97/108] START learning_rate=0.2, max_depth=10, max_iter=50, min_samples_leaf=5\n",
      "[CV 2/5; 97/108] END learning_rate=0.2, max_depth=10, max_iter=50, min_samples_leaf=5;, score=0.682 total time=   1.4s\n",
      "[CV 3/5; 97/108] START learning_rate=0.2, max_depth=10, max_iter=50, min_samples_leaf=5\n",
      "[CV 3/5; 97/108] END learning_rate=0.2, max_depth=10, max_iter=50, min_samples_leaf=5;, score=0.658 total time=   1.8s\n",
      "[CV 4/5; 97/108] START learning_rate=0.2, max_depth=10, max_iter=50, min_samples_leaf=5\n",
      "[CV 4/5; 97/108] END learning_rate=0.2, max_depth=10, max_iter=50, min_samples_leaf=5;, score=0.680 total time=   1.3s\n",
      "[CV 5/5; 97/108] START learning_rate=0.2, max_depth=10, max_iter=50, min_samples_leaf=5\n",
      "[CV 5/5; 97/108] END learning_rate=0.2, max_depth=10, max_iter=50, min_samples_leaf=5;, score=0.675 total time=   1.5s\n",
      "[CV 1/5; 98/108] START learning_rate=0.2, max_depth=10, max_iter=50, min_samples_leaf=10\n",
      "[CV 1/5; 98/108] END learning_rate=0.2, max_depth=10, max_iter=50, min_samples_leaf=10;, score=0.679 total time=   1.5s\n",
      "[CV 2/5; 98/108] START learning_rate=0.2, max_depth=10, max_iter=50, min_samples_leaf=10\n",
      "[CV 2/5; 98/108] END learning_rate=0.2, max_depth=10, max_iter=50, min_samples_leaf=10;, score=0.678 total time=   1.5s\n",
      "[CV 3/5; 98/108] START learning_rate=0.2, max_depth=10, max_iter=50, min_samples_leaf=10\n",
      "[CV 3/5; 98/108] END learning_rate=0.2, max_depth=10, max_iter=50, min_samples_leaf=10;, score=0.659 total time=   1.4s\n",
      "[CV 4/5; 98/108] START learning_rate=0.2, max_depth=10, max_iter=50, min_samples_leaf=10\n",
      "[CV 4/5; 98/108] END learning_rate=0.2, max_depth=10, max_iter=50, min_samples_leaf=10;, score=0.675 total time=   1.7s\n",
      "[CV 5/5; 98/108] START learning_rate=0.2, max_depth=10, max_iter=50, min_samples_leaf=10\n",
      "[CV 5/5; 98/108] END learning_rate=0.2, max_depth=10, max_iter=50, min_samples_leaf=10;, score=0.669 total time=   1.5s\n",
      "[CV 1/5; 99/108] START learning_rate=0.2, max_depth=10, max_iter=50, min_samples_leaf=20\n",
      "[CV 1/5; 99/108] END learning_rate=0.2, max_depth=10, max_iter=50, min_samples_leaf=20;, score=0.675 total time=   1.4s\n",
      "[CV 2/5; 99/108] START learning_rate=0.2, max_depth=10, max_iter=50, min_samples_leaf=20\n",
      "[CV 2/5; 99/108] END learning_rate=0.2, max_depth=10, max_iter=50, min_samples_leaf=20;, score=0.681 total time=   1.5s\n",
      "[CV 3/5; 99/108] START learning_rate=0.2, max_depth=10, max_iter=50, min_samples_leaf=20\n",
      "[CV 3/5; 99/108] END learning_rate=0.2, max_depth=10, max_iter=50, min_samples_leaf=20;, score=0.663 total time=   1.3s\n",
      "[CV 4/5; 99/108] START learning_rate=0.2, max_depth=10, max_iter=50, min_samples_leaf=20\n",
      "[CV 4/5; 99/108] END learning_rate=0.2, max_depth=10, max_iter=50, min_samples_leaf=20;, score=0.674 total time=   1.7s\n",
      "[CV 5/5; 99/108] START learning_rate=0.2, max_depth=10, max_iter=50, min_samples_leaf=20\n",
      "[CV 5/5; 99/108] END learning_rate=0.2, max_depth=10, max_iter=50, min_samples_leaf=20;, score=0.673 total time=   1.4s\n",
      "[CV 1/5; 100/108] START learning_rate=0.2, max_depth=10, max_iter=50, min_samples_leaf=30\n",
      "[CV 1/5; 100/108] END learning_rate=0.2, max_depth=10, max_iter=50, min_samples_leaf=30;, score=0.670 total time=   1.8s\n",
      "[CV 2/5; 100/108] START learning_rate=0.2, max_depth=10, max_iter=50, min_samples_leaf=30\n",
      "[CV 2/5; 100/108] END learning_rate=0.2, max_depth=10, max_iter=50, min_samples_leaf=30;, score=0.675 total time=   1.4s\n",
      "[CV 3/5; 100/108] START learning_rate=0.2, max_depth=10, max_iter=50, min_samples_leaf=30\n",
      "[CV 3/5; 100/108] END learning_rate=0.2, max_depth=10, max_iter=50, min_samples_leaf=30;, score=0.658 total time=   1.3s\n",
      "[CV 4/5; 100/108] START learning_rate=0.2, max_depth=10, max_iter=50, min_samples_leaf=30\n",
      "[CV 4/5; 100/108] END learning_rate=0.2, max_depth=10, max_iter=50, min_samples_leaf=30;, score=0.685 total time=   1.4s\n",
      "[CV 5/5; 100/108] START learning_rate=0.2, max_depth=10, max_iter=50, min_samples_leaf=30\n",
      "[CV 5/5; 100/108] END learning_rate=0.2, max_depth=10, max_iter=50, min_samples_leaf=30;, score=0.672 total time=   1.4s\n",
      "[CV 1/5; 101/108] START learning_rate=0.2, max_depth=10, max_iter=100, min_samples_leaf=5\n",
      "[CV 1/5; 101/108] END learning_rate=0.2, max_depth=10, max_iter=100, min_samples_leaf=5;, score=0.676 total time=   1.5s\n",
      "[CV 2/5; 101/108] START learning_rate=0.2, max_depth=10, max_iter=100, min_samples_leaf=5\n",
      "[CV 2/5; 101/108] END learning_rate=0.2, max_depth=10, max_iter=100, min_samples_leaf=5;, score=0.676 total time=   1.4s\n",
      "[CV 3/5; 101/108] START learning_rate=0.2, max_depth=10, max_iter=100, min_samples_leaf=5\n",
      "[CV 3/5; 101/108] END learning_rate=0.2, max_depth=10, max_iter=100, min_samples_leaf=5;, score=0.661 total time=   1.4s\n",
      "[CV 4/5; 101/108] START learning_rate=0.2, max_depth=10, max_iter=100, min_samples_leaf=5\n",
      "[CV 4/5; 101/108] END learning_rate=0.2, max_depth=10, max_iter=100, min_samples_leaf=5;, score=0.678 total time=   1.3s\n",
      "[CV 5/5; 101/108] START learning_rate=0.2, max_depth=10, max_iter=100, min_samples_leaf=5\n",
      "[CV 5/5; 101/108] END learning_rate=0.2, max_depth=10, max_iter=100, min_samples_leaf=5;, score=0.674 total time=   1.5s\n",
      "[CV 1/5; 102/108] START learning_rate=0.2, max_depth=10, max_iter=100, min_samples_leaf=10\n",
      "[CV 1/5; 102/108] END learning_rate=0.2, max_depth=10, max_iter=100, min_samples_leaf=10;, score=0.678 total time=   1.3s\n",
      "[CV 2/5; 102/108] START learning_rate=0.2, max_depth=10, max_iter=100, min_samples_leaf=10\n",
      "[CV 2/5; 102/108] END learning_rate=0.2, max_depth=10, max_iter=100, min_samples_leaf=10;, score=0.678 total time=   1.6s\n",
      "[CV 3/5; 102/108] START learning_rate=0.2, max_depth=10, max_iter=100, min_samples_leaf=10\n",
      "[CV 3/5; 102/108] END learning_rate=0.2, max_depth=10, max_iter=100, min_samples_leaf=10;, score=0.657 total time=   1.3s\n",
      "[CV 4/5; 102/108] START learning_rate=0.2, max_depth=10, max_iter=100, min_samples_leaf=10\n",
      "[CV 4/5; 102/108] END learning_rate=0.2, max_depth=10, max_iter=100, min_samples_leaf=10;, score=0.679 total time=   1.4s\n",
      "[CV 5/5; 102/108] START learning_rate=0.2, max_depth=10, max_iter=100, min_samples_leaf=10\n",
      "[CV 5/5; 102/108] END learning_rate=0.2, max_depth=10, max_iter=100, min_samples_leaf=10;, score=0.672 total time=   1.6s\n",
      "[CV 1/5; 103/108] START learning_rate=0.2, max_depth=10, max_iter=100, min_samples_leaf=20\n",
      "[CV 1/5; 103/108] END learning_rate=0.2, max_depth=10, max_iter=100, min_samples_leaf=20;, score=0.672 total time=   2.1s\n",
      "[CV 2/5; 103/108] START learning_rate=0.2, max_depth=10, max_iter=100, min_samples_leaf=20\n",
      "[CV 2/5; 103/108] END learning_rate=0.2, max_depth=10, max_iter=100, min_samples_leaf=20;, score=0.681 total time=   1.4s\n",
      "[CV 3/5; 103/108] START learning_rate=0.2, max_depth=10, max_iter=100, min_samples_leaf=20\n",
      "[CV 3/5; 103/108] END learning_rate=0.2, max_depth=10, max_iter=100, min_samples_leaf=20;, score=0.652 total time=   1.9s\n",
      "[CV 4/5; 103/108] START learning_rate=0.2, max_depth=10, max_iter=100, min_samples_leaf=20\n",
      "[CV 4/5; 103/108] END learning_rate=0.2, max_depth=10, max_iter=100, min_samples_leaf=20;, score=0.675 total time=   1.9s\n",
      "[CV 5/5; 103/108] START learning_rate=0.2, max_depth=10, max_iter=100, min_samples_leaf=20\n",
      "[CV 5/5; 103/108] END learning_rate=0.2, max_depth=10, max_iter=100, min_samples_leaf=20;, score=0.677 total time=   1.3s\n",
      "[CV 1/5; 104/108] START learning_rate=0.2, max_depth=10, max_iter=100, min_samples_leaf=30\n",
      "[CV 1/5; 104/108] END learning_rate=0.2, max_depth=10, max_iter=100, min_samples_leaf=30;, score=0.670 total time=   2.3s\n",
      "[CV 2/5; 104/108] START learning_rate=0.2, max_depth=10, max_iter=100, min_samples_leaf=30\n",
      "[CV 2/5; 104/108] END learning_rate=0.2, max_depth=10, max_iter=100, min_samples_leaf=30;, score=0.680 total time=   1.2s\n",
      "[CV 3/5; 104/108] START learning_rate=0.2, max_depth=10, max_iter=100, min_samples_leaf=30\n",
      "[CV 3/5; 104/108] END learning_rate=0.2, max_depth=10, max_iter=100, min_samples_leaf=30;, score=0.662 total time=   1.3s\n",
      "[CV 4/5; 104/108] START learning_rate=0.2, max_depth=10, max_iter=100, min_samples_leaf=30\n",
      "[CV 4/5; 104/108] END learning_rate=0.2, max_depth=10, max_iter=100, min_samples_leaf=30;, score=0.688 total time=   1.2s\n",
      "[CV 5/5; 104/108] START learning_rate=0.2, max_depth=10, max_iter=100, min_samples_leaf=30\n",
      "[CV 5/5; 104/108] END learning_rate=0.2, max_depth=10, max_iter=100, min_samples_leaf=30;, score=0.664 total time=   1.6s\n",
      "[CV 1/5; 105/108] START learning_rate=0.2, max_depth=10, max_iter=200, min_samples_leaf=5\n",
      "[CV 1/5; 105/108] END learning_rate=0.2, max_depth=10, max_iter=200, min_samples_leaf=5;, score=0.673 total time=   1.9s\n",
      "[CV 2/5; 105/108] START learning_rate=0.2, max_depth=10, max_iter=200, min_samples_leaf=5\n",
      "[CV 2/5; 105/108] END learning_rate=0.2, max_depth=10, max_iter=200, min_samples_leaf=5;, score=0.675 total time=   1.6s\n",
      "[CV 3/5; 105/108] START learning_rate=0.2, max_depth=10, max_iter=200, min_samples_leaf=5\n",
      "[CV 3/5; 105/108] END learning_rate=0.2, max_depth=10, max_iter=200, min_samples_leaf=5;, score=0.655 total time=   1.4s\n",
      "[CV 4/5; 105/108] START learning_rate=0.2, max_depth=10, max_iter=200, min_samples_leaf=5\n",
      "[CV 4/5; 105/108] END learning_rate=0.2, max_depth=10, max_iter=200, min_samples_leaf=5;, score=0.681 total time=   1.3s\n",
      "[CV 5/5; 105/108] START learning_rate=0.2, max_depth=10, max_iter=200, min_samples_leaf=5\n",
      "[CV 5/5; 105/108] END learning_rate=0.2, max_depth=10, max_iter=200, min_samples_leaf=5;, score=0.678 total time=   1.8s\n",
      "[CV 1/5; 106/108] START learning_rate=0.2, max_depth=10, max_iter=200, min_samples_leaf=10\n",
      "[CV 1/5; 106/108] END learning_rate=0.2, max_depth=10, max_iter=200, min_samples_leaf=10;, score=0.671 total time=   1.3s\n",
      "[CV 2/5; 106/108] START learning_rate=0.2, max_depth=10, max_iter=200, min_samples_leaf=10\n",
      "[CV 2/5; 106/108] END learning_rate=0.2, max_depth=10, max_iter=200, min_samples_leaf=10;, score=0.675 total time=   1.3s\n",
      "[CV 3/5; 106/108] START learning_rate=0.2, max_depth=10, max_iter=200, min_samples_leaf=10\n",
      "[CV 3/5; 106/108] END learning_rate=0.2, max_depth=10, max_iter=200, min_samples_leaf=10;, score=0.656 total time=   1.9s\n",
      "[CV 4/5; 106/108] START learning_rate=0.2, max_depth=10, max_iter=200, min_samples_leaf=10\n",
      "[CV 4/5; 106/108] END learning_rate=0.2, max_depth=10, max_iter=200, min_samples_leaf=10;, score=0.681 total time=   1.4s\n",
      "[CV 5/5; 106/108] START learning_rate=0.2, max_depth=10, max_iter=200, min_samples_leaf=10\n",
      "[CV 5/5; 106/108] END learning_rate=0.2, max_depth=10, max_iter=200, min_samples_leaf=10;, score=0.668 total time=   1.3s\n",
      "[CV 1/5; 107/108] START learning_rate=0.2, max_depth=10, max_iter=200, min_samples_leaf=20\n",
      "[CV 1/5; 107/108] END learning_rate=0.2, max_depth=10, max_iter=200, min_samples_leaf=20;, score=0.678 total time=   1.2s\n",
      "[CV 2/5; 107/108] START learning_rate=0.2, max_depth=10, max_iter=200, min_samples_leaf=20\n",
      "[CV 2/5; 107/108] END learning_rate=0.2, max_depth=10, max_iter=200, min_samples_leaf=20;, score=0.683 total time=   1.2s\n",
      "[CV 3/5; 107/108] START learning_rate=0.2, max_depth=10, max_iter=200, min_samples_leaf=20\n",
      "[CV 3/5; 107/108] END learning_rate=0.2, max_depth=10, max_iter=200, min_samples_leaf=20;, score=0.657 total time=   1.5s\n",
      "[CV 4/5; 107/108] START learning_rate=0.2, max_depth=10, max_iter=200, min_samples_leaf=20\n",
      "[CV 4/5; 107/108] END learning_rate=0.2, max_depth=10, max_iter=200, min_samples_leaf=20;, score=0.680 total time=   1.1s\n",
      "[CV 5/5; 107/108] START learning_rate=0.2, max_depth=10, max_iter=200, min_samples_leaf=20\n",
      "[CV 5/5; 107/108] END learning_rate=0.2, max_depth=10, max_iter=200, min_samples_leaf=20;, score=0.673 total time=   1.4s\n",
      "[CV 1/5; 108/108] START learning_rate=0.2, max_depth=10, max_iter=200, min_samples_leaf=30\n",
      "[CV 1/5; 108/108] END learning_rate=0.2, max_depth=10, max_iter=200, min_samples_leaf=30;, score=0.674 total time=   1.4s\n",
      "[CV 2/5; 108/108] START learning_rate=0.2, max_depth=10, max_iter=200, min_samples_leaf=30\n",
      "[CV 2/5; 108/108] END learning_rate=0.2, max_depth=10, max_iter=200, min_samples_leaf=30;, score=0.670 total time=   1.4s\n",
      "[CV 3/5; 108/108] START learning_rate=0.2, max_depth=10, max_iter=200, min_samples_leaf=30\n",
      "[CV 3/5; 108/108] END learning_rate=0.2, max_depth=10, max_iter=200, min_samples_leaf=30;, score=0.661 total time=   1.3s\n",
      "[CV 4/5; 108/108] START learning_rate=0.2, max_depth=10, max_iter=200, min_samples_leaf=30\n",
      "[CV 4/5; 108/108] END learning_rate=0.2, max_depth=10, max_iter=200, min_samples_leaf=30;, score=0.683 total time=   1.2s\n",
      "[CV 5/5; 108/108] START learning_rate=0.2, max_depth=10, max_iter=200, min_samples_leaf=30\n",
      "[CV 5/5; 108/108] END learning_rate=0.2, max_depth=10, max_iter=200, min_samples_leaf=30;, score=0.667 total time=   1.3s\n",
      "[Pipeline] ......... (step 2 of 2) Processing regressor, total=11.3min\n",
      "Wall time: 11min 18s\n"
     ]
    },
    {
     "data": {
      "text/plain": [
       "Pipeline(steps=[('preprocess',\n",
       "                 ColumnTransformer(transformers=[('cat',\n",
       "                                                  OneHotEncoder(handle_unknown='ignore'),\n",
       "                                                  ['div']),\n",
       "                                                 ('num', 'passthrough',\n",
       "                                                  ['odds_home_team_win_roll3_mean',\n",
       "                                                   'home_team_goal_roll4_sum',\n",
       "                                                   'home_team_opponents_shot_on_target_roll2_sum',\n",
       "                                                   'home_team_opponents_corner_roll3_sum',\n",
       "                                                   'prob_draw',\n",
       "                                                   'home_team_point_roll2_sum',\n",
       "                                                   'odds_home_team_draw_roll2...\n",
       "                                                   'away_team_shot_roll1_sum',\n",
       "                                                   'away_team_opponents_fault_roll2_sum',\n",
       "                                                   'away_team_relative_point_roll4_sum', ...])])),\n",
       "                ('regressor',\n",
       "                 GridSearchCV(cv=5, estimator=HistGradientBoostingClassifier(),\n",
       "                              param_grid={'learning_rate': [0.1, 0.15, 0.2],\n",
       "                                          'max_depth': [1, 5, 10],\n",
       "                                          'max_iter': [50, 100, 200],\n",
       "                                          'min_samples_leaf': [5, 10, 20, 30]},\n",
       "                              scoring='roc_auc', verbose=10))],\n",
       "         verbose=True)"
      ]
     },
     "execution_count": 20,
     "metadata": {},
     "output_type": "execute_result"
    }
   ],
   "source": [
    "%%time\n",
    "\n",
    "gbm_pipe_broad.fit(df_train[x_variables], df_train.home_win_flag)"
   ]
  },
  {
   "cell_type": "code",
   "execution_count": 21,
   "id": "de7ff476-667c-4c15-aa0d-7842318d4643",
   "metadata": {},
   "outputs": [
    {
     "data": {
      "text/plain": [
       "0.6850809409303806"
      ]
     },
     "execution_count": 21,
     "metadata": {},
     "output_type": "execute_result"
    }
   ],
   "source": [
    "gbm_model_cv_broad.best_score_"
   ]
  },
  {
   "cell_type": "markdown",
   "id": "4bf4fa3e-4195-4770-90fa-ffb6ccd644ae",
   "metadata": {},
   "source": [
    "**prediction**"
   ]
  },
  {
   "cell_type": "code",
   "execution_count": 22,
   "id": "3a1a87d6-9663-4a2d-b05f-db56608f5760",
   "metadata": {},
   "outputs": [],
   "source": [
    "y_pred = gbm_pipe_broad.predict_proba(df_holdout[x_variables])"
   ]
  },
  {
   "cell_type": "code",
   "execution_count": 23,
   "id": "c5b54c6f-9390-4026-b20c-91a5146237a5",
   "metadata": {},
   "outputs": [
    {
     "data": {
      "text/plain": [
       "0.6953905918362787"
      ]
     },
     "execution_count": 23,
     "metadata": {},
     "output_type": "execute_result"
    }
   ],
   "source": [
    "roc_auc_score(df_holdout.home_win_flag, y_pred[:,1])"
   ]
  },
  {
   "cell_type": "code",
   "execution_count": 24,
   "id": "b5d7cfcb-e3f1-4ff0-afc6-17cb1fee36f8",
   "metadata": {},
   "outputs": [],
   "source": [
    "df_roc = pd.DataFrame({'FPR': roc_curve(df_holdout.home_win_flag, y_pred[:,1])[0], \n",
    "                       'TPR': roc_curve(df_holdout.home_win_flag, y_pred[:,1])[1], \n",
    "                      'threshold' : roc_curve(df_holdout.home_win_flag, y_pred[:,1])[2]}\n",
    "                     )"
   ]
  },
  {
   "cell_type": "code",
   "execution_count": 25,
   "id": "7ec7ff19-698c-42bf-9b0d-c09c0dfcd05e",
   "metadata": {},
   "outputs": [],
   "source": [
    "df_roc['FPR_TPR_dif'] = df_roc.TPR - df_roc.FPR"
   ]
  },
  {
   "cell_type": "code",
   "execution_count": 26,
   "id": "0284226d-2821-4f5e-bd83-c83d5fbb7577",
   "metadata": {},
   "outputs": [],
   "source": [
    "df_roc = df_roc.iloc[1:]"
   ]
  },
  {
   "cell_type": "code",
   "execution_count": 27,
   "id": "6dbb72c8-0332-4cad-a5bf-1f23aa368719",
   "metadata": {},
   "outputs": [
    {
     "data": {
      "text/plain": [
       "194"
      ]
     },
     "execution_count": 27,
     "metadata": {},
     "output_type": "execute_result"
    }
   ],
   "source": [
    "df_roc['FPR_TPR_dif'].idxmax()"
   ]
  },
  {
   "cell_type": "code",
   "execution_count": 28,
   "id": "9ff8b750-c5fa-45ff-a046-22ef74a7a785",
   "metadata": {},
   "outputs": [
    {
     "data": {
      "text/html": [
       "<div>\n",
       "<style scoped>\n",
       "    .dataframe tbody tr th:only-of-type {\n",
       "        vertical-align: middle;\n",
       "    }\n",
       "\n",
       "    .dataframe tbody tr th {\n",
       "        vertical-align: top;\n",
       "    }\n",
       "\n",
       "    .dataframe thead th {\n",
       "        text-align: right;\n",
       "    }\n",
       "</style>\n",
       "<table border=\"1\" class=\"dataframe\">\n",
       "  <thead>\n",
       "    <tr style=\"text-align: right;\">\n",
       "      <th></th>\n",
       "      <th>FPR</th>\n",
       "      <th>TPR</th>\n",
       "      <th>threshold</th>\n",
       "      <th>FPR_TPR_dif</th>\n",
       "    </tr>\n",
       "  </thead>\n",
       "  <tbody>\n",
       "    <tr>\n",
       "      <th>141</th>\n",
       "      <td>0.222480</td>\n",
       "      <td>0.478846</td>\n",
       "      <td>0.464183</td>\n",
       "      <td>0.256366</td>\n",
       "    </tr>\n",
       "    <tr>\n",
       "      <th>142</th>\n",
       "      <td>0.223642</td>\n",
       "      <td>0.480385</td>\n",
       "      <td>0.464171</td>\n",
       "      <td>0.256742</td>\n",
       "    </tr>\n",
       "    <tr>\n",
       "      <th>143</th>\n",
       "      <td>0.229451</td>\n",
       "      <td>0.487692</td>\n",
       "      <td>0.463652</td>\n",
       "      <td>0.258241</td>\n",
       "    </tr>\n",
       "    <tr>\n",
       "      <th>144</th>\n",
       "      <td>0.229451</td>\n",
       "      <td>0.488077</td>\n",
       "      <td>0.461823</td>\n",
       "      <td>0.258626</td>\n",
       "    </tr>\n",
       "    <tr>\n",
       "      <th>145</th>\n",
       "      <td>0.231484</td>\n",
       "      <td>0.489231</td>\n",
       "      <td>0.461445</td>\n",
       "      <td>0.257747</td>\n",
       "    </tr>\n",
       "    <tr>\n",
       "      <th>146</th>\n",
       "      <td>0.231484</td>\n",
       "      <td>0.489615</td>\n",
       "      <td>0.460432</td>\n",
       "      <td>0.258131</td>\n",
       "    </tr>\n",
       "    <tr>\n",
       "      <th>147</th>\n",
       "      <td>0.241940</td>\n",
       "      <td>0.496923</td>\n",
       "      <td>0.459616</td>\n",
       "      <td>0.254983</td>\n",
       "    </tr>\n",
       "    <tr>\n",
       "      <th>148</th>\n",
       "      <td>0.242521</td>\n",
       "      <td>0.496923</td>\n",
       "      <td>0.457412</td>\n",
       "      <td>0.254402</td>\n",
       "    </tr>\n",
       "    <tr>\n",
       "      <th>149</th>\n",
       "      <td>0.242812</td>\n",
       "      <td>0.499615</td>\n",
       "      <td>0.456894</td>\n",
       "      <td>0.256804</td>\n",
       "    </tr>\n",
       "    <tr>\n",
       "      <th>150</th>\n",
       "      <td>0.243392</td>\n",
       "      <td>0.500385</td>\n",
       "      <td>0.456881</td>\n",
       "      <td>0.256992</td>\n",
       "    </tr>\n",
       "    <tr>\n",
       "      <th>151</th>\n",
       "      <td>0.243683</td>\n",
       "      <td>0.500769</td>\n",
       "      <td>0.453682</td>\n",
       "      <td>0.257086</td>\n",
       "    </tr>\n",
       "    <tr>\n",
       "      <th>152</th>\n",
       "      <td>0.244264</td>\n",
       "      <td>0.502692</td>\n",
       "      <td>0.452867</td>\n",
       "      <td>0.258429</td>\n",
       "    </tr>\n",
       "    <tr>\n",
       "      <th>153</th>\n",
       "      <td>0.245716</td>\n",
       "      <td>0.503846</td>\n",
       "      <td>0.452855</td>\n",
       "      <td>0.258130</td>\n",
       "    </tr>\n",
       "    <tr>\n",
       "      <th>154</th>\n",
       "      <td>0.249492</td>\n",
       "      <td>0.510000</td>\n",
       "      <td>0.452338</td>\n",
       "      <td>0.260508</td>\n",
       "    </tr>\n",
       "    <tr>\n",
       "      <th>155</th>\n",
       "      <td>0.253558</td>\n",
       "      <td>0.515000</td>\n",
       "      <td>0.452105</td>\n",
       "      <td>0.261442</td>\n",
       "    </tr>\n",
       "    <tr>\n",
       "      <th>156</th>\n",
       "      <td>0.259657</td>\n",
       "      <td>0.522308</td>\n",
       "      <td>0.448318</td>\n",
       "      <td>0.262650</td>\n",
       "    </tr>\n",
       "    <tr>\n",
       "      <th>157</th>\n",
       "      <td>0.264014</td>\n",
       "      <td>0.528077</td>\n",
       "      <td>0.448086</td>\n",
       "      <td>0.264063</td>\n",
       "    </tr>\n",
       "    <tr>\n",
       "      <th>158</th>\n",
       "      <td>0.271275</td>\n",
       "      <td>0.532308</td>\n",
       "      <td>0.447570</td>\n",
       "      <td>0.261033</td>\n",
       "    </tr>\n",
       "    <tr>\n",
       "      <th>159</th>\n",
       "      <td>0.276793</td>\n",
       "      <td>0.537308</td>\n",
       "      <td>0.447558</td>\n",
       "      <td>0.260514</td>\n",
       "    </tr>\n",
       "    <tr>\n",
       "      <th>160</th>\n",
       "      <td>0.276793</td>\n",
       "      <td>0.537692</td>\n",
       "      <td>0.445116</td>\n",
       "      <td>0.260899</td>\n",
       "    </tr>\n",
       "  </tbody>\n",
       "</table>\n",
       "</div>"
      ],
      "text/plain": [
       "          FPR       TPR  threshold  FPR_TPR_dif\n",
       "141  0.222480  0.478846   0.464183     0.256366\n",
       "142  0.223642  0.480385   0.464171     0.256742\n",
       "143  0.229451  0.487692   0.463652     0.258241\n",
       "144  0.229451  0.488077   0.461823     0.258626\n",
       "145  0.231484  0.489231   0.461445     0.257747\n",
       "146  0.231484  0.489615   0.460432     0.258131\n",
       "147  0.241940  0.496923   0.459616     0.254983\n",
       "148  0.242521  0.496923   0.457412     0.254402\n",
       "149  0.242812  0.499615   0.456894     0.256804\n",
       "150  0.243392  0.500385   0.456881     0.256992\n",
       "151  0.243683  0.500769   0.453682     0.257086\n",
       "152  0.244264  0.502692   0.452867     0.258429\n",
       "153  0.245716  0.503846   0.452855     0.258130\n",
       "154  0.249492  0.510000   0.452338     0.260508\n",
       "155  0.253558  0.515000   0.452105     0.261442\n",
       "156  0.259657  0.522308   0.448318     0.262650\n",
       "157  0.264014  0.528077   0.448086     0.264063\n",
       "158  0.271275  0.532308   0.447570     0.261033\n",
       "159  0.276793  0.537308   0.447558     0.260514\n",
       "160  0.276793  0.537692   0.445116     0.260899"
      ]
     },
     "execution_count": 28,
     "metadata": {},
     "output_type": "execute_result"
    }
   ],
   "source": [
    "df_roc.iloc[140:160]"
   ]
  },
  {
   "cell_type": "code",
   "execution_count": 29,
   "id": "16bb5e18-420c-45c3-8733-2703d762d455",
   "metadata": {},
   "outputs": [
    {
     "data": {
      "image/png": "[encoded data removed]",
      "text/plain": [
       "<Figure size 432x288 with 1 Axes>"
      ]
     },
     "metadata": {
      "needs_background": "light"
     },
     "output_type": "display_data"
    }
   ],
   "source": [
    "df_roc.plot(kind = 'line', x = 'threshold', y = 'FPR_TPR_dif');"
   ]
  },
  {
   "cell_type": "code",
   "execution_count": 30,
   "id": "c142bfee-f290-4274-8b15-d0d75308ed3e",
   "metadata": {},
   "outputs": [
    {
     "data": {
      "image/png": "[encoded data removed]",
      "text/plain": [
       "<Figure size 720x720 with 1 Axes>"
      ]
     },
     "metadata": {
      "needs_background": "light"
     },
     "output_type": "display_data"
    }
   ],
   "source": [
    "fig, ax = plt.subplots(figsize=(10, 10))\n",
    "p1 = sns.lineplot(data = df_roc, y = 'TPR', x = 'FPR', ax=ax)\n",
    "p2 = sns.lineplot(data = df_roc, y = 'TPR', x = 'TPR', color = 'k', ax=ax)\n",
    "plt.title(\"Home win ROC CURVE\")\n",
    "plt.xlabel('FPR')\n",
    "plt.ylabel('TPR')\n",
    "plt.grid('both')"
   ]
  },
  {
   "cell_type": "markdown",
   "id": "c9d8cf42-2e04-4c48-9066-4949c1ea09e4",
   "metadata": {},
   "source": [
    "#### Train prediction"
   ]
  },
  {
   "cell_type": "code",
   "execution_count": 31,
   "id": "a43e3c78-845c-4bd9-be94-4d2497780f01",
   "metadata": {},
   "outputs": [],
   "source": [
    "y_pred_train = gbm_pipe_broad.predict_proba(df_train[x_variables])"
   ]
  },
  {
   "cell_type": "code",
   "execution_count": 32,
   "id": "b050d715-b55c-4803-90c5-be528b654fa0",
   "metadata": {},
   "outputs": [
    {
     "data": {
      "text/plain": [
       "0.6878968508463739"
      ]
     },
     "execution_count": 32,
     "metadata": {},
     "output_type": "execute_result"
    }
   ],
   "source": [
    "roc_auc_score(df_train.home_win_flag, y_pred_train[:,1])"
   ]
  },
  {
   "cell_type": "code",
   "execution_count": 33,
   "id": "1629d53a-5e3c-4eab-8e27-6f161a4b5330",
   "metadata": {},
   "outputs": [],
   "source": [
    "df_train_result = df_train.copy()"
   ]
  },
  {
   "cell_type": "code",
   "execution_count": 41,
   "id": "e46200b5-37a6-40d6-ab5d-e70f3f232dfc",
   "metadata": {},
   "outputs": [],
   "source": [
    "df_train_result['home_win_predict_prob'] = y_pred_train[:,1]"
   ]
  },
  {
   "cell_type": "markdown",
   "id": "693dd002-40f4-4904-9d67-94faa20a4627",
   "metadata": {},
   "source": [
    "#### Conditional distributions on home_win_flag"
   ]
  },
  {
   "cell_type": "code",
   "execution_count": 59,
   "id": "62ea8906-e0e6-4c48-a107-1972bf45f734",
   "metadata": {},
   "outputs": [
    {
     "data": {
      "image/png": "[encoded data removed]",
      "text/plain": [
       "<Figure size 720x432 with 1 Axes>"
      ]
     },
     "metadata": {
      "needs_background": "light"
     },
     "output_type": "display_data"
    }
   ],
   "source": [
    "fig, ax = plt.subplots(figsize=(10,6))\n",
    "sns.histplot(ax = ax, data = df_train_result, x = 'home_win_predict_prob', hue = 'home_win_flag', kde = True, \n",
    "            stat = 'percent', bins = 50, binrange = (0,1));"
   ]
  },
  {
   "cell_type": "code",
   "execution_count": 53,
   "id": "df095546-4643-4169-8059-d7350b2a34bc",
   "metadata": {
    "tags": []
   },
   "outputs": [
    {
     "data": {
      "image/png": "[encoded data removed]",
      "text/plain": [
       "<Figure size 720x360 with 2 Axes>"
      ]
     },
     "metadata": {
      "needs_background": "light"
     },
     "output_type": "display_data"
    }
   ],
   "source": [
    "g = sns.FacetGrid(df_train_result, col=\"home_win_flag\", height = 5)\n",
    "g.map(sns.histplot, \"home_win_predict_prob\", stat = 'percent', bins = 50, binrange = (0,1));"
   ]
  },
  {
   "cell_type": "code",
   "execution_count": 84,
   "id": "503c0917-4c71-438e-91c5-7f88c5c8ab69",
   "metadata": {},
   "outputs": [
    {
     "data": {
      "image/png": "[encoded data removed]",
      "text/plain": [
       "<Figure size 720x432 with 1 Axes>"
      ]
     },
     "metadata": {
      "needs_background": "light"
     },
     "output_type": "display_data"
    }
   ],
   "source": [
    "fig, ax = plt.subplots(figsize=(10,6))\n",
    "sns.histplot(ax = ax, data = df_train_result, x = 'home_team_shot_roll4_sum', hue = 'home_win_flag', kde = True, \n",
    "            stat = 'percent', bins = 50);"
   ]
  },
  {
   "cell_type": "code",
   "execution_count": 70,
   "id": "184d526a-57a0-4df9-8c9f-b106731284d2",
   "metadata": {},
   "outputs": [
    {
     "data": {
      "image/png": "[encoded data removed]",
      "text/plain": [
       "<Figure size 720x432 with 1 Axes>"
      ]
     },
     "metadata": {
      "needs_background": "light"
     },
     "output_type": "display_data"
    }
   ],
   "source": [
    "fig, ax = plt.subplots(figsize=(10,6))\n",
    "sns.histplot(ax = ax, data = df_train_result, x = 'home_team_goal_roll4_sum', hue = 'home_win_flag', kde = True, \n",
    "            stat = 'percent', bins = 50);"
   ]
  },
  {
   "cell_type": "code",
   "execution_count": 82,
   "id": "9b735198-926a-4afe-b4df-0ec655005c53",
   "metadata": {},
   "outputs": [
    {
     "data": {
      "image/png": "[encoded data removed]",
      "text/plain": [
       "<Figure size 720x432 with 1 Axes>"
      ]
     },
     "metadata": {
      "needs_background": "light"
     },
     "output_type": "display_data"
    }
   ],
   "source": [
    "fig, ax = plt.subplots(figsize=(10,6))\n",
    "sns.histplot(ax = ax, data = df_train_result, x = 'home_team_relative_point_roll4_sum', hue = 'home_win_flag', kde = True, \n",
    "            stat = 'percent', bins = 50);"
   ]
  },
  {
   "cell_type": "code",
   "execution_count": 83,
   "id": "0d654d93-e38b-4cfd-b1f1-6eccb360a781",
   "metadata": {},
   "outputs": [
    {
     "data": {
      "image/png": "[encoded data removed]",
      "text/plain": [
       "<Figure size 720x432 with 1 Axes>"
      ]
     },
     "metadata": {
      "needs_background": "light"
     },
     "output_type": "display_data"
    }
   ],
   "source": [
    "fig, ax = plt.subplots(figsize=(10,6))\n",
    "sns.histplot(ax = ax, data = df_train_result, x = 'away_team_relative_point_roll4_sum', hue = 'home_win_flag', kde = True, \n",
    "            stat = 'percent', bins = 50);"
   ]
  },
  {
   "cell_type": "code",
   "execution_count": 62,
   "id": "85859111-6f01-4a6b-8e81-51aae1142d5e",
   "metadata": {
    "tags": []
   },
   "outputs": [
    {
     "data": {
      "image/png": "[encoded data removed]",
      "text/plain": [
       "<Figure size 720x360 with 2 Axes>"
      ]
     },
     "metadata": {
      "needs_background": "light"
     },
     "output_type": "display_data"
    }
   ],
   "source": [
    "g = sns.FacetGrid(df_train_result, col=\"home_win_flag\", height = 5)\n",
    "g.map(sns.histplot, \"away_team_shot_roll4_sum\", stat = 'percent', bins = 50);"
   ]
  },
  {
   "cell_type": "code",
   "execution_count": 46,
   "id": "781dde34-d6d3-453c-b4b5-9d06a1f686fb",
   "metadata": {},
   "outputs": [
    {
     "data": {
      "text/plain": [
       "0.3051050802581499"
      ]
     },
     "execution_count": 46,
     "metadata": {},
     "output_type": "execute_result"
    }
   ],
   "source": [
    "df_train_result.away_win_flag.mean()"
   ]
  },
  {
   "cell_type": "code",
   "execution_count": 47,
   "id": "13e2d56f-2e20-4909-bf6e-3a6973002f6c",
   "metadata": {},
   "outputs": [
    {
     "data": {
      "text/plain": [
       "0.2622455733907"
      ]
     },
     "execution_count": 47,
     "metadata": {},
     "output_type": "execute_result"
    }
   ],
   "source": [
    "df_train_result.draw_flag.mean()"
   ]
  },
  {
   "cell_type": "code",
   "execution_count": 35,
   "id": "8004541b-4ed5-496b-a648-a46d2a9985fd",
   "metadata": {},
   "outputs": [
    {
     "data": {
      "text/plain": [
       "0.6875588190403452"
      ]
     },
     "execution_count": 35,
     "metadata": {},
     "output_type": "execute_result"
    }
   ],
   "source": [
    "lr_model.score(x_holdout_normalized, y_holdout)"
   ]
  },
  {
   "cell_type": "code",
   "execution_count": 91,
   "id": "f3c2de12-096c-4e7c-996c-7c538c3294db",
   "metadata": {},
   "outputs": [],
   "source": [
    "y_pred = gbm_pipe_broad.predict(df_train[x_variables])"
   ]
  },
  {
   "cell_type": "code",
   "execution_count": 94,
   "id": "7164c5f4-517a-4bea-9254-95839e03079c",
   "metadata": {},
   "outputs": [
    {
     "data": {
      "text/plain": [
       "array([0, 0, 0, 0, 0, 1, 0, 0, 1, 0, 1, 0, 0, 0, 0, 0, 0, 1, 1, 0],\n",
       "      dtype=int64)"
      ]
     },
     "execution_count": 94,
     "metadata": {},
     "output_type": "execute_result"
    }
   ],
   "source": [
    "y_pred[0:20]"
   ]
  },
  {
   "cell_type": "code",
   "execution_count": 93,
   "id": "99ac2656-85d7-4fc4-9547-7803c717396e",
   "metadata": {},
   "outputs": [
    {
     "data": {
      "text/plain": [
       "0.27796624193281483"
      ]
     },
     "execution_count": 93,
     "metadata": {},
     "output_type": "execute_result"
    }
   ],
   "source": [
    "np.mean(y_pred)"
   ]
  },
  {
   "cell_type": "code",
   "execution_count": 41,
   "id": "75f6ead7-0657-47d0-b37b-24eaee0bc7c0",
   "metadata": {},
   "outputs": [
    {
     "data": {
      "text/plain": [
       "array([5696, 1561, 2981, 2594], dtype=int64)"
      ]
     },
     "execution_count": 41,
     "metadata": {},
     "output_type": "execute_result"
    }
   ],
   "source": [
    "confusion_matrix(y_holdout, y_pred).ravel()"
   ]
  },
  {
   "cell_type": "code",
   "execution_count": 44,
   "id": "7cff7e14-5e1a-4f58-8c94-08ac623e4961",
   "metadata": {},
   "outputs": [
    {
     "data": {
      "text/plain": [
       "0.6875588190403452"
      ]
     },
     "execution_count": 44,
     "metadata": {},
     "output_type": "execute_result"
    }
   ],
   "source": [
    "roc_auc_score(y_holdout, lr_model.predict_proba(x_holdout_normalized)[:,1])"
   ]
  },
  {
   "cell_type": "code",
   "execution_count": 50,
   "id": "95802336-e6cb-440d-9e82-1b5c4311af89",
   "metadata": {},
   "outputs": [
    {
     "data": {
      "text/plain": [
       "array([1.95879395, 0.95879395, 0.92885368, ..., 0.06164526, 0.05806626,\n",
       "       0.03968204])"
      ]
     },
     "execution_count": 50,
     "metadata": {},
     "output_type": "execute_result"
    }
   ],
   "source": [
    "roc_curve(y_holdout, lr_model.predict_proba(x_holdout_normalized)[:,1])[2]"
   ]
  },
  {
   "cell_type": "code",
   "execution_count": 51,
   "id": "f4fe36de-7a77-4a39-99d9-b67481d7cc2b",
   "metadata": {},
   "outputs": [],
   "source": [
    "import seaborn as sns\n",
    "import matplotlib.pyplot as plt"
   ]
  },
  {
   "cell_type": "code",
   "execution_count": 57,
   "id": "c0293ddc-48de-4b4c-b4b4-3f6ad070bc8b",
   "metadata": {},
   "outputs": [],
   "source": [
    "df_roc = pd.DataFrame({'FPR': roc_curve(y_holdout, lr_model.predict_proba(x_holdout_normalized)[:,1])[0], \n",
    "                       'TPR': roc_curve(y_holdout, lr_model.predict_proba(x_holdout_normalized)[:,1])[1], \n",
    "                      'threshold' : roc_curve(y_holdout, lr_model.predict_proba(x_holdout_normalized)[:,1])[2]}\n",
    "                     )"
   ]
  },
  {
   "cell_type": "code",
   "execution_count": 62,
   "id": "e699d4d3-76e9-4729-90c6-2459cabc9089",
   "metadata": {},
   "outputs": [
    {
     "data": {
      "text/html": [
       "<div>\n",
       "<style scoped>\n",
       "    .dataframe tbody tr th:only-of-type {\n",
       "        vertical-align: middle;\n",
       "    }\n",
       "\n",
       "    .dataframe tbody tr th {\n",
       "        vertical-align: top;\n",
       "    }\n",
       "\n",
       "    .dataframe thead th {\n",
       "        text-align: right;\n",
       "    }\n",
       "</style>\n",
       "<table border=\"1\" class=\"dataframe\">\n",
       "  <thead>\n",
       "    <tr style=\"text-align: right;\">\n",
       "      <th></th>\n",
       "      <th>FPR</th>\n",
       "      <th>TPR</th>\n",
       "      <th>threshold</th>\n",
       "    </tr>\n",
       "  </thead>\n",
       "  <tbody>\n",
       "    <tr>\n",
       "      <th>0</th>\n",
       "      <td>0.000000</td>\n",
       "      <td>0.000000</td>\n",
       "      <td>1.958794</td>\n",
       "    </tr>\n",
       "    <tr>\n",
       "      <th>1</th>\n",
       "      <td>0.000000</td>\n",
       "      <td>0.000179</td>\n",
       "      <td>0.958794</td>\n",
       "    </tr>\n",
       "    <tr>\n",
       "      <th>2</th>\n",
       "      <td>0.000000</td>\n",
       "      <td>0.002870</td>\n",
       "      <td>0.928854</td>\n",
       "    </tr>\n",
       "    <tr>\n",
       "      <th>3</th>\n",
       "      <td>0.000138</td>\n",
       "      <td>0.002870</td>\n",
       "      <td>0.924839</td>\n",
       "    </tr>\n",
       "    <tr>\n",
       "      <th>4</th>\n",
       "      <td>0.000138</td>\n",
       "      <td>0.003587</td>\n",
       "      <td>0.913676</td>\n",
       "    </tr>\n",
       "    <tr>\n",
       "      <th>...</th>\n",
       "      <td>...</td>\n",
       "      <td>...</td>\n",
       "      <td>...</td>\n",
       "    </tr>\n",
       "    <tr>\n",
       "      <th>5683</th>\n",
       "      <td>0.996968</td>\n",
       "      <td>0.999641</td>\n",
       "      <td>0.080755</td>\n",
       "    </tr>\n",
       "    <tr>\n",
       "      <th>5684</th>\n",
       "      <td>0.996968</td>\n",
       "      <td>0.999821</td>\n",
       "      <td>0.080069</td>\n",
       "    </tr>\n",
       "    <tr>\n",
       "      <th>5685</th>\n",
       "      <td>0.999311</td>\n",
       "      <td>0.999821</td>\n",
       "      <td>0.061645</td>\n",
       "    </tr>\n",
       "    <tr>\n",
       "      <th>5686</th>\n",
       "      <td>0.999311</td>\n",
       "      <td>1.000000</td>\n",
       "      <td>0.058066</td>\n",
       "    </tr>\n",
       "    <tr>\n",
       "      <th>5687</th>\n",
       "      <td>1.000000</td>\n",
       "      <td>1.000000</td>\n",
       "      <td>0.039682</td>\n",
       "    </tr>\n",
       "  </tbody>\n",
       "</table>\n",
       "<p>5688 rows × 3 columns</p>\n",
       "</div>"
      ],
      "text/plain": [
       "           FPR       TPR  threshold\n",
       "0     0.000000  0.000000   1.958794\n",
       "1     0.000000  0.000179   0.958794\n",
       "2     0.000000  0.002870   0.928854\n",
       "3     0.000138  0.002870   0.924839\n",
       "4     0.000138  0.003587   0.913676\n",
       "...        ...       ...        ...\n",
       "5683  0.996968  0.999641   0.080755\n",
       "5684  0.996968  0.999821   0.080069\n",
       "5685  0.999311  0.999821   0.061645\n",
       "5686  0.999311  1.000000   0.058066\n",
       "5687  1.000000  1.000000   0.039682\n",
       "\n",
       "[5688 rows x 3 columns]"
      ]
     },
     "execution_count": 62,
     "metadata": {},
     "output_type": "execute_result"
    }
   ],
   "source": [
    "df_roc"
   ]
  },
  {
   "cell_type": "code",
   "execution_count": 54,
   "id": "e21e5643-9f23-4416-bb14-9edd4241497c",
   "metadata": {},
   "outputs": [
    {
     "data": {
      "text/plain": [
       "<matplotlib.axes._subplots.AxesSubplot at 0x1c973e78390>"
      ]
     },
     "execution_count": 54,
     "metadata": {},
     "output_type": "execute_result"
    },
    {
     "data": {
      "image/png": "[encoded data removed]",
      "text/plain": [
       "<Figure size 576x576 with 1 Axes>"
      ]
     },
     "metadata": {
      "needs_background": "light"
     },
     "output_type": "display_data"
    }
   ],
   "source": [
    "df_roc.plot(kind = 'line', x = 'FPR', y = 'TPR', figsize = (8,8))"
   ]
  },
  {
   "cell_type": "code",
   "execution_count": 56,
   "id": "47a92360-a6aa-4dad-b249-ea2ab499e61d",
   "metadata": {},
   "outputs": [
    {
     "data": {
      "image/png": "[encoded data removed]",
      "text/plain": [
       "<Figure size 432x432 with 1 Axes>"
      ]
     },
     "metadata": {
      "needs_background": "light"
     },
     "output_type": "display_data"
    }
   ],
   "source": [
    "fig, ax = plt.subplots(figsize=(6, 6))\n",
    "p1 = sns.lineplot(y = df_roc.TPR, x = df_roc.FPR, ax=ax)\n",
    "p2 = sns.lineplot(y = df_roc.FPR, x = df_roc.FPR, color='k', ax=ax)\n",
    "plt.title(\"Away win ROC CURVE\")\n",
    "plt.xlabel('FPR')\n",
    "plt.ylabel('TPR')\n",
    "plt.grid('both')"
   ]
  },
  {
   "cell_type": "code",
   "execution_count": null,
   "id": "b929c0e6-df19-4b1b-8c7f-2d8f076e686a",
   "metadata": {},
   "outputs": [],
   "source": [
    "fig, ax = plt.subplots(figsize=(6, 6))\n",
    "p1 = sns.lineplot(y = df_roc.TPR, x = df_roc.threshold, label = 'TPR', ax=ax)\n",
    "p2 = sns.lineplot(y = df_roc.FPR, x = df_roc.threshold, label = 'FPR', color='k', ax=ax)\n",
    "plt.title(\"Away win ROC CURVE\")\n",
    "plt.xlabel('threshold')\n",
    "plt.xlim(0,1)\n",
    "plt.legend()\n",
    "plt.ylabel('TPR')\n",
    "plt.grid('both')"
   ]
  },
  {
   "cell_type": "code",
   "execution_count": 85,
   "id": "17f7ef55-6233-49b7-b7d4-3dbcfe3e6c27",
   "metadata": {},
   "outputs": [
    {
     "data": {
      "text/plain": [
       "0.4326493463511501"
      ]
     },
     "execution_count": 85,
     "metadata": {},
     "output_type": "execute_result"
    }
   ],
   "source": [
    "df_train.home_win_flag.mean()"
   ]
  },
  {
   "cell_type": "code",
   "execution_count": 86,
   "id": "5a0ddfe7-2a17-4965-a051-8a3db7286f79",
   "metadata": {},
   "outputs": [
    {
     "data": {
      "text/plain": [
       "0.3051050802581499"
      ]
     },
     "execution_count": 86,
     "metadata": {},
     "output_type": "execute_result"
    }
   ],
   "source": [
    "df_train.away_win_flag.mean()"
   ]
  },
  {
   "cell_type": "code",
   "execution_count": 87,
   "id": "4b201944-1330-435f-bf56-d22c505428b0",
   "metadata": {},
   "outputs": [
    {
     "data": {
      "text/plain": [
       "0.2622455733907"
      ]
     },
     "execution_count": 87,
     "metadata": {},
     "output_type": "execute_result"
    }
   ],
   "source": [
    "df_train.draw_flag.mean()"
   ]
  },
  {
   "cell_type": "code",
   "execution_count": null,
   "id": "10969f68-81a8-4781-a670-26ddd8b82aec",
   "metadata": {},
   "outputs": [],
   "source": []
  }
 ],
 "metadata": {
  "kernelspec": {
   "display_name": "Python 3",
   "language": "python",
   "name": "python3"
  },
  "language_info": {
   "codemirror_mode": {
    "name": "ipython",
    "version": 3
   },
   "file_extension": ".py",
   "mimetype": "text/x-python",
   "name": "python",
   "nbconvert_exporter": "python",
   "pygments_lexer": "ipython3",
   "version": "3.6.13"
  }
 },
 "nbformat": 4,
 "nbformat_minor": 5
}
