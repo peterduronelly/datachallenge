{
 "cells": [
  {
   "cell_type": "code",
   "execution_count": 1,
   "id": "da8647e2-b540-47a0-a3d7-284fb10628aa",
   "metadata": {},
   "outputs": [],
   "source": [
    "import pandas as pd\n",
    "from sklearn.experimental import enable_hist_gradient_boosting\n",
    "from sklearn.ensemble import HistGradientBoostingClassifier\n",
    "from joblib import load\n",
    "import warnings\n",
    "warnings.filterwarnings(\"ignore\")"
   ]
  },
  {
   "cell_type": "markdown",
   "id": "a58c276e-1430-42ef-9f79-218b3c8b730f",
   "metadata": {},
   "source": [
    "### UDFs"
   ]
  },
  {
   "cell_type": "code",
   "execution_count": 13,
   "id": "ac88ccdd-5222-4388-9f5b-0670df6094d3",
   "metadata": {},
   "outputs": [],
   "source": [
    "def create_inputs(path):\n",
    "    df = pd.read_csv(path, index_col = 0)\n",
    "    df = df[(df.odds_home_team_win != 0) & (df.odds_draw != 0) & (df.odds_away_team_win != 0)]\n",
    "    \n",
    "    df['home_team_relative_point_roll1_sum'] = df.home_team_point_roll1_sum - df.home_team_expected_point_roll1_sum\n",
    "    df['home_team_relative_point_roll2_sum'] = df.home_team_point_roll2_sum - df.home_team_expected_point_roll2_sum\n",
    "    df['home_team_relative_point_roll3_sum'] = df.home_team_point_roll3_sum - df.home_team_expected_point_roll3_sum\n",
    "    df['home_team_relative_point_roll4_sum'] = df.home_team_point_roll4_sum - df.home_team_expected_point_roll4_sum\n",
    "\n",
    "    df['away_team_relative_point_roll1_sum'] = df.away_team_point_roll1_sum - df.away_team_expected_point_roll1_sum\n",
    "    df['away_team_relative_point_roll2_sum'] = df.away_team_point_roll2_sum - df.away_team_expected_point_roll2_sum\n",
    "    df['away_team_relative_point_roll3_sum'] = df.away_team_point_roll3_sum - df.away_team_expected_point_roll3_sum\n",
    "    df['away_team_relative_point_roll4_sum'] = df.away_team_point_roll4_sum - df.away_team_expected_point_roll4_sum\n",
    "\n",
    "    df['prob_home_win'] = 1 / df.odds_home_team_win\n",
    "    df['prob_draw'] = 1 / df.odds_draw\n",
    "    df['prob_away_win'] = 1 / df.odds_away_team_win\n",
    "    \n",
    "    x_variables = list(set(df.columns) - set(['home_win_flag', 'draw_flag', 'away_win_flag', 'match_id', 'season', 'div']))\n",
    "    \n",
    "    return df[x_variables], df.match_id.tolist()"
   ]
  },
  {
   "cell_type": "code",
   "execution_count": 9,
   "id": "276cb43e-4503-4242-8eb4-4e0dcbbc00a4",
   "metadata": {},
   "outputs": [],
   "source": [
    "def predict(dataframe, matchid):\n",
    "    \n",
    "    model_home = load(model_home_path)\n",
    "    model_away = load(model_away_path)\n",
    "    model_draw = load(model_draw_path)\n",
    "    \n",
    "    y_pred_home = model_home.predict_proba(dataframe)\n",
    "    y_pred_away = model_away.predict_proba(dataframe)\n",
    "    y_pred_draw = model_draw.predict_proba(dataframe)\n",
    "    \n",
    "    df_predict = pd.DataFrame(\n",
    "        {'match_id': matchid, \n",
    "         'home_win_p1': y_pred_home[:,1], \n",
    "         'draw_p1': y_pred_draw[:,1], \n",
    "         'away_win_p1': y_pred_away[:,1]})\n",
    "    \n",
    "    return df_predict\n",
    "    "
   ]
  },
  {
   "cell_type": "markdown",
   "id": "80c1827e-81ba-4909-80cc-d049e6bedccc",
   "metadata": {},
   "source": [
    "#### Predict"
   ]
  },
  {
   "cell_type": "code",
   "execution_count": 14,
   "id": "1a875862-bef7-4a92-b6b7-61298b16ef55",
   "metadata": {
    "tags": []
   },
   "outputs": [],
   "source": [
    "input_path = 'competition_table.csv'"
   ]
  },
  {
   "cell_type": "code",
   "execution_count": 5,
   "id": "951851b0-8753-4af2-8054-ca9decf4a85c",
   "metadata": {},
   "outputs": [],
   "source": [
    "model_home_path = 'gbm_home_cv.joblib'\n",
    "model_away_path = 'gbm_away_cv.joblib'\n",
    "model_draw_path = 'gbm_draw_cv.joblib'"
   ]
  },
  {
   "cell_type": "code",
   "execution_count": null,
   "id": "570b1f99-450c-468f-ac83-dccb1fa6fe99",
   "metadata": {},
   "outputs": [],
   "source": [
    "df_input, ls_matchid = create_inputs(input_path)"
   ]
  },
  {
   "cell_type": "code",
   "execution_count": 10,
   "id": "0912a260-c77f-4302-8477-f3e32a3927f4",
   "metadata": {},
   "outputs": [],
   "source": [
    "df_predict = predict(df_input, ls_matchid)"
   ]
  },
  {
   "cell_type": "code",
   "execution_count": 12,
   "id": "f27b79be-4d06-411f-a3d5-4bdfce01cda0",
   "metadata": {},
   "outputs": [],
   "source": [
    "df_predict.to_csv('t_model.csv', encoding = 'utf-8')"
   ]
  },
  {
   "cell_type": "code",
   "execution_count": null,
   "id": "3ff7da29-e751-4a6f-a46c-d4eeb6d791bc",
   "metadata": {},
   "outputs": [],
   "source": []
  }
 ],
 "metadata": {
  "kernelspec": {
   "display_name": "Python 3",
   "language": "python",
   "name": "python3"
  },
  "language_info": {
   "codemirror_mode": {
    "name": "ipython",
    "version": 3
   },
   "file_extension": ".py",
   "mimetype": "text/x-python",
   "name": "python",
   "nbconvert_exporter": "python",
   "pygments_lexer": "ipython3",
   "version": "3.6.13"
  }
 },
 "nbformat": 4,
 "nbformat_minor": 5
}
