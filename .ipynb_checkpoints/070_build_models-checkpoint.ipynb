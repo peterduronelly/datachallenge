{
 "cells": [
  {
   "cell_type": "code",
   "execution_count": 2,
   "id": "7e2f86db-cab1-4eaf-b842-343731c9364e",
   "metadata": {},
   "outputs": [],
   "source": [
    "import pandas as pd\n",
    "import numpy as np\n",
    "import sklearn.metrics as metrics\n",
    "from sklearn.metrics import (\n",
    "    auc,\n",
    "    confusion_matrix,\n",
    "    mean_squared_error,\n",
    "    roc_auc_score,\n",
    "    roc_curve,\n",
    ")\n",
    "from sklearn.model_selection import GridSearchCV, train_test_split\n",
    "from sklearn.preprocessing import StandardScaler, OneHotEncoder\n",
    "from sklearn.compose import ColumnTransformer\n",
    "from sklearn.pipeline import Pipeline\n",
    "from sklearn.experimental import enable_hist_gradient_boosting\n",
    "from sklearn.ensemble import HistGradientBoostingClassifier\n",
    "from joblib import dump, load\n",
    "import warnings\n",
    "warnings.filterwarnings(\"ignore\")\n",
    "from IPython.display import clear_output\n",
    "import time"
   ]
  },
  {
   "cell_type": "markdown",
   "id": "a58c276e-1430-42ef-9f79-218b3c8b730f",
   "metadata": {},
   "source": [
    "#### Import, Filter, Adjust Data"
   ]
  },
  {
   "cell_type": "code",
   "execution_count": 3,
   "id": "222d0b79-c585-4a79-827d-66ac483cf8ef",
   "metadata": {
    "tags": []
   },
   "outputs": [],
   "source": [
    "df = pd.read_csv('competition_table.csv', index_col = 0)"
   ]
  },
  {
   "cell_type": "code",
   "execution_count": 4,
   "id": "f0c886d4-24d6-4f51-bbaf-638caf16628a",
   "metadata": {},
   "outputs": [],
   "source": [
    "df = df[(df.odds_home_team_win != 0) & (df.odds_draw != 0) & (df.odds_away_team_win != 0)]"
   ]
  },
  {
   "cell_type": "code",
   "execution_count": 5,
   "id": "6598b3c1-b32b-4edb-9bbe-5ecfe2f164fc",
   "metadata": {},
   "outputs": [],
   "source": [
    "df['home_team_relative_point_roll1_sum'] = df.home_team_point_roll1_sum - df.home_team_expected_point_roll1_sum\n",
    "df['home_team_relative_point_roll2_sum'] = df.home_team_point_roll2_sum - df.home_team_expected_point_roll2_sum\n",
    "df['home_team_relative_point_roll3_sum'] = df.home_team_point_roll3_sum - df.home_team_expected_point_roll3_sum\n",
    "df['home_team_relative_point_roll4_sum'] = df.home_team_point_roll4_sum - df.home_team_expected_point_roll4_sum"
   ]
  },
  {
   "cell_type": "code",
   "execution_count": 6,
   "id": "7f7aacc9-d074-4af5-8cde-9c5fe06dbd28",
   "metadata": {},
   "outputs": [],
   "source": [
    "df['away_team_relative_point_roll1_sum'] = df.away_team_point_roll1_sum - df.away_team_expected_point_roll1_sum\n",
    "df['away_team_relative_point_roll2_sum'] = df.away_team_point_roll2_sum - df.away_team_expected_point_roll2_sum\n",
    "df['away_team_relative_point_roll3_sum'] = df.away_team_point_roll3_sum - df.away_team_expected_point_roll3_sum\n",
    "df['away_team_relative_point_roll4_sum'] = df.away_team_point_roll4_sum - df.away_team_expected_point_roll4_sum"
   ]
  },
  {
   "cell_type": "code",
   "execution_count": 7,
   "id": "1258ddeb-c9e2-4b9d-acd3-9b89925cc75c",
   "metadata": {},
   "outputs": [],
   "source": [
    "df['prob_home_win'] = 1 / df.odds_home_team_win\n",
    "df['prob_draw'] = 1 / df.odds_draw\n",
    "df['prob_away_win'] = 1 / df.odds_away_team_win"
   ]
  },
  {
   "cell_type": "code",
   "execution_count": 8,
   "id": "b20dca50-aacb-4bdd-ac05-c9817097c793",
   "metadata": {},
   "outputs": [],
   "source": [
    "x_variables = set(df.columns)"
   ]
  },
  {
   "cell_type": "code",
   "execution_count": 9,
   "id": "eeda4e6e-9379-49b8-be83-f3f8397b61a4",
   "metadata": {},
   "outputs": [],
   "source": [
    "remove = set(['home_win_flag', 'draw_flag', 'away_win_flag', 'match_id', 'season', 'div'])"
   ]
  },
  {
   "cell_type": "code",
   "execution_count": 10,
   "id": "5ba4307e-6462-4788-9fb9-b50308920390",
   "metadata": {},
   "outputs": [],
   "source": [
    "x_variables = list(x_variables - remove)"
   ]
  },
  {
   "cell_type": "markdown",
   "id": "80c1827e-81ba-4909-80cc-d049e6bedccc",
   "metadata": {},
   "source": [
    "#### Build Model"
   ]
  },
  {
   "cell_type": "code",
   "execution_count": 11,
   "id": "64f5e677-8f7e-4822-93bf-4c0cbefc664e",
   "metadata": {},
   "outputs": [],
   "source": [
    "df_train, df_holdout = train_test_split(df, train_size=0.8, random_state=2023)"
   ]
  },
  {
   "cell_type": "code",
   "execution_count": 12,
   "id": "001fcb54-8fbc-4a14-94e3-8c4ef92aa3aa",
   "metadata": {},
   "outputs": [],
   "source": [
    "tune_grid = {\n",
    "    \"max_iter\": [50, 100, 200],\n",
    "    \"max_depth\": [1, 5, 10],\n",
    "    \"learning_rate\": [0.1, 0.15, 0.2],\n",
    "    \"min_samples_leaf\": [5, 10, 20, 30],\n",
    "}"
   ]
  },
  {
   "cell_type": "markdown",
   "id": "39ca5543-9d10-443d-a760-1d751945d564",
   "metadata": {},
   "source": [
    "**Home_win_flag**"
   ]
  },
  {
   "cell_type": "code",
   "execution_count": 13,
   "id": "707328b4-416e-4039-ad98-ef5a6d1cd721",
   "metadata": {},
   "outputs": [],
   "source": [
    "gbm_home = HistGradientBoostingClassifier()"
   ]
  },
  {
   "cell_type": "code",
   "execution_count": 14,
   "id": "86bf5e8b-9809-4a97-bcb5-71e69c7c50ea",
   "metadata": {},
   "outputs": [],
   "source": [
    "gbm_home_cv = GridSearchCV(\n",
    "    gbm_home,\n",
    "    tune_grid,\n",
    "    cv=5,\n",
    "    scoring=\"roc_auc\",\n",
    "    verbose=10,\n",
    ")"
   ]
  },
  {
   "cell_type": "raw",
   "id": "10390925-b51b-4505-a720-7c750b83cdd0",
   "metadata": {},
   "source": [
    "categorical_columns =  ['div']\n",
    "numerical_columns = [col for col in x_variables if col != 'div']"
   ]
  },
  {
   "cell_type": "raw",
   "id": "990257e8-a596-4d94-9bd1-79e0945e5ccd",
   "metadata": {},
   "source": [
    "categorical_encoder = OneHotEncoder(handle_unknown=\"ignore\")\n",
    "\n",
    "preprocessing = ColumnTransformer(\n",
    "    [\n",
    "        (\"cat\", categorical_encoder, categorical_columns),\n",
    "        (\"num\", \"passthrough\", numerical_columns),\n",
    "    ]\n",
    ")\n",
    "\n",
    "gbm_pipe_home = Pipeline(\n",
    "    [(\"preprocess\", preprocessing), (\"regressor\", gbm_home_cv)], verbose=True\n",
    ")"
   ]
  },
  {
   "cell_type": "code",
   "execution_count": 15,
   "id": "8cb2b2f6-8d93-4935-9c5c-cd0f3d2bba28",
   "metadata": {
    "tags": []
   },
   "outputs": [
    {
     "name": "stdout",
     "output_type": "stream",
     "text": [
      "Process time: 1041.0 seconds.\n"
     ]
    }
   ],
   "source": [
    "start = time.time()\n",
    "gbm_home_cv.fit(df_train[x_variables], df_train.home_win_flag)\n",
    "stop = time.time()\n",
    "clear_output()\n",
    "process_time = str(round(stop - start, 0))\n",
    "print(f'Process time: {process_time} seconds.')"
   ]
  },
  {
   "cell_type": "code",
   "execution_count": 17,
   "id": "e840f4e4-5775-4c0f-9292-906caaea8e29",
   "metadata": {},
   "outputs": [
    {
     "data": {
      "text/plain": [
       "['gbm_home_cv.joblib']"
      ]
     },
     "execution_count": 17,
     "metadata": {},
     "output_type": "execute_result"
    }
   ],
   "source": [
    "dump(gbm_home_cv, 'gbm_home_cv.joblib')"
   ]
  },
  {
   "cell_type": "code",
   "execution_count": 21,
   "id": "30d93424-a2fa-468d-8ffa-ed33ae243384",
   "metadata": {},
   "outputs": [],
   "source": [
    "model = load('gbm_pipe_home.joblib')"
   ]
  },
  {
   "cell_type": "code",
   "execution_count": 25,
   "id": "a26ea1d8-f73a-4c3b-9b00-e45a4ab23e27",
   "metadata": {},
   "outputs": [
    {
     "data": {
      "text/plain": [
       "array([[0.20222524, 0.79777476],\n",
       "       [0.59231895, 0.40768105],\n",
       "       [0.76864796, 0.23135204],\n",
       "       ...,\n",
       "       [0.57344831, 0.42655169],\n",
       "       [0.8727495 , 0.1272505 ],\n",
       "       [0.47306186, 0.52693814]])"
      ]
     },
     "execution_count": 25,
     "metadata": {},
     "output_type": "execute_result"
    }
   ],
   "source": [
    "model.predict_proba(df_holdout[x_variables])"
   ]
  },
  {
   "cell_type": "code",
   "execution_count": null,
   "id": "76903168-ed4e-4b9b-8152-7688ee951024",
   "metadata": {},
   "outputs": [],
   "source": []
  }
 ],
 "metadata": {
  "kernelspec": {
   "display_name": "Python 3",
   "language": "python",
   "name": "python3"
  },
  "language_info": {
   "codemirror_mode": {
    "name": "ipython",
    "version": 3
   },
   "file_extension": ".py",
   "mimetype": "text/x-python",
   "name": "python",
   "nbconvert_exporter": "python",
   "pygments_lexer": "ipython3",
   "version": "3.6.13"
  }
 },
 "nbformat": 4,
 "nbformat_minor": 5
}
