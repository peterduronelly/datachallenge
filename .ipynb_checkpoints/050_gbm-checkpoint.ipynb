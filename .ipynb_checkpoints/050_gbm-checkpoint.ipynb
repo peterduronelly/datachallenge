{
 "cells": [
  {
   "cell_type": "code",
   "execution_count": 1,
   "id": "cc3051d0-0d49-40ca-b515-874b76399e25",
   "metadata": {},
   "outputs": [
    {
     "name": "stderr",
     "output_type": "stream",
     "text": [
      "C:\\Users\\duronelly2p331\\AppData\\Local\\Continuum\\anaconda3\\lib\\importlib\\_bootstrap.py:219: RuntimeWarning: numpy.ufunc size changed, may indicate binary incompatibility. Expected 192 from C header, got 216 from PyObject\n",
      "  return f(*args, **kwds)\n"
     ]
    }
   ],
   "source": [
    "import pandas as pd\n",
    "import numpy as np\n",
    "from patsy import dmatrices\n",
    "import sklearn.metrics as metrics\n",
    "import statsmodels.formula.api as smf\n",
    "from sklearn.ensemble import GradientBoostingClassifier\n",
    "from sklearn.linear_model import (\n",
    "    LinearRegression,\n",
    "    LogisticRegression,\n",
    "    LogisticRegressionCV,\n",
    ")\n",
    "from sklearn.metrics import (\n",
    "    auc,\n",
    "    brier_score_loss,\n",
    "    confusion_matrix,\n",
    "    mean_squared_error,\n",
    "    roc_auc_score,\n",
    "    roc_curve,\n",
    ")\n",
    "from sklearn.model_selection import GridSearchCV, KFold, train_test_split\n",
    "from sklearn.preprocessing import StandardScaler\n",
    "from statsmodels.tools.eval_measures import rmse\n",
    "import warnings\n",
    "warnings.filterwarnings(\"ignore\")"
   ]
  },
  {
   "cell_type": "code",
   "execution_count": 2,
   "id": "0e77603f-71f1-42eb-b272-282ce337fd41",
   "metadata": {},
   "outputs": [
    {
     "name": "stdout",
     "output_type": "stream",
     "text": [
      "Wall time: 2min 59s\n"
     ]
    }
   ],
   "source": [
    "%%time\n",
    "df = pd.read_excel('http://dataevents.hu/202303/filedataevents/competition_table.xlsx', engine='openpyxl')"
   ]
  },
  {
   "cell_type": "code",
   "execution_count": 13,
   "id": "241a6c2c-b0d0-4a36-bd7e-6e741190b92d",
   "metadata": {},
   "outputs": [],
   "source": [
    "df = df[(df.odds_home_team_win != 0) & (df.odds_draw != 0) & (df.odds_away_team_win != 0)]"
   ]
  },
  {
   "cell_type": "code",
   "execution_count": 14,
   "id": "4aa06e1f-2a5d-4df4-aad8-1f6f50580333",
   "metadata": {},
   "outputs": [],
   "source": [
    "df['home_team_relative_point_roll1_sum'] = df.home_team_point_roll1_sum - df.home_team_expected_point_roll1_sum\n",
    "df['home_team_relative_point_roll2_sum'] = df.home_team_point_roll2_sum - df.home_team_expected_point_roll2_sum\n",
    "df['home_team_relative_point_roll3_sum'] = df.home_team_point_roll3_sum - df.home_team_expected_point_roll3_sum\n",
    "df['home_team_relative_point_roll4_sum'] = df.home_team_point_roll4_sum - df.home_team_expected_point_roll4_sum"
   ]
  },
  {
   "cell_type": "code",
   "execution_count": 15,
   "id": "89e88859-9f4e-4bb0-b1af-3cf22249f0d6",
   "metadata": {},
   "outputs": [],
   "source": [
    "df['away_team_relative_point_roll1_sum'] = df.away_team_point_roll1_sum - df.away_team_expected_point_roll1_sum\n",
    "df['away_team_relative_point_roll2_sum'] = df.away_team_point_roll2_sum - df.away_team_expected_point_roll2_sum\n",
    "df['away_team_relative_point_roll3_sum'] = df.away_team_point_roll3_sum - df.away_team_expected_point_roll3_sum\n",
    "df['away_team_relative_point_roll4_sum'] = df.away_team_point_roll4_sum - df.away_team_expected_point_roll4_sum"
   ]
  },
  {
   "cell_type": "code",
   "execution_count": 16,
   "id": "ca4c392f-6f52-4cc1-9696-8c045d0067f2",
   "metadata": {},
   "outputs": [],
   "source": [
    "df['prob_home_win'] = 1 / df.odds_home_team_win\n",
    "df['prob_draw'] = 1 / df.odds_draw\n",
    "df['prob_away_win'] = 1 / df.odds_away_team_win"
   ]
  },
  {
   "cell_type": "code",
   "execution_count": 17,
   "id": "b9a79fe1-4049-442c-b078-0b4f796fe5ef",
   "metadata": {},
   "outputs": [],
   "source": [
    "x_variables = set(df.columns)"
   ]
  },
  {
   "cell_type": "code",
   "execution_count": 18,
   "id": "8f417ffa-3a1e-4a25-8c9b-c725f6459452",
   "metadata": {},
   "outputs": [],
   "source": [
    "remove = set(['home_win_flag', 'draw_flag', 'away_win_flag', 'match_id'])"
   ]
  },
  {
   "cell_type": "code",
   "execution_count": 19,
   "id": "064d3574-3754-4e19-9d7f-bfcc804de3f2",
   "metadata": {},
   "outputs": [],
   "source": [
    "x_variables = list(x_variables - remove)"
   ]
  },
  {
   "cell_type": "code",
   "execution_count": 20,
   "id": "0d18f2ba-9feb-4b33-8db7-4cbf70fcad21",
   "metadata": {},
   "outputs": [],
   "source": [
    "df_train, df_holdout = train_test_split(df, train_size=0.8, random_state=2023)"
   ]
  },
  {
   "cell_type": "code",
   "execution_count": 21,
   "id": "bdc65356-2dfe-4839-97be-6364aeb694bb",
   "metadata": {},
   "outputs": [],
   "source": [
    "y, X = dmatrices(\"home_win_flag ~ \" + \" + \".join(x_variables), df_train)"
   ]
  },
  {
   "cell_type": "markdown",
   "id": "79534d30-a65b-41c2-93a3-e3b9c87be8fd",
   "metadata": {},
   "source": [
    "### home win flag"
   ]
  },
  {
   "cell_type": "code",
   "execution_count": 22,
   "id": "787af179-b2bc-4148-a038-bed035886384",
   "metadata": {},
   "outputs": [],
   "source": [
    "x_train_normalized = pd.DataFrame(\n",
    "    StandardScaler().fit_transform(X),\n",
    "    columns=X.design_info.column_names,\n",
    ")"
   ]
  },
  {
   "cell_type": "code",
   "execution_count": 23,
   "id": "c2597ebc-89a1-492a-b122-c459413f15b2",
   "metadata": {},
   "outputs": [],
   "source": [
    "lambdas = list(10 ** np.arange(-1, -4.01, -1 / 3))"
   ]
  },
  {
   "cell_type": "code",
   "execution_count": 24,
   "id": "a0626759-3b3a-4c66-850e-f5f12beb577f",
   "metadata": {},
   "outputs": [],
   "source": [
    "n_obs = x_train_normalized.shape[0] * 4 / 5\n",
    "C_values = [\n",
    "    1 / (l * n_obs) for l in lambdas\n",
    "] "
   ]
  },
  {
   "cell_type": "code",
   "execution_count": 25,
   "id": "e1f894db-894d-40f9-8227-9732ce493165",
   "metadata": {},
   "outputs": [],
   "source": [
    "lr = LogisticRegressionCV(\n",
    "    Cs=C_values,\n",
    "    penalty=\"l1\",\n",
    "    cv=5,\n",
    "    refit=True,\n",
    "    scoring=\"roc_auc\",\n",
    "    solver=\"liblinear\",\n",
    "    random_state=42,\n",
    ")"
   ]
  },
  {
   "cell_type": "code",
   "execution_count": 26,
   "id": "31fd5d58-f2c9-478c-a599-d105291d0bd3",
   "metadata": {},
   "outputs": [
    {
     "name": "stdout",
     "output_type": "stream",
     "text": [
      "Wall time: 2min 55s\n"
     ]
    }
   ],
   "source": [
    "%%time\n",
    "lr_model = lr.fit(x_train_normalized, y)"
   ]
  },
  {
   "cell_type": "code",
   "execution_count": 27,
   "id": "f03463c9-a9e7-45c5-b942-923d54304f96",
   "metadata": {},
   "outputs": [
    {
     "data": {
      "text/html": [
       "<div>\n",
       "<style scoped>\n",
       "    .dataframe tbody tr th:only-of-type {\n",
       "        vertical-align: middle;\n",
       "    }\n",
       "\n",
       "    .dataframe tbody tr th {\n",
       "        vertical-align: top;\n",
       "    }\n",
       "\n",
       "    .dataframe thead th {\n",
       "        text-align: right;\n",
       "    }\n",
       "</style>\n",
       "<table border=\"1\" class=\"dataframe\">\n",
       "  <thead>\n",
       "    <tr style=\"text-align: right;\">\n",
       "      <th></th>\n",
       "      <th>lambdas</th>\n",
       "      <th>C_values</th>\n",
       "      <th>mean_cv_auc</th>\n",
       "    </tr>\n",
       "  </thead>\n",
       "  <tbody>\n",
       "    <tr>\n",
       "      <th>0</th>\n",
       "      <td>0.100000</td>\n",
       "      <td>0.000244</td>\n",
       "      <td>0.679749</td>\n",
       "    </tr>\n",
       "    <tr>\n",
       "      <th>1</th>\n",
       "      <td>0.046416</td>\n",
       "      <td>0.000525</td>\n",
       "      <td>0.679749</td>\n",
       "    </tr>\n",
       "    <tr>\n",
       "      <th>2</th>\n",
       "      <td>0.021544</td>\n",
       "      <td>0.001130</td>\n",
       "      <td>0.679738</td>\n",
       "    </tr>\n",
       "    <tr>\n",
       "      <th>3</th>\n",
       "      <td>0.010000</td>\n",
       "      <td>0.002435</td>\n",
       "      <td>0.680310</td>\n",
       "    </tr>\n",
       "    <tr>\n",
       "      <th>4</th>\n",
       "      <td>0.004642</td>\n",
       "      <td>0.005247</td>\n",
       "      <td>0.680767</td>\n",
       "    </tr>\n",
       "    <tr>\n",
       "      <th>5</th>\n",
       "      <td>0.002154</td>\n",
       "      <td>0.011304</td>\n",
       "      <td>0.680639</td>\n",
       "    </tr>\n",
       "    <tr>\n",
       "      <th>6</th>\n",
       "      <td>0.001000</td>\n",
       "      <td>0.024354</td>\n",
       "      <td>0.680338</td>\n",
       "    </tr>\n",
       "    <tr>\n",
       "      <th>7</th>\n",
       "      <td>0.000464</td>\n",
       "      <td>0.052468</td>\n",
       "      <td>0.679773</td>\n",
       "    </tr>\n",
       "    <tr>\n",
       "      <th>8</th>\n",
       "      <td>0.000215</td>\n",
       "      <td>0.113040</td>\n",
       "      <td>0.679134</td>\n",
       "    </tr>\n",
       "    <tr>\n",
       "      <th>9</th>\n",
       "      <td>0.000100</td>\n",
       "      <td>0.243537</td>\n",
       "      <td>0.678598</td>\n",
       "    </tr>\n",
       "  </tbody>\n",
       "</table>\n",
       "</div>"
      ],
      "text/plain": [
       "    lambdas  C_values  mean_cv_auc\n",
       "0  0.100000  0.000244     0.679749\n",
       "1  0.046416  0.000525     0.679749\n",
       "2  0.021544  0.001130     0.679738\n",
       "3  0.010000  0.002435     0.680310\n",
       "4  0.004642  0.005247     0.680767\n",
       "5  0.002154  0.011304     0.680639\n",
       "6  0.001000  0.024354     0.680338\n",
       "7  0.000464  0.052468     0.679773\n",
       "8  0.000215  0.113040     0.679134\n",
       "9  0.000100  0.243537     0.678598"
      ]
     },
     "execution_count": 27,
     "metadata": {},
     "output_type": "execute_result"
    }
   ],
   "source": [
    "pd.DataFrame({\n",
    "        \"lambdas\": lambdas,\n",
    "        \"C_values\": C_values,\n",
    "        \"mean_cv_auc\": lr_model.scores_[1].mean(axis=0),\n",
    "    })"
   ]
  },
  {
   "cell_type": "code",
   "execution_count": 28,
   "id": "d4e2b677-e2b2-4f4b-acd7-f2f578ae9af4",
   "metadata": {},
   "outputs": [
    {
     "data": {
      "text/html": [
       "<div>\n",
       "<style scoped>\n",
       "    .dataframe tbody tr th:only-of-type {\n",
       "        vertical-align: middle;\n",
       "    }\n",
       "\n",
       "    .dataframe tbody tr th {\n",
       "        vertical-align: top;\n",
       "    }\n",
       "\n",
       "    .dataframe thead th {\n",
       "        text-align: right;\n",
       "    }\n",
       "</style>\n",
       "<table border=\"1\" class=\"dataframe\">\n",
       "  <thead>\n",
       "    <tr style=\"text-align: right;\">\n",
       "      <th></th>\n",
       "      <th>coefficient</th>\n",
       "    </tr>\n",
       "  </thead>\n",
       "  <tbody>\n",
       "    <tr>\n",
       "      <th>season[T.2016-2017]</th>\n",
       "      <td>0.003946</td>\n",
       "    </tr>\n",
       "    <tr>\n",
       "      <th>home_team_shot_roll2_sum</th>\n",
       "      <td>0.006823</td>\n",
       "    </tr>\n",
       "    <tr>\n",
       "      <th>home_team_shot_on_target_roll2_sum</th>\n",
       "      <td>0.000783</td>\n",
       "    </tr>\n",
       "    <tr>\n",
       "      <th>home_team_corner_roll1_sum</th>\n",
       "      <td>0.021309</td>\n",
       "    </tr>\n",
       "    <tr>\n",
       "      <th>prob_home_win</th>\n",
       "      <td>0.499940</td>\n",
       "    </tr>\n",
       "    <tr>\n",
       "      <th>home_team_opponents_yellow_card_roll4_sum</th>\n",
       "      <td>0.002849</td>\n",
       "    </tr>\n",
       "    <tr>\n",
       "      <th>home_team_shot_roll3_sum</th>\n",
       "      <td>0.003372</td>\n",
       "    </tr>\n",
       "    <tr>\n",
       "      <th>home_team_corner_roll4_sum</th>\n",
       "      <td>0.024597</td>\n",
       "    </tr>\n",
       "    <tr>\n",
       "      <th>away_team_opponents_corner_roll1_sum</th>\n",
       "      <td>0.002717</td>\n",
       "    </tr>\n",
       "    <tr>\n",
       "      <th>away_team_relative_point_roll2_sum</th>\n",
       "      <td>0.001734</td>\n",
       "    </tr>\n",
       "    <tr>\n",
       "      <th>away_team_opponents_shot_roll4_sum</th>\n",
       "      <td>0.020816</td>\n",
       "    </tr>\n",
       "    <tr>\n",
       "      <th>away_team_opponents_shot_roll1_sum</th>\n",
       "      <td>0.008603</td>\n",
       "    </tr>\n",
       "    <tr>\n",
       "      <th>odds_away_team_win</th>\n",
       "      <td>0.110295</td>\n",
       "    </tr>\n",
       "    <tr>\n",
       "      <th>away_team_opponents_shot_roll3_sum</th>\n",
       "      <td>0.016083</td>\n",
       "    </tr>\n",
       "    <tr>\n",
       "      <th>away_team_opponents_corner_roll4_sum</th>\n",
       "      <td>0.004186</td>\n",
       "    </tr>\n",
       "    <tr>\n",
       "      <th>home_team_opponents_yellow_card_roll2_sum</th>\n",
       "      <td>0.001399</td>\n",
       "    </tr>\n",
       "  </tbody>\n",
       "</table>\n",
       "</div>"
      ],
      "text/plain": [
       "                                           coefficient\n",
       "season[T.2016-2017]                           0.003946\n",
       "home_team_shot_roll2_sum                      0.006823\n",
       "home_team_shot_on_target_roll2_sum            0.000783\n",
       "home_team_corner_roll1_sum                    0.021309\n",
       "prob_home_win                                 0.499940\n",
       "home_team_opponents_yellow_card_roll4_sum     0.002849\n",
       "home_team_shot_roll3_sum                      0.003372\n",
       "home_team_corner_roll4_sum                    0.024597\n",
       "away_team_opponents_corner_roll1_sum          0.002717\n",
       "away_team_relative_point_roll2_sum            0.001734\n",
       "away_team_opponents_shot_roll4_sum            0.020816\n",
       "away_team_opponents_shot_roll1_sum            0.008603\n",
       "odds_away_team_win                            0.110295\n",
       "away_team_opponents_shot_roll3_sum            0.016083\n",
       "away_team_opponents_corner_roll4_sum          0.004186\n",
       "home_team_opponents_yellow_card_roll2_sum     0.001399"
      ]
     },
     "execution_count": 28,
     "metadata": {},
     "output_type": "execute_result"
    }
   ],
   "source": [
    "df_lasso_coeffs = pd.DataFrame(lr_model.coef_[0], columns = ['coefficient'], index = X.design_info.column_names)\n",
    "df_lasso_coeffs[df_lasso_coeffs.coefficient > 0]"
   ]
  },
  {
   "cell_type": "code",
   "execution_count": 33,
   "id": "b050d715-b55c-4803-90c5-be528b654fa0",
   "metadata": {},
   "outputs": [],
   "source": [
    "y_holdout, X_holdout = dmatrices(\"home_win_flag ~ \" + \" + \".join(x_variables), df_holdout)"
   ]
  },
  {
   "cell_type": "code",
   "execution_count": 34,
   "id": "1629d53a-5e3c-4eab-8e27-6f161a4b5330",
   "metadata": {},
   "outputs": [],
   "source": [
    "x_holdout_normalized = pd.DataFrame(\n",
    "    StandardScaler().fit_transform(X_holdout),\n",
    "    columns=X_holdout.design_info.column_names,\n",
    ")"
   ]
  },
  {
   "cell_type": "code",
   "execution_count": 35,
   "id": "8004541b-4ed5-496b-a648-a46d2a9985fd",
   "metadata": {},
   "outputs": [
    {
     "data": {
      "text/plain": [
       "0.6875588190403452"
      ]
     },
     "execution_count": 35,
     "metadata": {},
     "output_type": "execute_result"
    }
   ],
   "source": [
    "lr_model.score(x_holdout_normalized, y_holdout)"
   ]
  },
  {
   "cell_type": "code",
   "execution_count": 36,
   "id": "f3c2de12-096c-4e7c-996c-7c538c3294db",
   "metadata": {},
   "outputs": [],
   "source": [
    "y_pred = lr_model.predict(x_holdout_normalized)"
   ]
  },
  {
   "cell_type": "code",
   "execution_count": 38,
   "id": "7164c5f4-517a-4bea-9254-95839e03079c",
   "metadata": {},
   "outputs": [
    {
     "data": {
      "text/plain": [
       "(12832,)"
      ]
     },
     "execution_count": 38,
     "metadata": {},
     "output_type": "execute_result"
    }
   ],
   "source": [
    "y_pred.shape"
   ]
  },
  {
   "cell_type": "code",
   "execution_count": 39,
   "id": "99ac2656-85d7-4fc4-9547-7803c717396e",
   "metadata": {},
   "outputs": [
    {
     "data": {
      "text/plain": [
       "array([1., 0., 0., 0., 0., 0., 0., 1., 1., 0., 0., 0., 0., 0., 0., 0., 0.,\n",
       "       0., 0., 0., 0., 0., 0., 0., 0., 0., 0., 0., 0., 0., 0., 0., 1., 1.,\n",
       "       0., 0., 1., 1., 0., 1., 1., 1., 0., 0., 1., 0., 0., 1., 0., 1., 0.,\n",
       "       0., 0., 1., 0., 0., 1., 0., 0., 0., 1., 0., 1., 0., 0., 0., 1., 0.,\n",
       "       1., 0., 0., 1., 0., 0., 0., 0., 0., 0., 0., 0., 0., 0., 1., 0., 0.,\n",
       "       0., 0., 0., 0., 0., 0., 0., 0., 0., 1., 0., 0., 0., 0., 0.])"
      ]
     },
     "execution_count": 39,
     "metadata": {},
     "output_type": "execute_result"
    }
   ],
   "source": [
    "y_pred[0:100]"
   ]
  },
  {
   "cell_type": "code",
   "execution_count": 41,
   "id": "75f6ead7-0657-47d0-b37b-24eaee0bc7c0",
   "metadata": {},
   "outputs": [
    {
     "data": {
      "text/plain": [
       "array([5696, 1561, 2981, 2594], dtype=int64)"
      ]
     },
     "execution_count": 41,
     "metadata": {},
     "output_type": "execute_result"
    }
   ],
   "source": [
    "confusion_matrix(y_holdout, y_pred).ravel()"
   ]
  },
  {
   "cell_type": "code",
   "execution_count": 44,
   "id": "7cff7e14-5e1a-4f58-8c94-08ac623e4961",
   "metadata": {},
   "outputs": [
    {
     "data": {
      "text/plain": [
       "0.6875588190403452"
      ]
     },
     "execution_count": 44,
     "metadata": {},
     "output_type": "execute_result"
    }
   ],
   "source": [
    "roc_auc_score(y_holdout, lr_model.predict_proba(x_holdout_normalized)[:,1])"
   ]
  },
  {
   "cell_type": "code",
   "execution_count": 50,
   "id": "95802336-e6cb-440d-9e82-1b5c4311af89",
   "metadata": {},
   "outputs": [
    {
     "data": {
      "text/plain": [
       "array([1.95879395, 0.95879395, 0.92885368, ..., 0.06164526, 0.05806626,\n",
       "       0.03968204])"
      ]
     },
     "execution_count": 50,
     "metadata": {},
     "output_type": "execute_result"
    }
   ],
   "source": [
    "roc_curve(y_holdout, lr_model.predict_proba(x_holdout_normalized)[:,1])[2]"
   ]
  },
  {
   "cell_type": "code",
   "execution_count": 51,
   "id": "f4fe36de-7a77-4a39-99d9-b67481d7cc2b",
   "metadata": {},
   "outputs": [],
   "source": [
    "import seaborn as sns\n",
    "import matplotlib.pyplot as plt"
   ]
  },
  {
   "cell_type": "code",
   "execution_count": 57,
   "id": "c0293ddc-48de-4b4c-b4b4-3f6ad070bc8b",
   "metadata": {},
   "outputs": [],
   "source": [
    "df_roc = pd.DataFrame({'FPR': roc_curve(y_holdout, lr_model.predict_proba(x_holdout_normalized)[:,1])[0], \n",
    "                       'TPR': roc_curve(y_holdout, lr_model.predict_proba(x_holdout_normalized)[:,1])[1], \n",
    "                      'threshold' : roc_curve(y_holdout, lr_model.predict_proba(x_holdout_normalized)[:,1])[2]}\n",
    "                     )"
   ]
  },
  {
   "cell_type": "code",
   "execution_count": 62,
   "id": "e699d4d3-76e9-4729-90c6-2459cabc9089",
   "metadata": {},
   "outputs": [
    {
     "data": {
      "text/html": [
       "<div>\n",
       "<style scoped>\n",
       "    .dataframe tbody tr th:only-of-type {\n",
       "        vertical-align: middle;\n",
       "    }\n",
       "\n",
       "    .dataframe tbody tr th {\n",
       "        vertical-align: top;\n",
       "    }\n",
       "\n",
       "    .dataframe thead th {\n",
       "        text-align: right;\n",
       "    }\n",
       "</style>\n",
       "<table border=\"1\" class=\"dataframe\">\n",
       "  <thead>\n",
       "    <tr style=\"text-align: right;\">\n",
       "      <th></th>\n",
       "      <th>FPR</th>\n",
       "      <th>TPR</th>\n",
       "      <th>threshold</th>\n",
       "    </tr>\n",
       "  </thead>\n",
       "  <tbody>\n",
       "    <tr>\n",
       "      <th>0</th>\n",
       "      <td>0.000000</td>\n",
       "      <td>0.000000</td>\n",
       "      <td>1.958794</td>\n",
       "    </tr>\n",
       "    <tr>\n",
       "      <th>1</th>\n",
       "      <td>0.000000</td>\n",
       "      <td>0.000179</td>\n",
       "      <td>0.958794</td>\n",
       "    </tr>\n",
       "    <tr>\n",
       "      <th>2</th>\n",
       "      <td>0.000000</td>\n",
       "      <td>0.002870</td>\n",
       "      <td>0.928854</td>\n",
       "    </tr>\n",
       "    <tr>\n",
       "      <th>3</th>\n",
       "      <td>0.000138</td>\n",
       "      <td>0.002870</td>\n",
       "      <td>0.924839</td>\n",
       "    </tr>\n",
       "    <tr>\n",
       "      <th>4</th>\n",
       "      <td>0.000138</td>\n",
       "      <td>0.003587</td>\n",
       "      <td>0.913676</td>\n",
       "    </tr>\n",
       "    <tr>\n",
       "      <th>...</th>\n",
       "      <td>...</td>\n",
       "      <td>...</td>\n",
       "      <td>...</td>\n",
       "    </tr>\n",
       "    <tr>\n",
       "      <th>5683</th>\n",
       "      <td>0.996968</td>\n",
       "      <td>0.999641</td>\n",
       "      <td>0.080755</td>\n",
       "    </tr>\n",
       "    <tr>\n",
       "      <th>5684</th>\n",
       "      <td>0.996968</td>\n",
       "      <td>0.999821</td>\n",
       "      <td>0.080069</td>\n",
       "    </tr>\n",
       "    <tr>\n",
       "      <th>5685</th>\n",
       "      <td>0.999311</td>\n",
       "      <td>0.999821</td>\n",
       "      <td>0.061645</td>\n",
       "    </tr>\n",
       "    <tr>\n",
       "      <th>5686</th>\n",
       "      <td>0.999311</td>\n",
       "      <td>1.000000</td>\n",
       "      <td>0.058066</td>\n",
       "    </tr>\n",
       "    <tr>\n",
       "      <th>5687</th>\n",
       "      <td>1.000000</td>\n",
       "      <td>1.000000</td>\n",
       "      <td>0.039682</td>\n",
       "    </tr>\n",
       "  </tbody>\n",
       "</table>\n",
       "<p>5688 rows × 3 columns</p>\n",
       "</div>"
      ],
      "text/plain": [
       "           FPR       TPR  threshold\n",
       "0     0.000000  0.000000   1.958794\n",
       "1     0.000000  0.000179   0.958794\n",
       "2     0.000000  0.002870   0.928854\n",
       "3     0.000138  0.002870   0.924839\n",
       "4     0.000138  0.003587   0.913676\n",
       "...        ...       ...        ...\n",
       "5683  0.996968  0.999641   0.080755\n",
       "5684  0.996968  0.999821   0.080069\n",
       "5685  0.999311  0.999821   0.061645\n",
       "5686  0.999311  1.000000   0.058066\n",
       "5687  1.000000  1.000000   0.039682\n",
       "\n",
       "[5688 rows x 3 columns]"
      ]
     },
     "execution_count": 62,
     "metadata": {},
     "output_type": "execute_result"
    }
   ],
   "source": [
    "df_roc"
   ]
  },
  {
   "cell_type": "code",
   "execution_count": 54,
   "id": "e21e5643-9f23-4416-bb14-9edd4241497c",
   "metadata": {},
   "outputs": [
    {
     "data": {
      "text/plain": [
       "<matplotlib.axes._subplots.AxesSubplot at 0x1c973e78390>"
      ]
     },
     "execution_count": 54,
     "metadata": {},
     "output_type": "execute_result"
    },
    {
     "data": {
      "image/png": "[encoded data removed]",
      "text/plain": [
       "<Figure size 576x576 with 1 Axes>"
      ]
     },
     "metadata": {
      "needs_background": "light"
     },
     "output_type": "display_data"
    }
   ],
   "source": [
    "df_roc.plot(kind = 'line', x = 'FPR', y = 'TPR', figsize = (8,8))"
   ]
  },
  {
   "cell_type": "code",
   "execution_count": 56,
   "id": "47a92360-a6aa-4dad-b249-ea2ab499e61d",
   "metadata": {},
   "outputs": [
    {
     "data": {
      "image/png": "[encoded data removed]",
      "text/plain": [
       "<Figure size 432x432 with 1 Axes>"
      ]
     },
     "metadata": {
      "needs_background": "light"
     },
     "output_type": "display_data"
    }
   ],
   "source": [
    "fig, ax = plt.subplots(figsize=(6, 6))\n",
    "p1 = sns.lineplot(y = df_roc.TPR, x = df_roc.FPR, ax=ax)\n",
    "p2 = sns.lineplot(y = df_roc.FPR, x = df_roc.FPR, color='k', ax=ax)\n",
    "plt.title(\"Away win ROC CURVE\")\n",
    "plt.xlabel('FPR')\n",
    "plt.ylabel('TPR')\n",
    "plt.grid('both')"
   ]
  },
  {
   "cell_type": "code",
   "execution_count": null,
   "id": "b929c0e6-df19-4b1b-8c7f-2d8f076e686a",
   "metadata": {},
   "outputs": [],
   "source": [
    "fig, ax = plt.subplots(figsize=(6, 6))\n",
    "p1 = sns.lineplot(y = df_roc.TPR, x = df_roc.threshold, label = 'TPR', ax=ax)\n",
    "p2 = sns.lineplot(y = df_roc.FPR, x = df_roc.threshold, label = 'FPR', color='k', ax=ax)\n",
    "plt.title(\"Away win ROC CURVE\")\n",
    "plt.xlabel('threshold')\n",
    "plt.xlim(0,1)\n",
    "plt.legend()\n",
    "plt.ylabel('TPR')\n",
    "plt.grid('both')"
   ]
  },
  {
   "cell_type": "code",
   "execution_count": null,
   "id": "17f7ef55-6233-49b7-b7d4-3dbcfe3e6c27",
   "metadata": {},
   "outputs": [],
   "source": []
  }
 ],
 "metadata": {
  "kernelspec": {
   "display_name": "Python 3",
   "language": "python",
   "name": "python3"
  },
  "language_info": {
   "codemirror_mode": {
    "name": "ipython",
    "version": 3
   },
   "file_extension": ".py",
   "mimetype": "text/x-python",
   "name": "python",
   "nbconvert_exporter": "python",
   "pygments_lexer": "ipython3",
   "version": "3.6.13"
  }
 },
 "nbformat": 4,
 "nbformat_minor": 5
}
