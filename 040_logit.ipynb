{
 "cells": [
  {
   "cell_type": "code",
   "execution_count": 106,
   "id": "cc3051d0-0d49-40ca-b515-874b76399e25",
   "metadata": {},
   "outputs": [],
   "source": [
    "import pandas as pd\n",
    "import numpy as np\n",
    "from patsy import dmatrices\n",
    "import sklearn.metrics as metrics\n",
    "import statsmodels.formula.api as smf\n",
    "from sklearn.ensemble import RandomForestClassifier\n",
    "from sklearn.linear_model import (\n",
    "    LinearRegression,\n",
    "    LogisticRegression,\n",
    "    LogisticRegressionCV,\n",
    ")\n",
    "from sklearn.metrics import (\n",
    "    auc,\n",
    "    brier_score_loss,\n",
    "    confusion_matrix,\n",
    "    mean_squared_error,\n",
    "    roc_auc_score,\n",
    "    roc_curve,\n",
    ")\n",
    "from sklearn.model_selection import GridSearchCV, KFold, train_test_split\n",
    "from sklearn.preprocessing import StandardScaler\n",
    "from sklearn.calibration import calibration_curve\n",
    "from statsmodels.tools.eval_measures import rmse\n",
    "import warnings\n",
    "warnings.filterwarnings(\"ignore\")"
   ]
  },
  {
   "cell_type": "code",
   "execution_count": 2,
   "id": "0e77603f-71f1-42eb-b272-282ce337fd41",
   "metadata": {},
   "outputs": [
    {
     "name": "stdout",
     "output_type": "stream",
     "text": [
      "Wall time: 2min 59s\n"
     ]
    }
   ],
   "source": [
    "%%time\n",
    "df = pd.read_excel('http://dataevents.hu/202303/filedataevents/competition_table.xlsx', engine='openpyxl')"
   ]
  },
  {
   "cell_type": "code",
   "execution_count": 13,
   "id": "241a6c2c-b0d0-4a36-bd7e-6e741190b92d",
   "metadata": {},
   "outputs": [],
   "source": [
    "df = df[(df.odds_home_team_win != 0) & (df.odds_draw != 0) & (df.odds_away_team_win != 0)]"
   ]
  },
  {
   "cell_type": "code",
   "execution_count": 14,
   "id": "4aa06e1f-2a5d-4df4-aad8-1f6f50580333",
   "metadata": {},
   "outputs": [],
   "source": [
    "df['home_team_relative_point_roll1_sum'] = df.home_team_point_roll1_sum - df.home_team_expected_point_roll1_sum\n",
    "df['home_team_relative_point_roll2_sum'] = df.home_team_point_roll2_sum - df.home_team_expected_point_roll2_sum\n",
    "df['home_team_relative_point_roll3_sum'] = df.home_team_point_roll3_sum - df.home_team_expected_point_roll3_sum\n",
    "df['home_team_relative_point_roll4_sum'] = df.home_team_point_roll4_sum - df.home_team_expected_point_roll4_sum"
   ]
  },
  {
   "cell_type": "code",
   "execution_count": 15,
   "id": "89e88859-9f4e-4bb0-b1af-3cf22249f0d6",
   "metadata": {},
   "outputs": [],
   "source": [
    "df['away_team_relative_point_roll1_sum'] = df.away_team_point_roll1_sum - df.away_team_expected_point_roll1_sum\n",
    "df['away_team_relative_point_roll2_sum'] = df.away_team_point_roll2_sum - df.away_team_expected_point_roll2_sum\n",
    "df['away_team_relative_point_roll3_sum'] = df.away_team_point_roll3_sum - df.away_team_expected_point_roll3_sum\n",
    "df['away_team_relative_point_roll4_sum'] = df.away_team_point_roll4_sum - df.away_team_expected_point_roll4_sum"
   ]
  },
  {
   "cell_type": "code",
   "execution_count": 16,
   "id": "ca4c392f-6f52-4cc1-9696-8c045d0067f2",
   "metadata": {},
   "outputs": [],
   "source": [
    "df['prob_home_win'] = 1 / df.odds_home_team_win\n",
    "df['prob_draw'] = 1 / df.odds_draw\n",
    "df['prob_away_win'] = 1 / df.odds_away_team_win"
   ]
  },
  {
   "cell_type": "code",
   "execution_count": 72,
   "id": "b9a79fe1-4049-442c-b078-0b4f796fe5ef",
   "metadata": {},
   "outputs": [],
   "source": [
    "x_variables = set(df.columns)"
   ]
  },
  {
   "cell_type": "code",
   "execution_count": 73,
   "id": "8f417ffa-3a1e-4a25-8c9b-c725f6459452",
   "metadata": {},
   "outputs": [],
   "source": [
    "remove = set(['home_win_flag', 'draw_flag', 'away_win_flag', 'match_id', 'odds_home_team_win', 'odds_away_team_win', 'odds_draw'])"
   ]
  },
  {
   "cell_type": "code",
   "execution_count": 74,
   "id": "064d3574-3754-4e19-9d7f-bfcc804de3f2",
   "metadata": {},
   "outputs": [],
   "source": [
    "x_variables = list(x_variables - remove)"
   ]
  },
  {
   "cell_type": "code",
   "execution_count": 75,
   "id": "0d18f2ba-9feb-4b33-8db7-4cbf70fcad21",
   "metadata": {},
   "outputs": [],
   "source": [
    "df_train, df_holdout = train_test_split(df, train_size=0.8, random_state=2023)"
   ]
  },
  {
   "cell_type": "code",
   "execution_count": 76,
   "id": "bdc65356-2dfe-4839-97be-6364aeb694bb",
   "metadata": {},
   "outputs": [],
   "source": [
    "y, X = dmatrices(\"home_win_flag ~ \" + \" + \".join(x_variables), df_train)"
   ]
  },
  {
   "cell_type": "markdown",
   "id": "79534d30-a65b-41c2-93a3-e3b9c87be8fd",
   "metadata": {
    "tags": []
   },
   "source": [
    "### home win flag"
   ]
  },
  {
   "cell_type": "markdown",
   "id": "033b3a93-a974-4729-9deb-320f589472b0",
   "metadata": {},
   "source": [
    "**prep**"
   ]
  },
  {
   "cell_type": "code",
   "execution_count": 77,
   "id": "787af179-b2bc-4148-a038-bed035886384",
   "metadata": {},
   "outputs": [],
   "source": [
    "x_train_normalized = pd.DataFrame(\n",
    "    StandardScaler().fit_transform(X),\n",
    "    columns=X.design_info.column_names,\n",
    ")"
   ]
  },
  {
   "cell_type": "code",
   "execution_count": 78,
   "id": "c2597ebc-89a1-492a-b122-c459413f15b2",
   "metadata": {},
   "outputs": [],
   "source": [
    "lambdas = list(10 ** np.arange(-1, -4.01, -1 / 3))"
   ]
  },
  {
   "cell_type": "code",
   "execution_count": 79,
   "id": "a0626759-3b3a-4c66-850e-f5f12beb577f",
   "metadata": {},
   "outputs": [],
   "source": [
    "n_obs = x_train_normalized.shape[0] * 4 / 5\n",
    "C_values = [\n",
    "    1 / (l * n_obs) for l in lambdas\n",
    "] "
   ]
  },
  {
   "cell_type": "code",
   "execution_count": 80,
   "id": "e1f894db-894d-40f9-8227-9732ce493165",
   "metadata": {},
   "outputs": [],
   "source": [
    "lr = LogisticRegressionCV(\n",
    "    Cs=C_values,\n",
    "    penalty=\"l1\",\n",
    "    cv=5,\n",
    "    refit=True,\n",
    "    scoring=\"roc_auc\",\n",
    "    solver=\"liblinear\",\n",
    "    random_state=42,\n",
    ")"
   ]
  },
  {
   "cell_type": "markdown",
   "id": "33c8f181-06e3-42d5-8d65-45086cf09b53",
   "metadata": {},
   "source": [
    "**train & results**"
   ]
  },
  {
   "cell_type": "code",
   "execution_count": 81,
   "id": "31fd5d58-f2c9-478c-a599-d105291d0bd3",
   "metadata": {},
   "outputs": [
    {
     "name": "stdout",
     "output_type": "stream",
     "text": [
      "Wall time: 2min 51s\n"
     ]
    }
   ],
   "source": [
    "%%time\n",
    "lr_model = lr.fit(x_train_normalized, y)"
   ]
  },
  {
   "cell_type": "code",
   "execution_count": 82,
   "id": "f03463c9-a9e7-45c5-b942-923d54304f96",
   "metadata": {},
   "outputs": [
    {
     "data": {
      "text/html": [
       "<div>\n",
       "<style scoped>\n",
       "    .dataframe tbody tr th:only-of-type {\n",
       "        vertical-align: middle;\n",
       "    }\n",
       "\n",
       "    .dataframe tbody tr th {\n",
       "        vertical-align: top;\n",
       "    }\n",
       "\n",
       "    .dataframe thead th {\n",
       "        text-align: right;\n",
       "    }\n",
       "</style>\n",
       "<table border=\"1\" class=\"dataframe\">\n",
       "  <thead>\n",
       "    <tr style=\"text-align: right;\">\n",
       "      <th></th>\n",
       "      <th>lambdas</th>\n",
       "      <th>C_values</th>\n",
       "      <th>mean_cv_auc</th>\n",
       "    </tr>\n",
       "  </thead>\n",
       "  <tbody>\n",
       "    <tr>\n",
       "      <th>0</th>\n",
       "      <td>0.100000</td>\n",
       "      <td>0.000244</td>\n",
       "      <td>0.679749</td>\n",
       "    </tr>\n",
       "    <tr>\n",
       "      <th>1</th>\n",
       "      <td>0.046416</td>\n",
       "      <td>0.000525</td>\n",
       "      <td>0.679749</td>\n",
       "    </tr>\n",
       "    <tr>\n",
       "      <th>2</th>\n",
       "      <td>0.021544</td>\n",
       "      <td>0.001130</td>\n",
       "      <td>0.679749</td>\n",
       "    </tr>\n",
       "    <tr>\n",
       "      <th>3</th>\n",
       "      <td>0.010000</td>\n",
       "      <td>0.002435</td>\n",
       "      <td>0.680285</td>\n",
       "    </tr>\n",
       "    <tr>\n",
       "      <th>4</th>\n",
       "      <td>0.004642</td>\n",
       "      <td>0.005247</td>\n",
       "      <td>0.680744</td>\n",
       "    </tr>\n",
       "    <tr>\n",
       "      <th>5</th>\n",
       "      <td>0.002154</td>\n",
       "      <td>0.011304</td>\n",
       "      <td>0.680662</td>\n",
       "    </tr>\n",
       "    <tr>\n",
       "      <th>6</th>\n",
       "      <td>0.001000</td>\n",
       "      <td>0.024354</td>\n",
       "      <td>0.680376</td>\n",
       "    </tr>\n",
       "    <tr>\n",
       "      <th>7</th>\n",
       "      <td>0.000464</td>\n",
       "      <td>0.052468</td>\n",
       "      <td>0.679878</td>\n",
       "    </tr>\n",
       "    <tr>\n",
       "      <th>8</th>\n",
       "      <td>0.000215</td>\n",
       "      <td>0.113040</td>\n",
       "      <td>0.679304</td>\n",
       "    </tr>\n",
       "    <tr>\n",
       "      <th>9</th>\n",
       "      <td>0.000100</td>\n",
       "      <td>0.243537</td>\n",
       "      <td>0.678811</td>\n",
       "    </tr>\n",
       "  </tbody>\n",
       "</table>\n",
       "</div>"
      ],
      "text/plain": [
       "    lambdas  C_values  mean_cv_auc\n",
       "0  0.100000  0.000244     0.679749\n",
       "1  0.046416  0.000525     0.679749\n",
       "2  0.021544  0.001130     0.679749\n",
       "3  0.010000  0.002435     0.680285\n",
       "4  0.004642  0.005247     0.680744\n",
       "5  0.002154  0.011304     0.680662\n",
       "6  0.001000  0.024354     0.680376\n",
       "7  0.000464  0.052468     0.679878\n",
       "8  0.000215  0.113040     0.679304\n",
       "9  0.000100  0.243537     0.678811"
      ]
     },
     "execution_count": 82,
     "metadata": {},
     "output_type": "execute_result"
    }
   ],
   "source": [
    "pd.DataFrame({\n",
    "        \"lambdas\": lambdas,\n",
    "        \"C_values\": C_values,\n",
    "        \"mean_cv_auc\": lr_model.scores_[1].mean(axis=0),\n",
    "    })"
   ]
  },
  {
   "cell_type": "code",
   "execution_count": 85,
   "id": "d4e2b677-e2b2-4f4b-acd7-f2f578ae9af4",
   "metadata": {},
   "outputs": [
    {
     "data": {
      "text/html": [
       "<div>\n",
       "<style scoped>\n",
       "    .dataframe tbody tr th:only-of-type {\n",
       "        vertical-align: middle;\n",
       "    }\n",
       "\n",
       "    .dataframe tbody tr th {\n",
       "        vertical-align: top;\n",
       "    }\n",
       "\n",
       "    .dataframe thead th {\n",
       "        text-align: right;\n",
       "    }\n",
       "</style>\n",
       "<table border=\"1\" class=\"dataframe\">\n",
       "  <thead>\n",
       "    <tr style=\"text-align: right;\">\n",
       "      <th></th>\n",
       "      <th>coefficient</th>\n",
       "    </tr>\n",
       "  </thead>\n",
       "  <tbody>\n",
       "    <tr>\n",
       "      <th>prob_home_win</th>\n",
       "      <td>0.580901</td>\n",
       "    </tr>\n",
       "    <tr>\n",
       "      <th>away_team_opponents_shot_roll4_sum</th>\n",
       "      <td>0.024659</td>\n",
       "    </tr>\n",
       "    <tr>\n",
       "      <th>odds_home_team_defeat_roll4_mean</th>\n",
       "      <td>0.024080</td>\n",
       "    </tr>\n",
       "    <tr>\n",
       "      <th>home_team_corner_roll4_sum</th>\n",
       "      <td>0.023001</td>\n",
       "    </tr>\n",
       "    <tr>\n",
       "      <th>home_team_corner_roll1_sum</th>\n",
       "      <td>0.021830</td>\n",
       "    </tr>\n",
       "    <tr>\n",
       "      <th>away_team_opponents_shot_roll3_sum</th>\n",
       "      <td>0.014090</td>\n",
       "    </tr>\n",
       "    <tr>\n",
       "      <th>home_team_shot_roll2_sum</th>\n",
       "      <td>0.008337</td>\n",
       "    </tr>\n",
       "    <tr>\n",
       "      <th>away_team_opponents_shot_roll1_sum</th>\n",
       "      <td>0.008285</td>\n",
       "    </tr>\n",
       "    <tr>\n",
       "      <th>away_team_opponents_corner_roll4_sum</th>\n",
       "      <td>0.005321</td>\n",
       "    </tr>\n",
       "    <tr>\n",
       "      <th>season[T.2016-2017]</th>\n",
       "      <td>0.004217</td>\n",
       "    </tr>\n",
       "    <tr>\n",
       "      <th>away_team_opponents_corner_roll1_sum</th>\n",
       "      <td>0.002595</td>\n",
       "    </tr>\n",
       "    <tr>\n",
       "      <th>home_team_opponents_yellow_card_roll4_sum</th>\n",
       "      <td>0.001768</td>\n",
       "    </tr>\n",
       "    <tr>\n",
       "      <th>home_team_opponents_yellow_card_roll2_sum</th>\n",
       "      <td>0.001334</td>\n",
       "    </tr>\n",
       "    <tr>\n",
       "      <th>away_team_relative_point_roll2_sum</th>\n",
       "      <td>0.001082</td>\n",
       "    </tr>\n",
       "    <tr>\n",
       "      <th>home_team_shot_roll3_sum</th>\n",
       "      <td>0.001030</td>\n",
       "    </tr>\n",
       "    <tr>\n",
       "      <th>odds_home_team_draw_roll3_mean</th>\n",
       "      <td>0.000041</td>\n",
       "    </tr>\n",
       "  </tbody>\n",
       "</table>\n",
       "</div>"
      ],
      "text/plain": [
       "                                           coefficient\n",
       "prob_home_win                                 0.580901\n",
       "away_team_opponents_shot_roll4_sum            0.024659\n",
       "odds_home_team_defeat_roll4_mean              0.024080\n",
       "home_team_corner_roll4_sum                    0.023001\n",
       "home_team_corner_roll1_sum                    0.021830\n",
       "away_team_opponents_shot_roll3_sum            0.014090\n",
       "home_team_shot_roll2_sum                      0.008337\n",
       "away_team_opponents_shot_roll1_sum            0.008285\n",
       "away_team_opponents_corner_roll4_sum          0.005321\n",
       "season[T.2016-2017]                           0.004217\n",
       "away_team_opponents_corner_roll1_sum          0.002595\n",
       "home_team_opponents_yellow_card_roll4_sum     0.001768\n",
       "home_team_opponents_yellow_card_roll2_sum     0.001334\n",
       "away_team_relative_point_roll2_sum            0.001082\n",
       "home_team_shot_roll3_sum                      0.001030\n",
       "odds_home_team_draw_roll3_mean                0.000041"
      ]
     },
     "execution_count": 85,
     "metadata": {},
     "output_type": "execute_result"
    }
   ],
   "source": [
    "df_lasso_coeffs = pd.DataFrame(lr_model.coef_[0], columns = ['coefficient'], index = X.design_info.column_names)\n",
    "df_lasso_coeffs.sort_values(by = 'coefficient', ascending = False, inplace = True)\n",
    "df_lasso_coeffs[df_lasso_coeffs.coefficient > 0]"
   ]
  },
  {
   "cell_type": "markdown",
   "id": "1ec58100-c0cd-418b-92f5-63fb7f5a985c",
   "metadata": {},
   "source": [
    "**AUC**"
   ]
  },
  {
   "cell_type": "code",
   "execution_count": 86,
   "id": "b050d715-b55c-4803-90c5-be528b654fa0",
   "metadata": {},
   "outputs": [],
   "source": [
    "y_holdout, X_holdout = dmatrices(\"home_win_flag ~ \" + \" + \".join(x_variables), df_holdout)"
   ]
  },
  {
   "cell_type": "code",
   "execution_count": 87,
   "id": "1629d53a-5e3c-4eab-8e27-6f161a4b5330",
   "metadata": {},
   "outputs": [],
   "source": [
    "x_holdout_normalized = pd.DataFrame(\n",
    "    StandardScaler().fit_transform(X_holdout),\n",
    "    columns=X_holdout.design_info.column_names,\n",
    ")"
   ]
  },
  {
   "cell_type": "code",
   "execution_count": 88,
   "id": "8004541b-4ed5-496b-a648-a46d2a9985fd",
   "metadata": {},
   "outputs": [
    {
     "data": {
      "text/plain": [
       "0.6874638311177518"
      ]
     },
     "execution_count": 88,
     "metadata": {},
     "output_type": "execute_result"
    }
   ],
   "source": [
    "lr_model.score(x_holdout_normalized, y_holdout)"
   ]
  },
  {
   "cell_type": "markdown",
   "id": "c0858e86-f386-47c5-8389-e04fc1490d96",
   "metadata": {},
   "source": [
    "**predict**"
   ]
  },
  {
   "cell_type": "code",
   "execution_count": 89,
   "id": "f3c2de12-096c-4e7c-996c-7c538c3294db",
   "metadata": {},
   "outputs": [],
   "source": [
    "y_pred = lr_model.predict(x_holdout_normalized)"
   ]
  },
  {
   "cell_type": "code",
   "execution_count": 92,
   "id": "75f6ead7-0657-47d0-b37b-24eaee0bc7c0",
   "metadata": {},
   "outputs": [
    {
     "data": {
      "text/plain": [
       "array([5628, 1629, 2931, 2644], dtype=int64)"
      ]
     },
     "execution_count": 92,
     "metadata": {},
     "output_type": "execute_result"
    }
   ],
   "source": [
    "confusion_matrix(y_holdout, y_pred).ravel()"
   ]
  },
  {
   "cell_type": "code",
   "execution_count": 93,
   "id": "7cff7e14-5e1a-4f58-8c94-08ac623e4961",
   "metadata": {},
   "outputs": [
    {
     "data": {
      "text/plain": [
       "0.6874638311177518"
      ]
     },
     "execution_count": 93,
     "metadata": {},
     "output_type": "execute_result"
    }
   ],
   "source": [
    "roc_auc_score(y_holdout, lr_model.predict_proba(x_holdout_normalized)[:,1])"
   ]
  },
  {
   "cell_type": "markdown",
   "id": "cd088d43-b067-4bd3-8bd0-fee1b6558b4e",
   "metadata": {},
   "source": [
    "**ROC**"
   ]
  },
  {
   "cell_type": "code",
   "execution_count": 95,
   "id": "f4fe36de-7a77-4a39-99d9-b67481d7cc2b",
   "metadata": {},
   "outputs": [],
   "source": [
    "import seaborn as sns\n",
    "import matplotlib.pyplot as plt"
   ]
  },
  {
   "cell_type": "code",
   "execution_count": 96,
   "id": "c0293ddc-48de-4b4c-b4b4-3f6ad070bc8b",
   "metadata": {},
   "outputs": [],
   "source": [
    "df_roc = pd.DataFrame({'FPR': roc_curve(y_holdout, lr_model.predict_proba(x_holdout_normalized)[:,1])[0], \n",
    "                       'TPR': roc_curve(y_holdout, lr_model.predict_proba(x_holdout_normalized)[:,1])[1], \n",
    "                      'threshold' : roc_curve(y_holdout, lr_model.predict_proba(x_holdout_normalized)[:,1])[2]}\n",
    "                     )"
   ]
  },
  {
   "cell_type": "code",
   "execution_count": 100,
   "id": "47a92360-a6aa-4dad-b249-ea2ab499e61d",
   "metadata": {},
   "outputs": [
    {
     "data": {
      "image/png": "[encoded data removed]",
      "text/plain": [
       "<Figure size 576x576 with 1 Axes>"
      ]
     },
     "metadata": {
      "needs_background": "light"
     },
     "output_type": "display_data"
    }
   ],
   "source": [
    "fig, ax = plt.subplots(figsize=(8, 8))\n",
    "p1 = sns.lineplot(y = df_roc.TPR, x = df_roc.FPR, ax=ax)\n",
    "p2 = sns.lineplot(y = df_roc.FPR, x = df_roc.FPR, color='k', ax=ax)\n",
    "plt.title(\"Away win ROC CURVE\")\n",
    "plt.xlabel('FPR')\n",
    "plt.ylabel('TPR')\n",
    "plt.grid('both')"
   ]
  },
  {
   "cell_type": "code",
   "execution_count": 101,
   "id": "b929c0e6-df19-4b1b-8c7f-2d8f076e686a",
   "metadata": {},
   "outputs": [
    {
     "data": {
      "image/png": "[encoded data removed]",
      "text/plain": [
       "<Figure size 576x576 with 1 Axes>"
      ]
     },
     "metadata": {
      "needs_background": "light"
     },
     "output_type": "display_data"
    }
   ],
   "source": [
    "fig, ax = plt.subplots(figsize=(8, 8))\n",
    "p1 = sns.lineplot(y = df_roc.TPR, x = df_roc.threshold, label = 'TPR', ax=ax)\n",
    "p2 = sns.lineplot(y = df_roc.FPR, x = df_roc.threshold, label = 'FPR', color='k', ax=ax)\n",
    "plt.title(\"FPR & TPR vs threshod\")\n",
    "plt.xlabel('threshold')\n",
    "plt.xlim(0,1)\n",
    "plt.legend()\n",
    "plt.ylabel('TPR')\n",
    "plt.grid('both')"
   ]
  },
  {
   "cell_type": "markdown",
   "id": "fc1490a8-7d20-4699-8591-1904f445874c",
   "metadata": {},
   "source": [
    "**calibration plot**"
   ]
  },
  {
   "cell_type": "code",
   "execution_count": 107,
   "id": "4bfb035f-641f-42f8-ae96-8347e79e9115",
   "metadata": {},
   "outputs": [],
   "source": [
    "prob_true, prob_pred = calibration_curve(y_holdout, lr_model.predict_proba(x_holdout_normalized)[:,1], n_bins=50, normalize = True)"
   ]
  },
  {
   "cell_type": "code",
   "execution_count": 110,
   "id": "0983884b-6544-465e-9b38-9c205c161f27",
   "metadata": {},
   "outputs": [
    {
     "data": {
      "text/plain": [
       "''"
      ]
     },
     "execution_count": 110,
     "metadata": {},
     "output_type": "execute_result"
    },
    {
     "data": {
      "image/png": "[encoded data removed]",
      "text/plain": [
       "<Figure size 576x576 with 1 Axes>"
      ]
     },
     "metadata": {
      "needs_background": "light"
     },
     "output_type": "display_data"
    }
   ],
   "source": [
    "fig, ax = plt.subplots(figsize=(8, 8))\n",
    "p1 = sns.scatterplot(y = prob_true, x = prob_pred, ax=ax)\n",
    "p2 = sns.lineplot(y = prob_true, x = prob_true, color='k', ax=ax)\n",
    "plt.title(\"Home win calibration plot - lasso model\")\n",
    "plt.xlabel('pedicted probabilities')\n",
    "plt.ylabel('actual probabilities')\n",
    "plt.grid('both')\n",
    ";"
   ]
  },
  {
   "cell_type": "markdown",
   "id": "4bf9176f-e49f-40e8-8c9f-0c7ea58eb428",
   "metadata": {},
   "source": [
    "#### statsmodels"
   ]
  },
  {
   "cell_type": "code",
   "execution_count": 114,
   "id": "768af11d-68e3-4917-8be8-5f9cce51dc60",
   "metadata": {},
   "outputs": [],
   "source": [
    "import statsmodels.api as sm"
   ]
  },
  {
   "cell_type": "code",
   "execution_count": 112,
   "id": "93cec263-708a-4792-b868-1536c4434acb",
   "metadata": {},
   "outputs": [],
   "source": [
    "df_t = df_train[['prob_home_win', 'prob_draw','prob_away_win']]"
   ]
  },
  {
   "cell_type": "code",
   "execution_count": 111,
   "id": "e12a822a-d0ad-4bd7-a88b-bfe4ea6baa8a",
   "metadata": {},
   "outputs": [
    {
     "data": {
      "text/plain": [
       "Index(['match_id', 'season', 'div', 'odds_home_team_win', 'odds_draw',\n",
       "       'odds_away_team_win', 'home_team_match_nr', 'home_team_goal_roll1_sum',\n",
       "       'home_team_goal_roll2_sum', 'home_team_goal_roll3_sum',\n",
       "       ...\n",
       "       'home_team_relative_point_roll2_sum',\n",
       "       'home_team_relative_point_roll3_sum',\n",
       "       'home_team_relative_point_roll4_sum',\n",
       "       'away_team_relative_point_roll1_sum',\n",
       "       'away_team_relative_point_roll2_sum',\n",
       "       'away_team_relative_point_roll3_sum',\n",
       "       'away_team_relative_point_roll4_sum', 'prob_home_win', 'prob_draw',\n",
       "       'prob_away_win'],\n",
       "      dtype='object', length=178)"
      ]
     },
     "execution_count": 111,
     "metadata": {},
     "output_type": "execute_result"
    }
   ],
   "source": [
    "df_train.columns"
   ]
  },
  {
   "cell_type": "code",
   "execution_count": 116,
   "id": "ad1ad1ff-3920-4150-9605-6976e8b115ef",
   "metadata": {},
   "outputs": [
    {
     "name": "stdout",
     "output_type": "stream",
     "text": [
      "                 Generalized Linear Model Regression Results                  \n",
      "==============================================================================\n",
      "Dep. Variable:          home_win_flag   No. Observations:                51327\n",
      "Model:                            GLM   Df Residuals:                    51324\n",
      "Model Family:                Binomial   Df Model:                            2\n",
      "Link Function:                  logit   Scale:                          1.0000\n",
      "Method:                          IRLS   Log-Likelihood:                -32455.\n",
      "Date:                Mon, 06 Mar 2023   Deviance:                       64909.\n",
      "Time:                        16:59:57   Pearson chi2:                 5.12e+04\n",
      "No. Iterations:                     5                                         \n",
      "Covariance Type:            nonrobust                                         \n",
      "=================================================================================\n",
      "                    coef    std err          z      P>|z|      [0.025      0.975]\n",
      "---------------------------------------------------------------------------------\n",
      "prob_home_win     2.2741      0.067     34.029      0.000       2.143       2.405\n",
      "prob_draw        -2.0641      0.199    -10.390      0.000      -2.453      -1.675\n",
      "prob_away_win    -2.2962      0.102    -22.504      0.000      -2.496      -2.096\n",
      "=================================================================================\n"
     ]
    }
   ],
   "source": [
    "glm_binom = sm.GLM(df_train.home_win_flag, df_t, family=sm.families.Binomial())\n",
    "res = glm_binom.fit()\n",
    "print(res.summary())"
   ]
  },
  {
   "cell_type": "code",
   "execution_count": 117,
   "id": "e44149ef-8b7d-44f9-9e13-cba5e4a879f0",
   "metadata": {},
   "outputs": [
    {
     "data": {
      "text/plain": [
       "prob_home_win    2.274110\n",
       "prob_draw       -2.064079\n",
       "prob_away_win   -2.296160\n",
       "dtype: float64"
      ]
     },
     "execution_count": 117,
     "metadata": {},
     "output_type": "execute_result"
    }
   ],
   "source": [
    "res.params"
   ]
  },
  {
   "cell_type": "code",
   "execution_count": 119,
   "id": "4b8c9383-51bf-4f55-8807-5d6b4d74708e",
   "metadata": {},
   "outputs": [],
   "source": [
    "y_sm_pred = res.predict()"
   ]
  },
  {
   "cell_type": "code",
   "execution_count": 121,
   "id": "7c4d5ecd-bbe9-4b1c-9696-f3f80d22e947",
   "metadata": {},
   "outputs": [
    {
     "data": {
      "text/plain": [
       "0.6799000127301664"
      ]
     },
     "execution_count": 121,
     "metadata": {},
     "output_type": "execute_result"
    }
   ],
   "source": [
    "roc_auc_score(df_train.home_win_flag, y_sm_pred)"
   ]
  },
  {
   "cell_type": "code",
   "execution_count": 122,
   "id": "55093c33-d926-47f7-904b-33f3f2f19d1a",
   "metadata": {},
   "outputs": [],
   "source": [
    "prob_true, prob_pred = calibration_curve(df_train.home_win_flag, y_sm_pred, n_bins=50, normalize = True)"
   ]
  },
  {
   "cell_type": "code",
   "execution_count": 124,
   "id": "c5d36545-2745-4ec5-b841-6392f2779555",
   "metadata": {},
   "outputs": [
    {
     "data": {
      "text/plain": [
       "''"
      ]
     },
     "execution_count": 124,
     "metadata": {},
     "output_type": "execute_result"
    },
    {
     "data": {
      "image/png": "[encoded data removed]",
      "text/plain": [
       "<Figure size 576x576 with 1 Axes>"
      ]
     },
     "metadata": {
      "needs_background": "light"
     },
     "output_type": "display_data"
    }
   ],
   "source": [
    "fig, ax = plt.subplots(figsize=(8, 8))\n",
    "p1 = sns.scatterplot(y = prob_true, x = prob_pred, ax=ax)\n",
    "p2 = sns.lineplot(y = prob_true, x = prob_true, color='k', ax=ax)\n",
    "plt.title(\"Home win calibration plot - statsmodel glm\")\n",
    "plt.xlabel('pedicted probabilities')\n",
    "plt.ylabel('actual probabilities')\n",
    "plt.grid('both')\n",
    ";"
   ]
  },
  {
   "cell_type": "code",
   "execution_count": 1,
   "id": "a99ebd57-84b0-45b5-a2a3-06f28c665af1",
   "metadata": {},
   "outputs": [],
   "source": [
    "l = ['a', 'b', 'c']"
   ]
  },
  {
   "cell_type": "code",
   "execution_count": 3,
   "id": "002b9c59-ec9f-4b8e-97e3-21642676e116",
   "metadata": {},
   "outputs": [
    {
     "data": {
      "text/plain": [
       "['a', 'b']"
      ]
     },
     "execution_count": 3,
     "metadata": {},
     "output_type": "execute_result"
    }
   ],
   "source": [
    "list(set(l) - set(['c', 'd']))"
   ]
  },
  {
   "cell_type": "code",
   "execution_count": null,
   "id": "ba2d1bd6-5a59-44f4-85fb-eebaebff6ef0",
   "metadata": {},
   "outputs": [],
   "source": []
  }
 ],
 "metadata": {
  "kernelspec": {
   "display_name": "Python 3",
   "language": "python",
   "name": "python3"
  },
  "language_info": {
   "codemirror_mode": {
    "name": "ipython",
    "version": 3
   },
   "file_extension": ".py",
   "mimetype": "text/x-python",
   "name": "python",
   "nbconvert_exporter": "python",
   "pygments_lexer": "ipython3",
   "version": "3.6.13"
  }
 },
 "nbformat": 4,
 "nbformat_minor": 5
}
